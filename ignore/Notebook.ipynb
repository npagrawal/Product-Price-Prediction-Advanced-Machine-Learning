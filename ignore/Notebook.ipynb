{
 "cells": [
  {
   "cell_type": "code",
   "execution_count": null,
   "id": "62df6805",
   "metadata": {},
   "outputs": [],
   "source": [
    "import pandas as pd\n",
    "import numpy as np\n",
    "import seaborn as sns\n",
    "import matplotlib.pyplot as plt\n",
    "%matplotlib inline"
   ]
  },
  {
   "cell_type": "code",
   "execution_count": null,
   "id": "4375d848",
   "metadata": {},
   "outputs": [],
   "source": [
    "df = pd.read_csv(\"data/cosmetics.csv\")\n",
    "df[\"Price\"] = df[\"Price\"].astype(float)\n",
    "df[\"Ingredients\"] = df[\"Ingredients\"].str.split(\",\")\n",
    "df.info()"
   ]
  },
  {
   "cell_type": "code",
   "execution_count": null,
   "id": "8ea7c18f",
   "metadata": {},
   "outputs": [],
   "source": [
    "df.loc[df[\"Brand\"] == 'SEPHORA COLLECTION',]"
   ]
  },
  {
   "cell_type": "code",
   "execution_count": null,
   "id": "60612b2f",
   "metadata": {},
   "outputs": [],
   "source": [
    "clean = pd.read_csv(\"data/clean_products.csv\")\n",
    "clean[\"Clean?\"] = 1\n",
    "\n",
    "# clean and expand price and price range columns\n",
    "clean[\"Price Range\"] = clean[\"Price\"] + clean[\"Price Range\"]\n",
    "clean[\"Price Range\"] = clean[\"Price Range\"].fillna(clean[\"Price\"])\n",
    "clean[\"Price\"] = clean[\"Price\"].str.replace(\" -\", \"\")\n",
    "clean[\"Price\"] = clean[\"Price\"].str.replace(\".00\", \"\")\n",
    "clean[\"Price\"] = clean[\"Price\"].str.replace(\":\", \"\")\n",
    "\n",
    "for index, row in clean.iterrows():\n",
    "    if row[\"Price\"] == \"\":\n",
    "        row[\"Price\"] = row[\"Price Range\"]\n",
    "\n",
    "# make brand colulmn\n",
    "brands = [\"Alpha-H\",\"alpyn beauty\",\"BeautyBio\",\"Biossance\",\"BREAD BEAUTY SUPPLY\",\n",
    "          \"By Rosie Jane\",\"caliray\",\"Caudalie\",\"CAY SKIN\",\"Community Sixty-Six\",\"COOLA\",\n",
    "          \"DAMDAM\",\"Dr Barbara Sturm\",\"Dr. Dennis Gross Skincare\",\"Drunk Elephant\",\"EADEM\",\n",
    "          \"Evian\",\"FaceGym\",\"Farmacy\",\"Fenty Skin\",\"First Aid Beauty\",\"Flora Bast\",\"Freck Beauty\",\n",
    "          \"fresh\",\"Gisou\",\"Glossier\",\"Glow Recipe\",\"goop\",\"GUERLAIN\",\"HABIT\",\"Hanni\",\"Herbivore\",\n",
    "          \"HUM Nutrition\",\"Hyper Skin\",\"ILIA\",\"iNNBEAUTY PROJECT\",\"Isle of Paradise\",\"Josie Maran\",\n",
    "          \"Kate McLeod\",\"Kiehl's Since 1851\",\"KNC Beauty\",\"Kopari\",\"KORA Organics\",\"KORRES\",\"Kosas\",\n",
    "          \"LAWLESS\",\"lilah b.\",\"Luna Daily\",\"MACRENE actives\",\"MARA\",\"maude\",\"MERIT\",\"MILK MAKEUP\",\n",
    "          \"Moon Juice\",\"Naturally Serious\",\"Nécessaire\",\"NUDESTIX\",\"OLEHENRIKSEN\",\"Origins\",\"Peace Out\",\n",
    "          \"PHLUR\",\"Prima\",\"RANAVAT\",\"REN Clean Skincare\",\"ROSE INC\",\"ROSE Ingleton MD\",\"Rosebud Perfume Co.\",\n",
    "          \"Saie\",\"Saint Jane Beauty\",\"SEPHORA COLLECTION\",\"Skinfix\",\"SOBEL SKIN Rx\",\"Soleil Toujours\",\"Sourse\",\n",
    "          \"Summer Fridays\",\"Supergoop!\",\"tarte\",\"Tata Harper\",\"Tatcha\",\"The INKEY List\",\"The Nue Co\",\n",
    "          \"The Outset\",\"Topicals\",\"Touchland\",\"Tower 28 Beauty\",\"TULA Skincare\",\"Wander Beauty\",\"WASO\",\n",
    "          \"Westman Atelier\",\"Wishful\",\"Youth To The People\"]\n",
    "\n",
    "clean[\"Brand\"] = \"\"\n",
    "for index, row in clean.iterrows():\n",
    "    for brand in brands:\n",
    "        if brand in row[\"Name\"]:\n",
    "            row[\"Brand\"] = brand"
   ]
  },
  {
   "cell_type": "code",
   "execution_count": null,
   "id": "7a215bc4",
   "metadata": {},
   "outputs": [],
   "source": [
    "# check what rows are missing brands\n",
    "clean.loc[clean[\"Brand\"] == '']"
   ]
  },
  {
   "cell_type": "code",
   "execution_count": null,
   "id": "9ab3151b",
   "metadata": {},
   "outputs": [],
   "source": [
    "# fill missing brands\n",
    "clean[\"Brand\"].iloc[:2] = \"54 Thrones\"\n",
    "clean[\"Brand\"].iloc[68:70] = \"By Rosie Jane\"\n",
    "clean[\"Brand\"].iloc[146:179] = \"Dr. Barbara Sturm\"\n",
    "clean[\"Brand\"].iloc[357:360] = \"Flora + Bast\""
   ]
  },
  {
   "cell_type": "code",
   "execution_count": null,
   "id": "8b469ff0",
   "metadata": {},
   "outputs": [],
   "source": [
    "# remove brands from Name column\n",
    "for index, row in clean.iterrows():\n",
    "    row[\"Name\"] = row[\"Name\"].split(row[\"Brand\"])\n",
    "\n",
    "clean = clean.explode(\"Name\")\n",
    "clean = clean.loc[clean[\"Name\"] != \"\"]\n",
    "clean[\"Name\"] = clean[\"Name\"].str.replace(\"\\d+\", \"\")\n",
    "\n",
    "# clean columns\n",
    "clean[\"Brand\"] = clean[\"Brand\"].str.upper()\n",
    "clean[\"Price\"] = clean[\"Price\"].astype(float)"
   ]
  },
  {
   "cell_type": "code",
   "execution_count": null,
   "id": "27ef0727",
   "metadata": {},
   "outputs": [],
   "source": []
  },
  {
   "cell_type": "code",
   "execution_count": null,
   "id": "c4fb9998",
   "metadata": {},
   "outputs": [],
   "source": []
  }
 ],
 "metadata": {
  "kernelspec": {
   "display_name": "middle-earth",
   "language": "python",
   "name": "middle-earth"
  },
  "language_info": {
   "codemirror_mode": {
    "name": "ipython",
    "version": 3
   },
   "file_extension": ".py",
   "mimetype": "text/x-python",
   "name": "python",
   "nbconvert_exporter": "python",
   "pygments_lexer": "ipython3",
   "version": "3.8.16"
  }
 },
 "nbformat": 4,
 "nbformat_minor": 5
}
