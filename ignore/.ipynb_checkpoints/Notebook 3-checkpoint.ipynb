{
 "cells": [
  {
   "cell_type": "markdown",
   "id": "1a40085e",
   "metadata": {},
   "source": [
    "## Imports"
   ]
  },
  {
   "cell_type": "code",
   "execution_count": 1,
   "id": "a25a4474",
   "metadata": {},
   "outputs": [],
   "source": [
    "import itertools\n",
    "import pandas as pd\n",
    "import numpy as np\n",
    "import seaborn as sns\n",
    "import matplotlib.pyplot as plt\n",
    "import warnings \n",
    "warnings.filterwarnings('ignore')\n",
    "\n",
    "from sklearn.model_selection import train_test_split\n",
    "from sklearn.metrics import mean_squared_error, mean_absolute_error, explained_variance_score\n",
    "from sklearn.pipeline import Pipeline\n",
    "from sklearn.impute import SimpleImputer\n",
    "from sklearn.preprocessing import StandardScaler\n",
    "from sklearn.compose import ColumnTransformer\n",
    "from category_encoders import TargetEncoder\n",
    "from sklearn.model_selection import train_test_split\n",
    "\n",
    "from xgboost import XGBRegressor\n",
    "from tensorflow.keras import Model, Sequential\n",
    "from tensorflow.keras.optimizers import Adam\n",
    "from sklearn.preprocessing import StandardScaler\n",
    "from tensorflow.keras.layers import Dense, Dropout\n",
    "from tensorflow.keras.losses import MeanAbsoluteError\n",
    "\n",
    "from sklearn.preprocessing import MinMaxScaler\n",
    "from sklearn.neighbors import KNeighborsClassifier, NearestNeighbors"
   ]
  },
  {
   "cell_type": "markdown",
   "id": "475789fe",
   "metadata": {},
   "source": [
    "## Read in Data"
   ]
  },
  {
   "cell_type": "code",
   "execution_count": 2,
   "id": "8010ee10",
   "metadata": {
    "scrolled": true
   },
   "outputs": [
    {
     "data": {
      "text/plain": [
       "(5105, 86)"
      ]
     },
     "execution_count": 2,
     "metadata": {},
     "output_type": "execute_result"
    }
   ],
   "source": [
    "df = pd.read_csv(\"data/skin_care_cleaned.csv\")\n",
    "df.shape"
   ]
  },
  {
   "cell_type": "markdown",
   "id": "743e796a",
   "metadata": {},
   "source": [
    "## Prepare Data"
   ]
  },
  {
   "cell_type": "code",
   "execution_count": 3,
   "id": "0ec4f51f",
   "metadata": {},
   "outputs": [],
   "source": [
    "# clean inactive ingredient list\n",
    "df[\"inactive_ingredient_list\"] = df[\"inactive_ingredient_list\"].str.replace(\"[\",\"\")\n",
    "df[\"inactive_ingredient_list\"] = df[\"inactive_ingredient_list\"].str.replace(\"]\",\"\")\n",
    "df[\"inactive_ingredient_list\"] = df[\"inactive_ingredient_list\"].str.replace(\".\",\"\")\n",
    "df[\"inactive_ingredient_list\"] = df[\"inactive_ingredient_list\"].str.replace(\"'\",\"\")\n",
    "df[\"inactive_ingredient_list\"] = df[\"inactive_ingredient_list\"].str.lower()\n",
    "df[\"inactive_ingredient_list\"] = df[\"inactive_ingredient_list\"].str.split(\", \")\n",
    "\n",
    "# create count lists for extracts, peptides, and oils\n",
    "df[\"count_extract\"] = list(map(lambda x: x.count(\"extract\"), df[\"inactive_ingredient_list\"]))\n",
    "df[\"count_peptide\"] = list(map(lambda x: x.count(\"peptide\"), df[\"inactive_ingredient_list\"]))\n",
    "df[\"count_oil\"] = list(map(lambda x: x.count(\"oil\"), df[\"inactive_ingredient_list\"]))"
   ]
  },
  {
   "cell_type": "code",
   "execution_count": 4,
   "id": "e5d612c3",
   "metadata": {},
   "outputs": [
    {
     "data": {
      "text/plain": [
       "(5105, 12456)"
      ]
     },
     "execution_count": 4,
     "metadata": {},
     "output_type": "execute_result"
    }
   ],
   "source": [
    "# get ingredient counts\n",
    "ingredients_df = pd.get_dummies(pd.DataFrame(df[\"inactive_ingredient_list\"].tolist()).stack()).sum(level=0)\n",
    "ingredients_df.shape"
   ]
  },
  {
   "cell_type": "code",
   "execution_count": 5,
   "id": "edb6ab24",
   "metadata": {},
   "outputs": [],
   "source": [
    "# determine most important ingredients\n",
    "ing_list = []\n",
    "for column in ingredients_df.columns:\n",
    "    if ingredients_df[column].sum() > 100 and ingredients_df[column].sum() < 500:\n",
    "        ing_list.append(column)\n",
    "\n",
    "ing_list = [ele.strip() for ele in ing_list]\n",
    "\n",
    "# get rid of empty string\n",
    "ing_list = ing_list[1:]"
   ]
  },
  {
   "cell_type": "code",
   "execution_count": 6,
   "id": "7357bcc1",
   "metadata": {},
   "outputs": [],
   "source": [
    "# create dataframe from columns in ing_list\n",
    "ingredients_df = ingredients_df.rename(columns=lambda x: x.strip())\n",
    "clean_ing = ingredients_df[ing_list]\n",
    "\n",
    "# concat dataframes\n",
    "df_ing = pd.concat([df, clean_ing], axis = 1)"
   ]
  },
  {
   "cell_type": "code",
   "execution_count": 7,
   "id": "f6ccf3a0",
   "metadata": {},
   "outputs": [],
   "source": [
    "# sum together duplicate columns\n",
    "col_list = ['butyrospermum parkii (shea butter)', 'butyrospermum parkii (shea) butter']\n",
    "df_ing[\"butyrospermum parkii (shea butter)\"] = df_ing[col_list].sum(axis=1)\n",
    "df_ing = df_ing.drop(columns = col_list[1])\n",
    "\n",
    "col_list = ['water (aqua)', 'water/aqua/eau']\n",
    "df_ing[\"water\"] = df_ing[col_list].sum(axis=1)\n",
    "df_ing = df_ing.drop(columns = col_list[:1])\n",
    "\n",
    "col_list = ['mica', 'mica']\n",
    "df_ing[\"mica_sum\"] = df_ing[col_list].sum(axis=1)\n",
    "df_ing = df_ing.drop(columns = col_list[:1])"
   ]
  },
  {
   "cell_type": "markdown",
   "id": "6870c01f",
   "metadata": {},
   "source": [
    "## Preprocess Data"
   ]
  },
  {
   "cell_type": "code",
   "execution_count": 8,
   "id": "fd5348e7",
   "metadata": {},
   "outputs": [],
   "source": [
    "#num_cols\n",
    "num_cols = ['size_num', 'n_inactive_ingredient', 'n_active_ingredient']\n",
    "ingredients = df_ing.columns.to_list()[30:]\n",
    "for ing in ingredients:\n",
    "    num_cols.append(ing)\n",
    "    \n",
    "#ord_cols\n",
    "ord_cols = [\"product_category\", \"brand\", \"size_unit\"]"
   ]
  },
  {
   "cell_type": "code",
   "execution_count": 9,
   "id": "7cf3929c",
   "metadata": {},
   "outputs": [],
   "source": [
    "df_ing2 = df_ing.drop(columns = ['product_names', 'ingredient', 'size', 'avg_price', 'active_ingredient', \n",
    "                                 'inactive_ingredient', 'active_ingredient_list', 'inactive_ingredient_list',\n",
    "                                 'is_alphabatical', 'inactive_ingredient_matched_list', \n",
    "                                 'active_ingredient_matched_list', 'inactive_ingredient_rating_list', \n",
    "                                 'active_ingredient_rating_list', 'inactive_ingredient_category_list',\n",
    "                                 'active_ingredient_category_list', 'inactive_rating_count_0.0', \n",
    "                                 'inactive_rating_count_1.0', 'inactive_rating_count_2.0', \n",
    "                                 'inactive_rating_count_3.0', 'active_rating_count_0.0', 'active_rating_count_1.0',\n",
    "                                 'active_rating_count_2.0', 'active_rating_count_3.0'])"
   ]
  },
  {
   "cell_type": "code",
   "execution_count": null,
   "id": "9ce0a95e",
   "metadata": {},
   "outputs": [],
   "source": [
    "ordinal_transformer = Pipeline(steps = [\n",
    "    ('ordimputer', SimpleImputer(strategy = 'most_frequent')),\n",
    "    ('target_enc', TargetEncoder()),\n",
    "    (\"scaler\", StandardScaler())])\n",
    "\n",
    "numeric_transformer = Pipeline(steps=[\n",
    "    (\"imputer\", SimpleImputer(strategy=\"median\")),\n",
    "    (\"scaler\", StandardScaler())])\n",
    "\n",
    "preprocessor = ColumnTransformer(\n",
    "    transformers=[\n",
    "        (\"ord\", ordinal_transformer, ord_cols),\n",
    "        (\"num\", numeric_transformer, num_cols),\n",
    "    ]\n",
    ")"
   ]
  },
  {
   "cell_type": "markdown",
   "id": "c1adaaee",
   "metadata": {},
   "source": [
    "## Train-Test Split"
   ]
  },
  {
   "cell_type": "code",
   "execution_count": 10,
   "id": "0611809d",
   "metadata": {},
   "outputs": [],
   "source": [
    "y = df_ing2[\"price\"]\n",
    "X = df_ing2.drop(columns = \"price\")\n",
    "\n",
    "X_train, X_test, y_train, y_test = train_test_split(X, y, test_size = .3, random_state = 42)"
   ]
  },
  {
   "cell_type": "code",
   "execution_count": 12,
   "id": "1fce5085",
   "metadata": {},
   "outputs": [
    {
     "name": "stdout",
     "output_type": "stream",
     "text": [
      "RMSE\n",
      "train: 61.739\n",
      "test: 50.402\n",
      "\n",
      "\n",
      "MAE\n",
      "train: 27.373\n",
      "test: 26.985\n"
     ]
    }
   ],
   "source": [
    "# determine baseline error\n",
    "rmse_train = np.sqrt(mean_squared_error(y_train, np.ones([y_train.shape[0],])* y_train.mean()))\n",
    "rmse_test = np.sqrt(mean_squared_error(y_test, np.ones([y_test.shape[0],])* y_train.mean()))\n",
    "\n",
    "mae_train = mean_absolute_error(y_train, np.ones([y_train.shape[0],])* y_train.median())\n",
    "mae_test = mean_absolute_error(y_test, np.ones([y_test.shape[0],])* y_train.median())\n",
    "\n",
    "print(\"RMSE\")\n",
    "print(f\"train: {rmse_train:.3f}\") \n",
    "print(f\"test: {rmse_test:.3f}\")\n",
    "print(\"\\n\")\n",
    "print(\"MAE\")\n",
    "print(f\"train: {mae_train:.3f}\") \n",
    "print(f\"test: {mae_test:.3f}\")"
   ]
  },
  {
   "cell_type": "markdown",
   "id": "29d8e92a",
   "metadata": {},
   "source": [
    "# Modeling\n",
    "## Model 1 - Simple Regressor"
   ]
  },
  {
   "cell_type": "code",
   "execution_count": 13,
   "id": "23a691a5",
   "metadata": {},
   "outputs": [],
   "source": [
    "model1 = Pipeline(steps=[(\"preprocessor\", preprocessor), (\"regressor\", XGBRegressor())])\n",
    "model1.fit(X_train, y_train)\n",
    "model1_train_pred = model1.predict(X_train)\n",
    "model1_test_pred = model1.predict(X_test)"
   ]
  },
  {
   "cell_type": "code",
   "execution_count": 14,
   "id": "3eba3f96",
   "metadata": {},
   "outputs": [
    {
     "name": "stdout",
     "output_type": "stream",
     "text": [
      "number of features: 244\n",
      "rmse: (train cv) 5.129, (test) 27.224\n",
      "mae: (train cv) 3.476, (test) 13.721\n",
      "explained variance: (train cv) 0.993, (test) 0.708\n"
     ]
    }
   ],
   "source": [
    "rmse_train = np.sqrt(mean_squared_error(y_train, model1_train_pred))\n",
    "rmse_test = np.sqrt(mean_squared_error(y_test, model1_test_pred))\n",
    "\n",
    "mae_train = mean_absolute_error(y_train, model1_train_pred)\n",
    "mae_test = mean_absolute_error(y_test, model1_test_pred)\n",
    "\n",
    "ev_train = explained_variance_score(y_train, model1_train_pred)\n",
    "ev_test = explained_variance_score(y_test, model1_test_pred)\n",
    "\n",
    "print(\"number of features:\", len(X_train.columns))\n",
    "print(\"rmse: (train cv) %.3f, (test) %.3f\"%(rmse_train, rmse_test))\n",
    "print(\"mae: (train cv) %.3f, (test) %.3f\"%(mae_train, mae_test))\n",
    "print(\"explained variance: (train cv) %.3f, (test) %.3f\"%(ev_train, ev_test))"
   ]
  },
  {
   "cell_type": "code",
   "execution_count": 15,
   "id": "8bf08972",
   "metadata": {},
   "outputs": [],
   "source": [
    "X_train_ct = preprocessor.fit_transform(X_train, y_train)\n",
    "boost = XGBRegressor()\n",
    "boost.fit(X_train_ct, y_train)\n",
    "pred_train_boost = boost.predict(X_train_ct)\n",
    "\n",
    "X_test_ct = preprocessor.transform(X_test)\n",
    "pred_test_boost = boost.predict(X_test_ct)"
   ]
  },
  {
   "cell_type": "code",
   "execution_count": 16,
   "id": "402a039f",
   "metadata": {},
   "outputs": [
    {
     "name": "stdout",
     "output_type": "stream",
     "text": [
      "number of features: 244\n",
      "rmse: (train) 5.129, (test) 27.224\n",
      "mae: (train) 3.476, (test) 13.721\n",
      "explained variance: (train cv) 0.993, (test) 0.708\n"
     ]
    }
   ],
   "source": [
    "rmse_train = np.sqrt(mean_squared_error(y_train, pred_train_boost))\n",
    "rmse_test = np.sqrt(mean_squared_error(y_test, pred_test_boost))\n",
    "\n",
    "mae_train = mean_absolute_error(y_train, pred_train_boost)\n",
    "mae_test = mean_absolute_error(y_test, pred_test_boost)\n",
    "\n",
    "ev_train = explained_variance_score(y_train, pred_train_boost)\n",
    "ev_test = explained_variance_score(y_test, pred_test_boost)\n",
    "\n",
    "print(\"number of features:\",len(X_train.columns))\n",
    "print(\"rmse: (train) %.3f, (test) %.3f\"%(rmse_train, rmse_test))\n",
    "print(\"mae: (train) %.3f, (test) %.3f\"%(mae_train, mae_test))\n",
    "print(\"explained variance: (train cv) %.3f, (test) %.3f\"%(ev_train, ev_test))"
   ]
  },
  {
   "cell_type": "markdown",
   "id": "afb0c410",
   "metadata": {},
   "source": [
    "## Model 2 - Neural Network, 3 Hidden Layers"
   ]
  },
  {
   "cell_type": "code",
   "execution_count": 17,
   "id": "fdb2e645",
   "metadata": {},
   "outputs": [
    {
     "name": "stdout",
     "output_type": "stream",
     "text": [
      "Metal device set to: Apple M1 Pro\n",
      "Epoch 1/100\n"
     ]
    },
    {
     "name": "stderr",
     "output_type": "stream",
     "text": [
      "2023-04-10 16:10:37.060611: I tensorflow/core/common_runtime/pluggable_device/pluggable_device_factory.cc:305] Could not identify NUMA node of platform GPU ID 0, defaulting to 0. Your kernel may not have been built with NUMA support.\n",
      "2023-04-10 16:10:37.060796: I tensorflow/core/common_runtime/pluggable_device/pluggable_device_factory.cc:271] Created TensorFlow device (/job:localhost/replica:0/task:0/device:GPU:0 with 0 MB memory) -> physical PluggableDevice (device: 0, name: METAL, pci bus id: <undefined>)\n",
      "2023-04-10 16:10:37.107528: W tensorflow/core/platform/profile_utils/cpu_utils.cc:128] Failed to get CPU frequency: 0 Hz\n"
     ]
    },
    {
     "name": "stdout",
     "output_type": "stream",
     "text": [
      "11/45 [======>.......................] - ETA: 0s - loss: 27.8833 - mean_absolute_error: 27.8833 "
     ]
    },
    {
     "name": "stderr",
     "output_type": "stream",
     "text": [
      "2023-04-10 16:10:37.299427: I tensorflow/core/grappler/optimizers/custom_graph_optimizer_registry.cc:113] Plugin optimizer for device_type GPU is enabled.\n"
     ]
    },
    {
     "name": "stdout",
     "output_type": "stream",
     "text": [
      "45/45 [==============================] - 1s 9ms/step - loss: 23.3442 - mean_absolute_error: 23.2491 - val_loss: 19.3228 - val_mean_absolute_error: 18.7132\n",
      "Epoch 2/100\n",
      "20/45 [============>.................] - ETA: 0s - loss: 18.5075 - mean_absolute_error: 18.5075"
     ]
    },
    {
     "name": "stderr",
     "output_type": "stream",
     "text": [
      "2023-04-10 16:10:37.769983: I tensorflow/core/grappler/optimizers/custom_graph_optimizer_registry.cc:113] Plugin optimizer for device_type GPU is enabled.\n"
     ]
    },
    {
     "name": "stdout",
     "output_type": "stream",
     "text": [
      "45/45 [==============================] - 0s 6ms/step - loss: 18.5710 - mean_absolute_error: 18.6678 - val_loss: 18.2605 - val_mean_absolute_error: 17.5959\n",
      "Epoch 3/100\n",
      "45/45 [==============================] - 0s 6ms/step - loss: 16.8438 - mean_absolute_error: 16.8344 - val_loss: 17.8439 - val_mean_absolute_error: 17.6662\n",
      "Epoch 4/100\n",
      "45/45 [==============================] - 0s 6ms/step - loss: 15.9715 - mean_absolute_error: 15.9283 - val_loss: 17.3672 - val_mean_absolute_error: 16.8769\n",
      "Epoch 5/100\n",
      "45/45 [==============================] - 0s 6ms/step - loss: 15.4524 - mean_absolute_error: 15.4382 - val_loss: 17.6098 - val_mean_absolute_error: 16.8377\n",
      "Epoch 6/100\n",
      "45/45 [==============================] - 0s 6ms/step - loss: 14.6147 - mean_absolute_error: 14.6215 - val_loss: 18.9322 - val_mean_absolute_error: 18.6597\n",
      "Epoch 7/100\n",
      "45/45 [==============================] - 0s 6ms/step - loss: 14.8202 - mean_absolute_error: 14.8108 - val_loss: 17.0246 - val_mean_absolute_error: 16.4987\n",
      "Epoch 8/100\n",
      "45/45 [==============================] - 0s 6ms/step - loss: 14.1973 - mean_absolute_error: 14.1706 - val_loss: 17.4132 - val_mean_absolute_error: 16.8578\n",
      "Epoch 9/100\n",
      "45/45 [==============================] - 0s 6ms/step - loss: 13.5959 - mean_absolute_error: 13.5839 - val_loss: 17.1772 - val_mean_absolute_error: 16.6923\n",
      "Epoch 10/100\n",
      "45/45 [==============================] - 0s 6ms/step - loss: 12.6196 - mean_absolute_error: 12.6521 - val_loss: 16.6450 - val_mean_absolute_error: 16.3383\n",
      "Epoch 11/100\n",
      "45/45 [==============================] - 0s 6ms/step - loss: 12.3243 - mean_absolute_error: 12.3073 - val_loss: 16.7741 - val_mean_absolute_error: 16.1477\n",
      "Epoch 12/100\n",
      "45/45 [==============================] - 0s 6ms/step - loss: 12.2800 - mean_absolute_error: 12.2645 - val_loss: 17.0560 - val_mean_absolute_error: 16.7006\n",
      "Epoch 13/100\n",
      "45/45 [==============================] - 0s 6ms/step - loss: 11.6067 - mean_absolute_error: 11.5916 - val_loss: 17.1196 - val_mean_absolute_error: 16.9459\n",
      "Epoch 14/100\n",
      "45/45 [==============================] - 0s 6ms/step - loss: 11.1960 - mean_absolute_error: 11.1891 - val_loss: 17.2939 - val_mean_absolute_error: 16.5941\n",
      "Epoch 15/100\n",
      "45/45 [==============================] - 0s 6ms/step - loss: 10.7763 - mean_absolute_error: 10.7674 - val_loss: 17.1603 - val_mean_absolute_error: 16.3496\n",
      "Epoch 16/100\n",
      "45/45 [==============================] - 0s 6ms/step - loss: 11.0220 - mean_absolute_error: 10.9916 - val_loss: 18.0504 - val_mean_absolute_error: 17.9810\n",
      "Epoch 17/100\n",
      "45/45 [==============================] - 0s 6ms/step - loss: 11.0419 - mean_absolute_error: 11.0407 - val_loss: 16.8097 - val_mean_absolute_error: 16.8003\n",
      "Epoch 18/100\n",
      "45/45 [==============================] - 0s 6ms/step - loss: 10.1142 - mean_absolute_error: 10.0857 - val_loss: 17.5305 - val_mean_absolute_error: 16.9133\n",
      "Epoch 19/100\n",
      "45/45 [==============================] - 0s 6ms/step - loss: 9.8113 - mean_absolute_error: 9.8119 - val_loss: 16.8392 - val_mean_absolute_error: 16.5518\n",
      "Epoch 20/100\n",
      "45/45 [==============================] - 0s 6ms/step - loss: 9.6641 - mean_absolute_error: 9.6827 - val_loss: 16.2963 - val_mean_absolute_error: 16.1391\n",
      "Epoch 21/100\n",
      "45/45 [==============================] - 0s 6ms/step - loss: 9.4881 - mean_absolute_error: 9.4784 - val_loss: 16.8110 - val_mean_absolute_error: 16.6112\n",
      "Epoch 22/100\n",
      "45/45 [==============================] - 0s 6ms/step - loss: 9.2983 - mean_absolute_error: 9.3328 - val_loss: 16.2934 - val_mean_absolute_error: 16.2737\n",
      "Epoch 23/100\n",
      "45/45 [==============================] - 0s 6ms/step - loss: 9.8041 - mean_absolute_error: 9.8028 - val_loss: 17.1117 - val_mean_absolute_error: 16.5303\n",
      "Epoch 24/100\n",
      "45/45 [==============================] - 0s 6ms/step - loss: 9.1280 - mean_absolute_error: 9.1087 - val_loss: 16.8380 - val_mean_absolute_error: 16.7222\n",
      "Epoch 25/100\n",
      "45/45 [==============================] - 0s 6ms/step - loss: 8.7043 - mean_absolute_error: 8.6935 - val_loss: 16.8056 - val_mean_absolute_error: 16.2043\n",
      "Epoch 26/100\n",
      "45/45 [==============================] - 0s 6ms/step - loss: 9.4018 - mean_absolute_error: 9.3825 - val_loss: 16.4248 - val_mean_absolute_error: 15.9716\n",
      "Epoch 27/100\n",
      "45/45 [==============================] - 0s 6ms/step - loss: 8.9686 - mean_absolute_error: 8.9571 - val_loss: 16.1319 - val_mean_absolute_error: 15.9571\n",
      "Epoch 28/100\n",
      "45/45 [==============================] - 0s 6ms/step - loss: 8.3620 - mean_absolute_error: 8.3365 - val_loss: 16.1446 - val_mean_absolute_error: 15.7755\n",
      "Epoch 29/100\n",
      "45/45 [==============================] - 0s 6ms/step - loss: 8.1730 - mean_absolute_error: 8.1752 - val_loss: 16.1011 - val_mean_absolute_error: 15.9774\n",
      "Epoch 30/100\n",
      "45/45 [==============================] - 0s 6ms/step - loss: 8.4237 - mean_absolute_error: 8.4111 - val_loss: 16.9762 - val_mean_absolute_error: 16.3367\n",
      "Epoch 31/100\n",
      "45/45 [==============================] - 0s 6ms/step - loss: 8.1993 - mean_absolute_error: 8.1871 - val_loss: 15.9009 - val_mean_absolute_error: 15.4423\n",
      "Epoch 32/100\n",
      "45/45 [==============================] - 0s 6ms/step - loss: 8.1476 - mean_absolute_error: 8.1822 - val_loss: 16.4698 - val_mean_absolute_error: 16.1737\n",
      "Epoch 33/100\n",
      "45/45 [==============================] - 0s 6ms/step - loss: 8.0248 - mean_absolute_error: 8.2569 - val_loss: 16.5433 - val_mean_absolute_error: 15.8710\n",
      "Epoch 34/100\n",
      "45/45 [==============================] - 0s 6ms/step - loss: 8.0323 - mean_absolute_error: 8.0210 - val_loss: 15.8605 - val_mean_absolute_error: 15.4789\n",
      "Epoch 35/100\n",
      "45/45 [==============================] - 0s 6ms/step - loss: 7.9905 - mean_absolute_error: 7.9804 - val_loss: 16.0899 - val_mean_absolute_error: 15.9523\n",
      "Epoch 36/100\n",
      "45/45 [==============================] - 0s 6ms/step - loss: 7.5294 - mean_absolute_error: 7.5211 - val_loss: 15.7393 - val_mean_absolute_error: 15.3444\n",
      "Epoch 37/100\n",
      "45/45 [==============================] - 0s 6ms/step - loss: 7.8156 - mean_absolute_error: 7.8131 - val_loss: 15.7870 - val_mean_absolute_error: 15.5756\n",
      "Epoch 38/100\n",
      "45/45 [==============================] - 0s 6ms/step - loss: 7.4090 - mean_absolute_error: 7.4038 - val_loss: 16.0301 - val_mean_absolute_error: 15.5163\n",
      "Epoch 39/100\n",
      "45/45 [==============================] - 0s 6ms/step - loss: 7.3088 - mean_absolute_error: 7.3037 - val_loss: 16.0780 - val_mean_absolute_error: 15.8487\n",
      "Epoch 40/100\n",
      "45/45 [==============================] - 0s 6ms/step - loss: 7.3624 - mean_absolute_error: 7.3503 - val_loss: 15.8650 - val_mean_absolute_error: 15.4585\n",
      "Epoch 41/100\n",
      "45/45 [==============================] - 0s 6ms/step - loss: 6.9945 - mean_absolute_error: 6.9834 - val_loss: 15.7663 - val_mean_absolute_error: 15.2837\n",
      "Epoch 42/100\n",
      "45/45 [==============================] - 0s 6ms/step - loss: 7.2558 - mean_absolute_error: 7.2396 - val_loss: 16.0414 - val_mean_absolute_error: 15.4600\n",
      "Epoch 43/100\n",
      "45/45 [==============================] - 0s 6ms/step - loss: 7.3330 - mean_absolute_error: 7.5264 - val_loss: 15.6560 - val_mean_absolute_error: 15.2614\n",
      "Epoch 44/100\n",
      "45/45 [==============================] - 0s 6ms/step - loss: 7.0433 - mean_absolute_error: 7.0246 - val_loss: 16.1136 - val_mean_absolute_error: 15.8398\n",
      "Epoch 45/100\n",
      "45/45 [==============================] - 0s 6ms/step - loss: 7.0003 - mean_absolute_error: 6.9939 - val_loss: 15.9590 - val_mean_absolute_error: 15.5975\n",
      "Epoch 46/100\n",
      "45/45 [==============================] - 0s 6ms/step - loss: 6.8783 - mean_absolute_error: 6.8606 - val_loss: 16.0844 - val_mean_absolute_error: 15.6393\n",
      "Epoch 47/100\n",
      "45/45 [==============================] - 0s 6ms/step - loss: 6.9775 - mean_absolute_error: 6.9557 - val_loss: 15.5327 - val_mean_absolute_error: 15.1592\n",
      "Epoch 48/100\n",
      "45/45 [==============================] - 0s 6ms/step - loss: 7.1344 - mean_absolute_error: 7.1238 - val_loss: 15.9941 - val_mean_absolute_error: 16.1181\n",
      "Epoch 49/100\n",
      "45/45 [==============================] - 0s 6ms/step - loss: 7.0524 - mean_absolute_error: 7.0378 - val_loss: 15.5599 - val_mean_absolute_error: 15.4914\n",
      "Epoch 50/100\n",
      "45/45 [==============================] - 0s 6ms/step - loss: 6.6019 - mean_absolute_error: 6.5871 - val_loss: 15.6134 - val_mean_absolute_error: 15.3268\n",
      "Epoch 51/100\n",
      "45/45 [==============================] - 0s 6ms/step - loss: 6.7088 - mean_absolute_error: 6.7001 - val_loss: 15.5881 - val_mean_absolute_error: 15.3151\n",
      "Epoch 52/100\n",
      "45/45 [==============================] - 0s 6ms/step - loss: 6.7867 - mean_absolute_error: 6.7878 - val_loss: 15.7779 - val_mean_absolute_error: 15.4551\n",
      "Epoch 53/100\n",
      "45/45 [==============================] - 0s 6ms/step - loss: 6.7471 - mean_absolute_error: 6.7298 - val_loss: 15.9898 - val_mean_absolute_error: 15.5895\n",
      "Epoch 54/100\n",
      "45/45 [==============================] - 0s 6ms/step - loss: 6.5379 - mean_absolute_error: 6.5298 - val_loss: 15.4397 - val_mean_absolute_error: 15.0073\n",
      "Epoch 55/100\n",
      "45/45 [==============================] - 0s 6ms/step - loss: 6.2740 - mean_absolute_error: 6.2594 - val_loss: 15.4063 - val_mean_absolute_error: 15.1030\n",
      "Epoch 56/100\n",
      "45/45 [==============================] - 0s 6ms/step - loss: 6.8115 - mean_absolute_error: 6.7951 - val_loss: 15.7414 - val_mean_absolute_error: 15.5098\n",
      "Epoch 57/100\n",
      "45/45 [==============================] - 0s 6ms/step - loss: 6.4120 - mean_absolute_error: 6.4240 - val_loss: 16.2864 - val_mean_absolute_error: 15.8120\n",
      "Epoch 58/100\n",
      "45/45 [==============================] - 0s 6ms/step - loss: 6.7712 - mean_absolute_error: 6.7616 - val_loss: 15.9720 - val_mean_absolute_error: 15.9741\n",
      "Epoch 59/100\n",
      "45/45 [==============================] - 0s 6ms/step - loss: 6.6254 - mean_absolute_error: 6.6454 - val_loss: 15.8562 - val_mean_absolute_error: 15.7275\n",
      "Epoch 60/100\n",
      "45/45 [==============================] - 0s 6ms/step - loss: 6.4541 - mean_absolute_error: 6.4544 - val_loss: 15.7640 - val_mean_absolute_error: 15.2700\n",
      "Epoch 61/100\n",
      "45/45 [==============================] - 0s 6ms/step - loss: 6.3010 - mean_absolute_error: 6.2962 - val_loss: 15.8167 - val_mean_absolute_error: 15.4373\n",
      "Epoch 62/100\n",
      "45/45 [==============================] - 0s 6ms/step - loss: 6.3927 - mean_absolute_error: 6.3783 - val_loss: 15.7087 - val_mean_absolute_error: 15.4330\n",
      "Epoch 63/100\n",
      "45/45 [==============================] - 0s 6ms/step - loss: 6.3432 - mean_absolute_error: 6.3623 - val_loss: 15.8609 - val_mean_absolute_error: 15.7010\n",
      "Epoch 64/100\n",
      "45/45 [==============================] - 0s 6ms/step - loss: 6.3301 - mean_absolute_error: 6.3194 - val_loss: 15.7571 - val_mean_absolute_error: 15.4576\n",
      "Epoch 65/100\n",
      "45/45 [==============================] - 0s 6ms/step - loss: 6.1908 - mean_absolute_error: 6.1814 - val_loss: 15.8712 - val_mean_absolute_error: 15.4836\n",
      "Epoch 66/100\n",
      "45/45 [==============================] - 0s 6ms/step - loss: 6.4119 - mean_absolute_error: 6.4031 - val_loss: 15.8926 - val_mean_absolute_error: 15.4294\n",
      "Epoch 67/100\n",
      "45/45 [==============================] - 0s 6ms/step - loss: 6.0891 - mean_absolute_error: 6.2861 - val_loss: 15.8284 - val_mean_absolute_error: 15.4622\n",
      "Epoch 68/100\n",
      "45/45 [==============================] - 0s 6ms/step - loss: 6.4878 - mean_absolute_error: 6.4984 - val_loss: 16.0705 - val_mean_absolute_error: 15.6483\n",
      "Epoch 69/100\n",
      "45/45 [==============================] - 0s 6ms/step - loss: 6.4257 - mean_absolute_error: 6.4555 - val_loss: 16.0409 - val_mean_absolute_error: 15.5525\n",
      "Epoch 70/100\n",
      "45/45 [==============================] - 0s 6ms/step - loss: 5.9058 - mean_absolute_error: 5.8999 - val_loss: 15.6168 - val_mean_absolute_error: 15.2622\n",
      "Epoch 71/100\n",
      "45/45 [==============================] - 0s 6ms/step - loss: 6.0353 - mean_absolute_error: 6.0275 - val_loss: 15.8972 - val_mean_absolute_error: 15.6664\n",
      "Epoch 72/100\n",
      "45/45 [==============================] - 0s 6ms/step - loss: 5.9063 - mean_absolute_error: 5.8897 - val_loss: 15.9139 - val_mean_absolute_error: 15.4951\n",
      "Epoch 73/100\n",
      "45/45 [==============================] - 0s 6ms/step - loss: 5.9869 - mean_absolute_error: 5.9720 - val_loss: 16.0635 - val_mean_absolute_error: 15.7442\n",
      "Epoch 74/100\n",
      "45/45 [==============================] - 0s 6ms/step - loss: 5.9145 - mean_absolute_error: 5.9343 - val_loss: 16.0825 - val_mean_absolute_error: 15.9991\n",
      "Epoch 75/100\n",
      "45/45 [==============================] - 0s 6ms/step - loss: 5.9431 - mean_absolute_error: 5.9348 - val_loss: 15.6503 - val_mean_absolute_error: 15.3578\n",
      "Epoch 76/100\n",
      "45/45 [==============================] - 0s 6ms/step - loss: 5.8368 - mean_absolute_error: 5.8227 - val_loss: 15.5876 - val_mean_absolute_error: 15.3092\n",
      "Epoch 77/100\n",
      "45/45 [==============================] - 0s 6ms/step - loss: 5.9749 - mean_absolute_error: 6.0057 - val_loss: 15.7976 - val_mean_absolute_error: 15.4660\n",
      "Epoch 78/100\n",
      "45/45 [==============================] - 0s 6ms/step - loss: 5.9764 - mean_absolute_error: 5.9595 - val_loss: 15.8292 - val_mean_absolute_error: 15.7023\n",
      "Epoch 79/100\n",
      "45/45 [==============================] - 0s 6ms/step - loss: 5.7175 - mean_absolute_error: 5.7238 - val_loss: 15.6427 - val_mean_absolute_error: 15.4813\n",
      "Epoch 80/100\n",
      "45/45 [==============================] - 0s 6ms/step - loss: 5.9922 - mean_absolute_error: 5.9871 - val_loss: 15.8184 - val_mean_absolute_error: 15.6651\n",
      "Epoch 81/100\n",
      "45/45 [==============================] - 0s 6ms/step - loss: 5.4992 - mean_absolute_error: 5.4912 - val_loss: 16.0909 - val_mean_absolute_error: 15.8964\n",
      "Epoch 82/100\n",
      "45/45 [==============================] - 0s 6ms/step - loss: 5.6652 - mean_absolute_error: 5.6654 - val_loss: 16.0571 - val_mean_absolute_error: 15.6563\n",
      "Epoch 83/100\n",
      "45/45 [==============================] - 0s 6ms/step - loss: 5.8062 - mean_absolute_error: 5.8021 - val_loss: 15.5904 - val_mean_absolute_error: 15.4790\n",
      "Epoch 84/100\n",
      "45/45 [==============================] - 0s 6ms/step - loss: 5.8831 - mean_absolute_error: 5.8655 - val_loss: 15.9161 - val_mean_absolute_error: 15.5777\n",
      "Epoch 85/100\n",
      "45/45 [==============================] - 0s 6ms/step - loss: 5.8843 - mean_absolute_error: 5.8761 - val_loss: 15.7109 - val_mean_absolute_error: 15.4066\n",
      "Epoch 86/100\n",
      "45/45 [==============================] - 0s 6ms/step - loss: 5.9979 - mean_absolute_error: 5.9772 - val_loss: 15.8999 - val_mean_absolute_error: 15.4801\n",
      "Epoch 87/100\n",
      "45/45 [==============================] - 0s 6ms/step - loss: 5.4920 - mean_absolute_error: 5.4855 - val_loss: 15.9626 - val_mean_absolute_error: 15.8061\n",
      "Epoch 88/100\n",
      "45/45 [==============================] - 0s 6ms/step - loss: 5.6922 - mean_absolute_error: 5.8518 - val_loss: 15.6984 - val_mean_absolute_error: 15.3399\n",
      "Epoch 89/100\n",
      "45/45 [==============================] - 0s 6ms/step - loss: 5.5497 - mean_absolute_error: 5.5601 - val_loss: 16.1741 - val_mean_absolute_error: 15.8441\n",
      "Epoch 90/100\n",
      "45/45 [==============================] - 0s 6ms/step - loss: 5.8221 - mean_absolute_error: 5.8031 - val_loss: 15.7446 - val_mean_absolute_error: 15.5356\n",
      "Epoch 91/100\n",
      "45/45 [==============================] - 0s 6ms/step - loss: 5.4597 - mean_absolute_error: 5.4674 - val_loss: 15.9875 - val_mean_absolute_error: 15.5398\n",
      "Epoch 92/100\n",
      "45/45 [==============================] - 0s 6ms/step - loss: 5.7087 - mean_absolute_error: 5.7021 - val_loss: 15.9036 - val_mean_absolute_error: 15.5017\n",
      "Epoch 93/100\n",
      "45/45 [==============================] - 0s 6ms/step - loss: 5.7214 - mean_absolute_error: 5.9047 - val_loss: 15.8766 - val_mean_absolute_error: 15.5935\n",
      "Epoch 94/100\n",
      "45/45 [==============================] - 0s 6ms/step - loss: 5.9915 - mean_absolute_error: 5.9829 - val_loss: 15.8254 - val_mean_absolute_error: 15.5661\n",
      "Epoch 95/100\n",
      "45/45 [==============================] - 0s 6ms/step - loss: 5.5415 - mean_absolute_error: 5.5359 - val_loss: 15.9820 - val_mean_absolute_error: 15.6202\n",
      "Epoch 96/100\n",
      "45/45 [==============================] - 0s 6ms/step - loss: 5.4117 - mean_absolute_error: 5.3981 - val_loss: 15.7797 - val_mean_absolute_error: 15.5493\n",
      "Epoch 97/100\n",
      "45/45 [==============================] - 0s 6ms/step - loss: 5.4621 - mean_absolute_error: 5.4611 - val_loss: 15.9441 - val_mean_absolute_error: 15.6007\n",
      "Epoch 98/100\n",
      "45/45 [==============================] - 0s 6ms/step - loss: 5.4595 - mean_absolute_error: 5.4491 - val_loss: 15.8780 - val_mean_absolute_error: 15.7527\n",
      "Epoch 99/100\n",
      "45/45 [==============================] - 0s 6ms/step - loss: 5.4981 - mean_absolute_error: 5.4835 - val_loss: 15.8759 - val_mean_absolute_error: 15.5727\n",
      "Epoch 100/100\n"
     ]
    },
    {
     "name": "stdout",
     "output_type": "stream",
     "text": [
      "45/45 [==============================] - 0s 6ms/step - loss: 5.2510 - mean_absolute_error: 5.2414 - val_loss: 16.2733 - val_mean_absolute_error: 15.9560\n"
     ]
    }
   ],
   "source": [
    "X_train_ct = preprocessor.fit_transform(X_train, y_train)\n",
    "X_test_ct = preprocessor.transform(X_test)\n",
    "\n",
    "learning_rate = 0.01\n",
    "\n",
    "model2 = Sequential([\n",
    "    Dense(160, kernel_initializer='normal', activation='relu'),\n",
    "    Dropout(0.2),\n",
    "    Dense(480, kernel_initializer='normal', activation='relu'),\n",
    "    Dropout(0.2),\n",
    "    Dense(256, kernel_initializer='normal', activation='relu'),\n",
    "    Dense(1, kernel_initializer='normal', activation='linear')\n",
    "  ])\n",
    "\n",
    "mae_k = MeanAbsoluteError()\n",
    "model2.compile(loss=mae_k, optimizer=Adam(learning_rate=learning_rate), metrics=[mae_k])\n",
    "\n",
    "model_2 = model2.fit(X_train_ct, y_train, epochs=100, batch_size=64, validation_split=0.2)"
   ]
  },
  {
   "cell_type": "code",
   "execution_count": 18,
   "id": "b5f1207f",
   "metadata": {},
   "outputs": [
    {
     "name": "stdout",
     "output_type": "stream",
     "text": [
      "112/112 [==============================] - 0s 2ms/step\n"
     ]
    },
    {
     "name": "stderr",
     "output_type": "stream",
     "text": [
      "2023-04-10 16:11:04.465127: I tensorflow/core/grappler/optimizers/custom_graph_optimizer_registry.cc:113] Plugin optimizer for device_type GPU is enabled.\n"
     ]
    },
    {
     "name": "stdout",
     "output_type": "stream",
     "text": [
      "48/48 [==============================] - 0s 2ms/step\n",
      "number of features: 244\n",
      "rmse: (train) 24.724, (test) 33.354\n",
      "mae: (train) 6.860, (test) 15.829\n",
      "explained variance: (train cv) 0.841, (test) 0.567\n"
     ]
    }
   ],
   "source": [
    "y_train_pred = model2.predict(X_train_ct)\n",
    "y_test_pred = model2.predict(X_test_ct)\n",
    "\n",
    "rmse_train = np.sqrt(mean_squared_error(y_train, y_train_pred))\n",
    "rmse_test = np.sqrt(mean_squared_error(y_test, y_test_pred))\n",
    "\n",
    "mae_train = mean_absolute_error(y_train, y_train_pred)\n",
    "mae_test = mean_absolute_error(y_test, y_test_pred)\n",
    "\n",
    "ev_train = explained_variance_score(y_train, y_train_pred)\n",
    "ev_test = explained_variance_score(y_test, y_test_pred)\n",
    "\n",
    "print(\"number of features:\",len(X_train.columns))\n",
    "print(\"rmse: (train) %.3f, (test) %.3f\"%(rmse_train, rmse_test))\n",
    "print(\"mae: (train) %.3f, (test) %.3f\"%(mae_train, mae_test))\n",
    "print(\"explained variance: (train cv) %.3f, (test) %.3f\"%(ev_train, ev_test))"
   ]
  },
  {
   "cell_type": "markdown",
   "id": "96b03be7",
   "metadata": {},
   "source": [
    "## Model 3 - Neural Network, 5 Hidden Layers¶"
   ]
  },
  {
   "cell_type": "code",
   "execution_count": 19,
   "id": "0d998789",
   "metadata": {},
   "outputs": [
    {
     "name": "stdout",
     "output_type": "stream",
     "text": [
      "Epoch 1/100\n",
      " 9/45 [=====>........................] - ETA: 0s - loss: 47.6421 - mean_absolute_error: 47.6421 "
     ]
    },
    {
     "name": "stderr",
     "output_type": "stream",
     "text": [
      "2023-04-10 16:11:04.962254: I tensorflow/core/grappler/optimizers/custom_graph_optimizer_registry.cc:113] Plugin optimizer for device_type GPU is enabled.\n"
     ]
    },
    {
     "name": "stdout",
     "output_type": "stream",
     "text": [
      "45/45 [==============================] - 1s 10ms/step - loss: 30.4984 - mean_absolute_error: 30.3949 - val_loss: 20.3890 - val_mean_absolute_error: 19.9589\n",
      "Epoch 2/100\n",
      "18/45 [===========>..................] - ETA: 0s - loss: 17.6668 - mean_absolute_error: 17.6668"
     ]
    },
    {
     "name": "stderr",
     "output_type": "stream",
     "text": [
      "2023-04-10 16:11:05.439470: I tensorflow/core/grappler/optimizers/custom_graph_optimizer_registry.cc:113] Plugin optimizer for device_type GPU is enabled.\n"
     ]
    },
    {
     "name": "stdout",
     "output_type": "stream",
     "text": [
      "45/45 [==============================] - 0s 7ms/step - loss: 19.1555 - mean_absolute_error: 19.1253 - val_loss: 19.4817 - val_mean_absolute_error: 18.6985\n",
      "Epoch 3/100\n",
      "45/45 [==============================] - 0s 7ms/step - loss: 18.0868 - mean_absolute_error: 18.0640 - val_loss: 17.7985 - val_mean_absolute_error: 16.9195\n",
      "Epoch 4/100\n",
      "45/45 [==============================] - 0s 7ms/step - loss: 16.7260 - mean_absolute_error: 16.8310 - val_loss: 18.9289 - val_mean_absolute_error: 18.1916\n",
      "Epoch 5/100\n",
      "45/45 [==============================] - 0s 7ms/step - loss: 15.6643 - mean_absolute_error: 15.6893 - val_loss: 17.9986 - val_mean_absolute_error: 17.1622\n",
      "Epoch 6/100\n",
      "45/45 [==============================] - 0s 7ms/step - loss: 14.4011 - mean_absolute_error: 14.3768 - val_loss: 17.0495 - val_mean_absolute_error: 16.4520\n",
      "Epoch 7/100\n",
      "45/45 [==============================] - 0s 7ms/step - loss: 14.3287 - mean_absolute_error: 14.3237 - val_loss: 17.5352 - val_mean_absolute_error: 16.6605\n",
      "Epoch 8/100\n",
      "45/45 [==============================] - 0s 7ms/step - loss: 13.6244 - mean_absolute_error: 13.6237 - val_loss: 17.2910 - val_mean_absolute_error: 16.6031\n",
      "Epoch 9/100\n",
      "45/45 [==============================] - 0s 7ms/step - loss: 13.1495 - mean_absolute_error: 13.1309 - val_loss: 18.3631 - val_mean_absolute_error: 17.3621\n",
      "Epoch 10/100\n",
      "45/45 [==============================] - 0s 7ms/step - loss: 13.4451 - mean_absolute_error: 13.4418 - val_loss: 17.5601 - val_mean_absolute_error: 16.8208\n",
      "Epoch 11/100\n",
      "45/45 [==============================] - 0s 7ms/step - loss: 13.3535 - mean_absolute_error: 13.3191 - val_loss: 24.4510 - val_mean_absolute_error: 23.4432\n",
      "Epoch 12/100\n",
      "45/45 [==============================] - 0s 7ms/step - loss: 13.9348 - mean_absolute_error: 14.1953 - val_loss: 17.6401 - val_mean_absolute_error: 16.9072\n",
      "Epoch 13/100\n",
      "45/45 [==============================] - 0s 7ms/step - loss: 12.5889 - mean_absolute_error: 12.6024 - val_loss: 17.9302 - val_mean_absolute_error: 16.9942\n",
      "Epoch 14/100\n",
      "45/45 [==============================] - 0s 7ms/step - loss: 12.2008 - mean_absolute_error: 12.1783 - val_loss: 16.8066 - val_mean_absolute_error: 16.2455\n",
      "Epoch 15/100\n",
      "45/45 [==============================] - 0s 7ms/step - loss: 11.5128 - mean_absolute_error: 11.5155 - val_loss: 17.2925 - val_mean_absolute_error: 16.5941\n",
      "Epoch 16/100\n",
      "45/45 [==============================] - 0s 7ms/step - loss: 10.8848 - mean_absolute_error: 10.8731 - val_loss: 16.6921 - val_mean_absolute_error: 16.0303\n",
      "Epoch 17/100\n",
      "45/45 [==============================] - 0s 7ms/step - loss: 10.9672 - mean_absolute_error: 11.1836 - val_loss: 17.5424 - val_mean_absolute_error: 16.7868\n",
      "Epoch 18/100\n",
      "45/45 [==============================] - 0s 7ms/step - loss: 10.1337 - mean_absolute_error: 10.1359 - val_loss: 16.5994 - val_mean_absolute_error: 15.9024\n",
      "Epoch 19/100\n",
      "45/45 [==============================] - 0s 7ms/step - loss: 10.2273 - mean_absolute_error: 10.2095 - val_loss: 18.2942 - val_mean_absolute_error: 17.3744\n",
      "Epoch 20/100\n",
      "45/45 [==============================] - 0s 7ms/step - loss: 9.8653 - mean_absolute_error: 9.8761 - val_loss: 17.2977 - val_mean_absolute_error: 16.4980\n",
      "Epoch 21/100\n",
      "45/45 [==============================] - 0s 7ms/step - loss: 9.2871 - mean_absolute_error: 9.2870 - val_loss: 16.8553 - val_mean_absolute_error: 16.1117\n",
      "Epoch 22/100\n",
      "45/45 [==============================] - 0s 7ms/step - loss: 8.8305 - mean_absolute_error: 8.8246 - val_loss: 16.8376 - val_mean_absolute_error: 16.0510\n",
      "Epoch 23/100\n",
      "45/45 [==============================] - 0s 7ms/step - loss: 9.0315 - mean_absolute_error: 9.1137 - val_loss: 16.3061 - val_mean_absolute_error: 15.7761\n",
      "Epoch 24/100\n",
      "45/45 [==============================] - 0s 7ms/step - loss: 8.9707 - mean_absolute_error: 8.9759 - val_loss: 16.3044 - val_mean_absolute_error: 15.7307\n",
      "Epoch 25/100\n",
      "45/45 [==============================] - 0s 7ms/step - loss: 8.7465 - mean_absolute_error: 8.7616 - val_loss: 16.1775 - val_mean_absolute_error: 15.7953\n",
      "Epoch 26/100\n",
      "45/45 [==============================] - 0s 7ms/step - loss: 8.8168 - mean_absolute_error: 8.8020 - val_loss: 15.6567 - val_mean_absolute_error: 15.0991\n",
      "Epoch 27/100\n",
      "45/45 [==============================] - 0s 7ms/step - loss: 8.5962 - mean_absolute_error: 8.6010 - val_loss: 15.5760 - val_mean_absolute_error: 15.2461\n",
      "Epoch 28/100\n",
      "45/45 [==============================] - 0s 8ms/step - loss: 8.5507 - mean_absolute_error: 8.5681 - val_loss: 17.3515 - val_mean_absolute_error: 16.6019\n",
      "Epoch 29/100\n",
      "45/45 [==============================] - 0s 7ms/step - loss: 8.1123 - mean_absolute_error: 8.1037 - val_loss: 16.1377 - val_mean_absolute_error: 15.7232\n",
      "Epoch 30/100\n",
      "45/45 [==============================] - 0s 8ms/step - loss: 8.0356 - mean_absolute_error: 8.0195 - val_loss: 16.2135 - val_mean_absolute_error: 15.5344\n",
      "Epoch 31/100\n",
      "45/45 [==============================] - 0s 8ms/step - loss: 8.0850 - mean_absolute_error: 8.0710 - val_loss: 18.7986 - val_mean_absolute_error: 17.8368\n",
      "Epoch 32/100\n",
      "45/45 [==============================] - 0s 8ms/step - loss: 8.0295 - mean_absolute_error: 8.0058 - val_loss: 17.5758 - val_mean_absolute_error: 16.7358\n",
      "Epoch 33/100\n",
      "45/45 [==============================] - 0s 7ms/step - loss: 7.9103 - mean_absolute_error: 7.9421 - val_loss: 16.0794 - val_mean_absolute_error: 15.5171\n",
      "Epoch 34/100\n",
      "45/45 [==============================] - 0s 7ms/step - loss: 8.0685 - mean_absolute_error: 8.0520 - val_loss: 18.2108 - val_mean_absolute_error: 17.3572\n",
      "Epoch 35/100\n",
      "45/45 [==============================] - 0s 8ms/step - loss: 7.7909 - mean_absolute_error: 7.7844 - val_loss: 18.6124 - val_mean_absolute_error: 17.6873\n",
      "Epoch 36/100\n",
      "45/45 [==============================] - 0s 7ms/step - loss: 7.7788 - mean_absolute_error: 7.7678 - val_loss: 16.4723 - val_mean_absolute_error: 15.8263\n",
      "Epoch 37/100\n",
      "45/45 [==============================] - 0s 8ms/step - loss: 7.6716 - mean_absolute_error: 7.6758 - val_loss: 16.0916 - val_mean_absolute_error: 15.6246\n",
      "Epoch 38/100\n",
      "45/45 [==============================] - 0s 8ms/step - loss: 7.2413 - mean_absolute_error: 7.2295 - val_loss: 16.5620 - val_mean_absolute_error: 16.0013\n",
      "Epoch 39/100\n",
      "45/45 [==============================] - 0s 7ms/step - loss: 7.0346 - mean_absolute_error: 7.0082 - val_loss: 16.9909 - val_mean_absolute_error: 16.1843\n",
      "Epoch 40/100\n",
      "45/45 [==============================] - 0s 8ms/step - loss: 7.0598 - mean_absolute_error: 7.0553 - val_loss: 16.3313 - val_mean_absolute_error: 15.7044\n",
      "Epoch 41/100\n",
      "45/45 [==============================] - 0s 8ms/step - loss: 6.9323 - mean_absolute_error: 6.9636 - val_loss: 16.5237 - val_mean_absolute_error: 15.8584\n",
      "Epoch 42/100\n",
      "45/45 [==============================] - 0s 8ms/step - loss: 6.8789 - mean_absolute_error: 6.8747 - val_loss: 16.1900 - val_mean_absolute_error: 15.8325\n",
      "Epoch 43/100\n",
      "45/45 [==============================] - 0s 8ms/step - loss: 7.1256 - mean_absolute_error: 7.1086 - val_loss: 16.8932 - val_mean_absolute_error: 16.1193\n",
      "Epoch 44/100\n",
      "45/45 [==============================] - 0s 7ms/step - loss: 6.9230 - mean_absolute_error: 6.9022 - val_loss: 16.9595 - val_mean_absolute_error: 16.1839\n",
      "Epoch 45/100\n",
      "45/45 [==============================] - 0s 7ms/step - loss: 7.2518 - mean_absolute_error: 7.2264 - val_loss: 16.1059 - val_mean_absolute_error: 15.3959\n",
      "Epoch 46/100\n",
      "45/45 [==============================] - 0s 7ms/step - loss: 6.5715 - mean_absolute_error: 6.5706 - val_loss: 16.8707 - val_mean_absolute_error: 16.2329\n",
      "Epoch 47/100\n",
      "45/45 [==============================] - 0s 7ms/step - loss: 7.1026 - mean_absolute_error: 7.1084 - val_loss: 17.0520 - val_mean_absolute_error: 16.2370\n",
      "Epoch 48/100\n",
      "45/45 [==============================] - 0s 8ms/step - loss: 6.8965 - mean_absolute_error: 6.8739 - val_loss: 15.7932 - val_mean_absolute_error: 15.3335\n",
      "Epoch 49/100\n",
      "45/45 [==============================] - 0s 7ms/step - loss: 6.8618 - mean_absolute_error: 6.8581 - val_loss: 16.9820 - val_mean_absolute_error: 16.1687\n",
      "Epoch 50/100\n",
      "45/45 [==============================] - 0s 7ms/step - loss: 7.7452 - mean_absolute_error: 7.7387 - val_loss: 18.5854 - val_mean_absolute_error: 17.5743\n",
      "Epoch 51/100\n",
      "45/45 [==============================] - 0s 7ms/step - loss: 6.8280 - mean_absolute_error: 6.8242 - val_loss: 16.3243 - val_mean_absolute_error: 15.7444\n",
      "Epoch 52/100\n",
      "45/45 [==============================] - 0s 7ms/step - loss: 6.8267 - mean_absolute_error: 6.8468 - val_loss: 16.1348 - val_mean_absolute_error: 15.5756\n",
      "Epoch 53/100\n",
      "45/45 [==============================] - 0s 8ms/step - loss: 6.4842 - mean_absolute_error: 6.4592 - val_loss: 15.9709 - val_mean_absolute_error: 15.2860\n",
      "Epoch 54/100\n",
      "45/45 [==============================] - 0s 7ms/step - loss: 6.4659 - mean_absolute_error: 6.4567 - val_loss: 16.5848 - val_mean_absolute_error: 15.7616\n",
      "Epoch 55/100\n",
      "45/45 [==============================] - 0s 7ms/step - loss: 6.2269 - mean_absolute_error: 6.4383 - val_loss: 16.3865 - val_mean_absolute_error: 15.7207\n",
      "Epoch 56/100\n",
      "45/45 [==============================] - 0s 7ms/step - loss: 6.7693 - mean_absolute_error: 6.7524 - val_loss: 16.0040 - val_mean_absolute_error: 15.2982\n",
      "Epoch 57/100\n",
      "45/45 [==============================] - 0s 7ms/step - loss: 6.8589 - mean_absolute_error: 6.8513 - val_loss: 15.6933 - val_mean_absolute_error: 15.1583\n",
      "Epoch 58/100\n",
      "45/45 [==============================] - 0s 7ms/step - loss: 6.6699 - mean_absolute_error: 6.6547 - val_loss: 17.5888 - val_mean_absolute_error: 16.6942\n",
      "Epoch 59/100\n",
      "45/45 [==============================] - 0s 7ms/step - loss: 6.3780 - mean_absolute_error: 6.4059 - val_loss: 16.3203 - val_mean_absolute_error: 15.5873\n",
      "Epoch 60/100\n",
      "45/45 [==============================] - 0s 8ms/step - loss: 5.9956 - mean_absolute_error: 5.9888 - val_loss: 15.9454 - val_mean_absolute_error: 15.2877\n",
      "Epoch 61/100\n",
      "45/45 [==============================] - 0s 7ms/step - loss: 6.5608 - mean_absolute_error: 6.5596 - val_loss: 16.0347 - val_mean_absolute_error: 15.4257\n",
      "Epoch 62/100\n",
      "45/45 [==============================] - 0s 8ms/step - loss: 6.5783 - mean_absolute_error: 6.5661 - val_loss: 16.5781 - val_mean_absolute_error: 15.7907\n",
      "Epoch 63/100\n",
      "45/45 [==============================] - 0s 7ms/step - loss: 6.4430 - mean_absolute_error: 6.4364 - val_loss: 16.0032 - val_mean_absolute_error: 15.3429\n",
      "Epoch 64/100\n",
      "45/45 [==============================] - 0s 7ms/step - loss: 6.1121 - mean_absolute_error: 6.1097 - val_loss: 15.8588 - val_mean_absolute_error: 15.2605\n",
      "Epoch 65/100\n",
      "45/45 [==============================] - 0s 7ms/step - loss: 6.0946 - mean_absolute_error: 6.0814 - val_loss: 16.4840 - val_mean_absolute_error: 15.7492\n",
      "Epoch 66/100\n",
      "45/45 [==============================] - 0s 7ms/step - loss: 6.0330 - mean_absolute_error: 6.0163 - val_loss: 15.8746 - val_mean_absolute_error: 15.3426\n",
      "Epoch 67/100\n",
      "45/45 [==============================] - 0s 7ms/step - loss: 6.3060 - mean_absolute_error: 6.3093 - val_loss: 15.4906 - val_mean_absolute_error: 14.9092\n",
      "Epoch 68/100\n",
      "45/45 [==============================] - 0s 7ms/step - loss: 6.1665 - mean_absolute_error: 6.2064 - val_loss: 16.4917 - val_mean_absolute_error: 15.7770\n",
      "Epoch 69/100\n",
      "45/45 [==============================] - 0s 7ms/step - loss: 5.8709 - mean_absolute_error: 5.8585 - val_loss: 15.5798 - val_mean_absolute_error: 14.9940\n",
      "Epoch 70/100\n",
      "45/45 [==============================] - 0s 8ms/step - loss: 5.7177 - mean_absolute_error: 5.7198 - val_loss: 16.5351 - val_mean_absolute_error: 15.8121\n",
      "Epoch 71/100\n",
      "45/45 [==============================] - 0s 8ms/step - loss: 6.1468 - mean_absolute_error: 6.1337 - val_loss: 16.2785 - val_mean_absolute_error: 15.5125\n",
      "Epoch 72/100\n",
      "45/45 [==============================] - 0s 7ms/step - loss: 5.7721 - mean_absolute_error: 5.7737 - val_loss: 16.1740 - val_mean_absolute_error: 15.6525\n",
      "Epoch 73/100\n",
      "45/45 [==============================] - 0s 7ms/step - loss: 5.9714 - mean_absolute_error: 5.9842 - val_loss: 16.3440 - val_mean_absolute_error: 15.6582\n",
      "Epoch 74/100\n",
      "45/45 [==============================] - 0s 7ms/step - loss: 6.0999 - mean_absolute_error: 6.0857 - val_loss: 16.6431 - val_mean_absolute_error: 15.8972\n",
      "Epoch 75/100\n",
      "45/45 [==============================] - 0s 7ms/step - loss: 6.2659 - mean_absolute_error: 6.2456 - val_loss: 16.2298 - val_mean_absolute_error: 15.5032\n",
      "Epoch 76/100\n",
      "45/45 [==============================] - 0s 7ms/step - loss: 6.1774 - mean_absolute_error: 6.1783 - val_loss: 15.9120 - val_mean_absolute_error: 15.3543\n",
      "Epoch 77/100\n",
      "45/45 [==============================] - 0s 7ms/step - loss: 6.1679 - mean_absolute_error: 6.1672 - val_loss: 16.2670 - val_mean_absolute_error: 15.5233\n",
      "Epoch 78/100\n",
      "45/45 [==============================] - 0s 7ms/step - loss: 6.0665 - mean_absolute_error: 6.0656 - val_loss: 17.1111 - val_mean_absolute_error: 16.3215\n",
      "Epoch 79/100\n",
      "45/45 [==============================] - 0s 7ms/step - loss: 5.8990 - mean_absolute_error: 5.9048 - val_loss: 15.9854 - val_mean_absolute_error: 15.4161\n",
      "Epoch 80/100\n",
      "45/45 [==============================] - 0s 7ms/step - loss: 5.6862 - mean_absolute_error: 5.6833 - val_loss: 16.5536 - val_mean_absolute_error: 15.7836\n",
      "Epoch 81/100\n",
      "45/45 [==============================] - 0s 7ms/step - loss: 5.6304 - mean_absolute_error: 5.6063 - val_loss: 16.3721 - val_mean_absolute_error: 15.7329\n",
      "Epoch 82/100\n",
      "45/45 [==============================] - 0s 7ms/step - loss: 5.3876 - mean_absolute_error: 5.3739 - val_loss: 16.1804 - val_mean_absolute_error: 15.5929\n",
      "Epoch 83/100\n",
      "45/45 [==============================] - 0s 7ms/step - loss: 5.5090 - mean_absolute_error: 5.4916 - val_loss: 16.6027 - val_mean_absolute_error: 15.9110\n",
      "Epoch 84/100\n",
      "45/45 [==============================] - 0s 7ms/step - loss: 5.5720 - mean_absolute_error: 5.5616 - val_loss: 16.7344 - val_mean_absolute_error: 15.9828\n",
      "Epoch 85/100\n",
      "45/45 [==============================] - 0s 7ms/step - loss: 5.7035 - mean_absolute_error: 5.6878 - val_loss: 16.5854 - val_mean_absolute_error: 15.7955\n",
      "Epoch 86/100\n",
      "45/45 [==============================] - 0s 8ms/step - loss: 5.9325 - mean_absolute_error: 5.9183 - val_loss: 16.2391 - val_mean_absolute_error: 15.5508\n",
      "Epoch 87/100\n",
      "45/45 [==============================] - 0s 8ms/step - loss: 5.6645 - mean_absolute_error: 5.6671 - val_loss: 15.9597 - val_mean_absolute_error: 15.2880\n",
      "Epoch 88/100\n",
      "45/45 [==============================] - 0s 7ms/step - loss: 5.4401 - mean_absolute_error: 5.4403 - val_loss: 15.8478 - val_mean_absolute_error: 15.2357\n",
      "Epoch 89/100\n",
      "45/45 [==============================] - 0s 7ms/step - loss: 5.3372 - mean_absolute_error: 5.3368 - val_loss: 16.5938 - val_mean_absolute_error: 15.8267\n",
      "Epoch 90/100\n",
      "45/45 [==============================] - 0s 7ms/step - loss: 5.4599 - mean_absolute_error: 5.4531 - val_loss: 16.7741 - val_mean_absolute_error: 15.9753\n",
      "Epoch 91/100\n",
      "45/45 [==============================] - 0s 7ms/step - loss: 5.2427 - mean_absolute_error: 5.2272 - val_loss: 16.4953 - val_mean_absolute_error: 15.7500\n",
      "Epoch 92/100\n",
      "45/45 [==============================] - 0s 7ms/step - loss: 5.4432 - mean_absolute_error: 5.4308 - val_loss: 15.7166 - val_mean_absolute_error: 15.1973\n",
      "Epoch 93/100\n",
      "45/45 [==============================] - 0s 7ms/step - loss: 5.7662 - mean_absolute_error: 5.7532 - val_loss: 16.7393 - val_mean_absolute_error: 15.9775\n",
      "Epoch 94/100\n",
      "45/45 [==============================] - 0s 8ms/step - loss: 5.5135 - mean_absolute_error: 5.4963 - val_loss: 16.0815 - val_mean_absolute_error: 15.5170\n",
      "Epoch 95/100\n",
      "45/45 [==============================] - 0s 8ms/step - loss: 5.4393 - mean_absolute_error: 5.4478 - val_loss: 16.7425 - val_mean_absolute_error: 15.9440\n",
      "Epoch 96/100\n",
      "45/45 [==============================] - 0s 7ms/step - loss: 5.3593 - mean_absolute_error: 5.3610 - val_loss: 16.2358 - val_mean_absolute_error: 15.6019\n",
      "Epoch 97/100\n",
      "45/45 [==============================] - 0s 7ms/step - loss: 5.2117 - mean_absolute_error: 5.1932 - val_loss: 16.2436 - val_mean_absolute_error: 15.5522\n",
      "Epoch 98/100\n",
      "45/45 [==============================] - 0s 7ms/step - loss: 5.5123 - mean_absolute_error: 5.5053 - val_loss: 16.4767 - val_mean_absolute_error: 15.7224\n",
      "Epoch 99/100\n",
      "45/45 [==============================] - 0s 7ms/step - loss: 5.0681 - mean_absolute_error: 5.0707 - val_loss: 15.9028 - val_mean_absolute_error: 15.3212\n",
      "Epoch 100/100\n"
     ]
    },
    {
     "name": "stdout",
     "output_type": "stream",
     "text": [
      "45/45 [==============================] - 0s 7ms/step - loss: 5.0464 - mean_absolute_error: 5.0422 - val_loss: 16.6596 - val_mean_absolute_error: 15.9214\n"
     ]
    }
   ],
   "source": [
    "learning_rate = 0.01\n",
    "\n",
    "model3 = Sequential([\n",
    "    Dense(160, kernel_initializer='normal', activation='relu'),\n",
    "    Dense(160, kernel_initializer='normal', activation='relu'),\n",
    "    Dropout(0.2),\n",
    "    Dense(480, kernel_initializer='normal', activation='relu'),\n",
    "    Dense(480, kernel_initializer='normal', activation='relu'),\n",
    "    Dropout(0.2),\n",
    "    Dense(256, kernel_initializer='normal', activation='relu'),\n",
    "    Dense(1, kernel_initializer='normal', activation='linear')\n",
    "  ])\n",
    "\n",
    "model3.compile(loss=mae_k, optimizer=Adam(learning_rate=learning_rate), metrics=[mae_k])\n",
    "model_3 = model3.fit(X_train_ct, y_train, epochs=100, batch_size=64, validation_split=0.2)"
   ]
  },
  {
   "cell_type": "code",
   "execution_count": 20,
   "id": "413aaf54",
   "metadata": {},
   "outputs": [
    {
     "name": "stdout",
     "output_type": "stream",
     "text": [
      " 93/112 [=======================>......] - ETA: 0s"
     ]
    },
    {
     "name": "stderr",
     "output_type": "stream",
     "text": [
      "2023-04-10 16:11:37.671032: I tensorflow/core/grappler/optimizers/custom_graph_optimizer_registry.cc:113] Plugin optimizer for device_type GPU is enabled.\n"
     ]
    },
    {
     "name": "stdout",
     "output_type": "stream",
     "text": [
      "112/112 [==============================] - 0s 2ms/step\n",
      "48/48 [==============================] - 0s 2ms/step\n",
      "number of features: 244\n",
      "rmse: (train) 34.269, (test) 33.998\n",
      "mae: (train) 11.607, (test) 16.523\n",
      "explained variance: (train cv) 0.718, (test) 0.585\n"
     ]
    }
   ],
   "source": [
    "y_train_pred = model3.predict(X_train_ct)\n",
    "y_test_pred = model3.predict(X_test_ct)\n",
    "\n",
    "rmse_train = np.sqrt(mean_squared_error(y_train, y_train_pred))\n",
    "rmse_test = np.sqrt(mean_squared_error(y_test, y_test_pred))\n",
    "\n",
    "mae_train = mean_absolute_error(y_train, y_train_pred)\n",
    "mae_test = mean_absolute_error(y_test, y_test_pred)\n",
    "\n",
    "ev_train = explained_variance_score(y_train, y_train_pred)\n",
    "ev_test = explained_variance_score(y_test, y_test_pred)\n",
    "\n",
    "print(\"number of features:\",len(X_train.columns))\n",
    "print(\"rmse: (train) %.3f, (test) %.3f\"%(rmse_train, rmse_test))\n",
    "print(\"mae: (train) %.3f, (test) %.3f\"%(mae_train, mae_test))\n",
    "print(\"explained variance: (train cv) %.3f, (test) %.3f\"%(ev_train, ev_test))"
   ]
  },
  {
   "cell_type": "markdown",
   "id": "5a9f8dbc",
   "metadata": {},
   "source": [
    "## Model 4 - Neural Network, 10 Hidden Layers¶"
   ]
  },
  {
   "cell_type": "code",
   "execution_count": 21,
   "id": "aae2f5f6",
   "metadata": {},
   "outputs": [
    {
     "name": "stdout",
     "output_type": "stream",
     "text": [
      "Epoch 1/100\n",
      " 1/45 [..............................] - ETA: 21s - loss: 44.1177 - mean_absolute_error: 44.1177"
     ]
    },
    {
     "name": "stderr",
     "output_type": "stream",
     "text": [
      "2023-04-10 16:11:38.340763: I tensorflow/core/grappler/optimizers/custom_graph_optimizer_registry.cc:113] Plugin optimizer for device_type GPU is enabled.\n"
     ]
    },
    {
     "name": "stdout",
     "output_type": "stream",
     "text": [
      "45/45 [==============================] - 1s 15ms/step - loss: 64.1042 - mean_absolute_error: 63.8991 - val_loss: 27.1129 - val_mean_absolute_error: 26.7316\n",
      "Epoch 2/100\n",
      " 7/45 [===>..........................] - ETA: 0s - loss: 24.6603 - mean_absolute_error: 24.6603"
     ]
    },
    {
     "name": "stderr",
     "output_type": "stream",
     "text": [
      "2023-04-10 16:11:39.042578: I tensorflow/core/grappler/optimizers/custom_graph_optimizer_registry.cc:113] Plugin optimizer for device_type GPU is enabled.\n"
     ]
    },
    {
     "name": "stdout",
     "output_type": "stream",
     "text": [
      "45/45 [==============================] - 0s 10ms/step - loss: 23.2094 - mean_absolute_error: 23.1694 - val_loss: 21.5768 - val_mean_absolute_error: 20.7281\n",
      "Epoch 3/100\n",
      "45/45 [==============================] - 0s 10ms/step - loss: 19.3235 - mean_absolute_error: 19.3042 - val_loss: 21.3415 - val_mean_absolute_error: 20.2628\n",
      "Epoch 4/100\n",
      "45/45 [==============================] - 0s 10ms/step - loss: 19.7458 - mean_absolute_error: 19.6888 - val_loss: 20.3073 - val_mean_absolute_error: 19.3858\n",
      "Epoch 5/100\n",
      "45/45 [==============================] - 0s 10ms/step - loss: 17.8513 - mean_absolute_error: 17.8440 - val_loss: 18.8925 - val_mean_absolute_error: 18.1976\n",
      "Epoch 6/100\n",
      "45/45 [==============================] - 0s 10ms/step - loss: 17.4149 - mean_absolute_error: 17.3956 - val_loss: 18.1149 - val_mean_absolute_error: 17.5754\n",
      "Epoch 7/100\n",
      "45/45 [==============================] - 0s 10ms/step - loss: 17.7369 - mean_absolute_error: 17.7572 - val_loss: 20.4607 - val_mean_absolute_error: 19.8064\n",
      "Epoch 8/100\n",
      "45/45 [==============================] - 0s 10ms/step - loss: 18.1192 - mean_absolute_error: 18.2017 - val_loss: 18.5854 - val_mean_absolute_error: 18.3782\n",
      "Epoch 9/100\n",
      "45/45 [==============================] - 0s 10ms/step - loss: 16.8589 - mean_absolute_error: 16.8128 - val_loss: 18.4529 - val_mean_absolute_error: 17.6754\n",
      "Epoch 10/100\n",
      "45/45 [==============================] - 0s 10ms/step - loss: 16.4722 - mean_absolute_error: 16.4556 - val_loss: 18.9961 - val_mean_absolute_error: 18.3664\n",
      "Epoch 11/100\n",
      "45/45 [==============================] - 0s 10ms/step - loss: 15.8596 - mean_absolute_error: 15.8316 - val_loss: 17.6582 - val_mean_absolute_error: 17.0699\n",
      "Epoch 12/100\n",
      "45/45 [==============================] - 0s 10ms/step - loss: 15.4958 - mean_absolute_error: 15.4917 - val_loss: 17.5105 - val_mean_absolute_error: 16.8520\n",
      "Epoch 13/100\n",
      "45/45 [==============================] - 0s 10ms/step - loss: 15.5322 - mean_absolute_error: 15.5039 - val_loss: 17.6940 - val_mean_absolute_error: 16.9720\n",
      "Epoch 14/100\n",
      "45/45 [==============================] - 0s 11ms/step - loss: 14.5811 - mean_absolute_error: 14.5374 - val_loss: 18.3439 - val_mean_absolute_error: 17.5377\n",
      "Epoch 15/100\n",
      "45/45 [==============================] - 0s 10ms/step - loss: 14.4916 - mean_absolute_error: 14.4654 - val_loss: 17.1145 - val_mean_absolute_error: 16.2994\n",
      "Epoch 16/100\n",
      "45/45 [==============================] - 0s 10ms/step - loss: 14.2252 - mean_absolute_error: 14.2138 - val_loss: 17.4667 - val_mean_absolute_error: 16.8666\n",
      "Epoch 17/100\n",
      "45/45 [==============================] - 0s 10ms/step - loss: 14.1790 - mean_absolute_error: 14.1512 - val_loss: 19.2336 - val_mean_absolute_error: 18.4489\n",
      "Epoch 18/100\n",
      "45/45 [==============================] - 0s 11ms/step - loss: 13.8742 - mean_absolute_error: 13.8945 - val_loss: 17.2004 - val_mean_absolute_error: 16.4690\n",
      "Epoch 19/100\n",
      "45/45 [==============================] - 0s 10ms/step - loss: 13.8805 - mean_absolute_error: 13.8598 - val_loss: 16.5202 - val_mean_absolute_error: 15.8963\n",
      "Epoch 20/100\n",
      "45/45 [==============================] - 0s 10ms/step - loss: 12.6948 - mean_absolute_error: 12.6864 - val_loss: 16.6231 - val_mean_absolute_error: 16.2280\n",
      "Epoch 21/100\n",
      "45/45 [==============================] - 0s 10ms/step - loss: 12.6453 - mean_absolute_error: 12.6278 - val_loss: 16.3800 - val_mean_absolute_error: 15.8100\n",
      "Epoch 22/100\n",
      "45/45 [==============================] - 0s 10ms/step - loss: 12.2551 - mean_absolute_error: 12.2571 - val_loss: 16.5393 - val_mean_absolute_error: 16.0924\n",
      "Epoch 23/100\n",
      "45/45 [==============================] - 0s 10ms/step - loss: 12.6941 - mean_absolute_error: 12.6824 - val_loss: 16.5574 - val_mean_absolute_error: 15.9142\n",
      "Epoch 24/100\n",
      "45/45 [==============================] - 0s 10ms/step - loss: 13.2768 - mean_absolute_error: 13.3835 - val_loss: 21.4571 - val_mean_absolute_error: 20.5195\n",
      "Epoch 25/100\n",
      "45/45 [==============================] - 0s 10ms/step - loss: 13.4777 - mean_absolute_error: 13.4370 - val_loss: 19.7625 - val_mean_absolute_error: 18.8549\n",
      "Epoch 26/100\n",
      "45/45 [==============================] - 0s 10ms/step - loss: 12.7082 - mean_absolute_error: 12.6736 - val_loss: 16.5132 - val_mean_absolute_error: 15.8420\n",
      "Epoch 27/100\n",
      "45/45 [==============================] - 0s 10ms/step - loss: 14.3753 - mean_absolute_error: 14.3234 - val_loss: 19.5894 - val_mean_absolute_error: 18.6783\n",
      "Epoch 28/100\n",
      "45/45 [==============================] - 0s 10ms/step - loss: 13.0382 - mean_absolute_error: 13.0101 - val_loss: 16.9843 - val_mean_absolute_error: 16.2721\n",
      "Epoch 29/100\n",
      "45/45 [==============================] - 0s 9ms/step - loss: 11.2610 - mean_absolute_error: 11.2678 - val_loss: 16.0603 - val_mean_absolute_error: 15.3993\n",
      "Epoch 30/100\n",
      "45/45 [==============================] - 0s 9ms/step - loss: 10.9711 - mean_absolute_error: 10.9501 - val_loss: 16.5455 - val_mean_absolute_error: 15.7523\n",
      "Epoch 31/100\n",
      "45/45 [==============================] - 0s 10ms/step - loss: 11.6059 - mean_absolute_error: 11.6242 - val_loss: 16.3154 - val_mean_absolute_error: 15.6070\n",
      "Epoch 32/100\n",
      "45/45 [==============================] - 0s 10ms/step - loss: 11.0367 - mean_absolute_error: 11.0130 - val_loss: 17.3822 - val_mean_absolute_error: 16.4311\n",
      "Epoch 33/100\n",
      "45/45 [==============================] - 0s 10ms/step - loss: 11.9739 - mean_absolute_error: 11.9507 - val_loss: 17.4427 - val_mean_absolute_error: 16.8781\n",
      "Epoch 34/100\n",
      "45/45 [==============================] - 0s 11ms/step - loss: 12.9189 - mean_absolute_error: 12.9105 - val_loss: 16.7648 - val_mean_absolute_error: 16.5846\n",
      "Epoch 35/100\n",
      "45/45 [==============================] - 0s 10ms/step - loss: 11.3738 - mean_absolute_error: 11.3559 - val_loss: 16.7534 - val_mean_absolute_error: 16.2370\n",
      "Epoch 36/100\n",
      "45/45 [==============================] - 0s 10ms/step - loss: 11.5438 - mean_absolute_error: 11.5315 - val_loss: 16.2706 - val_mean_absolute_error: 15.6699\n",
      "Epoch 37/100\n",
      "45/45 [==============================] - 0s 10ms/step - loss: 11.2523 - mean_absolute_error: 11.2362 - val_loss: 17.2829 - val_mean_absolute_error: 16.5658\n",
      "Epoch 38/100\n",
      "45/45 [==============================] - 0s 10ms/step - loss: 11.9314 - mean_absolute_error: 11.9219 - val_loss: 16.7346 - val_mean_absolute_error: 15.9740\n",
      "Epoch 39/100\n",
      "45/45 [==============================] - 0s 11ms/step - loss: 11.5359 - mean_absolute_error: 11.4918 - val_loss: 15.8822 - val_mean_absolute_error: 15.7068\n",
      "Epoch 40/100\n",
      "45/45 [==============================] - 0s 11ms/step - loss: 10.3580 - mean_absolute_error: 10.4002 - val_loss: 18.5087 - val_mean_absolute_error: 17.5421\n",
      "Epoch 41/100\n",
      "45/45 [==============================] - 0s 10ms/step - loss: 10.5817 - mean_absolute_error: 10.5636 - val_loss: 15.8252 - val_mean_absolute_error: 15.7146\n",
      "Epoch 42/100\n",
      "45/45 [==============================] - 0s 10ms/step - loss: 11.3857 - mean_absolute_error: 11.3776 - val_loss: 15.8120 - val_mean_absolute_error: 15.3426\n",
      "Epoch 43/100\n",
      "45/45 [==============================] - 0s 10ms/step - loss: 11.4167 - mean_absolute_error: 11.4004 - val_loss: 16.6854 - val_mean_absolute_error: 15.9626\n",
      "Epoch 44/100\n",
      "45/45 [==============================] - 0s 10ms/step - loss: 11.1836 - mean_absolute_error: 11.1552 - val_loss: 16.9362 - val_mean_absolute_error: 16.1449\n",
      "Epoch 45/100\n",
      "45/45 [==============================] - 0s 10ms/step - loss: 11.1754 - mean_absolute_error: 11.1825 - val_loss: 16.2040 - val_mean_absolute_error: 15.5157\n",
      "Epoch 46/100\n",
      "45/45 [==============================] - 0s 10ms/step - loss: 11.1852 - mean_absolute_error: 11.1839 - val_loss: 16.4083 - val_mean_absolute_error: 15.7303\n",
      "Epoch 47/100\n",
      "45/45 [==============================] - 0s 11ms/step - loss: 11.1450 - mean_absolute_error: 11.1413 - val_loss: 17.7507 - val_mean_absolute_error: 17.0056\n",
      "Epoch 48/100\n",
      "45/45 [==============================] - 0s 10ms/step - loss: 12.1595 - mean_absolute_error: 12.2252 - val_loss: 16.1716 - val_mean_absolute_error: 16.1444\n",
      "Epoch 49/100\n",
      "45/45 [==============================] - 0s 10ms/step - loss: 11.1362 - mean_absolute_error: 11.1028 - val_loss: 16.5130 - val_mean_absolute_error: 16.1017\n",
      "Epoch 50/100\n",
      "45/45 [==============================] - 0s 10ms/step - loss: 10.6961 - mean_absolute_error: 10.6923 - val_loss: 17.3347 - val_mean_absolute_error: 16.6898\n",
      "Epoch 51/100\n",
      "45/45 [==============================] - 0s 10ms/step - loss: 11.8531 - mean_absolute_error: 11.8379 - val_loss: 16.5901 - val_mean_absolute_error: 15.9450\n",
      "Epoch 52/100\n",
      "45/45 [==============================] - 0s 10ms/step - loss: 10.6882 - mean_absolute_error: 10.6897 - val_loss: 16.6898 - val_mean_absolute_error: 16.0104\n",
      "Epoch 53/100\n",
      "45/45 [==============================] - 0s 10ms/step - loss: 10.6270 - mean_absolute_error: 10.6325 - val_loss: 16.2335 - val_mean_absolute_error: 15.5884\n",
      "Epoch 54/100\n",
      "45/45 [==============================] - 1s 11ms/step - loss: 11.0698 - mean_absolute_error: 11.0484 - val_loss: 15.9877 - val_mean_absolute_error: 15.7483\n",
      "Epoch 55/100\n",
      "45/45 [==============================] - 0s 11ms/step - loss: 9.9849 - mean_absolute_error: 10.1934 - val_loss: 15.6501 - val_mean_absolute_error: 15.2151\n",
      "Epoch 56/100\n",
      "45/45 [==============================] - 1s 11ms/step - loss: 10.2169 - mean_absolute_error: 10.2193 - val_loss: 17.0951 - val_mean_absolute_error: 16.2414\n",
      "Epoch 57/100\n",
      "45/45 [==============================] - 0s 10ms/step - loss: 9.5432 - mean_absolute_error: 9.5507 - val_loss: 15.8444 - val_mean_absolute_error: 15.1403\n",
      "Epoch 58/100\n",
      "45/45 [==============================] - 0s 10ms/step - loss: 9.8754 - mean_absolute_error: 9.8453 - val_loss: 16.0257 - val_mean_absolute_error: 15.4509\n",
      "Epoch 59/100\n",
      "45/45 [==============================] - 0s 10ms/step - loss: 9.5250 - mean_absolute_error: 9.5349 - val_loss: 16.8156 - val_mean_absolute_error: 16.0516\n",
      "Epoch 60/100\n",
      "45/45 [==============================] - 0s 10ms/step - loss: 9.3119 - mean_absolute_error: 9.3025 - val_loss: 16.5041 - val_mean_absolute_error: 15.8242\n",
      "Epoch 61/100\n",
      "45/45 [==============================] - 0s 10ms/step - loss: 8.9461 - mean_absolute_error: 8.9526 - val_loss: 16.0311 - val_mean_absolute_error: 15.3547\n",
      "Epoch 62/100\n",
      "45/45 [==============================] - 0s 10ms/step - loss: 8.7099 - mean_absolute_error: 8.7149 - val_loss: 16.6978 - val_mean_absolute_error: 15.9152\n",
      "Epoch 63/100\n",
      "45/45 [==============================] - 0s 10ms/step - loss: 10.1221 - mean_absolute_error: 10.1156 - val_loss: 15.8517 - val_mean_absolute_error: 15.1991\n",
      "Epoch 64/100\n",
      "45/45 [==============================] - 0s 10ms/step - loss: 11.1093 - mean_absolute_error: 11.0722 - val_loss: 17.0010 - val_mean_absolute_error: 16.2144\n",
      "Epoch 65/100\n",
      "45/45 [==============================] - 0s 10ms/step - loss: 9.0220 - mean_absolute_error: 9.0344 - val_loss: 17.1411 - val_mean_absolute_error: 16.4362\n",
      "Epoch 66/100\n",
      "45/45 [==============================] - 0s 10ms/step - loss: 9.1685 - mean_absolute_error: 9.1589 - val_loss: 16.8124 - val_mean_absolute_error: 16.2189\n",
      "Epoch 67/100\n",
      "45/45 [==============================] - 0s 10ms/step - loss: 9.5721 - mean_absolute_error: 9.5861 - val_loss: 16.7397 - val_mean_absolute_error: 15.9346\n",
      "Epoch 68/100\n",
      "45/45 [==============================] - 0s 10ms/step - loss: 8.8065 - mean_absolute_error: 8.7951 - val_loss: 16.5506 - val_mean_absolute_error: 15.7606\n",
      "Epoch 69/100\n",
      "45/45 [==============================] - 0s 10ms/step - loss: 8.5111 - mean_absolute_error: 8.5176 - val_loss: 16.2553 - val_mean_absolute_error: 15.4757\n",
      "Epoch 70/100\n",
      "45/45 [==============================] - 0s 10ms/step - loss: 8.5719 - mean_absolute_error: 8.5621 - val_loss: 15.9247 - val_mean_absolute_error: 15.1879\n",
      "Epoch 71/100\n",
      "45/45 [==============================] - 0s 10ms/step - loss: 8.0968 - mean_absolute_error: 8.0992 - val_loss: 17.8996 - val_mean_absolute_error: 17.0483\n",
      "Epoch 72/100\n",
      "45/45 [==============================] - 0s 10ms/step - loss: 9.0313 - mean_absolute_error: 9.0005 - val_loss: 17.7412 - val_mean_absolute_error: 16.8938\n",
      "Epoch 73/100\n",
      "45/45 [==============================] - 0s 10ms/step - loss: 9.5575 - mean_absolute_error: 9.5454 - val_loss: 17.6849 - val_mean_absolute_error: 16.9030\n",
      "Epoch 74/100\n",
      "45/45 [==============================] - 0s 10ms/step - loss: 9.8099 - mean_absolute_error: 9.8197 - val_loss: 16.3286 - val_mean_absolute_error: 15.6067\n",
      "Epoch 75/100\n",
      "45/45 [==============================] - 0s 10ms/step - loss: 9.4871 - mean_absolute_error: 9.4656 - val_loss: 16.2280 - val_mean_absolute_error: 15.5795\n",
      "Epoch 76/100\n",
      "45/45 [==============================] - 0s 10ms/step - loss: 9.0609 - mean_absolute_error: 9.0571 - val_loss: 16.3705 - val_mean_absolute_error: 15.7273\n",
      "Epoch 77/100\n",
      "45/45 [==============================] - 0s 10ms/step - loss: 9.5170 - mean_absolute_error: 9.4963 - val_loss: 15.7363 - val_mean_absolute_error: 15.2730\n",
      "Epoch 78/100\n",
      "45/45 [==============================] - 0s 10ms/step - loss: 8.9486 - mean_absolute_error: 8.9185 - val_loss: 16.4229 - val_mean_absolute_error: 15.7047\n",
      "Epoch 79/100\n",
      "45/45 [==============================] - 0s 11ms/step - loss: 10.7420 - mean_absolute_error: 10.7311 - val_loss: 16.6696 - val_mean_absolute_error: 15.9821\n",
      "Epoch 80/100\n",
      "45/45 [==============================] - 0s 10ms/step - loss: 10.0576 - mean_absolute_error: 10.0508 - val_loss: 16.8040 - val_mean_absolute_error: 15.9795\n",
      "Epoch 81/100\n",
      "45/45 [==============================] - 0s 10ms/step - loss: 8.7616 - mean_absolute_error: 8.7630 - val_loss: 16.7423 - val_mean_absolute_error: 15.9081\n",
      "Epoch 82/100\n",
      "45/45 [==============================] - 0s 10ms/step - loss: 8.8996 - mean_absolute_error: 8.9093 - val_loss: 17.9077 - val_mean_absolute_error: 17.0239\n",
      "Epoch 83/100\n",
      "45/45 [==============================] - 0s 10ms/step - loss: 9.0440 - mean_absolute_error: 9.0365 - val_loss: 18.1053 - val_mean_absolute_error: 17.6620\n",
      "Epoch 84/100\n",
      "45/45 [==============================] - 0s 10ms/step - loss: 11.1514 - mean_absolute_error: 11.1289 - val_loss: 17.7069 - val_mean_absolute_error: 16.9492\n",
      "Epoch 85/100\n",
      "45/45 [==============================] - 0s 10ms/step - loss: 9.2646 - mean_absolute_error: 9.2627 - val_loss: 16.2273 - val_mean_absolute_error: 15.5084\n",
      "Epoch 86/100\n",
      "45/45 [==============================] - 0s 10ms/step - loss: 9.1445 - mean_absolute_error: 9.1435 - val_loss: 16.9986 - val_mean_absolute_error: 16.2003\n",
      "Epoch 87/100\n",
      "45/45 [==============================] - 0s 10ms/step - loss: 8.8232 - mean_absolute_error: 8.8263 - val_loss: 17.1951 - val_mean_absolute_error: 16.4202\n",
      "Epoch 88/100\n",
      "45/45 [==============================] - 0s 10ms/step - loss: 9.1027 - mean_absolute_error: 9.0944 - val_loss: 17.5789 - val_mean_absolute_error: 16.6749\n",
      "Epoch 89/100\n",
      "45/45 [==============================] - 0s 10ms/step - loss: 8.7702 - mean_absolute_error: 8.7559 - val_loss: 17.2167 - val_mean_absolute_error: 16.2582\n",
      "Epoch 90/100\n",
      "45/45 [==============================] - 0s 10ms/step - loss: 8.4640 - mean_absolute_error: 8.4408 - val_loss: 16.4407 - val_mean_absolute_error: 15.7602\n",
      "Epoch 91/100\n",
      "45/45 [==============================] - 0s 10ms/step - loss: 8.0426 - mean_absolute_error: 8.0336 - val_loss: 16.7381 - val_mean_absolute_error: 15.9296\n",
      "Epoch 92/100\n",
      "45/45 [==============================] - 0s 10ms/step - loss: 8.1841 - mean_absolute_error: 8.1711 - val_loss: 16.8886 - val_mean_absolute_error: 16.1127\n",
      "Epoch 93/100\n",
      "45/45 [==============================] - 0s 10ms/step - loss: 7.9293 - mean_absolute_error: 7.9227 - val_loss: 15.9830 - val_mean_absolute_error: 15.4590\n",
      "Epoch 94/100\n",
      "45/45 [==============================] - 0s 10ms/step - loss: 8.0789 - mean_absolute_error: 8.0679 - val_loss: 16.4319 - val_mean_absolute_error: 15.7624\n",
      "Epoch 95/100\n",
      "45/45 [==============================] - 0s 10ms/step - loss: 7.7196 - mean_absolute_error: 7.6994 - val_loss: 16.2435 - val_mean_absolute_error: 15.7083\n",
      "Epoch 96/100\n",
      "45/45 [==============================] - 0s 10ms/step - loss: 8.0140 - mean_absolute_error: 8.0170 - val_loss: 17.2643 - val_mean_absolute_error: 16.6055\n",
      "Epoch 97/100\n",
      "45/45 [==============================] - 0s 10ms/step - loss: 9.3887 - mean_absolute_error: 9.3856 - val_loss: 16.7245 - val_mean_absolute_error: 16.0012\n",
      "Epoch 98/100\n",
      "45/45 [==============================] - 0s 10ms/step - loss: 8.3902 - mean_absolute_error: 8.3826 - val_loss: 17.0953 - val_mean_absolute_error: 16.3621\n"
     ]
    },
    {
     "name": "stdout",
     "output_type": "stream",
     "text": [
      "Epoch 99/100\n",
      "45/45 [==============================] - 0s 10ms/step - loss: 7.8727 - mean_absolute_error: 7.8523 - val_loss: 16.8820 - val_mean_absolute_error: 16.0898\n",
      "Epoch 100/100\n",
      "45/45 [==============================] - 0s 10ms/step - loss: 8.0550 - mean_absolute_error: 8.0422 - val_loss: 17.0442 - val_mean_absolute_error: 16.2198\n"
     ]
    }
   ],
   "source": [
    "learning_rate = 0.01\n",
    "\n",
    "model4 = Sequential([\n",
    "    Dense(160, kernel_initializer='normal', activation='relu'),\n",
    "    Dense(160, kernel_initializer='normal', activation='relu'),\n",
    "    Dropout(0.2),\n",
    "    Dense(480, kernel_initializer='normal', activation='relu'),\n",
    "    Dense(480, kernel_initializer='normal', activation='relu'),\n",
    "    Dropout(0.2),\n",
    "    Dense(520, kernel_initializer='normal', activation='relu'),\n",
    "    Dense(520, kernel_initializer='normal', activation='relu'),\n",
    "    Dense(760, kernel_initializer='normal', activation='relu'),\n",
    "    Dense(760, kernel_initializer='normal', activation='relu'),\n",
    "    Dense(760, kernel_initializer='normal', activation='relu'),\n",
    "    Dense(256, kernel_initializer='normal', activation='relu'),\n",
    "    Dense(256, kernel_initializer='normal', activation='relu'),\n",
    "    Dense(1, kernel_initializer='normal', activation='linear')\n",
    "  ])\n",
    "\n",
    "model4.compile(loss=mae_k, optimizer=Adam(learning_rate=learning_rate), metrics=[mae_k])\n",
    "\n",
    "model_4 = model4.fit(X_train_ct, y_train, epochs=100, batch_size=64, validation_split=0.2)"
   ]
  },
  {
   "cell_type": "code",
   "execution_count": 22,
   "id": "77362740",
   "metadata": {},
   "outputs": [
    {
     "name": "stdout",
     "output_type": "stream",
     "text": [
      " 71/112 [==================>...........] - ETA: 0s"
     ]
    },
    {
     "name": "stderr",
     "output_type": "stream",
     "text": [
      "2023-04-10 16:12:24.130019: I tensorflow/core/grappler/optimizers/custom_graph_optimizer_registry.cc:113] Plugin optimizer for device_type GPU is enabled.\n"
     ]
    },
    {
     "name": "stdout",
     "output_type": "stream",
     "text": [
      "112/112 [==============================] - 0s 2ms/step\n",
      "48/48 [==============================] - 0s 3ms/step\n",
      "number of features: 244\n",
      "rmse: (train) 40.630, (test) 35.419\n",
      "mae: (train) 13.234, (test) 16.782\n",
      "explained variance: (train cv) 0.601, (test) 0.561\n"
     ]
    }
   ],
   "source": [
    "y_train_pred = model4.predict(X_train_ct)\n",
    "y_test_pred = model4.predict(X_test_ct)\n",
    "\n",
    "rmse_train = np.sqrt(mean_squared_error(y_train, y_train_pred))\n",
    "rmse_test = np.sqrt(mean_squared_error(y_test, y_test_pred))\n",
    "\n",
    "mae_train = mean_absolute_error(y_train, y_train_pred)\n",
    "mae_test = mean_absolute_error(y_test, y_test_pred)\n",
    "\n",
    "ev_train = explained_variance_score(y_train, y_train_pred)\n",
    "ev_test = explained_variance_score(y_test, y_test_pred)\n",
    "\n",
    "print(\"number of features:\",len(X_train.columns))\n",
    "print(\"rmse: (train) %.3f, (test) %.3f\"%(rmse_train, rmse_test))\n",
    "print(\"mae: (train) %.3f, (test) %.3f\"%(mae_train, mae_test))\n",
    "print(\"explained variance: (train cv) %.3f, (test) %.3f\"%(ev_train, ev_test))"
   ]
  },
  {
   "cell_type": "markdown",
   "id": "36089882",
   "metadata": {},
   "source": [
    "## Feature Engineering"
   ]
  },
  {
   "cell_type": "code",
   "execution_count": 23,
   "id": "872bd86a",
   "metadata": {},
   "outputs": [
    {
     "data": {
      "image/png": "[encoded data removed]",
      "text/plain": [
       "<Figure size 500x1200 with 1 Axes>"
      ]
     },
     "metadata": {},
     "output_type": "display_data"
    }
   ],
   "source": [
    "features_df = pd.DataFrame()\n",
    "features_df[\"feature\"] = X_train.columns\n",
    "features_df[\"importance\"] = boost.feature_importances_\n",
    "features_df = features_df.sort_values(\"importance\", ascending=False)\n",
    "plt.figure(figsize=(5,12))\n",
    "sns.barplot(x = \"importance\", y = \"feature\", data=features_df.iloc[:15])\n",
    "plt.show()"
   ]
  },
  {
   "cell_type": "markdown",
   "id": "4e4f857b",
   "metadata": {},
   "source": [
    "## Predictions"
   ]
  },
  {
   "cell_type": "code",
   "execution_count": 24,
   "id": "a411255b",
   "metadata": {},
   "outputs": [
    {
     "data": {
      "image/png": "[encoded data removed]",
      "text/plain": [
       "<Figure size 700x700 with 1 Axes>"
      ]
     },
     "metadata": {},
     "output_type": "display_data"
    }
   ],
   "source": [
    "plt.figure(figsize=(7,7))\n",
    "plt.scatter(y_test, pred_test_boost, marker='.')\n",
    "plt.plot([0,300],[0,300],color='r')\n",
    "plt.axis('equal')\n",
    "plt.xlim(0,300)\n",
    "plt.ylim(0,300)\n",
    "plt.xlabel('true price')\n",
    "plt.ylabel('predicted price')\n",
    "plt.show()"
   ]
  },
  {
   "cell_type": "code",
   "execution_count": 26,
   "id": "9a717eed",
   "metadata": {},
   "outputs": [
    {
     "data": {
      "text/html": [
       "<div>\n",
       "<style scoped>\n",
       "    .dataframe tbody tr th:only-of-type {\n",
       "        vertical-align: middle;\n",
       "    }\n",
       "\n",
       "    .dataframe tbody tr th {\n",
       "        vertical-align: top;\n",
       "    }\n",
       "\n",
       "    .dataframe thead th {\n",
       "        text-align: right;\n",
       "    }\n",
       "</style>\n",
       "<table border=\"1\" class=\"dataframe\">\n",
       "  <thead>\n",
       "    <tr style=\"text-align: right;\">\n",
       "      <th></th>\n",
       "      <th>product_names</th>\n",
       "      <th>product_category</th>\n",
       "      <th>brand</th>\n",
       "      <th>ingredient</th>\n",
       "      <th>real_price</th>\n",
       "      <th>predicted_price</th>\n",
       "      <th>difference</th>\n",
       "    </tr>\n",
       "  </thead>\n",
       "  <tbody>\n",
       "    <tr>\n",
       "      <th>4139</th>\n",
       "      <td>HA5 Rejuvenating Hydrator</td>\n",
       "      <td>Serum</td>\n",
       "      <td>SkinMedica</td>\n",
       "      <td>Water/Aqua,  Dimethicone,  HDI/Trimethylol Hex...</td>\n",
       "      <td>178.00</td>\n",
       "      <td>99.073685</td>\n",
       "      <td>78.93</td>\n",
       "    </tr>\n",
       "    <tr>\n",
       "      <th>586</th>\n",
       "      <td>The Ultimate Cleanser 3-Way Clean, Oil-free</td>\n",
       "      <td>Cleansers</td>\n",
       "      <td>Garnier Nutritioniste</td>\n",
       "      <td>Water,  Kaolin,  Glycerin,  Butylene Glycol,  ...</td>\n",
       "      <td>7.99</td>\n",
       "      <td>5.668337</td>\n",
       "      <td>2.32</td>\n",
       "    </tr>\n",
       "    <tr>\n",
       "      <th>553</th>\n",
       "      <td>SkinActive Micellar Makeup Removing Towelettes</td>\n",
       "      <td>Cleansers</td>\n",
       "      <td>Garnier Nutritioniste</td>\n",
       "      <td>Aqua/Water,  Hexylene Glycol,  Glycerin,  Citr...</td>\n",
       "      <td>6.99</td>\n",
       "      <td>5.393199</td>\n",
       "      <td>1.60</td>\n",
       "    </tr>\n",
       "    <tr>\n",
       "      <th>227</th>\n",
       "      <td>Triple Oxygen Instant Energizing Cleansing Foam</td>\n",
       "      <td>Cleansers</td>\n",
       "      <td>Bliss</td>\n",
       "      <td>Water,  Decyl Glucoside,  Disodium Cocoamphodi...</td>\n",
       "      <td>28.00</td>\n",
       "      <td>22.461302</td>\n",
       "      <td>5.54</td>\n",
       "    </tr>\n",
       "    <tr>\n",
       "      <th>1321</th>\n",
       "      <td>Retexturing Treatment</td>\n",
       "      <td>Exfoliants</td>\n",
       "      <td>Exuviance by NeoStrata</td>\n",
       "      <td>Aqua (Water),  Glycolic Acid,  Butylene Glycol...</td>\n",
       "      <td>42.00</td>\n",
       "      <td>42.967899</td>\n",
       "      <td>-0.97</td>\n",
       "    </tr>\n",
       "    <tr>\n",
       "      <th>...</th>\n",
       "      <td>...</td>\n",
       "      <td>...</td>\n",
       "      <td>...</td>\n",
       "      <td>...</td>\n",
       "      <td>...</td>\n",
       "      <td>...</td>\n",
       "      <td>...</td>\n",
       "    </tr>\n",
       "    <tr>\n",
       "      <th>4533</th>\n",
       "      <td>Daily Discoloration Perfector Corrective Moist...</td>\n",
       "      <td>Skin Lightener</td>\n",
       "      <td>Kate Somerville</td>\n",
       "      <td>Water,  Sucrose Polysoyate,  Caprylic/Capric T...</td>\n",
       "      <td>80.00</td>\n",
       "      <td>82.831940</td>\n",
       "      <td>-2.83</td>\n",
       "    </tr>\n",
       "    <tr>\n",
       "      <th>1180</th>\n",
       "      <td>T.L.C. Framboos Glycolic Night Serum</td>\n",
       "      <td>Exfoliants</td>\n",
       "      <td>Drunk Elephant</td>\n",
       "      <td>Water/Aqua/Eau,  Glycolic Acid,  Butylene Glyc...</td>\n",
       "      <td>90.00</td>\n",
       "      <td>60.213112</td>\n",
       "      <td>29.79</td>\n",
       "    </tr>\n",
       "    <tr>\n",
       "      <th>888</th>\n",
       "      <td>Lavender Luminosity Facial Cleansing Milk</td>\n",
       "      <td>Cleansers</td>\n",
       "      <td>Avalon Organics</td>\n",
       "      <td>Aloe Barbadensis Leaf Juice,  Aqua (Water),  S...</td>\n",
       "      <td>12.99</td>\n",
       "      <td>16.351692</td>\n",
       "      <td>-3.36</td>\n",
       "    </tr>\n",
       "    <tr>\n",
       "      <th>4385</th>\n",
       "      <td>Neck and Décolleté Serum</td>\n",
       "      <td>Serum</td>\n",
       "      <td>DeVita Natural Skin Care</td>\n",
       "      <td>NaN</td>\n",
       "      <td>39.95</td>\n",
       "      <td>31.167711</td>\n",
       "      <td>8.78</td>\n",
       "    </tr>\n",
       "    <tr>\n",
       "      <th>3145</th>\n",
       "      <td>Recover-E</td>\n",
       "      <td>Nighttime Moisturizer</td>\n",
       "      <td>Jan Marini Skin Research, Inc.</td>\n",
       "      <td>Water,  Aloe Barbadensis Leaf Juice,  Cetyl Ri...</td>\n",
       "      <td>44.50</td>\n",
       "      <td>61.956451</td>\n",
       "      <td>-17.46</td>\n",
       "    </tr>\n",
       "  </tbody>\n",
       "</table>\n",
       "<p>1532 rows × 7 columns</p>\n",
       "</div>"
      ],
      "text/plain": [
       "                                          product_names  \\\n",
       "4139                          HA5 Rejuvenating Hydrator   \n",
       "586         The Ultimate Cleanser 3-Way Clean, Oil-free   \n",
       "553      SkinActive Micellar Makeup Removing Towelettes   \n",
       "227     Triple Oxygen Instant Energizing Cleansing Foam   \n",
       "1321                              Retexturing Treatment   \n",
       "...                                                 ...   \n",
       "4533  Daily Discoloration Perfector Corrective Moist...   \n",
       "1180               T.L.C. Framboos Glycolic Night Serum   \n",
       "888           Lavender Luminosity Facial Cleansing Milk   \n",
       "4385                           Neck and Décolleté Serum   \n",
       "3145                                          Recover-E   \n",
       "\n",
       "           product_category                           brand  \\\n",
       "4139                  Serum                      SkinMedica   \n",
       "586               Cleansers           Garnier Nutritioniste   \n",
       "553               Cleansers           Garnier Nutritioniste   \n",
       "227               Cleansers                           Bliss   \n",
       "1321             Exfoliants          Exuviance by NeoStrata   \n",
       "...                     ...                             ...   \n",
       "4533         Skin Lightener                 Kate Somerville   \n",
       "1180             Exfoliants                  Drunk Elephant   \n",
       "888               Cleansers                 Avalon Organics   \n",
       "4385                  Serum        DeVita Natural Skin Care   \n",
       "3145  Nighttime Moisturizer  Jan Marini Skin Research, Inc.   \n",
       "\n",
       "                                             ingredient  real_price  \\\n",
       "4139  Water/Aqua,  Dimethicone,  HDI/Trimethylol Hex...      178.00   \n",
       "586   Water,  Kaolin,  Glycerin,  Butylene Glycol,  ...        7.99   \n",
       "553   Aqua/Water,  Hexylene Glycol,  Glycerin,  Citr...        6.99   \n",
       "227   Water,  Decyl Glucoside,  Disodium Cocoamphodi...       28.00   \n",
       "1321  Aqua (Water),  Glycolic Acid,  Butylene Glycol...       42.00   \n",
       "...                                                 ...         ...   \n",
       "4533  Water,  Sucrose Polysoyate,  Caprylic/Capric T...       80.00   \n",
       "1180  Water/Aqua/Eau,  Glycolic Acid,  Butylene Glyc...       90.00   \n",
       "888   Aloe Barbadensis Leaf Juice,  Aqua (Water),  S...       12.99   \n",
       "4385                                                NaN       39.95   \n",
       "3145  Water,  Aloe Barbadensis Leaf Juice,  Cetyl Ri...       44.50   \n",
       "\n",
       "      predicted_price  difference  \n",
       "4139        99.073685       78.93  \n",
       "586          5.668337        2.32  \n",
       "553          5.393199        1.60  \n",
       "227         22.461302        5.54  \n",
       "1321        42.967899       -0.97  \n",
       "...               ...         ...  \n",
       "4533        82.831940       -2.83  \n",
       "1180        60.213112       29.79  \n",
       "888         16.351692       -3.36  \n",
       "4385        31.167711        8.78  \n",
       "3145        61.956451      -17.46  \n",
       "\n",
       "[1532 rows x 7 columns]"
      ]
     },
     "execution_count": 26,
     "metadata": {},
     "output_type": "execute_result"
    }
   ],
   "source": [
    "df_prices = df_ing.iloc[y_test.index]\n",
    "df_prices = df_prices[[\"product_names\", \"product_category\", \"brand\", \"ingredient\"]]\n",
    "df_prices[\"real_price\"] = y_test\n",
    "df_prices[\"predicted_price\"] = model1_test_pred\n",
    "df_prices[\"difference\"] = (df_prices[\"real_price\"] - df_prices[\"predicted_price\"]).round(2)\n",
    "df_prices"
   ]
  },
  {
   "cell_type": "code",
   "execution_count": 27,
   "id": "2c93c1db",
   "metadata": {},
   "outputs": [
    {
     "data": {
      "text/plain": [
       "Shiseido                          8\n",
       "La Prairie                        6\n",
       "Perricone MD Cosmeceuticals       5\n",
       "Tatcha                            5\n",
       "Jan Marini Skin Research, Inc.    5\n",
       "Chanel                            5\n",
       "La Mer                            4\n",
       "Peter Thomas Roth                 4\n",
       "Neocutis                          4\n",
       "Bobbi Brown                       3\n",
       "Name: brand, dtype: int64"
      ]
     },
     "execution_count": 27,
     "metadata": {},
     "output_type": "execute_result"
    }
   ],
   "source": [
    "overpriced = df_prices.loc[df_prices[\"difference\"] > 20]\n",
    "overpriced.brand.value_counts().head(10)"
   ]
  },
  {
   "cell_type": "code",
   "execution_count": 28,
   "id": "862a5285",
   "metadata": {},
   "outputs": [
    {
     "data": {
      "text/plain": [
       "Neutrogena                 26\n",
       "Paula's Choice Skincare    19\n",
       "Shiseido                   18\n",
       "Clinique                   16\n",
       "Estee Lauder               15\n",
       "Clarins                    14\n",
       "philosophy                 14\n",
       "L'Oreal Paris              13\n",
       "Boots                      13\n",
       "Murad                      13\n",
       "Name: brand, dtype: int64"
      ]
     },
     "execution_count": 28,
     "metadata": {},
     "output_type": "execute_result"
    }
   ],
   "source": [
    "underpriced = df_prices.loc[df_prices[\"difference\"] < 0]\n",
    "underpriced.brand.value_counts().head(10)"
   ]
  },
  {
   "cell_type": "markdown",
   "id": "06c1064c",
   "metadata": {},
   "source": [
    "# Dupe Machine"
   ]
  },
  {
   "cell_type": "code",
   "execution_count": 29,
   "id": "41fa82a7",
   "metadata": {},
   "outputs": [],
   "source": [
    "# remove non-essential columns\n",
    "features = df_ing2.copy()\n",
    "features = features.drop(columns = [\"size_num\", \"size_unit\", \"brand\", \"active_mean_rating\", \"inactive_mean_rating\",\n",
    "                                   \"inactive_mean_rating_w1\", \"inactive_mean_rating_w2\"])\n",
    "features = pd.get_dummies(features)\n",
    "\n",
    "# fit KNN model\n",
    "model = NearestNeighbors(n_neighbors=2, algorithm='ball_tree')\n",
    "model.fit(features)\n",
    "dist, idlist = model.kneighbors(features)"
   ]
  },
  {
   "cell_type": "code",
   "execution_count": 41,
   "id": "ecd22412",
   "metadata": {},
   "outputs": [],
   "source": [
    "# define function\n",
    "def Duper(product_name):\n",
    "    product_list = []\n",
    "    product_id = df_ing[df_ing[\"product_names\"] == product_name].index\n",
    "    product_id = product_id[0]\n",
    "    product_price = df_ing[\"price\"].iloc[product_id] \n",
    "    for newid in idlist[product_id]:\n",
    "        name = df_ing.loc[newid].product_names\n",
    "        brand = df_ing.loc[newid].brand\n",
    "        price = df_ing.loc[newid].price\n",
    "        if name == product_name:\n",
    "            pass\n",
    "        elif price < product_price:\n",
    "            product_list.append(f\"{name} from {brand}, ${price: .2f}\")\n",
    "        \n",
    "    return product_list   "
   ]
  },
  {
   "cell_type": "code",
   "execution_count": 44,
   "id": "a62e47fe",
   "metadata": {},
   "outputs": [
    {
     "data": {
      "text/plain": [
       "['Multi-Active Night Youth Recovery Cream for Normal to Combination Skin from Clarins, $ 62.00']"
      ]
     },
     "execution_count": 44,
     "metadata": {},
     "output_type": "execute_result"
    }
   ],
   "source": [
    "Duper(\"Absolue Premium Bx Advanced Replenishing Cream Cleanser\")"
   ]
  }
 ],
 "metadata": {
  "kernelspec": {
   "display_name": "middle-earth",
   "language": "python",
   "name": "middle-earth"
  },
  "language_info": {
   "codemirror_mode": {
    "name": "ipython",
    "version": 3
   },
   "file_extension": ".py",
   "mimetype": "text/x-python",
   "name": "python",
   "nbconvert_exporter": "python",
   "pygments_lexer": "ipython3",
   "version": "3.8.16"
  }
 },
 "nbformat": 4,
 "nbformat_minor": 5
}
