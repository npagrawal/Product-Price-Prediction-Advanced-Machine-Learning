{
 "cells": [
  {
   "cell_type": "markdown",
   "id": "9b798f55",
   "metadata": {},
   "source": [
    "# Price Prediction For Skincare Products Using Neural Networks\n",
    "\n",
    "## Overview\n",
    "\n",
    "The cosmetics industry brought in an estimated $262.21 billion in 2022 and is due to continue growing this year. Skincare in particular has seen an increased interest as the culture has shifted away from the glam beauty standards of the recession-era 2000s to embrace a more \"natural\" beauty. \n",
    "\n",
    "My stakeholder, Inner Glow Inc., wants to make their mark on the skincare industry by coming out with their own line of products that are competetive with what's available. To do this, they first need to understand the current market and determine where they can undercut more expensive alternatives. Rampant upcharge in the skincare industry is obvious when products can range from $7-400. How can Inner Glow Inc. offer mid-line products that capture both a high-end and low-end market?\n",
    "\n",
    "Using neural networks and XGBoost, I look at data from NoxMoon's \"Inside Beauty\" project, scraped from Beautypedia and Paula’s choice websites, and data I scraped myself from the Dermstore. The two datasets include product names, brands, prices, ingredients, size, and product type. There are over 7000 products at the end of cleaning. Features include one-hot encoded \"special\" ingredients (i.e. not ones that appear in every single product but do in a good amount of them), and number of active and inactive ingredients, among others.\n",
    "\n",
    "After tuning a series of neural networks, using XGBoost, and using grid search to tune XGBoost, I find in the end that the untuned XGBoost does the best with the data, scoring an MAE on the test around $13. Given the spread of product prices, this doesn't seem way off base. Features engineering determines certain ingredients, like Isopropyl Misorate, have a marginal level of importance when it comes to price. The most often overpriced brands are iS Clinical, Clarins, and SK-II, while the most underpriced ones are Neutrogena, Clinique, and L'Oreal Paris. Therefore, Inner Beauty Inc. should try to dupe the overpriced brands' products with prices that are on average higher than the underpriced ones.\n",
    "\n",
    "I put all these findings together into the Streamlit app SuperDuper which offers users the chance to dupe their favorite high-end products and find cheaper alternatives that are at the ingredient-level similar."
   ]
  },
  {
   "cell_type": "markdown",
   "id": "1a40085e",
   "metadata": {},
   "source": [
    "## Imports\n",
    "\n",
    "To begin, we import all our libraries."
   ]
  },
  {
   "cell_type": "code",
   "execution_count": 1,
   "id": "a25a4474",
   "metadata": {},
   "outputs": [],
   "source": [
    "import itertools\n",
    "import pandas as pd\n",
    "import numpy as np\n",
    "import seaborn as sns\n",
    "import matplotlib.pyplot as plt\n",
    "import warnings \n",
    "warnings.filterwarnings('ignore')\n",
    "\n",
    "from sklearn.model_selection import train_test_split\n",
    "from sklearn.metrics import mean_squared_error, mean_absolute_error, explained_variance_score\n",
    "from sklearn.pipeline import Pipeline\n",
    "from sklearn.impute import SimpleImputer\n",
    "from sklearn.preprocessing import StandardScaler\n",
    "from sklearn.compose import ColumnTransformer\n",
    "from category_encoders import TargetEncoder\n",
    "from sklearn.model_selection import train_test_split\n",
    "from sklearn.model_selection import GridSearchCV\n",
    "\n",
    "from mlxtend.regressor import StackingCVRegressor\n",
    "from sklearn.linear_model import Ridge, Lasso\n",
    "from sklearn.svm import SVR\n",
    "from sklearn.ensemble import RandomForestRegressor\n",
    "\n",
    "from xgboost import XGBRegressor\n",
    "from tensorflow.keras import Model, Sequential\n",
    "from tensorflow.keras.optimizers import Adam\n",
    "from sklearn.preprocessing import StandardScaler\n",
    "from tensorflow.keras.layers import Dense, Dropout\n",
    "from tensorflow.keras.losses import MeanAbsoluteError\n",
    "\n",
    "from sklearn.preprocessing import MinMaxScaler\n",
    "from sklearn.neighbors import KNeighborsClassifier, NearestNeighbors"
   ]
  },
  {
   "cell_type": "markdown",
   "id": "475789fe",
   "metadata": {},
   "source": [
    "## EDA\n",
    "\n",
    "The data comes from Beautypedia and Paula's Choice (scraped by NoxMoon on GitHub) and from the Dermstore. You can see my scraping code for the Dermstore in the web_scraping folder. Both datasets include product names, prices, categories, brands, and ingredients."
   ]
  },
  {
   "cell_type": "code",
   "execution_count": 2,
   "id": "8010ee10",
   "metadata": {
    "scrolled": true
   },
   "outputs": [],
   "source": [
    "# read NoxMoon's data\n",
    "df1 = pd.read_csv(\"data/skin_care_cleaned.csv\")\n",
    "df1 = df1[[\"product_names\", \"product_category\", \"brand\", \"ingredient\", \"size\", \"price\", \"size_num\", \"size_unit\", \n",
    "        'active_ingredient', 'inactive_ingredient', 'n_inactive_ingredient', 'n_active_ingredient']]\n",
    "\n",
    "# basic cleaning for readability, dropping empty cells\n",
    "df1.active_ingredient = df1.active_ingredient.str.replace(\"(\", \"\")\n",
    "df1.active_ingredient = df1.active_ingredient.str.replace(\")\", \"\")\n",
    "df1.active_ingredient = df1.active_ingredient.str.replace(\",\", \"\")\n",
    "df1.active_ingredient = df1.active_ingredient.str.replace(\"%.\", \"%\")\n",
    "df1.active_ingredient = df1.active_ingredient.str.strip()\n",
    "df1.active_ingredient = df1.active_ingredient.str.split(\"%\")\n",
    "df1 = df1.dropna(subset=[\"ingredient\", \"size\", \"size_unit\"])"
   ]
  },
  {
   "cell_type": "code",
   "execution_count": 3,
   "id": "2d84fe59",
   "metadata": {},
   "outputs": [
    {
     "data": {
      "text/html": [
       "<div>\n",
       "<style scoped>\n",
       "    .dataframe tbody tr th:only-of-type {\n",
       "        vertical-align: middle;\n",
       "    }\n",
       "\n",
       "    .dataframe tbody tr th {\n",
       "        vertical-align: top;\n",
       "    }\n",
       "\n",
       "    .dataframe thead th {\n",
       "        text-align: right;\n",
       "    }\n",
       "</style>\n",
       "<table border=\"1\" class=\"dataframe\">\n",
       "  <thead>\n",
       "    <tr style=\"text-align: right;\">\n",
       "      <th></th>\n",
       "      <th>product_names</th>\n",
       "      <th>product_category</th>\n",
       "      <th>brand</th>\n",
       "      <th>ingredient</th>\n",
       "      <th>size</th>\n",
       "      <th>price</th>\n",
       "      <th>size_num</th>\n",
       "      <th>size_unit</th>\n",
       "      <th>active_ingredient</th>\n",
       "      <th>inactive_ingredient</th>\n",
       "      <th>n_inactive_ingredient</th>\n",
       "      <th>n_active_ingredient</th>\n",
       "    </tr>\n",
       "  </thead>\n",
       "  <tbody>\n",
       "    <tr>\n",
       "      <th>0</th>\n",
       "      <td>Clear Complexion Spot Treatment</td>\n",
       "      <td>Acne &amp; Blemish Treatment</td>\n",
       "      <td>Merle Norman</td>\n",
       "      <td>Active: Salicylic Acid (2%),  Other: Alcohol D...</td>\n",
       "      <td>0.50 fl. oz.</td>\n",
       "      <td>20.00</td>\n",
       "      <td>15.0</td>\n",
       "      <td>ml</td>\n",
       "      <td>[Salicylic Acid 2, ]</td>\n",
       "      <td>Alcohol Denat.,  Hamamelis Virginiana (Witch ...</td>\n",
       "      <td>10</td>\n",
       "      <td>1</td>\n",
       "    </tr>\n",
       "    <tr>\n",
       "      <th>1</th>\n",
       "      <td>Acne Solutions Emergency Gel Lotion</td>\n",
       "      <td>Acne &amp; Blemish Treatment</td>\n",
       "      <td>Clinique</td>\n",
       "      <td>Active: Benzoyl Peroxide (5%),  Other: Water P...</td>\n",
       "      <td>0.50 fl. oz.</td>\n",
       "      <td>17.00</td>\n",
       "      <td>15.0</td>\n",
       "      <td>ml</td>\n",
       "      <td>[Benzoyl Peroxide 5, ]</td>\n",
       "      <td>Water Purified,  C12-15 Alkyl Benzoate,  Glyc...</td>\n",
       "      <td>23</td>\n",
       "      <td>1</td>\n",
       "    </tr>\n",
       "    <tr>\n",
       "      <th>2</th>\n",
       "      <td>RESIST Daily Pore-Refining Solution 2% BHA</td>\n",
       "      <td>Acne &amp; Blemish Treatment</td>\n",
       "      <td>Paula's Choice Skincare</td>\n",
       "      <td>Water (Aqua),  Dipropylene Glycol,  Salicylic ...</td>\n",
       "      <td>3.00 fl. oz.</td>\n",
       "      <td>33.00</td>\n",
       "      <td>89.0</td>\n",
       "      <td>ml</td>\n",
       "      <td>NaN</td>\n",
       "      <td>Water (Aqua),  Dipropylene Glycol,  Salicylic ...</td>\n",
       "      <td>26</td>\n",
       "      <td>0</td>\n",
       "    </tr>\n",
       "    <tr>\n",
       "      <th>4</th>\n",
       "      <td>Naturals Acne Spot Treatment</td>\n",
       "      <td>Acne &amp; Blemish Treatment</td>\n",
       "      <td>Neutrogena</td>\n",
       "      <td>Active Ingredient: Salicylic Acid 1%. Inactive...</td>\n",
       "      <td>0.75 fl. oz.</td>\n",
       "      <td>8.49</td>\n",
       "      <td>22.0</td>\n",
       "      <td>ml</td>\n",
       "      <td>[Salicylic Acid 1, ]</td>\n",
       "      <td>Water,  Hydrated Silica,  Glycerin,  Dicapryl...</td>\n",
       "      <td>18</td>\n",
       "      <td>1</td>\n",
       "    </tr>\n",
       "    <tr>\n",
       "      <th>5</th>\n",
       "      <td>Normaderm Daily Anti-Acne Hydrating Lotion</td>\n",
       "      <td>Acne &amp; Blemish Treatment</td>\n",
       "      <td>Vichy</td>\n",
       "      <td>Active: Salicylic Acid 1%. Inactive: Water,  G...</td>\n",
       "      <td>1.70 fl. oz.</td>\n",
       "      <td>23.50</td>\n",
       "      <td>50.0</td>\n",
       "      <td>ml</td>\n",
       "      <td>[Salicylic Acid 1, ]</td>\n",
       "      <td>Water,  Glycerin,  Alcohol Denat.,  Phenyl Tr...</td>\n",
       "      <td>24</td>\n",
       "      <td>1</td>\n",
       "    </tr>\n",
       "  </tbody>\n",
       "</table>\n",
       "</div>"
      ],
      "text/plain": [
       "                                product_names          product_category  \\\n",
       "0             Clear Complexion Spot Treatment  Acne & Blemish Treatment   \n",
       "1         Acne Solutions Emergency Gel Lotion  Acne & Blemish Treatment   \n",
       "2  RESIST Daily Pore-Refining Solution 2% BHA  Acne & Blemish Treatment   \n",
       "4                Naturals Acne Spot Treatment  Acne & Blemish Treatment   \n",
       "5  Normaderm Daily Anti-Acne Hydrating Lotion  Acne & Blemish Treatment   \n",
       "\n",
       "                     brand                                         ingredient  \\\n",
       "0             Merle Norman  Active: Salicylic Acid (2%),  Other: Alcohol D...   \n",
       "1                 Clinique  Active: Benzoyl Peroxide (5%),  Other: Water P...   \n",
       "2  Paula's Choice Skincare  Water (Aqua),  Dipropylene Glycol,  Salicylic ...   \n",
       "4               Neutrogena  Active Ingredient: Salicylic Acid 1%. Inactive...   \n",
       "5                    Vichy  Active: Salicylic Acid 1%. Inactive: Water,  G...   \n",
       "\n",
       "           size  price  size_num size_unit       active_ingredient  \\\n",
       "0  0.50 fl. oz.  20.00      15.0        ml    [Salicylic Acid 2, ]   \n",
       "1  0.50 fl. oz.  17.00      15.0        ml  [Benzoyl Peroxide 5, ]   \n",
       "2  3.00 fl. oz.  33.00      89.0        ml                     NaN   \n",
       "4  0.75 fl. oz.   8.49      22.0        ml    [Salicylic Acid 1, ]   \n",
       "5  1.70 fl. oz.  23.50      50.0        ml    [Salicylic Acid 1, ]   \n",
       "\n",
       "                                 inactive_ingredient  n_inactive_ingredient  \\\n",
       "0   Alcohol Denat.,  Hamamelis Virginiana (Witch ...                     10   \n",
       "1   Water Purified,  C12-15 Alkyl Benzoate,  Glyc...                     23   \n",
       "2  Water (Aqua),  Dipropylene Glycol,  Salicylic ...                     26   \n",
       "4   Water,  Hydrated Silica,  Glycerin,  Dicapryl...                     18   \n",
       "5   Water,  Glycerin,  Alcohol Denat.,  Phenyl Tr...                     24   \n",
       "\n",
       "   n_active_ingredient  \n",
       "0                    1  \n",
       "1                    1  \n",
       "2                    0  \n",
       "4                    1  \n",
       "5                    1  "
      ]
     },
     "execution_count": 3,
     "metadata": {},
     "output_type": "execute_result"
    }
   ],
   "source": [
    "df1.head()"
   ]
  },
  {
   "cell_type": "code",
   "execution_count": 4,
   "id": "0744677f",
   "metadata": {},
   "outputs": [
    {
     "data": {
      "text/html": [
       "<div>\n",
       "<style scoped>\n",
       "    .dataframe tbody tr th:only-of-type {\n",
       "        vertical-align: middle;\n",
       "    }\n",
       "\n",
       "    .dataframe tbody tr th {\n",
       "        vertical-align: top;\n",
       "    }\n",
       "\n",
       "    .dataframe thead th {\n",
       "        text-align: right;\n",
       "    }\n",
       "</style>\n",
       "<table border=\"1\" class=\"dataframe\">\n",
       "  <thead>\n",
       "    <tr style=\"text-align: right;\">\n",
       "      <th></th>\n",
       "      <th>product_name</th>\n",
       "      <th>brand</th>\n",
       "      <th>price</th>\n",
       "      <th>ingredients</th>\n",
       "      <th>active_ingredients</th>\n",
       "      <th>inactive_ingredients</th>\n",
       "    </tr>\n",
       "  </thead>\n",
       "  <tbody>\n",
       "    <tr>\n",
       "      <th>0</th>\n",
       "      <td>ELEMIS Pro-Collagen Cleansing Balm (100 g.)</td>\n",
       "      <td>Elemis</td>\n",
       "      <td>68.00</td>\n",
       "      <td>Prunus Amygdalus Dulcis (Sweet Almond) Oil, Ca...</td>\n",
       "      <td>NaN</td>\n",
       "      <td>NaN</td>\n",
       "    </tr>\n",
       "    <tr>\n",
       "      <th>1</th>\n",
       "      <td>VIRTUE Healing Oil (1.7 fl. oz.)</td>\n",
       "      <td>VIRTUE</td>\n",
       "      <td>44.00</td>\n",
       "      <td>Alpha Keratin 60ku®, Cyclopentasiloxane, Dimet...</td>\n",
       "      <td>Alpha Keratin 60ku®</td>\n",
       "      <td>Cyclopentasiloxane, Dimethiconol, Parfum (Frag...</td>\n",
       "    </tr>\n",
       "    <tr>\n",
       "      <th>2</th>\n",
       "      <td>Augustinus Bader The Rich Cream 50ml</td>\n",
       "      <td>Augustinus Bader</td>\n",
       "      <td>290.00</td>\n",
       "      <td>Aqua (Water), Coco-Caprylate/Caprate, Helianth...</td>\n",
       "      <td>NaN</td>\n",
       "      <td>NaN</td>\n",
       "    </tr>\n",
       "    <tr>\n",
       "      <th>3</th>\n",
       "      <td>SkinCeuticals C E Ferulic (1 fl. oz.)</td>\n",
       "      <td>SkinCeuticals</td>\n",
       "      <td>182.00</td>\n",
       "      <td>Aqua/Water/Eau, Ethoxydiglycol, Ascorbic Acid,...</td>\n",
       "      <td>NaN</td>\n",
       "      <td>NaN</td>\n",
       "    </tr>\n",
       "    <tr>\n",
       "      <th>4</th>\n",
       "      <td>U Beauty Resurfacing Compound 50ml /1.7 oz</td>\n",
       "      <td>U Beauty</td>\n",
       "      <td>228.00</td>\n",
       "      <td>Aqua (Water), Aloe Barbadensis Leaf Juice Powd...</td>\n",
       "      <td>NaN</td>\n",
       "      <td>NaN</td>\n",
       "    </tr>\n",
       "  </tbody>\n",
       "</table>\n",
       "</div>"
      ],
      "text/plain": [
       "                                   product_name              brand    price  \\\n",
       "0  ELEMIS Pro-Collagen Cleansing Balm (100 g.)             Elemis    68.00    \n",
       "1             VIRTUE Healing Oil (1.7 fl. oz.)             VIRTUE    44.00    \n",
       "2         Augustinus Bader The Rich Cream 50ml   Augustinus Bader   290.00    \n",
       "3        SkinCeuticals C E Ferulic (1 fl. oz.)      SkinCeuticals   182.00    \n",
       "4   U Beauty Resurfacing Compound 50ml /1.7 oz           U Beauty   228.00    \n",
       "\n",
       "                                         ingredients   active_ingredients  \\\n",
       "0  Prunus Amygdalus Dulcis (Sweet Almond) Oil, Ca...                  NaN   \n",
       "1  Alpha Keratin 60ku®, Cyclopentasiloxane, Dimet...  Alpha Keratin 60ku®   \n",
       "2  Aqua (Water), Coco-Caprylate/Caprate, Helianth...                  NaN   \n",
       "3  Aqua/Water/Eau, Ethoxydiglycol, Ascorbic Acid,...                  NaN   \n",
       "4  Aqua (Water), Aloe Barbadensis Leaf Juice Powd...                  NaN   \n",
       "\n",
       "                                inactive_ingredients  \n",
       "0                                                NaN  \n",
       "1  Cyclopentasiloxane, Dimethiconol, Parfum (Frag...  \n",
       "2                                                NaN  \n",
       "3                                                NaN  \n",
       "4                                                NaN  "
      ]
     },
     "execution_count": 4,
     "metadata": {},
     "output_type": "execute_result"
    }
   ],
   "source": [
    "# read in Dermstore data\n",
    "df2 = pd.read_csv(\"data/ingredients_skincare_dermstore.csv\").drop(columns = [\"Unnamed: 0\", \"url\"])\n",
    "\n",
    "# remove dollar signs from dataframe\n",
    "df2[\"price\"] = df2[\"price\"].str.replace(\"$\", \"\")\n",
    "df2.head()"
   ]
  },
  {
   "cell_type": "markdown",
   "id": "1edff50d",
   "metadata": {},
   "source": [
    "Both datasets seem to be missing data for active ingredients, and the second dataset is missing data for inactive ingredients. This might be because not all products have active and inactive ingredient distinctions.\n",
    "\n",
    "Let's look at the range of prices. First we'll need to remove rows where the price data isn't a number. And then we'll need to convert the prices to floats."
   ]
  },
  {
   "cell_type": "code",
   "execution_count": 5,
   "id": "b0b715d0",
   "metadata": {},
   "outputs": [],
   "source": [
    "# find and drop irregular rows\n",
    "index_list = []\n",
    "for index, row in df2.iterrows():\n",
    "    if \"-product\" in str(row[\"price\"]):\n",
    "        index_list.append(index)\n",
    "    elif \"-qubit\" in str(row[\"price\"]):\n",
    "        index_list.append(index)\n",
    "    elif \"-track\" in str(row[\"price\"]):\n",
    "        index_list.append(index)\n",
    "        \n",
    "df2 = df2.drop(index = index_list)\n",
    "\n",
    "# convert price column to float\n",
    "df2[\"price\"] = df2[\"price\"].astype(float)\n",
    "\n",
    "# put the dataframes together\n",
    "df = pd.concat([df1, df2])"
   ]
  },
  {
   "cell_type": "code",
   "execution_count": 6,
   "id": "44c73f28",
   "metadata": {},
   "outputs": [
    {
     "data": {
      "image/png": "[encoded data removed]",
      "text/plain": [
       "<Figure size 1200x600 with 2 Axes>"
      ]
     },
     "metadata": {},
     "output_type": "display_data"
    }
   ],
   "source": [
    "# plot the prices by product category\n",
    "fig, axs = plt.subplots(ncols=2, figsize=(12, 6))\n",
    "sns.boxplot(x='product_category', y='price', data=df, ax=axs[0])\n",
    "axs[0].set_xticklabels(axs[0].get_xticklabels(), rotation=90)\n",
    "axs[0].set_xlabel(\"Product Category\")\n",
    "axs[0].set_ylabel(\"Price\")\n",
    "axs[0].set_title(\"Product Categories by Price\")\n",
    "\n",
    "sns.boxplot(x='product_category', y='price', data=df, ax=axs[1])\n",
    "axs[1].set_xticklabels(axs[1].get_xticklabels(), rotation=90)\n",
    "axs[1].set_xlabel(\"Product Category\")\n",
    "axs[1].set_ylabel(\"Price\")\n",
    "axs[1].set_title(\"Product Categories by Price, Closeup\")\n",
    "axs[1].set_ylim(0, 200);"
   ]
  },
  {
   "cell_type": "markdown",
   "id": "fcdb3620",
   "metadata": {},
   "source": [
    "So, the majority of products average less than $50, while serums tick higher than the others. There are probably more designer products in the serum category than the others. Lip balms and scrubs seem to be the cheapest items. There are also many outliers that tick even higher than these averages (left plot)."
   ]
  },
  {
   "cell_type": "code",
   "execution_count": 7,
   "id": "e70e196f",
   "metadata": {},
   "outputs": [
    {
     "data": {
      "image/png": "[encoded data removed]",
      "text/plain": [
       "<Figure size 640x480 with 1 Axes>"
      ]
     },
     "metadata": {},
     "output_type": "display_data"
    }
   ],
   "source": [
    "# select most common brands\n",
    "brand_list = []\n",
    "for key, value in df.brand.value_counts().head(16).to_dict().items():\n",
    "    brand_list.append(key)\n",
    "\n",
    "df_topbrands = df[df[\"brand\"].isin(brand_list)]\n",
    "df_topbrands = df_topbrands[[\"brand\", \"price\", \"product_names\"]]\n",
    "df_topbrands = df_topbrands.dropna()\n",
    "\n",
    "# plot brands against price\n",
    "ax = sns.boxplot(x='brand', y='price', data=df_topbrands)\n",
    "ax.set_xticklabels(ax.get_xticklabels(), rotation=90)\n",
    "ax.set_xlabel(\"Brand\")\n",
    "ax.set_ylabel(\"Price\")\n",
    "ax.set_title(\"Brands by Price\")\n",
    "ax.set_ylim(0, 200);"
   ]
  },
  {
   "cell_type": "markdown",
   "id": "7f7f10b3",
   "metadata": {},
   "source": [
    "Lancome has tthe greatest spread of prices amongst its catalog, while Neutrogena has the smallest. Neutrogena also seems to be the cheapest.\n",
    "\n",
    "Since brands and product categories seem to be a great determinant of price, there's a good chance both will show up in the features engineering portion of this notebook."
   ]
  },
  {
   "cell_type": "markdown",
   "id": "ec91a7a1",
   "metadata": {},
   "source": [
    "## Data Preparation\n",
    "In order to seamlessly combine the datasets, we'll need to do some cleaning. We'll go back to dfs 1 and 2 to do this. It'll also help us to turn our ingredient columns into lists for one-hot encoding."
   ]
  },
  {
   "cell_type": "code",
   "execution_count": 8,
   "id": "99a03f56",
   "metadata": {},
   "outputs": [],
   "source": [
    "# some cleaning\n",
    "# turn active ingredients into list, input inactive ingredients\n",
    "df2[\"active_ingredients\"] = df2[\"active_ingredients\"].str.split(\",\")\n",
    "df2[\"inactive_ingredients\"] = df2[\"inactive_ingredients\"].fillna(df2[\"ingredients\"])\n",
    "\n",
    "# create and fill n_active_ingredient column\n",
    "df2[\"n_active_ingredient\"] = df2[\"active_ingredients\"]\n",
    "df2[\"n_active_ingredient\"] = df2[\"n_active_ingredient\"].fillna(0)\n",
    "for index, row in df2.iterrows():\n",
    "    if type(row[\"n_active_ingredient\"]) == list:\n",
    "        if len(row[\"n_active_ingredient\"]) > 0:\n",
    "            row[\"n_active_ingredient\"] = len(row[\"n_active_ingredient\"])\n",
    "            \n",
    "# create and fill n_inactive_ingredient column\n",
    "df2[\"n_inactive_ingredient\"] = df2[\"inactive_ingredients\"].str.split(\",\")\n",
    "for index, row in df2.iterrows():\n",
    "    if type(row[\"n_inactive_ingredient\"]) == list:\n",
    "        if len(row[\"n_inactive_ingredient\"]) > 0:\n",
    "            row[\"n_inactive_ingredient\"] = len(row[\"n_inactive_ingredient\"])"
   ]
  },
  {
   "cell_type": "markdown",
   "id": "8a517c5f",
   "metadata": {},
   "source": [
    "Df2 doesn't have product categories, like df1 does. We'll have to semi-manually create these based on keywords."
   ]
  },
  {
   "cell_type": "code",
   "execution_count": 9,
   "id": "58a2fac2",
   "metadata": {},
   "outputs": [],
   "source": [
    "# create product categories for items\n",
    "df2[\"product_category\"] = df2[\"product_name\"]\n",
    "for index, row in df2.iterrows():\n",
    "    if \"Serum\" in row[\"product_category\"]:\n",
    "        row[\"product_category\"] = \"Serum\"\n",
    "    elif \"Hydr\" in row[\"product_category\"]:\n",
    "        row[\"product_category\"] = \"Serum\"\n",
    "    elif \"Refi\" in row[\"product_category\"]:\n",
    "        row[\"product_category\"] = \"Serum\"\n",
    "    elif \"Bar\" in row[\"product_category\"]:\n",
    "        row[\"product_category\"] = \"Serum\"\n",
    "    elif \"Stem\" in row[\"product_category\"]:\n",
    "        row[\"product_category\"] = \"Serum\"\n",
    "    elif \"Neck\" in row[\"product_category\"]:\n",
    "        row[\"product_category\"] = \"Serum\"\n",
    "    elif \"neck\" in row[\"product_category\"]:\n",
    "        row[\"product_category\"] = \"Serum\"\n",
    "    elif \"Peptide\" in row[\"product_category\"]:\n",
    "        row[\"product_category\"] = \"Serum\"\n",
    "    elif \"Resurfac\" in row[\"product_category\"]:\n",
    "        row[\"product_category\"] = \"Serum\"\n",
    "    elif \"Collagen\" in row[\"product_category\"]:\n",
    "        row[\"product_category\"] = \"Serum\"\n",
    "    elif \"Sun\" in row[\"product_category\"]:\n",
    "        row[\"product_category\"] = \"Sunscreen\" \n",
    "    elif \"SPF\" in row[\"product_category\"]:\n",
    "        row[\"product_category\"] = \"Sunscreen\" \n",
    "    elif \"Clean\" in row[\"product_category\"]:\n",
    "        row[\"product_category\"] = \"Cleansers\"\n",
    "    elif \"Wash\" in row[\"product_category\"]:\n",
    "        row[\"product_category\"] = \"Cleansers\"\n",
    "    elif \"Wipes\" in row[\"product_category\"]:\n",
    "        row[\"product_category\"] = \"Cleansers\"\n",
    "    elif \"Pads\" in row[\"product_category\"]:\n",
    "        row[\"product_category\"] = \"Cleansers\" \n",
    "    elif \"Makeup Remover\" in row[\"product_category\"]:\n",
    "        row[\"product_category\"] = \"Cleansers\"\n",
    "    elif \"Soap\" in row[\"product_category\"]:\n",
    "        row[\"product_category\"] = \"Cleansers\" \n",
    "    elif \"Cream\" in row[\"product_category\"]:\n",
    "        row[\"product_category\"] = \"Nighttime Moisturizer\"\n",
    "    elif \"Creme\" in row[\"product_category\"]:\n",
    "        row[\"product_category\"] = \"Nighttime Moisturizer\"\n",
    "    elif \"Night\" in row[\"product_category\"]:\n",
    "        row[\"product_category\"] = \"Nighttime Moisturizer\"\n",
    "    elif \"night\" in row[\"product_category\"]:\n",
    "        row[\"product_category\"] = \"Nighttime Moisturizer\"\n",
    "    elif \"Nuit\" in row[\"product_category\"]:\n",
    "        row[\"product_category\"] = \"Nighttime Moisturizer\"\n",
    "    elif \"Gel\" in row[\"product_category\"]:\n",
    "        row[\"product_category\"] = \"Nighttime Moisturizer\"\n",
    "    elif \"Sleep\" in row[\"product_category\"]:\n",
    "        row[\"product_category\"] = \"Nighttime Moisturizer\"\n",
    "    elif \"Lotion\" in row[\"product_category\"]:\n",
    "        row[\"product_category\"] = \"Daytime Moisturizer\"\n",
    "    elif \"Moisturizer\" in row[\"product_category\"]:\n",
    "        row[\"product_category\"] = \"Daytime Moisturizer\"\n",
    "    elif \"Butter\" in row[\"product_category\"]:\n",
    "        row[\"product_category\"] = \"Daytime Moisturizer\"\n",
    "    elif \"Lip\" in row[\"product_category\"]:\n",
    "        row[\"product_category\"] = \"Lip Scrub\"\n",
    "    elif \"Mask\" in row[\"product_category\"]:\n",
    "        row[\"product_category\"] = \"Face Mask\"\n",
    "    elif \"Masque\" in row[\"product_category\"]:\n",
    "        row[\"product_category\"] = \"Face Mask\"\n",
    "    elif \"Acne\" in row[\"product_category\"]:\n",
    "        row[\"product_category\"] = \"Acne & Blemish Treatment\"\n",
    "    elif \"Blemish\" in row[\"product_category\"]:\n",
    "        row[\"product_category\"] = \"Acne & Blemish Treatment\"\n",
    "    elif \"Pore\" in row[\"product_category\"]:\n",
    "        row[\"product_category\"] = \"Acne & Blemish Treatment\"\n",
    "    elif \"Spot\" in row[\"product_category\"]:\n",
    "        row[\"product_category\"] = \"Acne & Blemish Treatment\"\n",
    "    elif \"Clinical\" in row[\"product_category\"]:\n",
    "        row[\"product_category\"] = \"Acne & Blemish Treatment\"\n",
    "    elif \"System\" in row[\"product_category\"]:\n",
    "        row[\"product_category\"] = \"Acne & Blemish Treatment\"\n",
    "    elif \"Treatment\" in row[\"product_category\"]:\n",
    "        row[\"product_category\"] = \"Acne & Blemish Treatment\"\n",
    "    elif \"Eye\" in row[\"product_category\"]:\n",
    "        row[\"product_category\"] = \"Eye Cream & Treatment\" \n",
    "    elif \"Toner\" in row[\"product_category\"]:\n",
    "        row[\"product_category\"] = \"Toner & Face Mist\"\n",
    "    elif \"Mist\" in row[\"product_category\"]:\n",
    "        row[\"product_category\"] = \"Toner & Face Mist\"\n",
    "    elif \"mist\" in row[\"product_category\"]:\n",
    "        row[\"product_category\"] = \"Toner & Face Mist\" \n",
    "    elif \"Scrub\" in row[\"product_category\"]:\n",
    "        row[\"product_category\"] = \"Exfoliants\"\n",
    "    elif \"Exfoli\" in row[\"product_category\"]:\n",
    "        row[\"product_category\"] = \"Exfoliants\" \n",
    "    elif \"Polish\" in row[\"product_category\"]:\n",
    "        row[\"product_category\"] = \"Exfoliants\"\n",
    "    elif \"Glow\" in row[\"product_category\"]:\n",
    "        row[\"product_category\"] = \"Exfoliants\"\n",
    "    elif \"Peel\" in row[\"product_category\"]:\n",
    "        row[\"product_category\"] = \"Exfoliants\"\n",
    "    elif \"Vitamin C\" in row[\"product_category\"]:\n",
    "        row[\"product_category\"] = \"Vitamin C\"\n",
    "    elif \"Vita C\" in row[\"product_category\"]:\n",
    "        row[\"product_category\"] = \"Vitamin C\"\n",
    "    elif \"Refin\" in row[\"product_category\"]:\n",
    "        row[\"product_category\"] = \"Vitamin C\"\n",
    "    elif \"Bright\" in row[\"product_category\"]:\n",
    "        row[\"product_category\"] = \"Skin Lightener\"\n",
    "    elif \"-C\" in row[\"product_category\"]:\n",
    "        row[\"product_category\"] = \"Vitamin C\"\n",
    "    elif \"Vit C\" in row[\"product_category\"]:\n",
    "        row[\"product_category\"] = \"Vitamin C\"\n",
    "    elif \"- C\" in row[\"product_category\"]:\n",
    "        row[\"product_category\"] = \"Vitamin C\"\n",
    "    elif \"Oil\" in row[\"product_category\"]:\n",
    "        row[\"product_category\"] = \"Facial Oil\" \n",
    "    elif \"Retinol\" in row[\"product_category\"]:\n",
    "        row[\"product_category\"] = \"Retinol\" \n",
    "    elif \"Matt\" in row[\"product_category\"]:\n",
    "        row[\"product_category\"] = \"Oil Control Products\" \n",
    "        \n",
    "product_types = [\"Nighttime Moisturizer\", \"Cleansers\", \"Serum\", \"Exfoliants\", \"Eye Cream & Treatment\", \"Daytime Moisturizer\",\n",
    "                \"Sunscreen\", \"Toner & Face Mist\", \"Face Mask\", \"Acne & Blemish Treatment\", \"Lip Balm\", \"Retinol\",\n",
    "                \"Skin Lightener\", \"Oil Control Products\", \"Face Oil\", \"Vitamin C\", \"Lip Scrub\"]\n",
    "df2 = df2.loc[df2[\"product_category\"].isin(product_types)]"
   ]
  },
  {
   "cell_type": "markdown",
   "id": "08ebc4ba",
   "metadata": {},
   "source": [
    "Now we need to create and clean up our size columns."
   ]
  },
  {
   "cell_type": "code",
   "execution_count": 10,
   "id": "6058226b",
   "metadata": {},
   "outputs": [],
   "source": [
    "# make and fill size_num column\n",
    "pattern = r'(\\d+(\\.\\d+)?)\\s*(fl\\.?\\s*oz\\.?|g\\.?|ml\\.?)'\n",
    "extracted_values = df2[\"product_name\"].str.extract(pattern, expand=True).fillna(\"\")\n",
    "df2[\"size_num\"] = extracted_values.iloc[:, 0]\n",
    "\n",
    "\n",
    "# make and fill size_unit column\n",
    "df2[\"size_unit\"] = df2[\"product_name\"]\n",
    "for index, row in df2.iterrows():\n",
    "    if \"g.\" in row[\"size_unit\"]:\n",
    "        row[\"size_unit\"] = \"grams\"\n",
    "    elif \"fl. oz\" in row[\"size_unit\"]:\n",
    "        row[\"size_unit\"] = \"fluid ounces\"\n",
    "    elif \"ml\" in row[\"size_unit\"]:\n",
    "        row[\"size_unit\"] = \"milliliters\"\n",
    "    else:\n",
    "        row[\"size_unit\"] = \"piece/other\"\n",
    "\n",
    "# make and fill a size column\n",
    "df2[\"size\"] = df2[\"size_num\"] + \" \" + df2[\"size_unit\"]\n",
    "df2[\"size\"] = df2[\"size\"].str.replace(\"grams\", \"g.\")\n",
    "df2[\"size\"] = df2[\"size\"].str.replace(\"milliliters\", \"ml\")\n",
    "df2[\"size\"] = df2[\"size\"].str.replace(\"fluid ounces\", \"fl. oz.\")"
   ]
  },
  {
   "cell_type": "code",
   "execution_count": 11,
   "id": "7a7db1f2",
   "metadata": {},
   "outputs": [],
   "source": [
    "# remove unnecessary columns and make names uniform\n",
    "df2 = df2[[\"product_name\", \"product_category\", \"brand\", \"ingredients\", \"size\", \"price\", \"size_num\", \"size_unit\", \n",
    "          \"active_ingredients\", \"inactive_ingredients\", \"n_inactive_ingredient\", \"n_active_ingredient\"]]\n",
    "df2.columns = ['product_names', 'product_category', 'brand', 'ingredient', 'size', 'price', 'size_num', 'size_unit', \n",
    "               'active_ingredient', 'inactive_ingredient', 'n_inactive_ingredient', 'n_active_ingredient']"
   ]
  },
  {
   "cell_type": "code",
   "execution_count": 12,
   "id": "7bff8102",
   "metadata": {},
   "outputs": [],
   "source": [
    "# clean up active ingredient column\n",
    "df2[\"active_ingredient\"] = df2[\"active_ingredient\"].astype(str)\n",
    "df2[\"active_ingredient\"] = df2[\"active_ingredient\"].str.replace(\"'\", \"\")\n",
    "df2[\"active_ingredient\"] = df2[\"active_ingredient\"].str.replace(\"[\", \"\")\n",
    "df2[\"active_ingredient\"] = df2[\"active_ingredient\"].str.replace(\"]\", \"\")\n",
    "df2[\"active_ingredient\"] = df2[\"active_ingredient\"].str.replace(\"<strong>Active: </strong>\", \"\")\n",
    "df2[\"active_ingredient\"] = df2[\"active_ingredient\"].str.replace(\"<strong>Active Ingredients:</strong>\", \"\")\n",
    "df2[\"active_ingredient\"] = df2[\"active_ingredient\"].str.replace(\"Active Ingredients: \", \"\")\n",
    "df2[\"active_ingredient\"] = df2[\"active_ingredient\"].str.replace(\"\\n\", \"\")\n",
    "df2[\"active_ingredient\"] = df2[\"active_ingredient\"].str.replace(\"%\", \"\")\n",
    "df2[\"active_ingredient\"] = df2[\"active_ingredient\"].str.replace(\")\", \"\")\n",
    "df2[\"active_ingredient\"] = df2[\"active_ingredient\"].str.replace(\"(\", \"\")"
   ]
  },
  {
   "cell_type": "code",
   "execution_count": 13,
   "id": "d2eb899a",
   "metadata": {},
   "outputs": [
    {
     "data": {
      "text/html": [
       "<div>\n",
       "<style scoped>\n",
       "    .dataframe tbody tr th:only-of-type {\n",
       "        vertical-align: middle;\n",
       "    }\n",
       "\n",
       "    .dataframe tbody tr th {\n",
       "        vertical-align: top;\n",
       "    }\n",
       "\n",
       "    .dataframe thead th {\n",
       "        text-align: right;\n",
       "    }\n",
       "</style>\n",
       "<table border=\"1\" class=\"dataframe\">\n",
       "  <thead>\n",
       "    <tr style=\"text-align: right;\">\n",
       "      <th></th>\n",
       "      <th>product_names</th>\n",
       "      <th>product_category</th>\n",
       "      <th>brand</th>\n",
       "      <th>ingredient</th>\n",
       "      <th>size</th>\n",
       "      <th>price</th>\n",
       "      <th>size_num</th>\n",
       "      <th>size_unit</th>\n",
       "      <th>active_ingredient</th>\n",
       "      <th>inactive_ingredient</th>\n",
       "      <th>n_inactive_ingredient</th>\n",
       "      <th>n_active_ingredient</th>\n",
       "    </tr>\n",
       "  </thead>\n",
       "  <tbody>\n",
       "    <tr>\n",
       "      <th>0</th>\n",
       "      <td>Clear Complexion Spot Treatment</td>\n",
       "      <td>Acne &amp; Blemish Treatment</td>\n",
       "      <td>Merle Norman</td>\n",
       "      <td>Active: Salicylic Acid (2%),  Other: Alcohol D...</td>\n",
       "      <td>0.50 fl. oz.</td>\n",
       "      <td>20.00</td>\n",
       "      <td>15.0</td>\n",
       "      <td>ml</td>\n",
       "      <td>[Salicylic Acid 2, ]</td>\n",
       "      <td>Alcohol Denat.,  Hamamelis Virginiana (Witch ...</td>\n",
       "      <td>10</td>\n",
       "      <td>1</td>\n",
       "    </tr>\n",
       "    <tr>\n",
       "      <th>1</th>\n",
       "      <td>Acne Solutions Emergency Gel Lotion</td>\n",
       "      <td>Acne &amp; Blemish Treatment</td>\n",
       "      <td>Clinique</td>\n",
       "      <td>Active: Benzoyl Peroxide (5%),  Other: Water P...</td>\n",
       "      <td>0.50 fl. oz.</td>\n",
       "      <td>17.00</td>\n",
       "      <td>15.0</td>\n",
       "      <td>ml</td>\n",
       "      <td>[Benzoyl Peroxide 5, ]</td>\n",
       "      <td>Water Purified,  C12-15 Alkyl Benzoate,  Glyc...</td>\n",
       "      <td>23</td>\n",
       "      <td>1</td>\n",
       "    </tr>\n",
       "    <tr>\n",
       "      <th>2</th>\n",
       "      <td>RESIST Daily Pore-Refining Solution 2% BHA</td>\n",
       "      <td>Acne &amp; Blemish Treatment</td>\n",
       "      <td>Paula's Choice Skincare</td>\n",
       "      <td>Water (Aqua),  Dipropylene Glycol,  Salicylic ...</td>\n",
       "      <td>3.00 fl. oz.</td>\n",
       "      <td>33.00</td>\n",
       "      <td>89.0</td>\n",
       "      <td>ml</td>\n",
       "      <td>NaN</td>\n",
       "      <td>Water (Aqua),  Dipropylene Glycol,  Salicylic ...</td>\n",
       "      <td>26</td>\n",
       "      <td>0</td>\n",
       "    </tr>\n",
       "    <tr>\n",
       "      <th>3</th>\n",
       "      <td>Naturals Acne Spot Treatment</td>\n",
       "      <td>Acne &amp; Blemish Treatment</td>\n",
       "      <td>Neutrogena</td>\n",
       "      <td>Active Ingredient: Salicylic Acid 1%. Inactive...</td>\n",
       "      <td>0.75 fl. oz.</td>\n",
       "      <td>8.49</td>\n",
       "      <td>22.0</td>\n",
       "      <td>ml</td>\n",
       "      <td>[Salicylic Acid 1, ]</td>\n",
       "      <td>Water,  Hydrated Silica,  Glycerin,  Dicapryl...</td>\n",
       "      <td>18</td>\n",
       "      <td>1</td>\n",
       "    </tr>\n",
       "    <tr>\n",
       "      <th>4</th>\n",
       "      <td>Normaderm Daily Anti-Acne Hydrating Lotion</td>\n",
       "      <td>Acne &amp; Blemish Treatment</td>\n",
       "      <td>Vichy</td>\n",
       "      <td>Active: Salicylic Acid 1%. Inactive: Water,  G...</td>\n",
       "      <td>1.70 fl. oz.</td>\n",
       "      <td>23.50</td>\n",
       "      <td>50.0</td>\n",
       "      <td>ml</td>\n",
       "      <td>[Salicylic Acid 1, ]</td>\n",
       "      <td>Water,  Glycerin,  Alcohol Denat.,  Phenyl Tr...</td>\n",
       "      <td>24</td>\n",
       "      <td>1</td>\n",
       "    </tr>\n",
       "  </tbody>\n",
       "</table>\n",
       "</div>"
      ],
      "text/plain": [
       "                                product_names          product_category  \\\n",
       "0             Clear Complexion Spot Treatment  Acne & Blemish Treatment   \n",
       "1         Acne Solutions Emergency Gel Lotion  Acne & Blemish Treatment   \n",
       "2  RESIST Daily Pore-Refining Solution 2% BHA  Acne & Blemish Treatment   \n",
       "3                Naturals Acne Spot Treatment  Acne & Blemish Treatment   \n",
       "4  Normaderm Daily Anti-Acne Hydrating Lotion  Acne & Blemish Treatment   \n",
       "\n",
       "                     brand                                         ingredient  \\\n",
       "0             Merle Norman  Active: Salicylic Acid (2%),  Other: Alcohol D...   \n",
       "1                 Clinique  Active: Benzoyl Peroxide (5%),  Other: Water P...   \n",
       "2  Paula's Choice Skincare  Water (Aqua),  Dipropylene Glycol,  Salicylic ...   \n",
       "3               Neutrogena  Active Ingredient: Salicylic Acid 1%. Inactive...   \n",
       "4                    Vichy  Active: Salicylic Acid 1%. Inactive: Water,  G...   \n",
       "\n",
       "           size  price  size_num size_unit       active_ingredient  \\\n",
       "0  0.50 fl. oz.  20.00      15.0        ml    [Salicylic Acid 2, ]   \n",
       "1  0.50 fl. oz.  17.00      15.0        ml  [Benzoyl Peroxide 5, ]   \n",
       "2  3.00 fl. oz.  33.00      89.0        ml                     NaN   \n",
       "3  0.75 fl. oz.   8.49      22.0        ml    [Salicylic Acid 1, ]   \n",
       "4  1.70 fl. oz.  23.50      50.0        ml    [Salicylic Acid 1, ]   \n",
       "\n",
       "                                 inactive_ingredient n_inactive_ingredient  \\\n",
       "0   Alcohol Denat.,  Hamamelis Virginiana (Witch ...                    10   \n",
       "1   Water Purified,  C12-15 Alkyl Benzoate,  Glyc...                    23   \n",
       "2  Water (Aqua),  Dipropylene Glycol,  Salicylic ...                    26   \n",
       "3   Water,  Hydrated Silica,  Glycerin,  Dicapryl...                    18   \n",
       "4   Water,  Glycerin,  Alcohol Denat.,  Phenyl Tr...                    24   \n",
       "\n",
       "  n_active_ingredient  \n",
       "0                   1  \n",
       "1                   1  \n",
       "2                   0  \n",
       "3                   1  \n",
       "4                   1  "
      ]
     },
     "execution_count": 13,
     "metadata": {},
     "output_type": "execute_result"
    }
   ],
   "source": [
    "# join dataframes\n",
    "df = pd.concat([df1, df2]).reset_index().drop(columns = \"index\")\n",
    "df.head()"
   ]
  },
  {
   "cell_type": "markdown",
   "id": "46fdf99b",
   "metadata": {},
   "source": [
    "The size of the product is often determined by the type of product it is – as in, moisturizer and sunscreen might be larger than serums. But there's a range even within these, depending on the brand. As a result, we'll keep size details in the dataframe without concern for collinearity."
   ]
  },
  {
   "cell_type": "code",
   "execution_count": 14,
   "id": "0ec4f51f",
   "metadata": {},
   "outputs": [],
   "source": [
    "# turn inactive ingredient column into lists\n",
    "df[\"inactive_ingredient\"] = df[\"inactive_ingredient\"].str.replace(\".\", \"\")\n",
    "df[\"inactive_ingredient\"] = df[\"inactive_ingredient\"].str.replace(\" \", \"\")\n",
    "df[\"inactive_ingredient\"] = df[\"inactive_ingredient\"].str.split(\",\")"
   ]
  },
  {
   "cell_type": "markdown",
   "id": "b5611b29",
   "metadata": {},
   "source": [
    "Now we want to one-hot encode and stack our ingredients."
   ]
  },
  {
   "cell_type": "code",
   "execution_count": 15,
   "id": "e5d612c3",
   "metadata": {},
   "outputs": [
    {
     "data": {
      "text/plain": [
       "(4816, 12507)"
      ]
     },
     "execution_count": 15,
     "metadata": {},
     "output_type": "execute_result"
    }
   ],
   "source": [
    "# get ingredient counts\n",
    "ingredients_df = pd.get_dummies(pd.DataFrame(df[\"inactive_ingredient\"].tolist()).stack()).sum(level=0)\n",
    "ingredients_df.shape"
   ]
  },
  {
   "cell_type": "markdown",
   "id": "65aeda2a",
   "metadata": {},
   "source": [
    "Most products will have the same base ingredients. To ensure our model is determing price based on \"special\" ingredients or uncommon (but not impossibly rare) ingredients, we'll limit the set to ingredients that show up between 100 and 800 times."
   ]
  },
  {
   "cell_type": "code",
   "execution_count": 16,
   "id": "edb6ab24",
   "metadata": {},
   "outputs": [],
   "source": [
    "# determine most important ingredients\n",
    "ing_list = []\n",
    "for column in ingredients_df.columns:\n",
    "    if ingredients_df[column].sum() > 100 and ingredients_df[column].sum() < 800:\n",
    "        ing_list.append(column)\n",
    "\n",
    "ing_list = [ele.strip() for ele in ing_list]\n",
    "\n",
    "# get rid of empty string\n",
    "ing_list = ing_list[1:]"
   ]
  },
  {
   "cell_type": "code",
   "execution_count": 17,
   "id": "7357bcc1",
   "metadata": {},
   "outputs": [
    {
     "data": {
      "text/plain": [
       "(4816, 205)"
      ]
     },
     "execution_count": 17,
     "metadata": {},
     "output_type": "execute_result"
    }
   ],
   "source": [
    "# create dataframe from columns in ing_list\n",
    "ingredients_df = ingredients_df.rename(columns=lambda x: x.strip())\n",
    "clean_ing = ingredients_df[ing_list]\n",
    "\n",
    "# concat dataframes\n",
    "df_ing = pd.concat([df, clean_ing], axis = 1)\n",
    "df_ing.shape"
   ]
  },
  {
   "cell_type": "markdown",
   "id": "6f2b6621",
   "metadata": {},
   "source": [
    "Now our dataframe is looking more manageable with only 205 columns as opposed to nearly 13,000."
   ]
  },
  {
   "cell_type": "code",
   "execution_count": 18,
   "id": "02ef45ad",
   "metadata": {},
   "outputs": [],
   "source": [
    "# remove duplicate columns\n",
    "df_ing = df_ing.groupby(axis=1, level=0).sum()"
   ]
  },
  {
   "cell_type": "code",
   "execution_count": 19,
   "id": "3fa58f62",
   "metadata": {},
   "outputs": [],
   "source": [
    "# make sure our float columns are floats\n",
    "df_ing[\"price\"] = df_ing[\"price\"].astype(float)\n",
    "df_ing[\"size_num\"] = df_ing[\"size_num\"].replace(r'^\\s*$', np.nan, regex=True)\n",
    "df_ing[\"size_num\"] = df_ing[\"size_num\"].astype(float)"
   ]
  },
  {
   "cell_type": "markdown",
   "id": "6870c01f",
   "metadata": {},
   "source": [
    "## Preprocess Data\n",
    "\n",
    "Let's build the preprocessor our XGBoost regressor will use."
   ]
  },
  {
   "cell_type": "code",
   "execution_count": 20,
   "id": "fd5348e7",
   "metadata": {},
   "outputs": [],
   "source": [
    "#ord_cols\n",
    "ord_cols = [\"brand\", \"product_category\", \"size_unit\"]\n",
    "\n",
    "#num_cols\n",
    "num_cols = [\"size_num\", \"n_active_ingredient\", \"n_inactive_ingredient\"]\n",
    "ingredients = df_ing.columns.to_list()[:-12]\n",
    "for ing in ingredients:\n",
    "    num_cols.append(ing)"
   ]
  },
  {
   "cell_type": "code",
   "execution_count": 21,
   "id": "9ce0a95e",
   "metadata": {},
   "outputs": [],
   "source": [
    "ordinal_transformer = Pipeline(steps = [\n",
    "    ('ordimputer', SimpleImputer(strategy = 'most_frequent')),\n",
    "    ('target_enc', TargetEncoder()),\n",
    "    (\"scaler\", StandardScaler())])\n",
    "\n",
    "numeric_transformer = Pipeline(steps=[\n",
    "    (\"imputer\", SimpleImputer(strategy=\"median\")),\n",
    "    (\"scaler\", StandardScaler())])\n",
    "\n",
    "preprocessor = ColumnTransformer(\n",
    "    transformers=[\n",
    "        (\"ord\", ordinal_transformer, ord_cols),\n",
    "        (\"num\", numeric_transformer, num_cols),\n",
    "    ]\n",
    ")"
   ]
  },
  {
   "cell_type": "markdown",
   "id": "c1adaaee",
   "metadata": {},
   "source": [
    "## Train-Test Split\n",
    "\n",
    "Time for the train-test split."
   ]
  },
  {
   "cell_type": "code",
   "execution_count": 22,
   "id": "0611809d",
   "metadata": {},
   "outputs": [],
   "source": [
    "y = df_ing[\"price\"]\n",
    "X = df_ing.drop(columns = [\"price\", \"active_ingredient\", \"inactive_ingredient\", \"ingredient\", \"product_names\", \"size\"])\n",
    "\n",
    "X_train, X_test, y_train, y_test = train_test_split(X, y, test_size = .3, random_state = 42)"
   ]
  },
  {
   "cell_type": "markdown",
   "id": "e534a6d2",
   "metadata": {},
   "source": [
    "Just to check, let's see what the MAE is before modeling."
   ]
  },
  {
   "cell_type": "code",
   "execution_count": 23,
   "id": "1fce5085",
   "metadata": {},
   "outputs": [
    {
     "name": "stdout",
     "output_type": "stream",
     "text": [
      "MAE\n",
      "train: 26.585\n",
      "test: 27.231\n"
     ]
    }
   ],
   "source": [
    "# determine baseline error\n",
    "mae_train = mean_absolute_error(y_train, np.ones([y_train.shape[0],])* y_train.median())\n",
    "mae_test = mean_absolute_error(y_test, np.ones([y_test.shape[0],])* y_train.median())\n",
    "\n",
    "print(\"MAE\")\n",
    "print(f\"train: {mae_train:.3f}\") \n",
    "print(f\"test: {mae_test:.3f}\")"
   ]
  },
  {
   "cell_type": "markdown",
   "id": "e1bce7f8",
   "metadata": {},
   "source": [
    "Right now, we have a mean absolute error of almsot $30 for both train and test. This is what we'll want to beat with our models."
   ]
  },
  {
   "cell_type": "markdown",
   "id": "29d8e92a",
   "metadata": {},
   "source": [
    "# Modeling\n",
    "## Model 1 - Simple Regressor"
   ]
  },
  {
   "cell_type": "markdown",
   "id": "918dc631",
   "metadata": {},
   "source": [
    "Before diving into neural networks, let's see how our tried and tested XGBoost does with the data."
   ]
  },
  {
   "cell_type": "code",
   "execution_count": 24,
   "id": "8bf08972",
   "metadata": {},
   "outputs": [],
   "source": [
    "# instantiate, fit and run model\n",
    "X_train_ct = preprocessor.fit_transform(X_train, y_train)\n",
    "boost = XGBRegressor()\n",
    "boost.fit(X_train_ct, y_train)\n",
    "pred_train_boost = boost.predict(X_train_ct)\n",
    "\n",
    "X_test_ct = preprocessor.transform(X_test)\n",
    "pred_test_boost = boost.predict(X_test_ct)"
   ]
  },
  {
   "cell_type": "code",
   "execution_count": 25,
   "id": "402a039f",
   "metadata": {},
   "outputs": [
    {
     "name": "stdout",
     "output_type": "stream",
     "text": [
      "MAE: \n",
      "train: 3.671\n",
      "test:  13.139\n"
     ]
    }
   ],
   "source": [
    "# determine error\n",
    "mae_train = mean_absolute_error(y_train, pred_train_boost)\n",
    "mae_test = mean_absolute_error(y_test, pred_test_boost)\n",
    "\n",
    "print(\"MAE: \")\n",
    "print(f\"train: {mae_train:.3f}\")\n",
    "print(f\"test: {mae_test: .3f}\")"
   ]
  },
  {
   "cell_type": "code",
   "execution_count": 26,
   "id": "a5ab0658",
   "metadata": {},
   "outputs": [
    {
     "data": {
      "image/png": "[encoded data removed]",
      "text/plain": [
       "<Figure size 800x800 with 1 Axes>"
      ]
     },
     "metadata": {},
     "output_type": "display_data"
    }
   ],
   "source": [
    "# plot predictions against true prices\n",
    "plt.figure(figsize=(8,8))\n",
    "plt.scatter(y_test, pred_test_boost)\n",
    "plt.plot([0,300],[0,300],color=\"r\")\n",
    "plt.axis(\"Equal\")\n",
    "plt.xlim(0,300)\n",
    "plt.ylim(0,300)\n",
    "plt.xlabel(\"True Price\")\n",
    "plt.ylabel(\"Predicted Price\")\n",
    "plt.show()"
   ]
  },
  {
   "cell_type": "markdown",
   "id": "2d056476",
   "metadata": {},
   "source": [
    "Not bad! Only about 13 dollars off on average. There is a pretty big range in the products, as we saw above, with some going as high as 700 dollars. 13 dollars seems pretty good with that in mind. Looking at the predictions when plotted, they seem to be clustered pretty well around the equal line though a few seem either overpriced or underpriced based on the model's determination.\n",
    "\n",
    "Since our simple regressor did pretty well. Let's try to do a grid search to further tune the model and see how that does."
   ]
  },
  {
   "cell_type": "markdown",
   "id": "68416487",
   "metadata": {},
   "source": [
    "## Model 2 - Grid Search\n",
    "\n",
    "We'll tune the model with a range of learning rates, estimators, and depths to see how it does."
   ]
  },
  {
   "cell_type": "code",
   "execution_count": 27,
   "id": "d99a6206",
   "metadata": {},
   "outputs": [
    {
     "name": "stdout",
     "output_type": "stream",
     "text": [
      "Best parameters: {'learning_rate': 0.07, 'max_depth': 7, 'n_estimators': 1000}\n",
      "Best score: -13.210813364677415\n"
     ]
    }
   ],
   "source": [
    "# parameter grid\n",
    "param_grid = {\n",
    "    \"learning_rate\": [0.03, 0.05, 0.07],\n",
    "    \"n_estimators\": [500, 750, 1000],\n",
    "    \"max_depth\": [5, 7, 9]\n",
    "}\n",
    "\n",
    "\n",
    "# instantiate and fit\n",
    "boost = XGBRegressor()\n",
    "grid_search = GridSearchCV(boost, param_grid, cv=5, scoring=\"neg_mean_absolute_error\")\n",
    "grid_search.fit(X_train_ct, y_train)\n",
    "\n",
    "# return best parameters and the best score\n",
    "print(f\"Best parameters: {grid_search.best_params_}\")\n",
    "print(f\"Best score: {grid_search.best_score_}\")\n",
    "\n",
    "# get predictions off best model\n",
    "best_boost = grid_search.best_estimator_\n",
    "pred_test_boost_gs = best_boost.predict(X_test_ct)"
   ]
  },
  {
   "cell_type": "code",
   "execution_count": 28,
   "id": "b81e3594",
   "metadata": {},
   "outputs": [
    {
     "data": {
      "image/png": "[encoded data removed]",
      "text/plain": [
       "<Figure size 700x700 with 1 Axes>"
      ]
     },
     "metadata": {},
     "output_type": "display_data"
    }
   ],
   "source": [
    "# plot predictions against true prices\n",
    "plt.figure(figsize=(7,7))\n",
    "plt.scatter(y_test, pred_test_boost_gs)\n",
    "plt.plot([0,300],[0,300],color=\"r\")\n",
    "plt.axis(\"Equal\")\n",
    "plt.xlim(0,300)\n",
    "plt.ylim(0,300)\n",
    "plt.xlabel(\"True Price\")\n",
    "plt.ylabel(\"Predicted Price\")\n",
    "plt.show()"
   ]
  },
  {
   "cell_type": "markdown",
   "id": "c043dafd",
   "metadata": {},
   "source": [
    "## Model 3: Stacked Regressor\n",
    "\n",
    "We can go further with regressors and stack them together to see if that improves our score."
   ]
  },
  {
   "cell_type": "code",
   "execution_count": 29,
   "id": "aa03f932",
   "metadata": {},
   "outputs": [
    {
     "name": "stdout",
     "output_type": "stream",
     "text": [
      "MAE: \n",
      "test:  13.470\n"
     ]
    }
   ],
   "source": [
    "boost = XGBRegressor()\n",
    "rf = RandomForestRegressor()\n",
    "ridge = Ridge()\n",
    "lasso = Lasso()\n",
    "svr = SVR(kernel='linear')\n",
    "\n",
    "stack = StackingCVRegressor(regressors=(boost, rf, ridge, lasso, svr),\n",
    "                            meta_regressor=boost, cv=5,\n",
    "                            use_features_in_secondary=True,\n",
    "                            store_train_meta_features=True,\n",
    "                            shuffle=False,\n",
    "                            random_state=42)\n",
    "\n",
    "stack.fit(X_train_ct, y_train)\n",
    "pred_stack = stack.predict(X_test_ct)\n",
    "mae_test = mean_absolute_error(y_test, pred_stack)\n",
    "\n",
    "print(\"MAE: \")\n",
    "print(f\"test: {mae_test: .3f}\")"
   ]
  },
  {
   "cell_type": "code",
   "execution_count": 30,
   "id": "2f72830e",
   "metadata": {},
   "outputs": [
    {
     "data": {
      "image/png": "[encoded data removed]",
      "text/plain": [
       "<Figure size 700x700 with 1 Axes>"
      ]
     },
     "metadata": {},
     "output_type": "display_data"
    }
   ],
   "source": [
    "# plot predictions against true prices\n",
    "plt.figure(figsize=(7,7))\n",
    "plt.scatter(y_test, pred_stack)\n",
    "plt.plot([0,300],[0,300],color=\"r\")\n",
    "plt.axis(\"Equal\")\n",
    "plt.xlim(0,300)\n",
    "plt.ylim(0,300)\n",
    "plt.xlabel(\"True Price\")\n",
    "plt.ylabel(\"Predicted Price\")\n",
    "plt.show()"
   ]
  },
  {
   "cell_type": "markdown",
   "id": "86d18583",
   "metadata": {},
   "source": [
    "Not a lot of improvement from our untuned XGBoost. On to the neural networks to see if they can do more."
   ]
  },
  {
   "cell_type": "markdown",
   "id": "afb0c410",
   "metadata": {},
   "source": [
    "## Model 4 - Neural Network, 3 Hidden Layers\n",
    "\n",
    "For the first neural network, we'll start simple with 3 hidden layers and two dropouts."
   ]
  },
  {
   "cell_type": "code",
   "execution_count": 31,
   "id": "220bbe0c",
   "metadata": {},
   "outputs": [
    {
     "name": "stdout",
     "output_type": "stream",
     "text": [
      "Metal device set to: Apple M1 Pro\n",
      "Epoch 1/100\n"
     ]
    },
    {
     "name": "stderr",
     "output_type": "stream",
     "text": [
      "2023-04-19 21:08:54.438189: I tensorflow/core/common_runtime/pluggable_device/pluggable_device_factory.cc:305] Could not identify NUMA node of platform GPU ID 0, defaulting to 0. Your kernel may not have been built with NUMA support.\n",
      "2023-04-19 21:08:54.438346: I tensorflow/core/common_runtime/pluggable_device/pluggable_device_factory.cc:271] Created TensorFlow device (/job:localhost/replica:0/task:0/device:GPU:0 with 0 MB memory) -> physical PluggableDevice (device: 0, name: METAL, pci bus id: <undefined>)\n",
      "2023-04-19 21:08:54.486229: W tensorflow/core/platform/profile_utils/cpu_utils.cc:128] Failed to get CPU frequency: 0 Hz\n"
     ]
    },
    {
     "name": "stdout",
     "output_type": "stream",
     "text": [
      " 8/43 [====>.........................] - ETA: 0s - loss: 33.2232 - mean_absolute_error: 33.2232 "
     ]
    },
    {
     "name": "stderr",
     "output_type": "stream",
     "text": [
      "2023-04-19 21:08:54.678529: I tensorflow/core/grappler/optimizers/custom_graph_optimizer_registry.cc:113] Plugin optimizer for device_type GPU is enabled.\n"
     ]
    },
    {
     "name": "stdout",
     "output_type": "stream",
     "text": [
      "43/43 [==============================] - 1s 11ms/step - loss: 23.3436 - mean_absolute_error: 23.0470 - val_loss: 20.5549 - val_mean_absolute_error: 20.3690\n",
      "Epoch 2/100\n",
      "16/43 [==========>...................] - ETA: 0s - loss: 16.8654 - mean_absolute_error: 16.8654"
     ]
    },
    {
     "name": "stderr",
     "output_type": "stream",
     "text": [
      "2023-04-19 21:08:55.202047: I tensorflow/core/grappler/optimizers/custom_graph_optimizer_registry.cc:113] Plugin optimizer for device_type GPU is enabled.\n"
     ]
    },
    {
     "name": "stdout",
     "output_type": "stream",
     "text": [
      "43/43 [==============================] - 0s 8ms/step - loss: 17.3486 - mean_absolute_error: 17.6764 - val_loss: 19.1162 - val_mean_absolute_error: 18.8431\n",
      "Epoch 3/100\n",
      "43/43 [==============================] - 0s 8ms/step - loss: 16.1512 - mean_absolute_error: 16.0008 - val_loss: 20.6989 - val_mean_absolute_error: 20.5400\n",
      "Epoch 4/100\n",
      "43/43 [==============================] - 0s 8ms/step - loss: 15.2714 - mean_absolute_error: 15.2251 - val_loss: 18.8775 - val_mean_absolute_error: 18.5563\n",
      "Epoch 5/100\n",
      "43/43 [==============================] - 0s 8ms/step - loss: 14.4378 - mean_absolute_error: 14.3969 - val_loss: 17.4051 - val_mean_absolute_error: 17.2309\n",
      "Epoch 6/100\n",
      "43/43 [==============================] - 0s 7ms/step - loss: 13.8586 - mean_absolute_error: 13.8667 - val_loss: 17.0302 - val_mean_absolute_error: 16.8358\n",
      "Epoch 7/100\n",
      "43/43 [==============================] - 0s 7ms/step - loss: 13.8528 - mean_absolute_error: 13.7574 - val_loss: 17.5756 - val_mean_absolute_error: 17.3823\n",
      "Epoch 8/100\n",
      "43/43 [==============================] - 0s 8ms/step - loss: 12.9090 - mean_absolute_error: 12.8968 - val_loss: 17.4018 - val_mean_absolute_error: 17.2085\n",
      "Epoch 9/100\n",
      "43/43 [==============================] - 0s 8ms/step - loss: 12.6629 - mean_absolute_error: 12.8875 - val_loss: 17.3968 - val_mean_absolute_error: 17.1817\n",
      "Epoch 10/100\n",
      "43/43 [==============================] - 0s 8ms/step - loss: 12.1406 - mean_absolute_error: 12.0719 - val_loss: 16.9939 - val_mean_absolute_error: 16.7583\n",
      "Epoch 11/100\n",
      "43/43 [==============================] - 0s 8ms/step - loss: 11.5068 - mean_absolute_error: 11.7354 - val_loss: 18.0765 - val_mean_absolute_error: 17.8981\n",
      "Epoch 12/100\n",
      "43/43 [==============================] - 0s 8ms/step - loss: 10.9142 - mean_absolute_error: 10.8013 - val_loss: 17.1269 - val_mean_absolute_error: 16.8419\n",
      "Epoch 13/100\n",
      "43/43 [==============================] - 0s 8ms/step - loss: 10.8572 - mean_absolute_error: 10.7571 - val_loss: 17.0508 - val_mean_absolute_error: 16.8079\n",
      "Epoch 14/100\n",
      "43/43 [==============================] - 0s 8ms/step - loss: 10.1461 - mean_absolute_error: 10.0566 - val_loss: 17.0172 - val_mean_absolute_error: 16.8755\n",
      "Epoch 15/100\n",
      "43/43 [==============================] - 0s 8ms/step - loss: 9.9029 - mean_absolute_error: 9.9111 - val_loss: 17.7586 - val_mean_absolute_error: 17.5269\n",
      "Epoch 16/100\n",
      "43/43 [==============================] - 0s 8ms/step - loss: 9.2750 - mean_absolute_error: 9.2146 - val_loss: 16.3654 - val_mean_absolute_error: 16.1654\n",
      "Epoch 17/100\n",
      "43/43 [==============================] - 0s 8ms/step - loss: 9.4368 - mean_absolute_error: 9.7587 - val_loss: 16.9577 - val_mean_absolute_error: 16.6775\n",
      "Epoch 18/100\n",
      "43/43 [==============================] - 0s 8ms/step - loss: 9.4043 - mean_absolute_error: 9.6034 - val_loss: 16.2905 - val_mean_absolute_error: 16.0284\n",
      "Epoch 19/100\n",
      "43/43 [==============================] - 0s 8ms/step - loss: 8.4286 - mean_absolute_error: 8.2947 - val_loss: 16.3829 - val_mean_absolute_error: 16.1931\n",
      "Epoch 20/100\n",
      "43/43 [==============================] - 0s 8ms/step - loss: 7.6816 - mean_absolute_error: 7.7601 - val_loss: 16.0199 - val_mean_absolute_error: 15.8205\n",
      "Epoch 21/100\n",
      "43/43 [==============================] - 0s 8ms/step - loss: 8.2589 - mean_absolute_error: 8.2095 - val_loss: 15.9614 - val_mean_absolute_error: 15.7626\n",
      "Epoch 22/100\n",
      "43/43 [==============================] - 0s 7ms/step - loss: 7.5562 - mean_absolute_error: 7.5166 - val_loss: 16.2561 - val_mean_absolute_error: 16.0593\n",
      "Epoch 23/100\n",
      "43/43 [==============================] - 0s 8ms/step - loss: 7.2448 - mean_absolute_error: 7.2674 - val_loss: 16.8818 - val_mean_absolute_error: 16.6263\n",
      "Epoch 24/100\n",
      "43/43 [==============================] - 0s 8ms/step - loss: 7.4587 - mean_absolute_error: 7.4451 - val_loss: 16.6240 - val_mean_absolute_error: 16.4511\n",
      "Epoch 25/100\n",
      "43/43 [==============================] - 0s 8ms/step - loss: 7.2114 - mean_absolute_error: 7.1459 - val_loss: 15.9033 - val_mean_absolute_error: 15.7428\n",
      "Epoch 26/100\n",
      "43/43 [==============================] - 0s 8ms/step - loss: 7.4877 - mean_absolute_error: 7.4304 - val_loss: 16.5200 - val_mean_absolute_error: 16.3332\n",
      "Epoch 27/100\n",
      "43/43 [==============================] - 0s 8ms/step - loss: 7.2133 - mean_absolute_error: 7.1779 - val_loss: 16.1685 - val_mean_absolute_error: 15.9431\n",
      "Epoch 28/100\n",
      "43/43 [==============================] - 0s 8ms/step - loss: 6.7674 - mean_absolute_error: 6.7508 - val_loss: 16.5566 - val_mean_absolute_error: 16.3275\n",
      "Epoch 29/100\n",
      "43/43 [==============================] - 0s 8ms/step - loss: 6.6925 - mean_absolute_error: 6.6708 - val_loss: 16.3124 - val_mean_absolute_error: 16.0895\n",
      "Epoch 30/100\n",
      "43/43 [==============================] - 0s 8ms/step - loss: 6.4852 - mean_absolute_error: 6.4885 - val_loss: 16.7179 - val_mean_absolute_error: 16.4416\n",
      "Epoch 31/100\n",
      "43/43 [==============================] - 0s 8ms/step - loss: 6.3510 - mean_absolute_error: 6.2787 - val_loss: 16.3163 - val_mean_absolute_error: 16.1138\n",
      "Epoch 32/100\n",
      "43/43 [==============================] - 0s 7ms/step - loss: 6.0951 - mean_absolute_error: 6.0263 - val_loss: 16.2886 - val_mean_absolute_error: 16.0698\n",
      "Epoch 33/100\n",
      "43/43 [==============================] - 0s 8ms/step - loss: 5.9403 - mean_absolute_error: 5.8628 - val_loss: 16.2482 - val_mean_absolute_error: 16.0645\n",
      "Epoch 34/100\n",
      "43/43 [==============================] - 0s 8ms/step - loss: 5.9646 - mean_absolute_error: 6.0009 - val_loss: 16.3917 - val_mean_absolute_error: 16.2011\n",
      "Epoch 35/100\n",
      "43/43 [==============================] - 0s 8ms/step - loss: 5.9843 - mean_absolute_error: 5.9176 - val_loss: 16.3531 - val_mean_absolute_error: 16.1549\n",
      "Epoch 36/100\n",
      "43/43 [==============================] - 0s 8ms/step - loss: 5.9647 - mean_absolute_error: 5.9922 - val_loss: 16.5096 - val_mean_absolute_error: 16.3014\n",
      "Epoch 37/100\n",
      "43/43 [==============================] - 0s 8ms/step - loss: 5.8134 - mean_absolute_error: 5.7902 - val_loss: 16.8609 - val_mean_absolute_error: 16.6202\n",
      "Epoch 38/100\n",
      "43/43 [==============================] - 0s 8ms/step - loss: 5.5375 - mean_absolute_error: 5.4702 - val_loss: 16.5348 - val_mean_absolute_error: 16.3066\n",
      "Epoch 39/100\n",
      "43/43 [==============================] - 0s 8ms/step - loss: 5.3470 - mean_absolute_error: 5.4409 - val_loss: 16.4536 - val_mean_absolute_error: 16.2226\n",
      "Epoch 40/100\n",
      "43/43 [==============================] - 0s 8ms/step - loss: 6.7236 - mean_absolute_error: 6.7376 - val_loss: 16.5452 - val_mean_absolute_error: 16.3379\n",
      "Epoch 41/100\n",
      "43/43 [==============================] - 0s 8ms/step - loss: 6.4104 - mean_absolute_error: 6.4356 - val_loss: 16.2015 - val_mean_absolute_error: 15.9367\n",
      "Epoch 42/100\n",
      "43/43 [==============================] - 0s 8ms/step - loss: 5.9022 - mean_absolute_error: 5.8858 - val_loss: 15.9532 - val_mean_absolute_error: 15.7197\n",
      "Epoch 43/100\n",
      "43/43 [==============================] - 0s 8ms/step - loss: 5.4405 - mean_absolute_error: 5.4271 - val_loss: 16.0309 - val_mean_absolute_error: 15.7896\n",
      "Epoch 44/100\n",
      "43/43 [==============================] - 0s 8ms/step - loss: 5.4254 - mean_absolute_error: 5.3514 - val_loss: 16.1261 - val_mean_absolute_error: 15.9055\n",
      "Epoch 45/100\n",
      "43/43 [==============================] - 0s 8ms/step - loss: 5.3763 - mean_absolute_error: 5.3294 - val_loss: 16.4339 - val_mean_absolute_error: 16.2422\n",
      "Epoch 46/100\n",
      "43/43 [==============================] - 0s 8ms/step - loss: 5.2496 - mean_absolute_error: 5.2416 - val_loss: 15.9014 - val_mean_absolute_error: 15.7143\n",
      "Epoch 47/100\n",
      "43/43 [==============================] - 0s 8ms/step - loss: 5.0887 - mean_absolute_error: 5.0648 - val_loss: 16.4170 - val_mean_absolute_error: 16.1878\n",
      "Epoch 48/100\n",
      "43/43 [==============================] - 0s 8ms/step - loss: 5.8736 - mean_absolute_error: 5.8569 - val_loss: 16.7608 - val_mean_absolute_error: 16.5396\n",
      "Epoch 49/100\n",
      "43/43 [==============================] - 0s 8ms/step - loss: 5.4695 - mean_absolute_error: 5.4005 - val_loss: 15.7783 - val_mean_absolute_error: 15.5699\n",
      "Epoch 50/100\n",
      "43/43 [==============================] - 0s 8ms/step - loss: 5.0289 - mean_absolute_error: 5.0458 - val_loss: 16.4502 - val_mean_absolute_error: 16.2272\n",
      "Epoch 51/100\n"
     ]
    },
    {
     "name": "stdout",
     "output_type": "stream",
     "text": [
      "43/43 [==============================] - 0s 8ms/step - loss: 5.3277 - mean_absolute_error: 5.3589 - val_loss: 16.0270 - val_mean_absolute_error: 15.7831\n",
      "Epoch 52/100\n",
      "43/43 [==============================] - 0s 8ms/step - loss: 5.1722 - mean_absolute_error: 5.1207 - val_loss: 16.8159 - val_mean_absolute_error: 16.6182\n",
      "Epoch 53/100\n",
      "43/43 [==============================] - 0s 8ms/step - loss: 6.4840 - mean_absolute_error: 6.4893 - val_loss: 16.0112 - val_mean_absolute_error: 15.8063\n",
      "Epoch 54/100\n",
      "43/43 [==============================] - 0s 8ms/step - loss: 5.0662 - mean_absolute_error: 5.0267 - val_loss: 16.0095 - val_mean_absolute_error: 15.7818\n",
      "Epoch 55/100\n",
      "43/43 [==============================] - 0s 8ms/step - loss: 4.9924 - mean_absolute_error: 4.9331 - val_loss: 16.3153 - val_mean_absolute_error: 16.0812\n",
      "Epoch 56/100\n",
      "43/43 [==============================] - 0s 8ms/step - loss: 4.8743 - mean_absolute_error: 4.8728 - val_loss: 16.0508 - val_mean_absolute_error: 15.8018\n",
      "Epoch 57/100\n",
      "43/43 [==============================] - 0s 8ms/step - loss: 5.0792 - mean_absolute_error: 5.0695 - val_loss: 15.7150 - val_mean_absolute_error: 15.4662\n",
      "Epoch 58/100\n",
      "43/43 [==============================] - 0s 8ms/step - loss: 4.7441 - mean_absolute_error: 4.8030 - val_loss: 16.0088 - val_mean_absolute_error: 15.7741\n",
      "Epoch 59/100\n",
      "43/43 [==============================] - 0s 8ms/step - loss: 5.0160 - mean_absolute_error: 4.9893 - val_loss: 16.7083 - val_mean_absolute_error: 16.5042\n",
      "Epoch 60/100\n",
      "43/43 [==============================] - 0s 8ms/step - loss: 4.9847 - mean_absolute_error: 4.9450 - val_loss: 16.4537 - val_mean_absolute_error: 16.1804\n",
      "Epoch 61/100\n",
      "43/43 [==============================] - 0s 8ms/step - loss: 4.9603 - mean_absolute_error: 4.9239 - val_loss: 15.9394 - val_mean_absolute_error: 15.6974\n",
      "Epoch 62/100\n",
      "43/43 [==============================] - 0s 8ms/step - loss: 4.6361 - mean_absolute_error: 4.6020 - val_loss: 16.2468 - val_mean_absolute_error: 16.0328\n",
      "Epoch 63/100\n",
      "43/43 [==============================] - 0s 8ms/step - loss: 4.7994 - mean_absolute_error: 4.7640 - val_loss: 15.7782 - val_mean_absolute_error: 15.5240\n",
      "Epoch 64/100\n",
      "43/43 [==============================] - 0s 8ms/step - loss: 4.5350 - mean_absolute_error: 4.5307 - val_loss: 15.8718 - val_mean_absolute_error: 15.6582\n",
      "Epoch 65/100\n",
      "43/43 [==============================] - 0s 7ms/step - loss: 4.8660 - mean_absolute_error: 4.8317 - val_loss: 16.3043 - val_mean_absolute_error: 16.0678\n",
      "Epoch 66/100\n",
      "43/43 [==============================] - 0s 8ms/step - loss: 4.6089 - mean_absolute_error: 4.5895 - val_loss: 16.2065 - val_mean_absolute_error: 16.0000\n",
      "Epoch 67/100\n",
      "43/43 [==============================] - 0s 8ms/step - loss: 4.5923 - mean_absolute_error: 4.5675 - val_loss: 16.3046 - val_mean_absolute_error: 16.0822\n",
      "Epoch 68/100\n",
      "43/43 [==============================] - 0s 8ms/step - loss: 4.5479 - mean_absolute_error: 4.5896 - val_loss: 16.2557 - val_mean_absolute_error: 16.0341\n",
      "Epoch 69/100\n",
      "43/43 [==============================] - 0s 8ms/step - loss: 4.4834 - mean_absolute_error: 4.4714 - val_loss: 16.3575 - val_mean_absolute_error: 16.1445\n",
      "Epoch 70/100\n",
      "43/43 [==============================] - 0s 8ms/step - loss: 4.7992 - mean_absolute_error: 4.8857 - val_loss: 16.2716 - val_mean_absolute_error: 16.0253\n",
      "Epoch 71/100\n",
      "43/43 [==============================] - 0s 8ms/step - loss: 4.9204 - mean_absolute_error: 5.0310 - val_loss: 16.8207 - val_mean_absolute_error: 16.6307\n",
      "Epoch 72/100\n",
      "43/43 [==============================] - 0s 8ms/step - loss: 4.7865 - mean_absolute_error: 4.7712 - val_loss: 16.3976 - val_mean_absolute_error: 16.1853\n",
      "Epoch 73/100\n",
      "43/43 [==============================] - 0s 8ms/step - loss: 4.0501 - mean_absolute_error: 4.0622 - val_loss: 15.9787 - val_mean_absolute_error: 15.7469\n",
      "Epoch 74/100\n",
      "43/43 [==============================] - 0s 8ms/step - loss: 4.2451 - mean_absolute_error: 4.2413 - val_loss: 16.2256 - val_mean_absolute_error: 16.0093\n",
      "Epoch 75/100\n",
      "43/43 [==============================] - 0s 8ms/step - loss: 4.0547 - mean_absolute_error: 4.0310 - val_loss: 16.3691 - val_mean_absolute_error: 16.1474\n",
      "Epoch 76/100\n",
      "43/43 [==============================] - 0s 8ms/step - loss: 4.6461 - mean_absolute_error: 4.7784 - val_loss: 16.0111 - val_mean_absolute_error: 15.8039\n",
      "Epoch 77/100\n",
      "43/43 [==============================] - 0s 8ms/step - loss: 4.4747 - mean_absolute_error: 4.4486 - val_loss: 16.2736 - val_mean_absolute_error: 16.0492\n",
      "Epoch 78/100\n",
      "43/43 [==============================] - 0s 8ms/step - loss: 4.1995 - mean_absolute_error: 4.1448 - val_loss: 16.0814 - val_mean_absolute_error: 15.8334\n",
      "Epoch 79/100\n",
      "43/43 [==============================] - 0s 8ms/step - loss: 4.2347 - mean_absolute_error: 4.2857 - val_loss: 16.0079 - val_mean_absolute_error: 15.7627\n",
      "Epoch 80/100\n",
      "43/43 [==============================] - 0s 8ms/step - loss: 4.2414 - mean_absolute_error: 4.2275 - val_loss: 16.2337 - val_mean_absolute_error: 15.9801\n",
      "Epoch 81/100\n",
      "43/43 [==============================] - 0s 8ms/step - loss: 4.1736 - mean_absolute_error: 4.2431 - val_loss: 16.0512 - val_mean_absolute_error: 15.8190\n",
      "Epoch 82/100\n",
      "43/43 [==============================] - 0s 8ms/step - loss: 4.4782 - mean_absolute_error: 4.4848 - val_loss: 16.0514 - val_mean_absolute_error: 15.8438\n",
      "Epoch 83/100\n",
      "43/43 [==============================] - 0s 8ms/step - loss: 4.3018 - mean_absolute_error: 4.2995 - val_loss: 16.7130 - val_mean_absolute_error: 16.5031\n",
      "Epoch 84/100\n",
      "43/43 [==============================] - 0s 8ms/step - loss: 4.7978 - mean_absolute_error: 4.7555 - val_loss: 16.1890 - val_mean_absolute_error: 15.9630\n",
      "Epoch 85/100\n",
      "43/43 [==============================] - 0s 8ms/step - loss: 4.2722 - mean_absolute_error: 4.2756 - val_loss: 16.1061 - val_mean_absolute_error: 15.8621\n",
      "Epoch 86/100\n",
      "43/43 [==============================] - 0s 8ms/step - loss: 4.2703 - mean_absolute_error: 4.2582 - val_loss: 16.3837 - val_mean_absolute_error: 16.1432\n",
      "Epoch 87/100\n",
      "43/43 [==============================] - 0s 8ms/step - loss: 4.2663 - mean_absolute_error: 4.2560 - val_loss: 16.4023 - val_mean_absolute_error: 16.1719\n",
      "Epoch 88/100\n",
      "43/43 [==============================] - 0s 8ms/step - loss: 4.0126 - mean_absolute_error: 4.0151 - val_loss: 15.8770 - val_mean_absolute_error: 15.6723\n",
      "Epoch 89/100\n",
      "43/43 [==============================] - 0s 8ms/step - loss: 4.3390 - mean_absolute_error: 4.3035 - val_loss: 16.0920 - val_mean_absolute_error: 15.8785\n",
      "Epoch 90/100\n",
      "43/43 [==============================] - 0s 8ms/step - loss: 4.0516 - mean_absolute_error: 4.0311 - val_loss: 15.9338 - val_mean_absolute_error: 15.7178\n",
      "Epoch 91/100\n",
      "43/43 [==============================] - 0s 8ms/step - loss: 4.1412 - mean_absolute_error: 4.1397 - val_loss: 16.3959 - val_mean_absolute_error: 16.2082\n",
      "Epoch 92/100\n",
      "43/43 [==============================] - 0s 8ms/step - loss: 4.3957 - mean_absolute_error: 4.3359 - val_loss: 16.4585 - val_mean_absolute_error: 16.2030\n",
      "Epoch 93/100\n",
      "43/43 [==============================] - 0s 8ms/step - loss: 4.1049 - mean_absolute_error: 4.0819 - val_loss: 16.2666 - val_mean_absolute_error: 16.0257\n",
      "Epoch 94/100\n",
      "43/43 [==============================] - 0s 8ms/step - loss: 4.2083 - mean_absolute_error: 4.2141 - val_loss: 15.9925 - val_mean_absolute_error: 15.7647\n",
      "Epoch 95/100\n",
      "43/43 [==============================] - 0s 8ms/step - loss: 4.4373 - mean_absolute_error: 4.3901 - val_loss: 16.3264 - val_mean_absolute_error: 16.1223\n",
      "Epoch 96/100\n",
      "43/43 [==============================] - 0s 8ms/step - loss: 4.0040 - mean_absolute_error: 3.9619 - val_loss: 15.8143 - val_mean_absolute_error: 15.6068\n",
      "Epoch 97/100\n",
      "43/43 [==============================] - 0s 8ms/step - loss: 4.0549 - mean_absolute_error: 4.0172 - val_loss: 16.1168 - val_mean_absolute_error: 15.8914\n",
      "Epoch 98/100\n",
      "43/43 [==============================] - 0s 8ms/step - loss: 3.9222 - mean_absolute_error: 3.9057 - val_loss: 16.0208 - val_mean_absolute_error: 15.7882\n",
      "Epoch 99/100\n",
      "43/43 [==============================] - 0s 7ms/step - loss: 3.8641 - mean_absolute_error: 3.8395 - val_loss: 16.6686 - val_mean_absolute_error: 16.4325\n",
      "Epoch 100/100\n"
     ]
    },
    {
     "name": "stdout",
     "output_type": "stream",
     "text": [
      "43/43 [==============================] - 0s 8ms/step - loss: 4.2207 - mean_absolute_error: 4.2201 - val_loss: 16.2653 - val_mean_absolute_error: 16.0605\n"
     ]
    }
   ],
   "source": [
    "X_train_ct = preprocessor.fit_transform(X_train, y_train)\n",
    "X_test_ct = preprocessor.transform(X_test)\n",
    "\n",
    "learning_rate = 0.01\n",
    "\n",
    "model4 = Sequential([\n",
    "    Dense(520, kernel_initializer='normal', activation='relu'),\n",
    "    Dropout(0.2),\n",
    "    Dense(480, kernel_initializer='normal', activation='relu'),\n",
    "    Dropout(0.2),\n",
    "    Dense(256, kernel_initializer='normal', activation='relu'),\n",
    "    Dense(1, kernel_initializer='normal', activation='linear')\n",
    "  ])\n",
    "\n",
    "mae_k = MeanAbsoluteError()\n",
    "model4.compile(loss=mae_k, optimizer=Adam(learning_rate=learning_rate), metrics=[mae_k])\n",
    "\n",
    "model_4 = model4.fit(X_train_ct, y_train, epochs=100, batch_size=64, validation_split=0.2)"
   ]
  },
  {
   "cell_type": "code",
   "execution_count": 32,
   "id": "27bfaafc",
   "metadata": {},
   "outputs": [
    {
     "name": "stdout",
     "output_type": "stream",
     "text": [
      " 78/106 [=====================>........] - ETA: 0s"
     ]
    },
    {
     "name": "stderr",
     "output_type": "stream",
     "text": [
      "2023-04-19 21:09:28.865285: I tensorflow/core/grappler/optimizers/custom_graph_optimizer_registry.cc:113] Plugin optimizer for device_type GPU is enabled.\n"
     ]
    },
    {
     "name": "stdout",
     "output_type": "stream",
     "text": [
      "106/106 [==============================] - 0s 2ms/step\n",
      "46/46 [==============================] - 0s 2ms/step\n",
      "MAE: \n",
      "train: 5.990\n",
      "test:  14.236\n"
     ]
    }
   ],
   "source": [
    "y_train_pred = model4.predict(X_train_ct)\n",
    "y_test_pred = model4.predict(X_test_ct)\n",
    "\n",
    "mae_train = mean_absolute_error(y_train, y_train_pred)\n",
    "mae_test = mean_absolute_error(y_test, y_test_pred)\n",
    "\n",
    "print(\"MAE: \")\n",
    "print(f\"train: {mae_train:.3f}\")\n",
    "print(f\"test: {mae_test: .3f}\")"
   ]
  },
  {
   "cell_type": "markdown",
   "id": "7b4fc91f",
   "metadata": {},
   "source": [
    "The Neural Network didn't improve upon the XGBoost regressor MAE score. In fact it's gone up by a point, more than our stacked model or the gridsearch tuned XGBoost. Maybe more layers will help."
   ]
  },
  {
   "cell_type": "markdown",
   "id": "96b03be7",
   "metadata": {},
   "source": [
    "## Model 4 - Neural Network, 5 Hidden Layers¶\n",
    "\n",
    "For this model, we'll add more hidden layers."
   ]
  },
  {
   "cell_type": "code",
   "execution_count": 33,
   "id": "0d998789",
   "metadata": {},
   "outputs": [
    {
     "name": "stdout",
     "output_type": "stream",
     "text": [
      "Epoch 1/100\n",
      " 8/43 [====>.........................] - ETA: 0s - loss: 44.0093 - mean_absolute_error: 44.0093 "
     ]
    },
    {
     "name": "stderr",
     "output_type": "stream",
     "text": [
      "2023-04-19 21:09:29.426752: I tensorflow/core/grappler/optimizers/custom_graph_optimizer_registry.cc:113] Plugin optimizer for device_type GPU is enabled.\n"
     ]
    },
    {
     "name": "stdout",
     "output_type": "stream",
     "text": [
      "43/43 [==============================] - 1s 11ms/step - loss: 26.5852 - mean_absolute_error: 26.4130 - val_loss: 22.5193 - val_mean_absolute_error: 22.3779\n",
      "Epoch 2/100\n",
      "15/43 [=========>....................] - ETA: 0s - loss: 21.4978 - mean_absolute_error: 21.4978"
     ]
    },
    {
     "name": "stderr",
     "output_type": "stream",
     "text": [
      "2023-04-19 21:09:29.930513: I tensorflow/core/grappler/optimizers/custom_graph_optimizer_registry.cc:113] Plugin optimizer for device_type GPU is enabled.\n"
     ]
    },
    {
     "name": "stdout",
     "output_type": "stream",
     "text": [
      "43/43 [==============================] - 0s 9ms/step - loss: 19.4377 - mean_absolute_error: 19.2413 - val_loss: 19.5244 - val_mean_absolute_error: 19.3273\n",
      "Epoch 3/100\n",
      "43/43 [==============================] - 0s 9ms/step - loss: 15.6167 - mean_absolute_error: 15.6080 - val_loss: 17.5707 - val_mean_absolute_error: 17.2815\n",
      "Epoch 4/100\n",
      "43/43 [==============================] - 0s 9ms/step - loss: 14.9367 - mean_absolute_error: 14.7951 - val_loss: 18.0778 - val_mean_absolute_error: 17.8805\n",
      "Epoch 5/100\n",
      "43/43 [==============================] - 0s 9ms/step - loss: 14.2825 - mean_absolute_error: 14.1345 - val_loss: 17.8227 - val_mean_absolute_error: 17.5727\n",
      "Epoch 6/100\n",
      "43/43 [==============================] - 0s 9ms/step - loss: 13.5640 - mean_absolute_error: 13.6770 - val_loss: 18.3133 - val_mean_absolute_error: 18.0116\n",
      "Epoch 7/100\n",
      "43/43 [==============================] - 0s 9ms/step - loss: 13.2922 - mean_absolute_error: 13.2452 - val_loss: 18.5929 - val_mean_absolute_error: 18.4197\n",
      "Epoch 8/100\n",
      "43/43 [==============================] - 0s 9ms/step - loss: 12.6348 - mean_absolute_error: 12.5356 - val_loss: 17.3445 - val_mean_absolute_error: 17.1930\n",
      "Epoch 9/100\n",
      "43/43 [==============================] - 0s 9ms/step - loss: 12.5122 - mean_absolute_error: 12.4292 - val_loss: 16.7185 - val_mean_absolute_error: 16.5282\n",
      "Epoch 10/100\n",
      "43/43 [==============================] - 0s 9ms/step - loss: 11.8275 - mean_absolute_error: 11.8340 - val_loss: 17.4677 - val_mean_absolute_error: 17.2893\n",
      "Epoch 11/100\n",
      "43/43 [==============================] - 0s 10ms/step - loss: 11.6484 - mean_absolute_error: 11.8296 - val_loss: 16.7621 - val_mean_absolute_error: 16.5250\n",
      "Epoch 12/100\n",
      "43/43 [==============================] - 0s 9ms/step - loss: 11.0008 - mean_absolute_error: 10.9356 - val_loss: 17.9730 - val_mean_absolute_error: 17.7275\n",
      "Epoch 13/100\n",
      "43/43 [==============================] - 0s 9ms/step - loss: 10.3669 - mean_absolute_error: 10.2480 - val_loss: 16.6818 - val_mean_absolute_error: 16.4300\n",
      "Epoch 14/100\n",
      "43/43 [==============================] - 0s 9ms/step - loss: 9.6307 - mean_absolute_error: 9.5505 - val_loss: 16.9729 - val_mean_absolute_error: 16.7255\n",
      "Epoch 15/100\n",
      "43/43 [==============================] - 0s 9ms/step - loss: 9.0942 - mean_absolute_error: 9.0832 - val_loss: 16.6964 - val_mean_absolute_error: 16.4342\n",
      "Epoch 16/100\n",
      "43/43 [==============================] - 0s 9ms/step - loss: 9.8169 - mean_absolute_error: 9.9086 - val_loss: 16.8635 - val_mean_absolute_error: 16.6193\n",
      "Epoch 17/100\n",
      "43/43 [==============================] - 0s 9ms/step - loss: 9.7942 - mean_absolute_error: 9.8601 - val_loss: 17.1176 - val_mean_absolute_error: 16.9414\n",
      "Epoch 18/100\n",
      "43/43 [==============================] - 0s 9ms/step - loss: 8.7510 - mean_absolute_error: 8.7414 - val_loss: 16.2269 - val_mean_absolute_error: 16.0101\n",
      "Epoch 19/100\n",
      "43/43 [==============================] - 0s 9ms/step - loss: 8.1668 - mean_absolute_error: 8.2076 - val_loss: 16.4274 - val_mean_absolute_error: 16.2064\n",
      "Epoch 20/100\n",
      "43/43 [==============================] - 0s 9ms/step - loss: 8.0492 - mean_absolute_error: 7.9397 - val_loss: 16.3272 - val_mean_absolute_error: 16.1087\n",
      "Epoch 21/100\n",
      "43/43 [==============================] - 0s 9ms/step - loss: 7.5432 - mean_absolute_error: 7.5511 - val_loss: 17.0256 - val_mean_absolute_error: 16.7658\n",
      "Epoch 22/100\n",
      "43/43 [==============================] - 0s 9ms/step - loss: 7.2118 - mean_absolute_error: 7.1018 - val_loss: 16.9585 - val_mean_absolute_error: 16.7502\n",
      "Epoch 23/100\n",
      "43/43 [==============================] - 0s 9ms/step - loss: 7.2081 - mean_absolute_error: 7.1533 - val_loss: 16.6331 - val_mean_absolute_error: 16.3810\n",
      "Epoch 24/100\n",
      "43/43 [==============================] - 0s 9ms/step - loss: 6.6071 - mean_absolute_error: 6.5515 - val_loss: 17.2786 - val_mean_absolute_error: 17.1027\n",
      "Epoch 25/100\n",
      "43/43 [==============================] - 0s 9ms/step - loss: 6.6949 - mean_absolute_error: 6.6373 - val_loss: 16.8703 - val_mean_absolute_error: 16.6491\n",
      "Epoch 26/100\n",
      "43/43 [==============================] - 0s 10ms/step - loss: 7.1750 - mean_absolute_error: 7.1501 - val_loss: 17.4521 - val_mean_absolute_error: 17.2915\n",
      "Epoch 27/100\n",
      "43/43 [==============================] - 0s 10ms/step - loss: 7.5852 - mean_absolute_error: 7.5784 - val_loss: 16.0248 - val_mean_absolute_error: 15.8160\n",
      "Epoch 28/100\n",
      "43/43 [==============================] - 0s 9ms/step - loss: 6.5349 - mean_absolute_error: 6.5616 - val_loss: 16.6846 - val_mean_absolute_error: 16.5031\n",
      "Epoch 29/100\n",
      "43/43 [==============================] - 0s 9ms/step - loss: 6.6027 - mean_absolute_error: 6.6228 - val_loss: 16.8743 - val_mean_absolute_error: 16.6823\n",
      "Epoch 30/100\n",
      "43/43 [==============================] - 0s 9ms/step - loss: 6.6947 - mean_absolute_error: 6.6588 - val_loss: 16.4236 - val_mean_absolute_error: 16.2317\n",
      "Epoch 31/100\n",
      "43/43 [==============================] - 0s 9ms/step - loss: 6.6256 - mean_absolute_error: 6.6212 - val_loss: 16.5337 - val_mean_absolute_error: 16.2968\n",
      "Epoch 32/100\n",
      "43/43 [==============================] - 0s 9ms/step - loss: 7.5130 - mean_absolute_error: 7.5558 - val_loss: 16.6684 - val_mean_absolute_error: 16.4425\n",
      "Epoch 33/100\n",
      "43/43 [==============================] - 0s 9ms/step - loss: 6.2416 - mean_absolute_error: 6.1827 - val_loss: 16.5419 - val_mean_absolute_error: 16.3080\n",
      "Epoch 34/100\n",
      "43/43 [==============================] - 0s 9ms/step - loss: 5.6377 - mean_absolute_error: 5.6027 - val_loss: 16.5704 - val_mean_absolute_error: 16.3774\n",
      "Epoch 35/100\n",
      "43/43 [==============================] - 0s 9ms/step - loss: 7.2588 - mean_absolute_error: 7.4007 - val_loss: 16.4438 - val_mean_absolute_error: 16.2323\n",
      "Epoch 36/100\n",
      "43/43 [==============================] - 0s 9ms/step - loss: 6.0764 - mean_absolute_error: 6.0915 - val_loss: 15.9975 - val_mean_absolute_error: 15.8239\n",
      "Epoch 37/100\n",
      "43/43 [==============================] - 0s 9ms/step - loss: 5.5335 - mean_absolute_error: 5.5126 - val_loss: 16.0221 - val_mean_absolute_error: 15.7863\n",
      "Epoch 38/100\n",
      "43/43 [==============================] - 0s 9ms/step - loss: 5.4858 - mean_absolute_error: 5.4687 - val_loss: 16.1833 - val_mean_absolute_error: 15.9741\n",
      "Epoch 39/100\n",
      "43/43 [==============================] - 0s 9ms/step - loss: 5.3927 - mean_absolute_error: 5.4007 - val_loss: 16.3437 - val_mean_absolute_error: 16.1296\n",
      "Epoch 40/100\n",
      "43/43 [==============================] - 0s 9ms/step - loss: 5.2082 - mean_absolute_error: 5.1544 - val_loss: 16.6604 - val_mean_absolute_error: 16.4069\n",
      "Epoch 41/100\n",
      "43/43 [==============================] - 0s 9ms/step - loss: 5.1827 - mean_absolute_error: 5.1311 - val_loss: 16.3063 - val_mean_absolute_error: 16.1154\n",
      "Epoch 42/100\n",
      "43/43 [==============================] - 0s 9ms/step - loss: 5.6371 - mean_absolute_error: 5.5882 - val_loss: 16.4044 - val_mean_absolute_error: 16.2274\n",
      "Epoch 43/100\n",
      "43/43 [==============================] - 0s 9ms/step - loss: 5.0532 - mean_absolute_error: 5.1065 - val_loss: 16.5650 - val_mean_absolute_error: 16.3769\n",
      "Epoch 44/100\n",
      "43/43 [==============================] - 0s 9ms/step - loss: 5.9380 - mean_absolute_error: 5.8820 - val_loss: 17.0205 - val_mean_absolute_error: 16.8231\n",
      "Epoch 45/100\n",
      "43/43 [==============================] - 0s 9ms/step - loss: 5.7136 - mean_absolute_error: 5.7068 - val_loss: 16.0178 - val_mean_absolute_error: 15.8012\n",
      "Epoch 46/100\n",
      "43/43 [==============================] - 0s 9ms/step - loss: 4.9788 - mean_absolute_error: 4.9459 - val_loss: 16.1518 - val_mean_absolute_error: 15.9451\n",
      "Epoch 47/100\n",
      "43/43 [==============================] - 0s 9ms/step - loss: 5.1324 - mean_absolute_error: 5.0754 - val_loss: 16.7108 - val_mean_absolute_error: 16.5406\n",
      "Epoch 48/100\n",
      "43/43 [==============================] - 0s 9ms/step - loss: 5.1789 - mean_absolute_error: 5.2289 - val_loss: 16.4798 - val_mean_absolute_error: 16.3058\n",
      "Epoch 49/100\n",
      "43/43 [==============================] - 0s 9ms/step - loss: 5.3023 - mean_absolute_error: 5.4792 - val_loss: 16.3592 - val_mean_absolute_error: 16.1721\n",
      "Epoch 50/100\n",
      "43/43 [==============================] - 0s 9ms/step - loss: 5.7909 - mean_absolute_error: 5.7894 - val_loss: 16.2400 - val_mean_absolute_error: 16.0488\n",
      "Epoch 51/100\n"
     ]
    },
    {
     "name": "stdout",
     "output_type": "stream",
     "text": [
      "43/43 [==============================] - 0s 9ms/step - loss: 5.4873 - mean_absolute_error: 5.5118 - val_loss: 16.1275 - val_mean_absolute_error: 15.9155\n",
      "Epoch 52/100\n",
      "43/43 [==============================] - 0s 9ms/step - loss: 5.3393 - mean_absolute_error: 5.3066 - val_loss: 16.3249 - val_mean_absolute_error: 16.1179\n",
      "Epoch 53/100\n",
      "43/43 [==============================] - 0s 9ms/step - loss: 5.1489 - mean_absolute_error: 5.1235 - val_loss: 16.4866 - val_mean_absolute_error: 16.2924\n",
      "Epoch 54/100\n",
      "43/43 [==============================] - 0s 9ms/step - loss: 4.9969 - mean_absolute_error: 4.9916 - val_loss: 16.0013 - val_mean_absolute_error: 15.8352\n",
      "Epoch 55/100\n",
      "43/43 [==============================] - 0s 9ms/step - loss: 4.5639 - mean_absolute_error: 4.5155 - val_loss: 16.1245 - val_mean_absolute_error: 15.9095\n",
      "Epoch 56/100\n",
      "43/43 [==============================] - 0s 9ms/step - loss: 4.5542 - mean_absolute_error: 4.5393 - val_loss: 16.0466 - val_mean_absolute_error: 15.8593\n",
      "Epoch 57/100\n",
      "43/43 [==============================] - 0s 9ms/step - loss: 4.8273 - mean_absolute_error: 4.7876 - val_loss: 16.2110 - val_mean_absolute_error: 16.0252\n",
      "Epoch 58/100\n",
      "43/43 [==============================] - 0s 9ms/step - loss: 4.6056 - mean_absolute_error: 4.6001 - val_loss: 16.3491 - val_mean_absolute_error: 16.1645\n",
      "Epoch 59/100\n",
      "43/43 [==============================] - 0s 9ms/step - loss: 5.0159 - mean_absolute_error: 4.9661 - val_loss: 16.3119 - val_mean_absolute_error: 16.1229\n",
      "Epoch 60/100\n",
      "43/43 [==============================] - 0s 9ms/step - loss: 4.3622 - mean_absolute_error: 4.3093 - val_loss: 16.9060 - val_mean_absolute_error: 16.6709\n",
      "Epoch 61/100\n",
      "43/43 [==============================] - 0s 9ms/step - loss: 4.9684 - mean_absolute_error: 4.9385 - val_loss: 16.4811 - val_mean_absolute_error: 16.3051\n",
      "Epoch 62/100\n",
      "43/43 [==============================] - 0s 9ms/step - loss: 5.1729 - mean_absolute_error: 5.1330 - val_loss: 16.3473 - val_mean_absolute_error: 16.1155\n",
      "Epoch 63/100\n",
      "43/43 [==============================] - 0s 9ms/step - loss: 4.2257 - mean_absolute_error: 4.2528 - val_loss: 15.9673 - val_mean_absolute_error: 15.7558\n",
      "Epoch 64/100\n",
      "43/43 [==============================] - 0s 8ms/step - loss: 4.4347 - mean_absolute_error: 4.4431 - val_loss: 16.2746 - val_mean_absolute_error: 16.0756\n",
      "Epoch 65/100\n",
      "43/43 [==============================] - 0s 9ms/step - loss: 4.3096 - mean_absolute_error: 4.3232 - val_loss: 16.1886 - val_mean_absolute_error: 16.0140\n",
      "Epoch 66/100\n",
      "43/43 [==============================] - 0s 9ms/step - loss: 4.2546 - mean_absolute_error: 4.2327 - val_loss: 16.2925 - val_mean_absolute_error: 16.0904\n",
      "Epoch 67/100\n",
      "43/43 [==============================] - 0s 9ms/step - loss: 4.5091 - mean_absolute_error: 4.5001 - val_loss: 16.2387 - val_mean_absolute_error: 16.0611\n",
      "Epoch 68/100\n",
      "43/43 [==============================] - 0s 9ms/step - loss: 4.2740 - mean_absolute_error: 4.4170 - val_loss: 16.3749 - val_mean_absolute_error: 16.1700\n",
      "Epoch 69/100\n",
      "43/43 [==============================] - 0s 9ms/step - loss: 5.1982 - mean_absolute_error: 5.1421 - val_loss: 16.0449 - val_mean_absolute_error: 15.8594\n",
      "Epoch 70/100\n",
      "43/43 [==============================] - 0s 9ms/step - loss: 4.3880 - mean_absolute_error: 4.3995 - val_loss: 16.1628 - val_mean_absolute_error: 15.9819\n",
      "Epoch 71/100\n",
      "43/43 [==============================] - 0s 9ms/step - loss: 4.3920 - mean_absolute_error: 4.3428 - val_loss: 16.1150 - val_mean_absolute_error: 15.9508\n",
      "Epoch 72/100\n",
      "43/43 [==============================] - 0s 9ms/step - loss: 4.1397 - mean_absolute_error: 4.1059 - val_loss: 16.0245 - val_mean_absolute_error: 15.8609\n",
      "Epoch 73/100\n",
      "43/43 [==============================] - 0s 9ms/step - loss: 4.3519 - mean_absolute_error: 4.3534 - val_loss: 15.9701 - val_mean_absolute_error: 15.7530\n",
      "Epoch 74/100\n",
      "43/43 [==============================] - 0s 9ms/step - loss: 4.2195 - mean_absolute_error: 4.2019 - val_loss: 16.6333 - val_mean_absolute_error: 16.4954\n",
      "Epoch 75/100\n",
      "43/43 [==============================] - 0s 9ms/step - loss: 4.1622 - mean_absolute_error: 4.1269 - val_loss: 16.2642 - val_mean_absolute_error: 16.0395\n",
      "Epoch 76/100\n",
      "43/43 [==============================] - 0s 9ms/step - loss: 4.4139 - mean_absolute_error: 4.3844 - val_loss: 16.5098 - val_mean_absolute_error: 16.3409\n",
      "Epoch 77/100\n",
      "43/43 [==============================] - 0s 9ms/step - loss: 4.4750 - mean_absolute_error: 4.5048 - val_loss: 15.7894 - val_mean_absolute_error: 15.5808\n",
      "Epoch 78/100\n",
      "43/43 [==============================] - 0s 9ms/step - loss: 4.2388 - mean_absolute_error: 4.3157 - val_loss: 16.3389 - val_mean_absolute_error: 16.1769\n",
      "Epoch 79/100\n",
      "43/43 [==============================] - 0s 9ms/step - loss: 4.7803 - mean_absolute_error: 4.7491 - val_loss: 16.1511 - val_mean_absolute_error: 15.9571\n",
      "Epoch 80/100\n",
      "43/43 [==============================] - 0s 9ms/step - loss: 4.0738 - mean_absolute_error: 4.0342 - val_loss: 16.2050 - val_mean_absolute_error: 16.0444\n",
      "Epoch 81/100\n",
      "43/43 [==============================] - 0s 9ms/step - loss: 3.9068 - mean_absolute_error: 3.9168 - val_loss: 15.8826 - val_mean_absolute_error: 15.6963\n",
      "Epoch 82/100\n",
      "43/43 [==============================] - 0s 9ms/step - loss: 4.0825 - mean_absolute_error: 4.0719 - val_loss: 16.1301 - val_mean_absolute_error: 15.9581\n",
      "Epoch 83/100\n",
      "43/43 [==============================] - 0s 8ms/step - loss: 3.8055 - mean_absolute_error: 3.9018 - val_loss: 15.9295 - val_mean_absolute_error: 15.7494\n",
      "Epoch 84/100\n",
      "43/43 [==============================] - 0s 9ms/step - loss: 4.3523 - mean_absolute_error: 4.3087 - val_loss: 16.1166 - val_mean_absolute_error: 15.9270\n",
      "Epoch 85/100\n",
      "43/43 [==============================] - 0s 8ms/step - loss: 3.9832 - mean_absolute_error: 3.9888 - val_loss: 15.7026 - val_mean_absolute_error: 15.4970\n",
      "Epoch 86/100\n",
      "43/43 [==============================] - 0s 9ms/step - loss: 4.9959 - mean_absolute_error: 4.9322 - val_loss: 16.5176 - val_mean_absolute_error: 16.3007\n",
      "Epoch 87/100\n",
      "43/43 [==============================] - 0s 9ms/step - loss: 4.2507 - mean_absolute_error: 4.2181 - val_loss: 16.4560 - val_mean_absolute_error: 16.2564\n",
      "Epoch 88/100\n",
      "43/43 [==============================] - 0s 9ms/step - loss: 4.1056 - mean_absolute_error: 4.1507 - val_loss: 16.0910 - val_mean_absolute_error: 15.9162\n",
      "Epoch 89/100\n",
      "43/43 [==============================] - 0s 9ms/step - loss: 3.9700 - mean_absolute_error: 3.9503 - val_loss: 16.1184 - val_mean_absolute_error: 15.9770\n",
      "Epoch 90/100\n",
      "43/43 [==============================] - 0s 9ms/step - loss: 4.1739 - mean_absolute_error: 4.1638 - val_loss: 16.2805 - val_mean_absolute_error: 16.0904\n",
      "Epoch 91/100\n",
      "43/43 [==============================] - 0s 9ms/step - loss: 3.9139 - mean_absolute_error: 3.9244 - val_loss: 16.6068 - val_mean_absolute_error: 16.4107\n",
      "Epoch 92/100\n",
      "43/43 [==============================] - 0s 9ms/step - loss: 3.9376 - mean_absolute_error: 3.9280 - val_loss: 16.4006 - val_mean_absolute_error: 16.1944\n",
      "Epoch 93/100\n",
      "43/43 [==============================] - 0s 9ms/step - loss: 4.1599 - mean_absolute_error: 4.1250 - val_loss: 16.2237 - val_mean_absolute_error: 16.0392\n",
      "Epoch 94/100\n",
      "43/43 [==============================] - 0s 9ms/step - loss: 3.7645 - mean_absolute_error: 3.7724 - val_loss: 16.7298 - val_mean_absolute_error: 16.5536\n",
      "Epoch 95/100\n",
      "43/43 [==============================] - 0s 9ms/step - loss: 4.3152 - mean_absolute_error: 4.3075 - val_loss: 16.5294 - val_mean_absolute_error: 16.3582\n",
      "Epoch 96/100\n",
      "43/43 [==============================] - 0s 9ms/step - loss: 4.7142 - mean_absolute_error: 4.6944 - val_loss: 16.1141 - val_mean_absolute_error: 15.9487\n",
      "Epoch 97/100\n",
      "43/43 [==============================] - 0s 9ms/step - loss: 3.8951 - mean_absolute_error: 4.0563 - val_loss: 16.0122 - val_mean_absolute_error: 15.8438\n",
      "Epoch 98/100\n",
      "43/43 [==============================] - 0s 9ms/step - loss: 4.1624 - mean_absolute_error: 4.1337 - val_loss: 16.3596 - val_mean_absolute_error: 16.1733\n",
      "Epoch 99/100\n",
      "43/43 [==============================] - 0s 9ms/step - loss: 4.1871 - mean_absolute_error: 4.2267 - val_loss: 16.5413 - val_mean_absolute_error: 16.3721\n",
      "Epoch 100/100\n"
     ]
    },
    {
     "name": "stdout",
     "output_type": "stream",
     "text": [
      "43/43 [==============================] - 0s 9ms/step - loss: 4.1033 - mean_absolute_error: 4.2163 - val_loss: 16.5308 - val_mean_absolute_error: 16.3679\n"
     ]
    }
   ],
   "source": [
    "learning_rate = 0.01\n",
    "\n",
    "model5 = Sequential([\n",
    "    Dense(520, kernel_initializer='normal', activation='relu'),\n",
    "    Dropout(0.2),\n",
    "    Dense(480, kernel_initializer='normal', activation='relu'),\n",
    "    Dense(480, kernel_initializer='normal', activation='relu'),\n",
    "    Dropout(0.2),\n",
    "    Dense(256, kernel_initializer='normal', activation='relu'),\n",
    "    Dense(256, kernel_initializer='normal', activation='relu'),\n",
    "    Dense(1, kernel_initializer='normal', activation='linear')\n",
    "  ])\n",
    "\n",
    "mae_k = MeanAbsoluteError()\n",
    "model5.compile(loss=mae_k, optimizer=Adam(learning_rate=learning_rate), metrics=[mae_k])\n",
    "\n",
    "model_5 = model5.fit(X_train_ct, y_train, epochs=100, batch_size=64, validation_split=0.2)"
   ]
  },
  {
   "cell_type": "code",
   "execution_count": 34,
   "id": "413aaf54",
   "metadata": {},
   "outputs": [
    {
     "name": "stdout",
     "output_type": "stream",
     "text": [
      " 80/106 [=====================>........] - ETA: 0s"
     ]
    },
    {
     "name": "stderr",
     "output_type": "stream",
     "text": [
      "2023-04-19 21:10:08.500598: I tensorflow/core/grappler/optimizers/custom_graph_optimizer_registry.cc:113] Plugin optimizer for device_type GPU is enabled.\n"
     ]
    },
    {
     "name": "stdout",
     "output_type": "stream",
     "text": [
      "106/106 [==============================] - 0s 2ms/step\n",
      "46/46 [==============================] - 0s 2ms/step\n",
      "MAE: \n",
      "train: 6.016\n",
      "test:  14.177\n"
     ]
    }
   ],
   "source": [
    "y_train_pred = model5.predict(X_train_ct)\n",
    "y_test_pred = model5.predict(X_test_ct)\n",
    "\n",
    "mae_train = mean_absolute_error(y_train, y_train_pred)\n",
    "mae_test = mean_absolute_error(y_test, y_test_pred)\n",
    "\n",
    "print(\"MAE: \")\n",
    "print(f\"train: {mae_train:.3f}\")\n",
    "print(f\"test: {mae_test: .3f}\")"
   ]
  },
  {
   "cell_type": "markdown",
   "id": "d13f5197",
   "metadata": {},
   "source": [
    "Still no dice. Looks like more layers hurt the MAE score."
   ]
  },
  {
   "cell_type": "markdown",
   "id": "5a9f8dbc",
   "metadata": {},
   "source": [
    "## Model 6 - Neural Network, 10 Hidden Layers¶\n",
    "\n",
    "For the final neural network, we'll try 10 hidden layers to see if that improves the score."
   ]
  },
  {
   "cell_type": "code",
   "execution_count": 35,
   "id": "aae2f5f6",
   "metadata": {},
   "outputs": [
    {
     "name": "stdout",
     "output_type": "stream",
     "text": [
      "Epoch 1/100\n",
      " 1/43 [..............................] - ETA: 18s - loss: 41.2895 - mean_absolute_error: 41.2895"
     ]
    },
    {
     "name": "stderr",
     "output_type": "stream",
     "text": [
      "2023-04-19 21:10:09.138653: I tensorflow/core/grappler/optimizers/custom_graph_optimizer_registry.cc:113] Plugin optimizer for device_type GPU is enabled.\n"
     ]
    },
    {
     "name": "stdout",
     "output_type": "stream",
     "text": [
      "43/43 [==============================] - 1s 17ms/step - loss: 57.4240 - mean_absolute_error: 57.7775 - val_loss: 23.5816 - val_mean_absolute_error: 23.3061\n",
      "Epoch 2/100\n",
      " 6/43 [===>..........................] - ETA: 0s - loss: 21.6990 - mean_absolute_error: 21.6990"
     ]
    },
    {
     "name": "stderr",
     "output_type": "stream",
     "text": [
      "2023-04-19 21:10:09.917234: I tensorflow/core/grappler/optimizers/custom_graph_optimizer_registry.cc:113] Plugin optimizer for device_type GPU is enabled.\n"
     ]
    },
    {
     "name": "stdout",
     "output_type": "stream",
     "text": [
      "43/43 [==============================] - 0s 11ms/step - loss: 21.5203 - mean_absolute_error: 21.3744 - val_loss: 23.9444 - val_mean_absolute_error: 23.7447\n",
      "Epoch 3/100\n",
      "43/43 [==============================] - 0s 12ms/step - loss: 22.3437 - mean_absolute_error: 22.1492 - val_loss: 19.6222 - val_mean_absolute_error: 19.3447\n",
      "Epoch 4/100\n",
      "43/43 [==============================] - 0s 12ms/step - loss: 19.2484 - mean_absolute_error: 19.8323 - val_loss: 19.6517 - val_mean_absolute_error: 19.4831\n",
      "Epoch 5/100\n",
      "43/43 [==============================] - 0s 11ms/step - loss: 17.1284 - mean_absolute_error: 17.3127 - val_loss: 20.9126 - val_mean_absolute_error: 20.7625\n",
      "Epoch 6/100\n",
      "43/43 [==============================] - 1s 12ms/step - loss: 16.9808 - mean_absolute_error: 16.9809 - val_loss: 20.1489 - val_mean_absolute_error: 20.0369\n",
      "Epoch 7/100\n",
      "43/43 [==============================] - 1s 11ms/step - loss: 16.7950 - mean_absolute_error: 17.3597 - val_loss: 21.5791 - val_mean_absolute_error: 21.4546\n",
      "Epoch 8/100\n",
      "43/43 [==============================] - 0s 11ms/step - loss: 17.0956 - mean_absolute_error: 16.9952 - val_loss: 18.7102 - val_mean_absolute_error: 18.5768\n",
      "Epoch 9/100\n",
      "43/43 [==============================] - 1s 12ms/step - loss: 15.3250 - mean_absolute_error: 15.1565 - val_loss: 17.9490 - val_mean_absolute_error: 17.7629\n",
      "Epoch 10/100\n",
      "43/43 [==============================] - 1s 12ms/step - loss: 14.6411 - mean_absolute_error: 14.5039 - val_loss: 18.7962 - val_mean_absolute_error: 18.6429\n",
      "Epoch 11/100\n",
      "43/43 [==============================] - 0s 12ms/step - loss: 13.8517 - mean_absolute_error: 13.8677 - val_loss: 20.7725 - val_mean_absolute_error: 20.6227\n",
      "Epoch 12/100\n",
      "43/43 [==============================] - 0s 11ms/step - loss: 13.9889 - mean_absolute_error: 14.2886 - val_loss: 20.0999 - val_mean_absolute_error: 19.9195\n",
      "Epoch 13/100\n",
      "43/43 [==============================] - 0s 12ms/step - loss: 14.2417 - mean_absolute_error: 14.1716 - val_loss: 18.9613 - val_mean_absolute_error: 18.8051\n",
      "Epoch 14/100\n",
      "43/43 [==============================] - 0s 11ms/step - loss: 13.5467 - mean_absolute_error: 13.4910 - val_loss: 17.0453 - val_mean_absolute_error: 16.8814\n",
      "Epoch 15/100\n",
      "43/43 [==============================] - 1s 12ms/step - loss: 12.9313 - mean_absolute_error: 12.9713 - val_loss: 17.3399 - val_mean_absolute_error: 17.1549\n",
      "Epoch 16/100\n",
      "43/43 [==============================] - 1s 12ms/step - loss: 12.7109 - mean_absolute_error: 12.6944 - val_loss: 20.1193 - val_mean_absolute_error: 19.9515\n",
      "Epoch 17/100\n",
      "43/43 [==============================] - 0s 12ms/step - loss: 13.6784 - mean_absolute_error: 13.9231 - val_loss: 20.1831 - val_mean_absolute_error: 20.0738\n",
      "Epoch 18/100\n",
      "43/43 [==============================] - 0s 11ms/step - loss: 14.3119 - mean_absolute_error: 14.2717 - val_loss: 17.7147 - val_mean_absolute_error: 17.5372\n",
      "Epoch 19/100\n",
      "43/43 [==============================] - 0s 11ms/step - loss: 13.1106 - mean_absolute_error: 13.0428 - val_loss: 20.0683 - val_mean_absolute_error: 19.8996\n",
      "Epoch 20/100\n",
      "43/43 [==============================] - 1s 12ms/step - loss: 12.8835 - mean_absolute_error: 12.7500 - val_loss: 21.4550 - val_mean_absolute_error: 21.2902\n",
      "Epoch 21/100\n",
      "43/43 [==============================] - 1s 12ms/step - loss: 11.6549 - mean_absolute_error: 11.6684 - val_loss: 16.7959 - val_mean_absolute_error: 16.6180\n",
      "Epoch 22/100\n",
      "43/43 [==============================] - 1s 12ms/step - loss: 11.8675 - mean_absolute_error: 11.8242 - val_loss: 16.5774 - val_mean_absolute_error: 16.4164\n",
      "Epoch 23/100\n",
      "43/43 [==============================] - 1s 12ms/step - loss: 12.7769 - mean_absolute_error: 12.7303 - val_loss: 16.8984 - val_mean_absolute_error: 16.7082\n",
      "Epoch 24/100\n",
      "43/43 [==============================] - 0s 11ms/step - loss: 12.5785 - mean_absolute_error: 12.4738 - val_loss: 21.7621 - val_mean_absolute_error: 21.6112\n",
      "Epoch 25/100\n",
      "43/43 [==============================] - 1s 12ms/step - loss: 12.9609 - mean_absolute_error: 12.9158 - val_loss: 17.5362 - val_mean_absolute_error: 17.4384\n",
      "Epoch 26/100\n",
      "43/43 [==============================] - 0s 12ms/step - loss: 14.5887 - mean_absolute_error: 14.4063 - val_loss: 19.5888 - val_mean_absolute_error: 19.4321\n",
      "Epoch 27/100\n",
      "43/43 [==============================] - 1s 13ms/step - loss: 12.7913 - mean_absolute_error: 12.7281 - val_loss: 17.6020 - val_mean_absolute_error: 17.4388\n",
      "Epoch 28/100\n",
      "43/43 [==============================] - 0s 11ms/step - loss: 12.7857 - mean_absolute_error: 12.7444 - val_loss: 19.3334 - val_mean_absolute_error: 19.2007\n",
      "Epoch 29/100\n",
      "43/43 [==============================] - 0s 12ms/step - loss: 12.4042 - mean_absolute_error: 12.4560 - val_loss: 17.7129 - val_mean_absolute_error: 17.6094\n",
      "Epoch 30/100\n",
      "43/43 [==============================] - 1s 12ms/step - loss: 12.4654 - mean_absolute_error: 12.3185 - val_loss: 17.9709 - val_mean_absolute_error: 17.7934\n",
      "Epoch 31/100\n",
      "43/43 [==============================] - 1s 12ms/step - loss: 11.9624 - mean_absolute_error: 11.8482 - val_loss: 21.5435 - val_mean_absolute_error: 21.4514\n",
      "Epoch 32/100\n",
      "43/43 [==============================] - 0s 11ms/step - loss: 11.3140 - mean_absolute_error: 11.1994 - val_loss: 18.8907 - val_mean_absolute_error: 18.7955\n",
      "Epoch 33/100\n",
      "43/43 [==============================] - 1s 12ms/step - loss: 10.1833 - mean_absolute_error: 10.2929 - val_loss: 16.9760 - val_mean_absolute_error: 16.8465\n",
      "Epoch 34/100\n",
      "43/43 [==============================] - 0s 11ms/step - loss: 9.9205 - mean_absolute_error: 9.9700 - val_loss: 19.2146 - val_mean_absolute_error: 19.0554\n",
      "Epoch 35/100\n",
      "43/43 [==============================] - 0s 11ms/step - loss: 10.3750 - mean_absolute_error: 10.4104 - val_loss: 17.6874 - val_mean_absolute_error: 17.4913\n",
      "Epoch 36/100\n",
      "43/43 [==============================] - 1s 12ms/step - loss: 11.7149 - mean_absolute_error: 11.7607 - val_loss: 17.7807 - val_mean_absolute_error: 17.6639\n",
      "Epoch 37/100\n",
      "43/43 [==============================] - 0s 11ms/step - loss: 11.4668 - mean_absolute_error: 12.0463 - val_loss: 18.2164 - val_mean_absolute_error: 18.1184\n",
      "Epoch 38/100\n",
      "43/43 [==============================] - 0s 11ms/step - loss: 11.0441 - mean_absolute_error: 11.0508 - val_loss: 23.7698 - val_mean_absolute_error: 23.6229\n",
      "Epoch 39/100\n",
      "43/43 [==============================] - 0s 12ms/step - loss: 10.0618 - mean_absolute_error: 9.9547 - val_loss: 17.9795 - val_mean_absolute_error: 17.8537\n",
      "Epoch 40/100\n",
      "43/43 [==============================] - 0s 12ms/step - loss: 9.4303 - mean_absolute_error: 9.3862 - val_loss: 17.5347 - val_mean_absolute_error: 17.4074\n",
      "Epoch 41/100\n",
      "43/43 [==============================] - 1s 12ms/step - loss: 8.9423 - mean_absolute_error: 8.9266 - val_loss: 19.4635 - val_mean_absolute_error: 19.3421\n",
      "Epoch 42/100\n",
      "43/43 [==============================] - 0s 11ms/step - loss: 9.1914 - mean_absolute_error: 9.0824 - val_loss: 18.9321 - val_mean_absolute_error: 18.8165\n",
      "Epoch 43/100\n",
      "43/43 [==============================] - 0s 12ms/step - loss: 8.6569 - mean_absolute_error: 8.6153 - val_loss: 16.8810 - val_mean_absolute_error: 16.7579\n",
      "Epoch 44/100\n",
      "43/43 [==============================] - 0s 12ms/step - loss: 8.3786 - mean_absolute_error: 8.3616 - val_loss: 19.1575 - val_mean_absolute_error: 19.0299\n",
      "Epoch 45/100\n",
      "43/43 [==============================] - 0s 11ms/step - loss: 8.7646 - mean_absolute_error: 8.6652 - val_loss: 17.4352 - val_mean_absolute_error: 17.2778\n",
      "Epoch 46/100\n",
      "43/43 [==============================] - 1s 12ms/step - loss: 8.7972 - mean_absolute_error: 9.0193 - val_loss: 18.3893 - val_mean_absolute_error: 18.2690\n",
      "Epoch 47/100\n",
      "43/43 [==============================] - 0s 12ms/step - loss: 9.6810 - mean_absolute_error: 9.7119 - val_loss: 19.7648 - val_mean_absolute_error: 19.6294\n",
      "Epoch 48/100\n",
      "43/43 [==============================] - 1s 12ms/step - loss: 8.5601 - mean_absolute_error: 8.5821 - val_loss: 18.6325 - val_mean_absolute_error: 18.5118\n",
      "Epoch 49/100\n",
      "43/43 [==============================] - 1s 12ms/step - loss: 7.4322 - mean_absolute_error: 7.3687 - val_loss: 16.9818 - val_mean_absolute_error: 16.8744\n",
      "Epoch 50/100\n",
      "43/43 [==============================] - 1s 12ms/step - loss: 7.6743 - mean_absolute_error: 8.1722 - val_loss: 19.9063 - val_mean_absolute_error: 19.7729\n"
     ]
    },
    {
     "name": "stdout",
     "output_type": "stream",
     "text": [
      "Epoch 51/100\n",
      "43/43 [==============================] - 0s 11ms/step - loss: 7.5595 - mean_absolute_error: 7.5796 - val_loss: 19.8275 - val_mean_absolute_error: 19.7090\n",
      "Epoch 52/100\n",
      "43/43 [==============================] - 0s 11ms/step - loss: 8.4540 - mean_absolute_error: 8.4385 - val_loss: 19.2341 - val_mean_absolute_error: 19.1252\n",
      "Epoch 53/100\n",
      "43/43 [==============================] - 0s 12ms/step - loss: 7.7366 - mean_absolute_error: 7.6737 - val_loss: 17.7633 - val_mean_absolute_error: 17.6211\n",
      "Epoch 54/100\n",
      "43/43 [==============================] - 0s 12ms/step - loss: 7.0298 - mean_absolute_error: 7.0464 - val_loss: 18.2548 - val_mean_absolute_error: 18.1213\n",
      "Epoch 55/100\n",
      "43/43 [==============================] - 1s 12ms/step - loss: 6.9822 - mean_absolute_error: 6.9101 - val_loss: 18.1709 - val_mean_absolute_error: 18.0440\n",
      "Epoch 56/100\n",
      "43/43 [==============================] - 1s 12ms/step - loss: 7.3767 - mean_absolute_error: 7.3107 - val_loss: 17.5575 - val_mean_absolute_error: 17.4353\n",
      "Epoch 57/100\n",
      "43/43 [==============================] - 1s 12ms/step - loss: 8.0401 - mean_absolute_error: 8.1680 - val_loss: 17.5104 - val_mean_absolute_error: 17.3802\n",
      "Epoch 58/100\n",
      "43/43 [==============================] - 0s 11ms/step - loss: 7.6585 - mean_absolute_error: 7.5572 - val_loss: 18.2214 - val_mean_absolute_error: 18.1290\n",
      "Epoch 59/100\n",
      "43/43 [==============================] - 1s 12ms/step - loss: 7.4443 - mean_absolute_error: 7.4068 - val_loss: 20.4362 - val_mean_absolute_error: 20.2980\n",
      "Epoch 60/100\n",
      "43/43 [==============================] - 0s 12ms/step - loss: 7.8036 - mean_absolute_error: 7.8253 - val_loss: 18.1516 - val_mean_absolute_error: 18.0707\n",
      "Epoch 61/100\n",
      "43/43 [==============================] - 0s 11ms/step - loss: 8.3480 - mean_absolute_error: 8.3121 - val_loss: 17.1201 - val_mean_absolute_error: 17.0397\n",
      "Epoch 62/100\n",
      "43/43 [==============================] - 1s 12ms/step - loss: 7.7022 - mean_absolute_error: 7.6948 - val_loss: 17.4000 - val_mean_absolute_error: 17.2630\n",
      "Epoch 63/100\n",
      "43/43 [==============================] - 0s 11ms/step - loss: 7.7237 - mean_absolute_error: 7.7168 - val_loss: 19.3359 - val_mean_absolute_error: 19.2279\n",
      "Epoch 64/100\n",
      "43/43 [==============================] - 1s 12ms/step - loss: 7.7011 - mean_absolute_error: 7.6947 - val_loss: 18.1489 - val_mean_absolute_error: 18.0478\n",
      "Epoch 65/100\n",
      "43/43 [==============================] - 0s 11ms/step - loss: 7.1876 - mean_absolute_error: 7.0903 - val_loss: 17.8594 - val_mean_absolute_error: 17.7490\n",
      "Epoch 66/100\n",
      "43/43 [==============================] - 1s 12ms/step - loss: 7.8931 - mean_absolute_error: 7.9577 - val_loss: 17.3940 - val_mean_absolute_error: 17.2940\n",
      "Epoch 67/100\n",
      "43/43 [==============================] - 1s 12ms/step - loss: 8.2817 - mean_absolute_error: 8.2461 - val_loss: 18.3925 - val_mean_absolute_error: 18.3195\n",
      "Epoch 68/100\n",
      "43/43 [==============================] - 0s 12ms/step - loss: 7.8445 - mean_absolute_error: 7.8011 - val_loss: 16.6560 - val_mean_absolute_error: 16.5611\n",
      "Epoch 69/100\n",
      "43/43 [==============================] - 1s 12ms/step - loss: 7.5374 - mean_absolute_error: 7.5809 - val_loss: 17.9328 - val_mean_absolute_error: 17.8203\n",
      "Epoch 70/100\n",
      "43/43 [==============================] - 0s 11ms/step - loss: 8.6787 - mean_absolute_error: 9.0233 - val_loss: 16.2997 - val_mean_absolute_error: 16.1275\n",
      "Epoch 71/100\n",
      "43/43 [==============================] - 0s 11ms/step - loss: 9.0314 - mean_absolute_error: 9.3747 - val_loss: 16.4031 - val_mean_absolute_error: 16.2888\n",
      "Epoch 72/100\n",
      "43/43 [==============================] - 1s 12ms/step - loss: 7.6348 - mean_absolute_error: 7.6178 - val_loss: 18.4760 - val_mean_absolute_error: 18.3372\n",
      "Epoch 73/100\n",
      "43/43 [==============================] - 0s 11ms/step - loss: 7.9397 - mean_absolute_error: 7.9156 - val_loss: 18.1449 - val_mean_absolute_error: 18.0333\n",
      "Epoch 74/100\n",
      "43/43 [==============================] - 1s 12ms/step - loss: 7.7226 - mean_absolute_error: 7.7410 - val_loss: 17.7454 - val_mean_absolute_error: 17.6461\n",
      "Epoch 75/100\n",
      "43/43 [==============================] - 0s 11ms/step - loss: 7.5895 - mean_absolute_error: 7.4970 - val_loss: 17.5332 - val_mean_absolute_error: 17.4517\n",
      "Epoch 76/100\n",
      "43/43 [==============================] - 0s 11ms/step - loss: 6.8358 - mean_absolute_error: 7.0229 - val_loss: 19.0112 - val_mean_absolute_error: 18.9109\n",
      "Epoch 77/100\n",
      "43/43 [==============================] - 0s 12ms/step - loss: 8.9219 - mean_absolute_error: 8.8641 - val_loss: 17.7724 - val_mean_absolute_error: 17.6741\n",
      "Epoch 78/100\n",
      "43/43 [==============================] - 0s 12ms/step - loss: 7.8733 - mean_absolute_error: 7.8996 - val_loss: 17.9536 - val_mean_absolute_error: 17.8586\n",
      "Epoch 79/100\n",
      "43/43 [==============================] - 0s 12ms/step - loss: 6.8523 - mean_absolute_error: 6.8605 - val_loss: 17.9496 - val_mean_absolute_error: 17.8650\n",
      "Epoch 80/100\n",
      "43/43 [==============================] - 0s 12ms/step - loss: 7.3988 - mean_absolute_error: 7.3932 - val_loss: 16.8087 - val_mean_absolute_error: 16.6990\n",
      "Epoch 81/100\n",
      "43/43 [==============================] - 0s 12ms/step - loss: 7.9901 - mean_absolute_error: 7.9309 - val_loss: 18.0619 - val_mean_absolute_error: 17.9824\n",
      "Epoch 82/100\n",
      "43/43 [==============================] - 1s 12ms/step - loss: 7.6421 - mean_absolute_error: 7.6141 - val_loss: 18.4983 - val_mean_absolute_error: 18.4029\n",
      "Epoch 83/100\n",
      "43/43 [==============================] - 1s 12ms/step - loss: 7.6392 - mean_absolute_error: 7.6050 - val_loss: 16.6044 - val_mean_absolute_error: 16.5074\n",
      "Epoch 84/100\n",
      "43/43 [==============================] - 0s 12ms/step - loss: 7.9101 - mean_absolute_error: 8.0558 - val_loss: 16.2850 - val_mean_absolute_error: 16.1626\n",
      "Epoch 85/100\n",
      "43/43 [==============================] - 1s 12ms/step - loss: 7.2056 - mean_absolute_error: 7.2340 - val_loss: 17.6752 - val_mean_absolute_error: 17.5758\n",
      "Epoch 86/100\n",
      "43/43 [==============================] - 1s 12ms/step - loss: 6.7354 - mean_absolute_error: 6.6703 - val_loss: 17.3613 - val_mean_absolute_error: 17.2543\n",
      "Epoch 87/100\n",
      "43/43 [==============================] - 1s 12ms/step - loss: 6.6196 - mean_absolute_error: 6.5977 - val_loss: 19.2208 - val_mean_absolute_error: 19.1273\n",
      "Epoch 88/100\n",
      "43/43 [==============================] - 1s 12ms/step - loss: 7.0391 - mean_absolute_error: 7.0578 - val_loss: 16.5222 - val_mean_absolute_error: 16.4072\n",
      "Epoch 89/100\n",
      "43/43 [==============================] - 0s 11ms/step - loss: 7.2068 - mean_absolute_error: 7.3987 - val_loss: 17.7713 - val_mean_absolute_error: 17.6752\n",
      "Epoch 90/100\n",
      "43/43 [==============================] - 0s 12ms/step - loss: 7.1868 - mean_absolute_error: 7.1747 - val_loss: 17.5102 - val_mean_absolute_error: 17.3966\n",
      "Epoch 91/100\n",
      "43/43 [==============================] - 1s 12ms/step - loss: 7.2997 - mean_absolute_error: 7.2143 - val_loss: 18.1202 - val_mean_absolute_error: 18.0283\n",
      "Epoch 92/100\n",
      "43/43 [==============================] - 0s 11ms/step - loss: 6.7970 - mean_absolute_error: 6.7586 - val_loss: 17.6809 - val_mean_absolute_error: 17.6043\n",
      "Epoch 93/100\n",
      "43/43 [==============================] - 0s 11ms/step - loss: 7.3337 - mean_absolute_error: 7.5190 - val_loss: 16.8368 - val_mean_absolute_error: 16.7428\n",
      "Epoch 94/100\n",
      "43/43 [==============================] - 1s 12ms/step - loss: 7.3098 - mean_absolute_error: 7.2513 - val_loss: 17.2121 - val_mean_absolute_error: 17.0719\n",
      "Epoch 95/100\n",
      "43/43 [==============================] - 0s 11ms/step - loss: 7.2327 - mean_absolute_error: 7.2089 - val_loss: 16.9706 - val_mean_absolute_error: 16.8646\n",
      "Epoch 96/100\n",
      "43/43 [==============================] - 0s 11ms/step - loss: 7.4323 - mean_absolute_error: 7.5227 - val_loss: 19.0836 - val_mean_absolute_error: 18.9782\n",
      "Epoch 97/100\n",
      "43/43 [==============================] - 1s 12ms/step - loss: 6.9315 - mean_absolute_error: 7.2283 - val_loss: 16.3563 - val_mean_absolute_error: 16.2460\n",
      "Epoch 98/100\n",
      "43/43 [==============================] - 0s 11ms/step - loss: 6.7102 - mean_absolute_error: 6.6680 - val_loss: 17.6729 - val_mean_absolute_error: 17.5778\n",
      "Epoch 99/100\n",
      "43/43 [==============================] - 0s 11ms/step - loss: 7.8788 - mean_absolute_error: 7.9804 - val_loss: 18.5417 - val_mean_absolute_error: 18.4341\n",
      "Epoch 100/100\n"
     ]
    },
    {
     "name": "stdout",
     "output_type": "stream",
     "text": [
      "43/43 [==============================] - 0s 12ms/step - loss: 7.0194 - mean_absolute_error: 6.9942 - val_loss: 19.3046 - val_mean_absolute_error: 19.2041\n"
     ]
    }
   ],
   "source": [
    "learning_rate = 0.01\n",
    "\n",
    "model6 = Sequential([\n",
    "    Dense(160, kernel_initializer='normal', activation='relu'),\n",
    "    Dense(160, kernel_initializer='normal', activation='relu'),\n",
    "    Dropout(0.2),\n",
    "    Dense(480, kernel_initializer='normal', activation='relu'),\n",
    "    Dense(480, kernel_initializer='normal', activation='relu'),\n",
    "    Dropout(0.2),\n",
    "    Dense(520, kernel_initializer='normal', activation='relu'),\n",
    "    Dense(520, kernel_initializer='normal', activation='relu'),\n",
    "    Dense(760, kernel_initializer='normal', activation='relu'),\n",
    "    Dense(760, kernel_initializer='normal', activation='relu'),\n",
    "    Dense(760, kernel_initializer='normal', activation='relu'),\n",
    "    Dense(256, kernel_initializer='normal', activation='relu'),\n",
    "    Dense(256, kernel_initializer='normal', activation='relu'),\n",
    "    Dense(1, kernel_initializer='normal', activation='linear')\n",
    "  ])\n",
    "\n",
    "model6.compile(loss=mae_k, optimizer=Adam(learning_rate=learning_rate), metrics=[mae_k])\n",
    "\n",
    "model_6 = model6.fit(X_train_ct, y_train, epochs=100, batch_size=64, validation_split=0.2)"
   ]
  },
  {
   "cell_type": "code",
   "execution_count": 36,
   "id": "77362740",
   "metadata": {},
   "outputs": [
    {
     "name": "stdout",
     "output_type": "stream",
     "text": [
      " 42/106 [==========>...................] - ETA: 0s"
     ]
    },
    {
     "name": "stderr",
     "output_type": "stream",
     "text": [
      "2023-04-19 21:10:59.655418: I tensorflow/core/grappler/optimizers/custom_graph_optimizer_registry.cc:113] Plugin optimizer for device_type GPU is enabled.\n"
     ]
    },
    {
     "name": "stdout",
     "output_type": "stream",
     "text": [
      "106/106 [==============================] - 0s 3ms/step\n",
      "46/46 [==============================] - 0s 3ms/step\n",
      "MAE: \n",
      "train: 15.826\n",
      "test:  18.462\n"
     ]
    }
   ],
   "source": [
    "y_train_pred = model6.predict(X_train_ct)\n",
    "y_test_pred = model6.predict(X_test_ct)\n",
    "\n",
    "mae_train = mean_absolute_error(y_train, y_train_pred)\n",
    "mae_test = mean_absolute_error(y_test, y_test_pred)\n",
    "\n",
    "print(\"MAE: \")\n",
    "print(f\"train: {mae_train:.3f}\")\n",
    "print(f\"test: {mae_test: .3f}\")"
   ]
  },
  {
   "cell_type": "markdown",
   "id": "3caa1a92",
   "metadata": {},
   "source": [
    "This is our worst model so far. Added layers did nothing to improve our score."
   ]
  },
  {
   "cell_type": "markdown",
   "id": "36089882",
   "metadata": {},
   "source": [
    "## Feature Engineering\n",
    "\n",
    "Using our baseline XGBoost regressor, let's look at the most important features to see if that will help Inner Beauty Inc. understand where to focus their research and development."
   ]
  },
  {
   "cell_type": "code",
   "execution_count": 37,
   "id": "872bd86a",
   "metadata": {},
   "outputs": [
    {
     "data": {
      "image/png": "[encoded data removed]",
      "text/plain": [
       "<Figure size 500x1200 with 1 Axes>"
      ]
     },
     "metadata": {},
     "output_type": "display_data"
    }
   ],
   "source": [
    "# remember model\n",
    "X_train_ct = preprocessor.fit_transform(X_train, y_train)\n",
    "boost = XGBRegressor()\n",
    "boost.fit(X_train_ct, y_train)\n",
    "\n",
    "# plot feature importances\n",
    "features_df = pd.DataFrame()\n",
    "features_df[\"feature\"] = X_train.columns\n",
    "features_df[\"importance\"] = boost.feature_importances_\n",
    "features_df = features_df.sort_values(\"importance\", ascending=False)\n",
    "plt.figure(figsize=(5,12))\n",
    "sns.barplot(x = \"importance\", y = \"feature\", data=features_df.iloc[:15])\n",
    "plt.xlabel(\"Importance\")\n",
    "plt.ylabel(\"Feature\")\n",
    "plt.show()"
   ]
  },
  {
   "cell_type": "markdown",
   "id": "8bd2f749",
   "metadata": {},
   "source": [
    "Feature importance seems negligible here since even the most influential feature, the ingredient Urea, is less than 0.1. This might mean that ingredients matter little individually, but mean a lot in groups. Brand and product category don't rank at all, which means they don't have as much influence on price as we originally thought. Size does figure in this chart, which makes sense–a larger product might be more expensive in some cases."
   ]
  },
  {
   "cell_type": "markdown",
   "id": "4e4f857b",
   "metadata": {},
   "source": [
    "## Over and Under Pricing\n",
    "\n",
    "It would help Inner Beauty to understand which brands our model considers overpriced or underpriced based in the features. We'll start by creating a dataframe of predicted prices against real prices and then break it down from there."
   ]
  },
  {
   "cell_type": "code",
   "execution_count": 38,
   "id": "9a717eed",
   "metadata": {},
   "outputs": [],
   "source": [
    "# create dataframe of prices and predictions\n",
    "df_prices = df_ing.loc[y_test.index.to_list()]\n",
    "df_prices = df_prices[[\"product_names\", \"product_category\", \"brand\", \"ingredient\"]]\n",
    "df_prices[\"real_price\"] = y_test\n",
    "df_prices[\"predicted_price\"] = pred_test_boost\n",
    "df_prices[\"difference\"] = (df_prices[\"real_price\"] - df_prices[\"predicted_price\"]).round(2)"
   ]
  },
  {
   "cell_type": "markdown",
   "id": "94af29f3",
   "metadata": {},
   "source": [
    "Overpriced we'll define as more than a $20 difference between real and predicted price."
   ]
  },
  {
   "cell_type": "code",
   "execution_count": 39,
   "id": "2c93c1db",
   "metadata": {},
   "outputs": [
    {
     "data": {
      "text/plain": [
       "La Prairie                     8\n",
       "Dr. Brandt                     6\n",
       "Shiseido                       5\n",
       "Perricone MD Cosmeceuticals    5\n",
       "Clarins                        4\n",
       "Nu Skin                        4\n",
       "Tatcha                         3\n",
       "Elizabeth Arden                3\n",
       "Rodan and Fields               3\n",
       "Clinique                       3\n",
       "Name: brand, dtype: int64"
      ]
     },
     "execution_count": 39,
     "metadata": {},
     "output_type": "execute_result"
    }
   ],
   "source": [
    "# find most overpriced brands\n",
    "overpriced = df_prices.loc[df_prices[\"difference\"] > 20]\n",
    "overpriced.brand.value_counts().head(10)"
   ]
  },
  {
   "cell_type": "markdown",
   "id": "e4f952c2",
   "metadata": {},
   "source": [
    "La Prairie makes sense as the most overpriced brand as it sells a 1700 dollar perfume among its other products. Its Skin Caviar Luxe Cream alone is almost 600 dollars. Perricone MD Cosmeceuticals and Dr. Brandt are interesting as they are more mid-line brands. \n",
    "\n",
    "Underpriced would be any products our model thinks should be more expensive than it is."
   ]
  },
  {
   "cell_type": "code",
   "execution_count": 40,
   "id": "862a5285",
   "metadata": {},
   "outputs": [
    {
     "data": {
      "text/plain": [
       "Neutrogena                 27\n",
       "Shiseido                   21\n",
       "Mary Kay                   18\n",
       "L'Oreal Paris              17\n",
       "Paula's Choice Skincare    16\n",
       "Lancome                    16\n",
       "Clinique                   16\n",
       "Peter Thomas Roth          15\n",
       "Estee Lauder               15\n",
       "philosophy                 14\n",
       "Name: brand, dtype: int64"
      ]
     },
     "execution_count": 40,
     "metadata": {},
     "output_type": "execute_result"
    }
   ],
   "source": [
    "# find most underpriced brands\n",
    "underpriced = df_prices.loc[df_prices[\"difference\"] < 0]\n",
    "underpriced.brand.value_counts().head(10)"
   ]
  },
  {
   "cell_type": "markdown",
   "id": "80884685",
   "metadata": {},
   "source": [
    "We have a lot more products in our dataset from the underpriced brands than the overpriced ones. This could be because the overpriced brands have smaller, more exclusive catalogs. Neutrogena and L'Oreal Paris are a drugstore staples, it makes sense they would be at the top of the underpriced list. Shiseido appears on both lists, interestingly enough. Though it has more underpriced products than overpriced ones."
   ]
  },
  {
   "cell_type": "markdown",
   "id": "06c1064c",
   "metadata": {},
   "source": [
    "# Dupe Machine\n",
    "\n",
    "In order to easily understand the paralell products in the dataset, here's a function that returns cheaper products based on inputs. It finds similar products based on ingredients."
   ]
  },
  {
   "cell_type": "code",
   "execution_count": 41,
   "id": "5c94f797",
   "metadata": {},
   "outputs": [],
   "source": [
    "# remove non-essential columns\n",
    "features = df_ing.copy()\n",
    "features = features.drop(columns = [\"product_names\", \"size\", \"size_num\", \"size_unit\", \"brand\", \"active_ingredient\", \n",
    "                        \"inactive_ingredient\", \"ingredient\"])\n",
    "features = pd.get_dummies(features)\n",
    "\n",
    "# fit KNN model\n",
    "model = NearestNeighbors(n_neighbors=2, algorithm='ball_tree')\n",
    "model.fit(features)\n",
    "dist, idlist = model.kneighbors(features)"
   ]
  },
  {
   "cell_type": "code",
   "execution_count": 42,
   "id": "ecd22412",
   "metadata": {},
   "outputs": [],
   "source": [
    "# define function\n",
    "def SuperDuper(product_name):\n",
    "    product_list = []\n",
    "    product_id = df_ing[df_ing[\"product_names\"] == product_name].index\n",
    "    product_id = product_id[0]\n",
    "    product_price = df_ing[\"price\"].iloc[product_id] \n",
    "    for newid in idlist[product_id]:\n",
    "        name = df_ing.loc[newid].product_names\n",
    "        brand = df_ing.loc[newid].brand\n",
    "        price = df_ing.loc[newid].price\n",
    "        price_diff = product_price - price\n",
    "        if name == product_name:\n",
    "            pass\n",
    "        elif price < product_price:\n",
    "            product_list.append(f\"{name} from {brand}, ${price: .2f}, saving ${price_diff: .2f}\")\n",
    "        \n",
    "    return product_list   "
   ]
  },
  {
   "cell_type": "code",
   "execution_count": 43,
   "id": "a62e47fe",
   "metadata": {},
   "outputs": [
    {
     "data": {
      "text/plain": [
       "['Amino Derm Gel Clear Skin Complex from Aubrey Organics, $ 8.33, saving $ 0.16']"
      ]
     },
     "execution_count": 43,
     "metadata": {},
     "output_type": "execute_result"
    }
   ],
   "source": [
    "SuperDuper(\"Naturals Acne Spot Treatment\")"
   ]
  },
  {
   "cell_type": "markdown",
   "id": "f4b9fc1e",
   "metadata": {},
   "source": [
    "Let's save all of this information for the Streamlit app."
   ]
  },
  {
   "cell_type": "code",
   "execution_count": 44,
   "id": "8d1f1c12",
   "metadata": {},
   "outputs": [],
   "source": [
    "# creating dataframes and pickles for SuperDuper streamlit app\n",
    "products_data = df_ing[[\"brand\", \"product_names\", \"price\"]]\n",
    "products_data.to_csv(r\"data/products_data.csv\")\n",
    "features.to_pickle(\"./features.pkl\")"
   ]
  },
  {
   "cell_type": "markdown",
   "id": "a6238c4a",
   "metadata": {},
   "source": [
    "# Conclusions\n",
    "\n",
    "My recommendation for Inner Beauty Inc is to dupe the overpriced brands with products that undercut their product lines and price them higher than the overpriced brands do to ensure strong margins.\n",
    "\n",
    "For next steps, it would be useful to go deeper into the ingredients and understand what combinations of ingredients yield the highest prices. Also, packaging signals the quality of the product or at least the price range it operates in. Using image classification might be useful to further the analysis. Finally, Inner Beauty Inc needs to know what product categories to focus on. That would add another element to the analysis."
   ]
  },
  {
   "cell_type": "code",
   "execution_count": null,
   "id": "b8422958",
   "metadata": {},
   "outputs": [],
   "source": []
  }
 ],
 "metadata": {
  "kernelspec": {
   "display_name": "middle-earth",
   "language": "python",
   "name": "middle-earth"
  },
  "language_info": {
   "codemirror_mode": {
    "name": "ipython",
    "version": 3
   },
   "file_extension": ".py",
   "mimetype": "text/x-python",
   "name": "python",
   "nbconvert_exporter": "python",
   "pygments_lexer": "ipython3",
   "version": "3.8.16"
  }
 },
 "nbformat": 4,
 "nbformat_minor": 5
}
