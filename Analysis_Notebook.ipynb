{
 "cells": [
  {
   "cell_type": "markdown",
   "id": "9b798f55",
   "metadata": {},
   "source": [
    "# Price Prediction For Skincare Products Using Neural Networks\n",
    "\n",
    "## Overview\n",
    "\n",
    "The cosmetics industry brought in an estimated $262.21 billion in 2022 and is due to continue growing this year. Skincare in particular has seen an increased interest as the culture has shifted away from the glam beauty standards of the recession-era 2000s to embrace a more \"natural\" beauty. \n",
    "\n",
    "My stakeholder, Inner Glow Inc., wants to make their mark on the skincare industry by coming out with their own line of products that are competetive with what's available. To do this, they first need to understand the current market and determine where they can undercut more expensive alternatives. Rampant upcharge in the skincare industry is obvious when products can range from $7-400. How can Inner Glow Inc. offer mid-line products that capture both a high-end and low-end market?\n",
    "\n",
    "Using neural networks and XGBoost, I look at data from NoxMoon's \"Inside Beauty\" project, scraped from Beautypedia and Paula’s choice websites, and data I scraped myself from the Dermstore. The two datasets include product names, brands, prices, ingredients, size, and product type. There are over 7000 products at the end of cleaning. Features include one-hot encoded \"special\" ingredients (i.e. not ones that appear in every single product but do in a good amount of them), peptide, oil, and extract counts, and number of active and inactive ingredients, among others.\n",
    "\n",
    "After tuning a series of neural networks, using XGBoost, and using grid search to tune XGBoost, I find in the end that the untuned XGBoost does the best with the data, scoring an MAE on the test around $17. Given the spread of product prices, this doesn't seem way off base. Features engineering determines certain ingredients, like Isopropyl Misorate, have a marginal level of importance when it comes to price. The most often overpriced brands are iS Clinical, Clarins, and SK-II, while the most underpriced ones are Neutrogena, Clinique, and L'Oreal Paris. Therefore, Inner Beauty Inc. should try to dupe the overpriced brands' products with prices that are on average higher than the underpriced ones.\n",
    "\n",
    "I put all these findings together into the Streamlit app SuperDuper which offers users the chance to dupe their favorite high-end products and find cheaper alternatives that are at the ingredient-level similar."
   ]
  },
  {
   "cell_type": "markdown",
   "id": "1a40085e",
   "metadata": {},
   "source": [
    "## Imports\n",
    "\n",
    "To begin, we import all our libraries."
   ]
  },
  {
   "cell_type": "code",
   "execution_count": 1,
   "id": "a25a4474",
   "metadata": {},
   "outputs": [],
   "source": [
    "import itertools\n",
    "import pandas as pd\n",
    "import numpy as np\n",
    "import seaborn as sns\n",
    "import matplotlib.pyplot as plt\n",
    "import warnings \n",
    "warnings.filterwarnings('ignore')\n",
    "\n",
    "from sklearn.model_selection import train_test_split\n",
    "from sklearn.metrics import mean_squared_error, mean_absolute_error, explained_variance_score\n",
    "from sklearn.pipeline import Pipeline\n",
    "from sklearn.impute import SimpleImputer\n",
    "from sklearn.preprocessing import StandardScaler\n",
    "from sklearn.compose import ColumnTransformer\n",
    "from category_encoders import TargetEncoder\n",
    "from sklearn.model_selection import train_test_split\n",
    "from sklearn.model_selection import GridSearchCV\n",
    "\n",
    "from xgboost import XGBRegressor\n",
    "from tensorflow.keras import Model, Sequential\n",
    "from tensorflow.keras.optimizers import Adam\n",
    "from sklearn.preprocessing import StandardScaler\n",
    "from tensorflow.keras.layers import Dense, Dropout\n",
    "from tensorflow.keras.losses import MeanAbsoluteError\n",
    "\n",
    "from sklearn.preprocessing import MinMaxScaler\n",
    "from sklearn.neighbors import KNeighborsClassifier, NearestNeighbors"
   ]
  },
  {
   "cell_type": "markdown",
   "id": "475789fe",
   "metadata": {},
   "source": [
    "## EDA\n",
    "\n",
    "The data comes from Beautypedia and Paula's Choice (scraped by NoxMoon on GitHub) and from the Dermstore. You can see my scraping code for the Dermstore in the web_scraping folder. Both datasets include product names, prices, categories, brands, and ingredients."
   ]
  },
  {
   "cell_type": "code",
   "execution_count": 2,
   "id": "8010ee10",
   "metadata": {
    "scrolled": true
   },
   "outputs": [],
   "source": [
    "# read NoxMoon's data\n",
    "df1 = pd.read_csv(\"data/skin_care_cleaned.csv\")\n",
    "df1 = df1[[\"product_names\", \"product_category\", \"brand\", \"ingredient\", \"size\", \"price\", \"size_num\", \"size_unit\", \n",
    "        'active_ingredient', 'inactive_ingredient', 'n_inactive_ingredient', 'n_active_ingredient']]\n",
    "\n",
    "# basic cleaning for readability, dropping empty cells\n",
    "df1.active_ingredient = df1.active_ingredient.str.replace(\"(\", \"\")\n",
    "df1.active_ingredient = df1.active_ingredient.str.replace(\")\", \"\")\n",
    "df1.active_ingredient = df1.active_ingredient.str.replace(\",\", \"\")\n",
    "df1.active_ingredient = df1.active_ingredient.str.replace(\"%.\", \"%\")\n",
    "df1.active_ingredient = df1.active_ingredient.str.strip()\n",
    "df1.active_ingredient = df1.active_ingredient.str.split(\"%\")\n",
    "df1 = df1.dropna(subset=[\"ingredient\", \"size\", \"size_unit\"])"
   ]
  },
  {
   "cell_type": "code",
   "execution_count": 3,
   "id": "2d84fe59",
   "metadata": {},
   "outputs": [
    {
     "data": {
      "text/html": [
       "<div>\n",
       "<style scoped>\n",
       "    .dataframe tbody tr th:only-of-type {\n",
       "        vertical-align: middle;\n",
       "    }\n",
       "\n",
       "    .dataframe tbody tr th {\n",
       "        vertical-align: top;\n",
       "    }\n",
       "\n",
       "    .dataframe thead th {\n",
       "        text-align: right;\n",
       "    }\n",
       "</style>\n",
       "<table border=\"1\" class=\"dataframe\">\n",
       "  <thead>\n",
       "    <tr style=\"text-align: right;\">\n",
       "      <th></th>\n",
       "      <th>product_names</th>\n",
       "      <th>product_category</th>\n",
       "      <th>brand</th>\n",
       "      <th>ingredient</th>\n",
       "      <th>size</th>\n",
       "      <th>price</th>\n",
       "      <th>size_num</th>\n",
       "      <th>size_unit</th>\n",
       "      <th>active_ingredient</th>\n",
       "      <th>inactive_ingredient</th>\n",
       "      <th>n_inactive_ingredient</th>\n",
       "      <th>n_active_ingredient</th>\n",
       "    </tr>\n",
       "  </thead>\n",
       "  <tbody>\n",
       "    <tr>\n",
       "      <th>0</th>\n",
       "      <td>Clear Complexion Spot Treatment</td>\n",
       "      <td>Acne &amp; Blemish Treatment</td>\n",
       "      <td>Merle Norman</td>\n",
       "      <td>Active: Salicylic Acid (2%),  Other: Alcohol D...</td>\n",
       "      <td>0.50 fl. oz.</td>\n",
       "      <td>20.00</td>\n",
       "      <td>15.0</td>\n",
       "      <td>ml</td>\n",
       "      <td>[Salicylic Acid 2, ]</td>\n",
       "      <td>Alcohol Denat.,  Hamamelis Virginiana (Witch ...</td>\n",
       "      <td>10</td>\n",
       "      <td>1</td>\n",
       "    </tr>\n",
       "    <tr>\n",
       "      <th>1</th>\n",
       "      <td>Acne Solutions Emergency Gel Lotion</td>\n",
       "      <td>Acne &amp; Blemish Treatment</td>\n",
       "      <td>Clinique</td>\n",
       "      <td>Active: Benzoyl Peroxide (5%),  Other: Water P...</td>\n",
       "      <td>0.50 fl. oz.</td>\n",
       "      <td>17.00</td>\n",
       "      <td>15.0</td>\n",
       "      <td>ml</td>\n",
       "      <td>[Benzoyl Peroxide 5, ]</td>\n",
       "      <td>Water Purified,  C12-15 Alkyl Benzoate,  Glyc...</td>\n",
       "      <td>23</td>\n",
       "      <td>1</td>\n",
       "    </tr>\n",
       "    <tr>\n",
       "      <th>2</th>\n",
       "      <td>RESIST Daily Pore-Refining Solution 2% BHA</td>\n",
       "      <td>Acne &amp; Blemish Treatment</td>\n",
       "      <td>Paula's Choice Skincare</td>\n",
       "      <td>Water (Aqua),  Dipropylene Glycol,  Salicylic ...</td>\n",
       "      <td>3.00 fl. oz.</td>\n",
       "      <td>33.00</td>\n",
       "      <td>89.0</td>\n",
       "      <td>ml</td>\n",
       "      <td>NaN</td>\n",
       "      <td>Water (Aqua),  Dipropylene Glycol,  Salicylic ...</td>\n",
       "      <td>26</td>\n",
       "      <td>0</td>\n",
       "    </tr>\n",
       "    <tr>\n",
       "      <th>4</th>\n",
       "      <td>Naturals Acne Spot Treatment</td>\n",
       "      <td>Acne &amp; Blemish Treatment</td>\n",
       "      <td>Neutrogena</td>\n",
       "      <td>Active Ingredient: Salicylic Acid 1%. Inactive...</td>\n",
       "      <td>0.75 fl. oz.</td>\n",
       "      <td>8.49</td>\n",
       "      <td>22.0</td>\n",
       "      <td>ml</td>\n",
       "      <td>[Salicylic Acid 1, ]</td>\n",
       "      <td>Water,  Hydrated Silica,  Glycerin,  Dicapryl...</td>\n",
       "      <td>18</td>\n",
       "      <td>1</td>\n",
       "    </tr>\n",
       "    <tr>\n",
       "      <th>5</th>\n",
       "      <td>Normaderm Daily Anti-Acne Hydrating Lotion</td>\n",
       "      <td>Acne &amp; Blemish Treatment</td>\n",
       "      <td>Vichy</td>\n",
       "      <td>Active: Salicylic Acid 1%. Inactive: Water,  G...</td>\n",
       "      <td>1.70 fl. oz.</td>\n",
       "      <td>23.50</td>\n",
       "      <td>50.0</td>\n",
       "      <td>ml</td>\n",
       "      <td>[Salicylic Acid 1, ]</td>\n",
       "      <td>Water,  Glycerin,  Alcohol Denat.,  Phenyl Tr...</td>\n",
       "      <td>24</td>\n",
       "      <td>1</td>\n",
       "    </tr>\n",
       "  </tbody>\n",
       "</table>\n",
       "</div>"
      ],
      "text/plain": [
       "                                product_names          product_category  \\\n",
       "0             Clear Complexion Spot Treatment  Acne & Blemish Treatment   \n",
       "1         Acne Solutions Emergency Gel Lotion  Acne & Blemish Treatment   \n",
       "2  RESIST Daily Pore-Refining Solution 2% BHA  Acne & Blemish Treatment   \n",
       "4                Naturals Acne Spot Treatment  Acne & Blemish Treatment   \n",
       "5  Normaderm Daily Anti-Acne Hydrating Lotion  Acne & Blemish Treatment   \n",
       "\n",
       "                     brand                                         ingredient  \\\n",
       "0             Merle Norman  Active: Salicylic Acid (2%),  Other: Alcohol D...   \n",
       "1                 Clinique  Active: Benzoyl Peroxide (5%),  Other: Water P...   \n",
       "2  Paula's Choice Skincare  Water (Aqua),  Dipropylene Glycol,  Salicylic ...   \n",
       "4               Neutrogena  Active Ingredient: Salicylic Acid 1%. Inactive...   \n",
       "5                    Vichy  Active: Salicylic Acid 1%. Inactive: Water,  G...   \n",
       "\n",
       "           size  price  size_num size_unit       active_ingredient  \\\n",
       "0  0.50 fl. oz.  20.00      15.0        ml    [Salicylic Acid 2, ]   \n",
       "1  0.50 fl. oz.  17.00      15.0        ml  [Benzoyl Peroxide 5, ]   \n",
       "2  3.00 fl. oz.  33.00      89.0        ml                     NaN   \n",
       "4  0.75 fl. oz.   8.49      22.0        ml    [Salicylic Acid 1, ]   \n",
       "5  1.70 fl. oz.  23.50      50.0        ml    [Salicylic Acid 1, ]   \n",
       "\n",
       "                                 inactive_ingredient  n_inactive_ingredient  \\\n",
       "0   Alcohol Denat.,  Hamamelis Virginiana (Witch ...                     10   \n",
       "1   Water Purified,  C12-15 Alkyl Benzoate,  Glyc...                     23   \n",
       "2  Water (Aqua),  Dipropylene Glycol,  Salicylic ...                     26   \n",
       "4   Water,  Hydrated Silica,  Glycerin,  Dicapryl...                     18   \n",
       "5   Water,  Glycerin,  Alcohol Denat.,  Phenyl Tr...                     24   \n",
       "\n",
       "   n_active_ingredient  \n",
       "0                    1  \n",
       "1                    1  \n",
       "2                    0  \n",
       "4                    1  \n",
       "5                    1  "
      ]
     },
     "execution_count": 3,
     "metadata": {},
     "output_type": "execute_result"
    }
   ],
   "source": [
    "df1.head()"
   ]
  },
  {
   "cell_type": "code",
   "execution_count": 4,
   "id": "0744677f",
   "metadata": {},
   "outputs": [
    {
     "data": {
      "text/html": [
       "<div>\n",
       "<style scoped>\n",
       "    .dataframe tbody tr th:only-of-type {\n",
       "        vertical-align: middle;\n",
       "    }\n",
       "\n",
       "    .dataframe tbody tr th {\n",
       "        vertical-align: top;\n",
       "    }\n",
       "\n",
       "    .dataframe thead th {\n",
       "        text-align: right;\n",
       "    }\n",
       "</style>\n",
       "<table border=\"1\" class=\"dataframe\">\n",
       "  <thead>\n",
       "    <tr style=\"text-align: right;\">\n",
       "      <th></th>\n",
       "      <th>product_name</th>\n",
       "      <th>brand</th>\n",
       "      <th>price</th>\n",
       "      <th>ingredients</th>\n",
       "      <th>active_ingredients</th>\n",
       "      <th>inactive_ingredients</th>\n",
       "    </tr>\n",
       "  </thead>\n",
       "  <tbody>\n",
       "    <tr>\n",
       "      <th>0</th>\n",
       "      <td>ELEMIS Pro-Collagen Cleansing Balm (100 g.)</td>\n",
       "      <td>Elemis</td>\n",
       "      <td>68.00</td>\n",
       "      <td>Prunus Amygdalus Dulcis (Sweet Almond) Oil, Ca...</td>\n",
       "      <td>NaN</td>\n",
       "      <td>NaN</td>\n",
       "    </tr>\n",
       "    <tr>\n",
       "      <th>1</th>\n",
       "      <td>VIRTUE Healing Oil (1.7 fl. oz.)</td>\n",
       "      <td>VIRTUE</td>\n",
       "      <td>44.00</td>\n",
       "      <td>Alpha Keratin 60ku®, Cyclopentasiloxane, Dimet...</td>\n",
       "      <td>Alpha Keratin 60ku®</td>\n",
       "      <td>Cyclopentasiloxane, Dimethiconol, Parfum (Frag...</td>\n",
       "    </tr>\n",
       "    <tr>\n",
       "      <th>2</th>\n",
       "      <td>Augustinus Bader The Rich Cream 50ml</td>\n",
       "      <td>Augustinus Bader</td>\n",
       "      <td>290.00</td>\n",
       "      <td>Aqua (Water), Coco-Caprylate/Caprate, Helianth...</td>\n",
       "      <td>NaN</td>\n",
       "      <td>NaN</td>\n",
       "    </tr>\n",
       "    <tr>\n",
       "      <th>3</th>\n",
       "      <td>SkinCeuticals C E Ferulic (1 fl. oz.)</td>\n",
       "      <td>SkinCeuticals</td>\n",
       "      <td>182.00</td>\n",
       "      <td>Aqua/Water/Eau, Ethoxydiglycol, Ascorbic Acid,...</td>\n",
       "      <td>NaN</td>\n",
       "      <td>NaN</td>\n",
       "    </tr>\n",
       "    <tr>\n",
       "      <th>4</th>\n",
       "      <td>U Beauty Resurfacing Compound 50ml /1.7 oz</td>\n",
       "      <td>U Beauty</td>\n",
       "      <td>228.00</td>\n",
       "      <td>Aqua (Water), Aloe Barbadensis Leaf Juice Powd...</td>\n",
       "      <td>NaN</td>\n",
       "      <td>NaN</td>\n",
       "    </tr>\n",
       "  </tbody>\n",
       "</table>\n",
       "</div>"
      ],
      "text/plain": [
       "                                   product_name              brand    price  \\\n",
       "0  ELEMIS Pro-Collagen Cleansing Balm (100 g.)             Elemis    68.00    \n",
       "1             VIRTUE Healing Oil (1.7 fl. oz.)             VIRTUE    44.00    \n",
       "2         Augustinus Bader The Rich Cream 50ml   Augustinus Bader   290.00    \n",
       "3        SkinCeuticals C E Ferulic (1 fl. oz.)      SkinCeuticals   182.00    \n",
       "4   U Beauty Resurfacing Compound 50ml /1.7 oz           U Beauty   228.00    \n",
       "\n",
       "                                         ingredients   active_ingredients  \\\n",
       "0  Prunus Amygdalus Dulcis (Sweet Almond) Oil, Ca...                  NaN   \n",
       "1  Alpha Keratin 60ku®, Cyclopentasiloxane, Dimet...  Alpha Keratin 60ku®   \n",
       "2  Aqua (Water), Coco-Caprylate/Caprate, Helianth...                  NaN   \n",
       "3  Aqua/Water/Eau, Ethoxydiglycol, Ascorbic Acid,...                  NaN   \n",
       "4  Aqua (Water), Aloe Barbadensis Leaf Juice Powd...                  NaN   \n",
       "\n",
       "                                inactive_ingredients  \n",
       "0                                                NaN  \n",
       "1  Cyclopentasiloxane, Dimethiconol, Parfum (Frag...  \n",
       "2                                                NaN  \n",
       "3                                                NaN  \n",
       "4                                                NaN  "
      ]
     },
     "execution_count": 4,
     "metadata": {},
     "output_type": "execute_result"
    }
   ],
   "source": [
    "# read in Dermstore data\n",
    "df2 = pd.read_csv(\"data/ingredients_skincare_dermstore.csv\").drop(columns = [\"Unnamed: 0\", \"url\"])\n",
    "\n",
    "# remove dollar signs from dataframe\n",
    "df2[\"price\"] = df2[\"price\"].str.replace(\"$\", \"\")\n",
    "df2.head()"
   ]
  },
  {
   "cell_type": "markdown",
   "id": "1edff50d",
   "metadata": {},
   "source": [
    "Both datasets seem to be missing data for active ingredients, and the second dataset is missing data for inactive ingredients. This might be because not all products have active and inactive ingredient distinctions.\n",
    "\n",
    "Let's look at the range of prices. First we'll need to remove rows where the price data isn't a number. And then we'll need to convert the prices to floats."
   ]
  },
  {
   "cell_type": "code",
   "execution_count": 5,
   "id": "b0b715d0",
   "metadata": {},
   "outputs": [],
   "source": [
    "# find and drop irregular rows\n",
    "index_list = []\n",
    "for index, row in df2.iterrows():\n",
    "    if \"-product\" in str(row[\"price\"]):\n",
    "        index_list.append(index)\n",
    "    elif \"-qubit\" in str(row[\"price\"]):\n",
    "        index_list.append(index)\n",
    "    elif \"-track\" in str(row[\"price\"]):\n",
    "        index_list.append(index)\n",
    "        \n",
    "df2 = df2.drop(index = index_list)\n",
    "\n",
    "# convert price column to float\n",
    "df2[\"price\"] = df2[\"price\"].astype(float)\n",
    "\n",
    "# put the dataframes together\n",
    "df = pd.concat([df1, df2])"
   ]
  },
  {
   "cell_type": "code",
   "execution_count": 6,
   "id": "44c73f28",
   "metadata": {},
   "outputs": [
    {
     "data": {
      "image/png": "[encoded data removed]",
      "text/plain": [
       "<Figure size 1200x600 with 2 Axes>"
      ]
     },
     "metadata": {},
     "output_type": "display_data"
    }
   ],
   "source": [
    "# plot the prices by product category\n",
    "fig, axs = plt.subplots(ncols=2, figsize=(12, 6))\n",
    "sns.boxplot(x='product_category', y='price', data=df, ax=axs[0])\n",
    "axs[0].set_xticklabels(axs[0].get_xticklabels(), rotation=90)\n",
    "axs[0].set_xlabel(\"Product Category\")\n",
    "axs[0].set_ylabel(\"Price\")\n",
    "axs[0].set_title(\"Product Categories by Price\")\n",
    "\n",
    "sns.boxplot(x='product_category', y='price', data=df, ax=axs[1])\n",
    "axs[1].set_xticklabels(axs[1].get_xticklabels(), rotation=90)\n",
    "axs[1].set_xlabel(\"Product Category\")\n",
    "axs[1].set_ylabel(\"Price\")\n",
    "axs[1].set_title(\"Product Categories by Price, Closeup\")\n",
    "axs[1].set_ylim(0, 200);"
   ]
  },
  {
   "cell_type": "markdown",
   "id": "fcdb3620",
   "metadata": {},
   "source": [
    "So, the majority of products average less than $50, while serums tick higher than the others. There are probably more designer products in the serum category than the others. Lip balms and scrubs seem to be the cheapest items. There are also many outliers that tick even higher than these averages (left plot)."
   ]
  },
  {
   "cell_type": "code",
   "execution_count": 7,
   "id": "e70e196f",
   "metadata": {},
   "outputs": [
    {
     "data": {
      "image/png": "[encoded data removed]",
      "text/plain": [
       "<Figure size 640x480 with 1 Axes>"
      ]
     },
     "metadata": {},
     "output_type": "display_data"
    }
   ],
   "source": [
    "# select most common brands\n",
    "brand_list = []\n",
    "for key, value in df.brand.value_counts().head(16).to_dict().items():\n",
    "    brand_list.append(key)\n",
    "\n",
    "df_topbrands = df[df[\"brand\"].isin(brand_list)]\n",
    "df_topbrands = df_topbrands[[\"brand\", \"price\", \"product_names\"]]\n",
    "df_topbrands = df_topbrands.dropna()\n",
    "\n",
    "# plot brands against price\n",
    "ax = sns.boxplot(x='brand', y='price', data=df_topbrands)\n",
    "ax.set_xticklabels(ax.get_xticklabels(), rotation=90)\n",
    "ax.set_xlabel(\"Brand\")\n",
    "ax.set_ylabel(\"Price\")\n",
    "ax.set_title(\"Brands by Price\")\n",
    "ax.set_ylim(0, 200);"
   ]
  },
  {
   "cell_type": "markdown",
   "id": "7f7f10b3",
   "metadata": {},
   "source": [
    "Lancome has tthe greatest spread of prices amongst its catalog, while Neutrogena has the smallest. Neutrogena also seems to be the cheapest.\n",
    "\n",
    "Since brands and product categories seem to be a great determinant of price, there's a good chance both will show up in the features engineering portion of this notebook."
   ]
  },
  {
   "cell_type": "markdown",
   "id": "ec91a7a1",
   "metadata": {},
   "source": [
    "## Data Preparation\n",
    "In order to seamlessly combine the datasets, we'll need to do some cleaning. We'll go back to dfs 1 and 2 to do this. It'll also help us to turn our ingredient columns into lists for one-hot encoding."
   ]
  },
  {
   "cell_type": "code",
   "execution_count": 8,
   "id": "99a03f56",
   "metadata": {},
   "outputs": [],
   "source": [
    "# some cleaning\n",
    "# turn active ingredients into list, input inactive ingredients\n",
    "df2[\"active_ingredients\"] = df2[\"active_ingredients\"].str.split(\",\")\n",
    "df2[\"inactive_ingredients\"] = df2[\"inactive_ingredients\"].fillna(df2[\"ingredients\"])\n",
    "\n",
    "# create and fill n_active_ingredient column\n",
    "df2[\"n_active_ingredient\"] = df2[\"active_ingredients\"]\n",
    "df2[\"n_active_ingredient\"] = df2[\"n_active_ingredient\"].fillna(0)\n",
    "for index, row in df2.iterrows():\n",
    "    if type(row[\"n_active_ingredient\"]) == list:\n",
    "        if len(row[\"n_active_ingredient\"]) > 0:\n",
    "            row[\"n_active_ingredient\"] = len(row[\"n_active_ingredient\"])\n",
    "            \n",
    "# create and fill n_inactive_ingredient column\n",
    "df2[\"n_inactive_ingredient\"] = df2[\"inactive_ingredients\"].str.split(\",\")\n",
    "for index, row in df2.iterrows():\n",
    "    if type(row[\"n_inactive_ingredient\"]) == list:\n",
    "        if len(row[\"n_inactive_ingredient\"]) > 0:\n",
    "            row[\"n_inactive_ingredient\"] = len(row[\"n_inactive_ingredient\"])"
   ]
  },
  {
   "cell_type": "markdown",
   "id": "8a517c5f",
   "metadata": {},
   "source": [
    "Df2 doesn't have product categories, like df1 does. We'll have to semi-manually create these based on keywords."
   ]
  },
  {
   "cell_type": "code",
   "execution_count": 9,
   "id": "58a2fac2",
   "metadata": {},
   "outputs": [],
   "source": [
    "# create product categories for items\n",
    "df2[\"product_category\"] = df2[\"product_name\"]\n",
    "for index, row in df2.iterrows():\n",
    "    if \"Serum\" in row[\"product_category\"]:\n",
    "        row[\"product_category\"] = \"Serum\"\n",
    "    elif \"Hydr\" in row[\"product_category\"]:\n",
    "        row[\"product_category\"] = \"Serum\"\n",
    "    elif \"Refi\" in row[\"product_category\"]:\n",
    "        row[\"product_category\"] = \"Serum\"\n",
    "    elif \"Bar\" in row[\"product_category\"]:\n",
    "        row[\"product_category\"] = \"Serum\"\n",
    "    elif \"Stem\" in row[\"product_category\"]:\n",
    "        row[\"product_category\"] = \"Serum\"\n",
    "    elif \"Neck\" in row[\"product_category\"]:\n",
    "        row[\"product_category\"] = \"Serum\"\n",
    "    elif \"neck\" in row[\"product_category\"]:\n",
    "        row[\"product_category\"] = \"Serum\"\n",
    "    elif \"Peptide\" in row[\"product_category\"]:\n",
    "        row[\"product_category\"] = \"Serum\"\n",
    "    elif \"Resurfac\" in row[\"product_category\"]:\n",
    "        row[\"product_category\"] = \"Serum\"\n",
    "    elif \"Collagen\" in row[\"product_category\"]:\n",
    "        row[\"product_category\"] = \"Serum\"\n",
    "    elif \"Sun\" in row[\"product_category\"]:\n",
    "        row[\"product_category\"] = \"Sunscreen\" \n",
    "    elif \"SPF\" in row[\"product_category\"]:\n",
    "        row[\"product_category\"] = \"Sunscreen\" \n",
    "    elif \"Clean\" in row[\"product_category\"]:\n",
    "        row[\"product_category\"] = \"Cleansers\"\n",
    "    elif \"Wash\" in row[\"product_category\"]:\n",
    "        row[\"product_category\"] = \"Cleansers\"\n",
    "    elif \"Wipes\" in row[\"product_category\"]:\n",
    "        row[\"product_category\"] = \"Cleansers\"\n",
    "    elif \"Pads\" in row[\"product_category\"]:\n",
    "        row[\"product_category\"] = \"Cleansers\" \n",
    "    elif \"Makeup Remover\" in row[\"product_category\"]:\n",
    "        row[\"product_category\"] = \"Cleansers\"\n",
    "    elif \"Soap\" in row[\"product_category\"]:\n",
    "        row[\"product_category\"] = \"Cleansers\" \n",
    "    elif \"Cream\" in row[\"product_category\"]:\n",
    "        row[\"product_category\"] = \"Nighttime Moisturizer\"\n",
    "    elif \"Creme\" in row[\"product_category\"]:\n",
    "        row[\"product_category\"] = \"Nighttime Moisturizer\"\n",
    "    elif \"Night\" in row[\"product_category\"]:\n",
    "        row[\"product_category\"] = \"Nighttime Moisturizer\"\n",
    "    elif \"night\" in row[\"product_category\"]:\n",
    "        row[\"product_category\"] = \"Nighttime Moisturizer\"\n",
    "    elif \"Nuit\" in row[\"product_category\"]:\n",
    "        row[\"product_category\"] = \"Nighttime Moisturizer\"\n",
    "    elif \"Gel\" in row[\"product_category\"]:\n",
    "        row[\"product_category\"] = \"Nighttime Moisturizer\"\n",
    "    elif \"Sleep\" in row[\"product_category\"]:\n",
    "        row[\"product_category\"] = \"Nighttime Moisturizer\"\n",
    "    elif \"Lotion\" in row[\"product_category\"]:\n",
    "        row[\"product_category\"] = \"Daytime Moisturizer\"\n",
    "    elif \"Moisturizer\" in row[\"product_category\"]:\n",
    "        row[\"product_category\"] = \"Daytime Moisturizer\"\n",
    "    elif \"Butter\" in row[\"product_category\"]:\n",
    "        row[\"product_category\"] = \"Daytime Moisturizer\"\n",
    "    elif \"Lip\" in row[\"product_category\"]:\n",
    "        row[\"product_category\"] = \"Lip Scrub\"\n",
    "    elif \"Mask\" in row[\"product_category\"]:\n",
    "        row[\"product_category\"] = \"Face Mask\"\n",
    "    elif \"Masque\" in row[\"product_category\"]:\n",
    "        row[\"product_category\"] = \"Face Mask\"\n",
    "    elif \"Acne\" in row[\"product_category\"]:\n",
    "        row[\"product_category\"] = \"Acne & Blemish Treatment\"\n",
    "    elif \"Blemish\" in row[\"product_category\"]:\n",
    "        row[\"product_category\"] = \"Acne & Blemish Treatment\"\n",
    "    elif \"Pore\" in row[\"product_category\"]:\n",
    "        row[\"product_category\"] = \"Acne & Blemish Treatment\"\n",
    "    elif \"Spot\" in row[\"product_category\"]:\n",
    "        row[\"product_category\"] = \"Acne & Blemish Treatment\"\n",
    "    elif \"Clinical\" in row[\"product_category\"]:\n",
    "        row[\"product_category\"] = \"Acne & Blemish Treatment\"\n",
    "    elif \"System\" in row[\"product_category\"]:\n",
    "        row[\"product_category\"] = \"Acne & Blemish Treatment\"\n",
    "    elif \"Treatment\" in row[\"product_category\"]:\n",
    "        row[\"product_category\"] = \"Acne & Blemish Treatment\"\n",
    "    elif \"Eye\" in row[\"product_category\"]:\n",
    "        row[\"product_category\"] = \"Eye Cream & Treatment\" \n",
    "    elif \"Toner\" in row[\"product_category\"]:\n",
    "        row[\"product_category\"] = \"Toner & Face Mist\"\n",
    "    elif \"Mist\" in row[\"product_category\"]:\n",
    "        row[\"product_category\"] = \"Toner & Face Mist\"\n",
    "    elif \"mist\" in row[\"product_category\"]:\n",
    "        row[\"product_category\"] = \"Toner & Face Mist\" \n",
    "    elif \"Scrub\" in row[\"product_category\"]:\n",
    "        row[\"product_category\"] = \"Exfoliants\"\n",
    "    elif \"Exfoli\" in row[\"product_category\"]:\n",
    "        row[\"product_category\"] = \"Exfoliants\" \n",
    "    elif \"Polish\" in row[\"product_category\"]:\n",
    "        row[\"product_category\"] = \"Exfoliants\"\n",
    "    elif \"Glow\" in row[\"product_category\"]:\n",
    "        row[\"product_category\"] = \"Exfoliants\"\n",
    "    elif \"Peel\" in row[\"product_category\"]:\n",
    "        row[\"product_category\"] = \"Exfoliants\"\n",
    "    elif \"Vitamin C\" in row[\"product_category\"]:\n",
    "        row[\"product_category\"] = \"Vitamin C\"\n",
    "    elif \"Vita C\" in row[\"product_category\"]:\n",
    "        row[\"product_category\"] = \"Vitamin C\"\n",
    "    elif \"Refin\" in row[\"product_category\"]:\n",
    "        row[\"product_category\"] = \"Vitamin C\"\n",
    "    elif \"Bright\" in row[\"product_category\"]:\n",
    "        row[\"product_category\"] = \"Skin Lightener\"\n",
    "    elif \"-C\" in row[\"product_category\"]:\n",
    "        row[\"product_category\"] = \"Vitamin C\"\n",
    "    elif \"Vit C\" in row[\"product_category\"]:\n",
    "        row[\"product_category\"] = \"Vitamin C\"\n",
    "    elif \"- C\" in row[\"product_category\"]:\n",
    "        row[\"product_category\"] = \"Vitamin C\"\n",
    "    elif \"Oil\" in row[\"product_category\"]:\n",
    "        row[\"product_category\"] = \"Facial Oil\" \n",
    "    elif \"Retinol\" in row[\"product_category\"]:\n",
    "        row[\"product_category\"] = \"Retinol\" \n",
    "    elif \"Matt\" in row[\"product_category\"]:\n",
    "        row[\"product_category\"] = \"Oil Control Products\" \n",
    "        \n",
    "product_types = [\"Nighttime Moisturizer\", \"Cleansers\", \"Serum\", \"Exfoliants\", \"Eye Cream & Treatment\", \"Daytime Moisturizer\",\n",
    "                \"Sunscreen\", \"Toner & Face Mist\", \"Face Mask\", \"Acne & Blemish Treatment\", \"Lip Balm\", \"Retinol\",\n",
    "                \"Skin Lightener\", \"Oil Control Products\", \"Face Oil\", \"Vitamin C\", \"Lip Scrub\"]\n",
    "df2 = df2.loc[df2[\"product_category\"].isin(product_types)]"
   ]
  },
  {
   "cell_type": "markdown",
   "id": "08ebc4ba",
   "metadata": {},
   "source": [
    "Now we need to create and clean up our size columns."
   ]
  },
  {
   "cell_type": "code",
   "execution_count": 10,
   "id": "6058226b",
   "metadata": {},
   "outputs": [],
   "source": [
    "# make and fill size_num column\n",
    "pattern = r'(\\d+(\\.\\d+)?)\\s*(fl\\.?\\s*oz\\.?|g\\.?|ml\\.?)'\n",
    "extracted_values = df2[\"product_name\"].str.extract(pattern, expand=True).fillna(\"\")\n",
    "df2[\"size_num\"] = extracted_values.iloc[:, 0]\n",
    "\n",
    "\n",
    "# make and fill size_unit column\n",
    "df2[\"size_unit\"] = df2[\"product_name\"]\n",
    "for index, row in df2.iterrows():\n",
    "    if \"g.\" in row[\"size_unit\"]:\n",
    "        row[\"size_unit\"] = \"grams\"\n",
    "    elif \"fl. oz\" in row[\"size_unit\"]:\n",
    "        row[\"size_unit\"] = \"fluid ounces\"\n",
    "    elif \"ml\" in row[\"size_unit\"]:\n",
    "        row[\"size_unit\"] = \"milliliters\"\n",
    "    else:\n",
    "        row[\"size_unit\"] = \"piece/other\"\n",
    "\n",
    "# make and fill a size column\n",
    "df2[\"size\"] = df2[\"size_num\"] + \" \" + df2[\"size_unit\"]\n",
    "df2[\"size\"] = df2[\"size\"].str.replace(\"grams\", \"g.\")\n",
    "df2[\"size\"] = df2[\"size\"].str.replace(\"milliliters\", \"ml\")\n",
    "df2[\"size\"] = df2[\"size\"].str.replace(\"fluid ounces\", \"fl. oz.\")"
   ]
  },
  {
   "cell_type": "code",
   "execution_count": 11,
   "id": "7a7db1f2",
   "metadata": {},
   "outputs": [],
   "source": [
    "# remove unnecessary columns and make names uniform\n",
    "df2 = df2[[\"product_name\", \"product_category\", \"brand\", \"ingredients\", \"size\", \"price\", \"size_num\", \"size_unit\", \n",
    "          \"active_ingredients\", \"inactive_ingredients\", \"n_inactive_ingredient\", \"n_active_ingredient\"]]\n",
    "df2.columns = ['product_names', 'product_category', 'brand', 'ingredient', 'size', 'price', 'size_num', 'size_unit', \n",
    "               'active_ingredient', 'inactive_ingredient', 'n_inactive_ingredient', 'n_active_ingredient']"
   ]
  },
  {
   "cell_type": "code",
   "execution_count": 12,
   "id": "7bff8102",
   "metadata": {},
   "outputs": [],
   "source": [
    "# clean up active ingredient column\n",
    "df2[\"active_ingredient\"] = df2[\"active_ingredient\"].astype(str)\n",
    "df2[\"active_ingredient\"] = df2[\"active_ingredient\"].str.replace(\"'\", \"\")\n",
    "df2[\"active_ingredient\"] = df2[\"active_ingredient\"].str.replace(\"[\", \"\")\n",
    "df2[\"active_ingredient\"] = df2[\"active_ingredient\"].str.replace(\"]\", \"\")\n",
    "df2[\"active_ingredient\"] = df2[\"active_ingredient\"].str.replace(\"<strong>Active: </strong>\", \"\")\n",
    "df2[\"active_ingredient\"] = df2[\"active_ingredient\"].str.replace(\"<strong>Active Ingredients:</strong>\", \"\")\n",
    "df2[\"active_ingredient\"] = df2[\"active_ingredient\"].str.replace(\"Active Ingredients: \", \"\")\n",
    "df2[\"active_ingredient\"] = df2[\"active_ingredient\"].str.replace(\"\\n\", \"\")\n",
    "df2[\"active_ingredient\"] = df2[\"active_ingredient\"].str.replace(\"%\", \"\")\n",
    "df2[\"active_ingredient\"] = df2[\"active_ingredient\"].str.replace(\")\", \"\")\n",
    "df2[\"active_ingredient\"] = df2[\"active_ingredient\"].str.replace(\"(\", \"\")"
   ]
  },
  {
   "cell_type": "code",
   "execution_count": 13,
   "id": "d2eb899a",
   "metadata": {},
   "outputs": [
    {
     "data": {
      "text/html": [
       "<div>\n",
       "<style scoped>\n",
       "    .dataframe tbody tr th:only-of-type {\n",
       "        vertical-align: middle;\n",
       "    }\n",
       "\n",
       "    .dataframe tbody tr th {\n",
       "        vertical-align: top;\n",
       "    }\n",
       "\n",
       "    .dataframe thead th {\n",
       "        text-align: right;\n",
       "    }\n",
       "</style>\n",
       "<table border=\"1\" class=\"dataframe\">\n",
       "  <thead>\n",
       "    <tr style=\"text-align: right;\">\n",
       "      <th></th>\n",
       "      <th>product_names</th>\n",
       "      <th>product_category</th>\n",
       "      <th>brand</th>\n",
       "      <th>ingredient</th>\n",
       "      <th>size</th>\n",
       "      <th>price</th>\n",
       "      <th>size_num</th>\n",
       "      <th>size_unit</th>\n",
       "      <th>active_ingredient</th>\n",
       "      <th>inactive_ingredient</th>\n",
       "      <th>n_inactive_ingredient</th>\n",
       "      <th>n_active_ingredient</th>\n",
       "    </tr>\n",
       "  </thead>\n",
       "  <tbody>\n",
       "    <tr>\n",
       "      <th>0</th>\n",
       "      <td>Clear Complexion Spot Treatment</td>\n",
       "      <td>Acne &amp; Blemish Treatment</td>\n",
       "      <td>Merle Norman</td>\n",
       "      <td>Active: Salicylic Acid (2%),  Other: Alcohol D...</td>\n",
       "      <td>0.50 fl. oz.</td>\n",
       "      <td>20.00</td>\n",
       "      <td>15.0</td>\n",
       "      <td>ml</td>\n",
       "      <td>[Salicylic Acid 2, ]</td>\n",
       "      <td>Alcohol Denat.,  Hamamelis Virginiana (Witch ...</td>\n",
       "      <td>10</td>\n",
       "      <td>1</td>\n",
       "    </tr>\n",
       "    <tr>\n",
       "      <th>1</th>\n",
       "      <td>Acne Solutions Emergency Gel Lotion</td>\n",
       "      <td>Acne &amp; Blemish Treatment</td>\n",
       "      <td>Clinique</td>\n",
       "      <td>Active: Benzoyl Peroxide (5%),  Other: Water P...</td>\n",
       "      <td>0.50 fl. oz.</td>\n",
       "      <td>17.00</td>\n",
       "      <td>15.0</td>\n",
       "      <td>ml</td>\n",
       "      <td>[Benzoyl Peroxide 5, ]</td>\n",
       "      <td>Water Purified,  C12-15 Alkyl Benzoate,  Glyc...</td>\n",
       "      <td>23</td>\n",
       "      <td>1</td>\n",
       "    </tr>\n",
       "    <tr>\n",
       "      <th>2</th>\n",
       "      <td>RESIST Daily Pore-Refining Solution 2% BHA</td>\n",
       "      <td>Acne &amp; Blemish Treatment</td>\n",
       "      <td>Paula's Choice Skincare</td>\n",
       "      <td>Water (Aqua),  Dipropylene Glycol,  Salicylic ...</td>\n",
       "      <td>3.00 fl. oz.</td>\n",
       "      <td>33.00</td>\n",
       "      <td>89.0</td>\n",
       "      <td>ml</td>\n",
       "      <td>NaN</td>\n",
       "      <td>Water (Aqua),  Dipropylene Glycol,  Salicylic ...</td>\n",
       "      <td>26</td>\n",
       "      <td>0</td>\n",
       "    </tr>\n",
       "    <tr>\n",
       "      <th>3</th>\n",
       "      <td>Naturals Acne Spot Treatment</td>\n",
       "      <td>Acne &amp; Blemish Treatment</td>\n",
       "      <td>Neutrogena</td>\n",
       "      <td>Active Ingredient: Salicylic Acid 1%. Inactive...</td>\n",
       "      <td>0.75 fl. oz.</td>\n",
       "      <td>8.49</td>\n",
       "      <td>22.0</td>\n",
       "      <td>ml</td>\n",
       "      <td>[Salicylic Acid 1, ]</td>\n",
       "      <td>Water,  Hydrated Silica,  Glycerin,  Dicapryl...</td>\n",
       "      <td>18</td>\n",
       "      <td>1</td>\n",
       "    </tr>\n",
       "    <tr>\n",
       "      <th>4</th>\n",
       "      <td>Normaderm Daily Anti-Acne Hydrating Lotion</td>\n",
       "      <td>Acne &amp; Blemish Treatment</td>\n",
       "      <td>Vichy</td>\n",
       "      <td>Active: Salicylic Acid 1%. Inactive: Water,  G...</td>\n",
       "      <td>1.70 fl. oz.</td>\n",
       "      <td>23.50</td>\n",
       "      <td>50.0</td>\n",
       "      <td>ml</td>\n",
       "      <td>[Salicylic Acid 1, ]</td>\n",
       "      <td>Water,  Glycerin,  Alcohol Denat.,  Phenyl Tr...</td>\n",
       "      <td>24</td>\n",
       "      <td>1</td>\n",
       "    </tr>\n",
       "  </tbody>\n",
       "</table>\n",
       "</div>"
      ],
      "text/plain": [
       "                                product_names          product_category  \\\n",
       "0             Clear Complexion Spot Treatment  Acne & Blemish Treatment   \n",
       "1         Acne Solutions Emergency Gel Lotion  Acne & Blemish Treatment   \n",
       "2  RESIST Daily Pore-Refining Solution 2% BHA  Acne & Blemish Treatment   \n",
       "3                Naturals Acne Spot Treatment  Acne & Blemish Treatment   \n",
       "4  Normaderm Daily Anti-Acne Hydrating Lotion  Acne & Blemish Treatment   \n",
       "\n",
       "                     brand                                         ingredient  \\\n",
       "0             Merle Norman  Active: Salicylic Acid (2%),  Other: Alcohol D...   \n",
       "1                 Clinique  Active: Benzoyl Peroxide (5%),  Other: Water P...   \n",
       "2  Paula's Choice Skincare  Water (Aqua),  Dipropylene Glycol,  Salicylic ...   \n",
       "3               Neutrogena  Active Ingredient: Salicylic Acid 1%. Inactive...   \n",
       "4                    Vichy  Active: Salicylic Acid 1%. Inactive: Water,  G...   \n",
       "\n",
       "           size  price  size_num size_unit       active_ingredient  \\\n",
       "0  0.50 fl. oz.  20.00      15.0        ml    [Salicylic Acid 2, ]   \n",
       "1  0.50 fl. oz.  17.00      15.0        ml  [Benzoyl Peroxide 5, ]   \n",
       "2  3.00 fl. oz.  33.00      89.0        ml                     NaN   \n",
       "3  0.75 fl. oz.   8.49      22.0        ml    [Salicylic Acid 1, ]   \n",
       "4  1.70 fl. oz.  23.50      50.0        ml    [Salicylic Acid 1, ]   \n",
       "\n",
       "                                 inactive_ingredient n_inactive_ingredient  \\\n",
       "0   Alcohol Denat.,  Hamamelis Virginiana (Witch ...                    10   \n",
       "1   Water Purified,  C12-15 Alkyl Benzoate,  Glyc...                    23   \n",
       "2  Water (Aqua),  Dipropylene Glycol,  Salicylic ...                    26   \n",
       "3   Water,  Hydrated Silica,  Glycerin,  Dicapryl...                    18   \n",
       "4   Water,  Glycerin,  Alcohol Denat.,  Phenyl Tr...                    24   \n",
       "\n",
       "  n_active_ingredient  \n",
       "0                   1  \n",
       "1                   1  \n",
       "2                   0  \n",
       "3                   1  \n",
       "4                   1  "
      ]
     },
     "execution_count": 13,
     "metadata": {},
     "output_type": "execute_result"
    }
   ],
   "source": [
    "# join dataframes\n",
    "df = pd.concat([df1, df2]).reset_index().drop(columns = \"index\")\n",
    "df.head()"
   ]
  },
  {
   "cell_type": "markdown",
   "id": "46fdf99b",
   "metadata": {},
   "source": [
    "The size of the product is often determined by the type of product it is – as in, moisturizer and sunscreen might be larger than serums. But there's a range even within these, depending on the brand. As a result, we'll keep size details in the dataframe without concern for collinearity."
   ]
  },
  {
   "cell_type": "code",
   "execution_count": 14,
   "id": "0ec4f51f",
   "metadata": {},
   "outputs": [],
   "source": [
    "# turn inactive ingredient column into lists\n",
    "df[\"inactive_ingredient\"] = df[\"inactive_ingredient\"].str.replace(\".\", \"\")\n",
    "df[\"inactive_ingredient\"] = df[\"inactive_ingredient\"].str.replace(\" \", \"\")\n",
    "df[\"inactive_ingredient\"] = df[\"inactive_ingredient\"].str.split(\",\")"
   ]
  },
  {
   "cell_type": "markdown",
   "id": "b5611b29",
   "metadata": {},
   "source": [
    "Now we want to one-hot encode and stack our ingredients."
   ]
  },
  {
   "cell_type": "code",
   "execution_count": 15,
   "id": "e5d612c3",
   "metadata": {},
   "outputs": [
    {
     "data": {
      "text/plain": [
       "(4816, 12507)"
      ]
     },
     "execution_count": 15,
     "metadata": {},
     "output_type": "execute_result"
    }
   ],
   "source": [
    "# get ingredient counts\n",
    "ingredients_df = pd.get_dummies(pd.DataFrame(df[\"inactive_ingredient\"].tolist()).stack()).sum(level=0)\n",
    "ingredients_df.shape"
   ]
  },
  {
   "cell_type": "markdown",
   "id": "65aeda2a",
   "metadata": {},
   "source": [
    "Most products will have the same base ingredients. To ensure our model is determing price based on \"special\" ingredients or uncommon (but not impossibly rare) ingredients, we'll limit the set to ingredients that show up between 100 and 800 times."
   ]
  },
  {
   "cell_type": "code",
   "execution_count": 16,
   "id": "edb6ab24",
   "metadata": {},
   "outputs": [],
   "source": [
    "# determine most important ingredients\n",
    "ing_list = []\n",
    "for column in ingredients_df.columns:\n",
    "    if ingredients_df[column].sum() > 100 and ingredients_df[column].sum() < 800:\n",
    "        ing_list.append(column)\n",
    "\n",
    "ing_list = [ele.strip() for ele in ing_list]\n",
    "\n",
    "# get rid of empty string\n",
    "ing_list = ing_list[1:]"
   ]
  },
  {
   "cell_type": "code",
   "execution_count": 17,
   "id": "7357bcc1",
   "metadata": {},
   "outputs": [
    {
     "data": {
      "text/plain": [
       "(4816, 205)"
      ]
     },
     "execution_count": 17,
     "metadata": {},
     "output_type": "execute_result"
    }
   ],
   "source": [
    "# create dataframe from columns in ing_list\n",
    "ingredients_df = ingredients_df.rename(columns=lambda x: x.strip())\n",
    "clean_ing = ingredients_df[ing_list]\n",
    "\n",
    "# concat dataframes\n",
    "df_ing = pd.concat([df, clean_ing], axis = 1)\n",
    "df_ing.shape"
   ]
  },
  {
   "cell_type": "markdown",
   "id": "6f2b6621",
   "metadata": {},
   "source": [
    "Now our dataframe is looking more manageable with only 307 columns as opposed to nearly 20,000."
   ]
  },
  {
   "cell_type": "code",
   "execution_count": 18,
   "id": "02ef45ad",
   "metadata": {},
   "outputs": [],
   "source": [
    "# remove duplicate columns\n",
    "df_ing = df_ing.groupby(axis=1, level=0).sum()"
   ]
  },
  {
   "cell_type": "code",
   "execution_count": 19,
   "id": "3fa58f62",
   "metadata": {},
   "outputs": [],
   "source": [
    "# make sure our float columns are floats\n",
    "df_ing[\"price\"] = df_ing[\"price\"].astype(float)\n",
    "df_ing[\"size_num\"] = df_ing[\"size_num\"].replace(r'^\\s*$', np.nan, regex=True)\n",
    "df_ing[\"size_num\"] = df_ing[\"size_num\"].astype(float)"
   ]
  },
  {
   "cell_type": "markdown",
   "id": "6870c01f",
   "metadata": {},
   "source": [
    "## Preprocess Data\n",
    "\n",
    "Let's build the preprocessor our XGBoost regressor will use."
   ]
  },
  {
   "cell_type": "code",
   "execution_count": 20,
   "id": "fd5348e7",
   "metadata": {},
   "outputs": [],
   "source": [
    "#num_cols\n",
    "num_cols = [\"size_num\", \"n_active_ingredient\", \"n_inactive_ingredient\", \"count_extract\", \"count_oil\", \"count_peptide\"]\n",
    "ingredients = df_ing.columns.to_list()[:-16]\n",
    "for ing in ingredients:\n",
    "    num_cols.append(ing)\n",
    "    \n",
    "#ord_cols\n",
    "ord_cols = [\"product_category\", \"brand\", \"size_unit\"]"
   ]
  },
  {
   "cell_type": "code",
   "execution_count": 21,
   "id": "9ce0a95e",
   "metadata": {},
   "outputs": [],
   "source": [
    "ordinal_transformer = Pipeline(steps = [\n",
    "    ('ordimputer', SimpleImputer(strategy = 'most_frequent')),\n",
    "    ('target_enc', TargetEncoder()),\n",
    "    (\"scaler\", StandardScaler())])\n",
    "\n",
    "numeric_transformer = Pipeline(steps=[\n",
    "    (\"imputer\", SimpleImputer(strategy=\"median\")),\n",
    "    (\"scaler\", StandardScaler())])\n",
    "\n",
    "preprocessor = ColumnTransformer(\n",
    "    transformers=[\n",
    "        (\"ord\", ordinal_transformer, ord_cols),\n",
    "        (\"num\", numeric_transformer, num_cols),\n",
    "    ]\n",
    ")"
   ]
  },
  {
   "cell_type": "markdown",
   "id": "c1adaaee",
   "metadata": {},
   "source": [
    "## Train-Test Split\n",
    "\n",
    "Time for the train-test split."
   ]
  },
  {
   "cell_type": "code",
   "execution_count": 22,
   "id": "0611809d",
   "metadata": {},
   "outputs": [],
   "source": [
    "y = df_ing[\"price\"]\n",
    "X = df_ing.drop(columns = [\"price\", \"active_ingredient\", \"inactive_ingredient\", \"ingredient\", \"product_names\", \"size\"])\n",
    "\n",
    "X_train, X_test, y_train, y_test = train_test_split(X, y, test_size = .3, random_state = 42)"
   ]
  },
  {
   "cell_type": "markdown",
   "id": "e534a6d2",
   "metadata": {},
   "source": [
    "Just to check, let's see what the MAE is before modeling."
   ]
  },
  {
   "cell_type": "code",
   "execution_count": 23,
   "id": "1fce5085",
   "metadata": {},
   "outputs": [
    {
     "name": "stdout",
     "output_type": "stream",
     "text": [
      "MAE\n",
      "train: 26.585\n",
      "test: 27.231\n"
     ]
    }
   ],
   "source": [
    "# determine baseline error\n",
    "mae_train = mean_absolute_error(y_train, np.ones([y_train.shape[0],])* y_train.median())\n",
    "mae_test = mean_absolute_error(y_test, np.ones([y_test.shape[0],])* y_train.median())\n",
    "\n",
    "print(\"MAE\")\n",
    "print(f\"train: {mae_train:.3f}\") \n",
    "print(f\"test: {mae_test:.3f}\")"
   ]
  },
  {
   "cell_type": "markdown",
   "id": "e1bce7f8",
   "metadata": {},
   "source": [
    "Right now, we have a mean absolute error of almsot $30 for both train and test. This is what we'll want to beat with our models."
   ]
  },
  {
   "cell_type": "markdown",
   "id": "29d8e92a",
   "metadata": {},
   "source": [
    "# Modeling\n",
    "## Model 1 - Simple Regressor"
   ]
  },
  {
   "cell_type": "markdown",
   "id": "918dc631",
   "metadata": {},
   "source": [
    "Before diving into neural networks, let's see how our tried and tested XGBoost does with the data."
   ]
  },
  {
   "cell_type": "code",
   "execution_count": 24,
   "id": "8bf08972",
   "metadata": {},
   "outputs": [
    {
     "ename": "ValueError",
     "evalue": "A given column is not a column of the dataframe",
     "output_type": "error",
     "traceback": [
      "\u001b[0;31m---------------------------------------------------------------------------\u001b[0m",
      "\u001b[0;31mKeyError\u001b[0m                                  Traceback (most recent call last)",
      "File \u001b[0;32m/opt/homebrew/Caskroom/miniforge/base/envs/middle-earth/lib/python3.8/site-packages/pandas/core/indexes/base.py:3802\u001b[0m, in \u001b[0;36mIndex.get_loc\u001b[0;34m(self, key, method, tolerance)\u001b[0m\n\u001b[1;32m   3801\u001b[0m \u001b[38;5;28;01mtry\u001b[39;00m:\n\u001b[0;32m-> 3802\u001b[0m     \u001b[38;5;28;01mreturn\u001b[39;00m \u001b[38;5;28;43mself\u001b[39;49m\u001b[38;5;241;43m.\u001b[39;49m\u001b[43m_engine\u001b[49m\u001b[38;5;241;43m.\u001b[39;49m\u001b[43mget_loc\u001b[49m\u001b[43m(\u001b[49m\u001b[43mcasted_key\u001b[49m\u001b[43m)\u001b[49m\n\u001b[1;32m   3803\u001b[0m \u001b[38;5;28;01mexcept\u001b[39;00m \u001b[38;5;167;01mKeyError\u001b[39;00m \u001b[38;5;28;01mas\u001b[39;00m err:\n",
      "File \u001b[0;32m/opt/homebrew/Caskroom/miniforge/base/envs/middle-earth/lib/python3.8/site-packages/pandas/_libs/index.pyx:138\u001b[0m, in \u001b[0;36mpandas._libs.index.IndexEngine.get_loc\u001b[0;34m()\u001b[0m\n",
      "File \u001b[0;32m/opt/homebrew/Caskroom/miniforge/base/envs/middle-earth/lib/python3.8/site-packages/pandas/_libs/index.pyx:165\u001b[0m, in \u001b[0;36mpandas._libs.index.IndexEngine.get_loc\u001b[0;34m()\u001b[0m\n",
      "File \u001b[0;32mpandas/_libs/hashtable_class_helper.pxi:5745\u001b[0m, in \u001b[0;36mpandas._libs.hashtable.PyObjectHashTable.get_item\u001b[0;34m()\u001b[0m\n",
      "File \u001b[0;32mpandas/_libs/hashtable_class_helper.pxi:5753\u001b[0m, in \u001b[0;36mpandas._libs.hashtable.PyObjectHashTable.get_item\u001b[0;34m()\u001b[0m\n",
      "\u001b[0;31mKeyError\u001b[0m: 'count_extract'",
      "\nThe above exception was the direct cause of the following exception:\n",
      "\u001b[0;31mKeyError\u001b[0m                                  Traceback (most recent call last)",
      "File \u001b[0;32m/opt/homebrew/Caskroom/miniforge/base/envs/middle-earth/lib/python3.8/site-packages/sklearn/utils/__init__.py:448\u001b[0m, in \u001b[0;36m_get_column_indices\u001b[0;34m(X, key)\u001b[0m\n\u001b[1;32m    447\u001b[0m \u001b[38;5;28;01mfor\u001b[39;00m col \u001b[38;5;129;01min\u001b[39;00m columns:\n\u001b[0;32m--> 448\u001b[0m     col_idx \u001b[38;5;241m=\u001b[39m \u001b[43mall_columns\u001b[49m\u001b[38;5;241;43m.\u001b[39;49m\u001b[43mget_loc\u001b[49m\u001b[43m(\u001b[49m\u001b[43mcol\u001b[49m\u001b[43m)\u001b[49m\n\u001b[1;32m    449\u001b[0m     \u001b[38;5;28;01mif\u001b[39;00m \u001b[38;5;129;01mnot\u001b[39;00m \u001b[38;5;28misinstance\u001b[39m(col_idx, numbers\u001b[38;5;241m.\u001b[39mIntegral):\n",
      "File \u001b[0;32m/opt/homebrew/Caskroom/miniforge/base/envs/middle-earth/lib/python3.8/site-packages/pandas/core/indexes/base.py:3804\u001b[0m, in \u001b[0;36mIndex.get_loc\u001b[0;34m(self, key, method, tolerance)\u001b[0m\n\u001b[1;32m   3803\u001b[0m \u001b[38;5;28;01mexcept\u001b[39;00m \u001b[38;5;167;01mKeyError\u001b[39;00m \u001b[38;5;28;01mas\u001b[39;00m err:\n\u001b[0;32m-> 3804\u001b[0m     \u001b[38;5;28;01mraise\u001b[39;00m \u001b[38;5;167;01mKeyError\u001b[39;00m(key) \u001b[38;5;28;01mfrom\u001b[39;00m \u001b[38;5;21;01merr\u001b[39;00m\n\u001b[1;32m   3805\u001b[0m \u001b[38;5;28;01mexcept\u001b[39;00m \u001b[38;5;167;01mTypeError\u001b[39;00m:\n\u001b[1;32m   3806\u001b[0m     \u001b[38;5;66;03m# If we have a listlike key, _check_indexing_error will raise\u001b[39;00m\n\u001b[1;32m   3807\u001b[0m     \u001b[38;5;66;03m#  InvalidIndexError. Otherwise we fall through and re-raise\u001b[39;00m\n\u001b[1;32m   3808\u001b[0m     \u001b[38;5;66;03m#  the TypeError.\u001b[39;00m\n",
      "\u001b[0;31mKeyError\u001b[0m: 'count_extract'",
      "\nThe above exception was the direct cause of the following exception:\n",
      "\u001b[0;31mValueError\u001b[0m                                Traceback (most recent call last)",
      "Cell \u001b[0;32mIn[24], line 2\u001b[0m\n\u001b[1;32m      1\u001b[0m \u001b[38;5;66;03m# instantiate, fit and run model\u001b[39;00m\n\u001b[0;32m----> 2\u001b[0m X_train_ct \u001b[38;5;241m=\u001b[39m \u001b[43mpreprocessor\u001b[49m\u001b[38;5;241;43m.\u001b[39;49m\u001b[43mfit_transform\u001b[49m\u001b[43m(\u001b[49m\u001b[43mX_train\u001b[49m\u001b[43m,\u001b[49m\u001b[43m \u001b[49m\u001b[43my_train\u001b[49m\u001b[43m)\u001b[49m\n\u001b[1;32m      3\u001b[0m boost \u001b[38;5;241m=\u001b[39m XGBRegressor()\n\u001b[1;32m      4\u001b[0m boost\u001b[38;5;241m.\u001b[39mfit(X_train_ct, y_train)\n",
      "File \u001b[0;32m/opt/homebrew/Caskroom/miniforge/base/envs/middle-earth/lib/python3.8/site-packages/sklearn/utils/_set_output.py:140\u001b[0m, in \u001b[0;36m_wrap_method_output.<locals>.wrapped\u001b[0;34m(self, X, *args, **kwargs)\u001b[0m\n\u001b[1;32m    138\u001b[0m \u001b[38;5;129m@wraps\u001b[39m(f)\n\u001b[1;32m    139\u001b[0m \u001b[38;5;28;01mdef\u001b[39;00m \u001b[38;5;21mwrapped\u001b[39m(\u001b[38;5;28mself\u001b[39m, X, \u001b[38;5;241m*\u001b[39margs, \u001b[38;5;241m*\u001b[39m\u001b[38;5;241m*\u001b[39mkwargs):\n\u001b[0;32m--> 140\u001b[0m     data_to_wrap \u001b[38;5;241m=\u001b[39m \u001b[43mf\u001b[49m\u001b[43m(\u001b[49m\u001b[38;5;28;43mself\u001b[39;49m\u001b[43m,\u001b[49m\u001b[43m \u001b[49m\u001b[43mX\u001b[49m\u001b[43m,\u001b[49m\u001b[43m \u001b[49m\u001b[38;5;241;43m*\u001b[39;49m\u001b[43margs\u001b[49m\u001b[43m,\u001b[49m\u001b[43m \u001b[49m\u001b[38;5;241;43m*\u001b[39;49m\u001b[38;5;241;43m*\u001b[39;49m\u001b[43mkwargs\u001b[49m\u001b[43m)\u001b[49m\n\u001b[1;32m    141\u001b[0m     \u001b[38;5;28;01mif\u001b[39;00m \u001b[38;5;28misinstance\u001b[39m(data_to_wrap, \u001b[38;5;28mtuple\u001b[39m):\n\u001b[1;32m    142\u001b[0m         \u001b[38;5;66;03m# only wrap the first output for cross decomposition\u001b[39;00m\n\u001b[1;32m    143\u001b[0m         \u001b[38;5;28;01mreturn\u001b[39;00m (\n\u001b[1;32m    144\u001b[0m             _wrap_data_with_container(method, data_to_wrap[\u001b[38;5;241m0\u001b[39m], X, \u001b[38;5;28mself\u001b[39m),\n\u001b[1;32m    145\u001b[0m             \u001b[38;5;241m*\u001b[39mdata_to_wrap[\u001b[38;5;241m1\u001b[39m:],\n\u001b[1;32m    146\u001b[0m         )\n",
      "File \u001b[0;32m/opt/homebrew/Caskroom/miniforge/base/envs/middle-earth/lib/python3.8/site-packages/sklearn/compose/_column_transformer.py:724\u001b[0m, in \u001b[0;36mColumnTransformer.fit_transform\u001b[0;34m(self, X, y)\u001b[0m\n\u001b[1;32m    722\u001b[0m \u001b[38;5;28mself\u001b[39m\u001b[38;5;241m.\u001b[39m_check_n_features(X, reset\u001b[38;5;241m=\u001b[39m\u001b[38;5;28;01mTrue\u001b[39;00m)\n\u001b[1;32m    723\u001b[0m \u001b[38;5;28mself\u001b[39m\u001b[38;5;241m.\u001b[39m_validate_transformers()\n\u001b[0;32m--> 724\u001b[0m \u001b[38;5;28;43mself\u001b[39;49m\u001b[38;5;241;43m.\u001b[39;49m\u001b[43m_validate_column_callables\u001b[49m\u001b[43m(\u001b[49m\u001b[43mX\u001b[49m\u001b[43m)\u001b[49m\n\u001b[1;32m    725\u001b[0m \u001b[38;5;28mself\u001b[39m\u001b[38;5;241m.\u001b[39m_validate_remainder(X)\n\u001b[1;32m    727\u001b[0m result \u001b[38;5;241m=\u001b[39m \u001b[38;5;28mself\u001b[39m\u001b[38;5;241m.\u001b[39m_fit_transform(X, y, _fit_transform_one)\n",
      "File \u001b[0;32m/opt/homebrew/Caskroom/miniforge/base/envs/middle-earth/lib/python3.8/site-packages/sklearn/compose/_column_transformer.py:426\u001b[0m, in \u001b[0;36mColumnTransformer._validate_column_callables\u001b[0;34m(self, X)\u001b[0m\n\u001b[1;32m    424\u001b[0m         columns \u001b[38;5;241m=\u001b[39m columns(X)\n\u001b[1;32m    425\u001b[0m     all_columns\u001b[38;5;241m.\u001b[39mappend(columns)\n\u001b[0;32m--> 426\u001b[0m     transformer_to_input_indices[name] \u001b[38;5;241m=\u001b[39m \u001b[43m_get_column_indices\u001b[49m\u001b[43m(\u001b[49m\u001b[43mX\u001b[49m\u001b[43m,\u001b[49m\u001b[43m \u001b[49m\u001b[43mcolumns\u001b[49m\u001b[43m)\u001b[49m\n\u001b[1;32m    428\u001b[0m \u001b[38;5;28mself\u001b[39m\u001b[38;5;241m.\u001b[39m_columns \u001b[38;5;241m=\u001b[39m all_columns\n\u001b[1;32m    429\u001b[0m \u001b[38;5;28mself\u001b[39m\u001b[38;5;241m.\u001b[39m_transformer_to_input_indices \u001b[38;5;241m=\u001b[39m transformer_to_input_indices\n",
      "File \u001b[0;32m/opt/homebrew/Caskroom/miniforge/base/envs/middle-earth/lib/python3.8/site-packages/sklearn/utils/__init__.py:456\u001b[0m, in \u001b[0;36m_get_column_indices\u001b[0;34m(X, key)\u001b[0m\n\u001b[1;32m    453\u001b[0m             column_indices\u001b[38;5;241m.\u001b[39mappend(col_idx)\n\u001b[1;32m    455\u001b[0m     \u001b[38;5;28;01mexcept\u001b[39;00m \u001b[38;5;167;01mKeyError\u001b[39;00m \u001b[38;5;28;01mas\u001b[39;00m e:\n\u001b[0;32m--> 456\u001b[0m         \u001b[38;5;28;01mraise\u001b[39;00m \u001b[38;5;167;01mValueError\u001b[39;00m(\u001b[38;5;124m\"\u001b[39m\u001b[38;5;124mA given column is not a column of the dataframe\u001b[39m\u001b[38;5;124m\"\u001b[39m) \u001b[38;5;28;01mfrom\u001b[39;00m \u001b[38;5;21;01me\u001b[39;00m\n\u001b[1;32m    458\u001b[0m     \u001b[38;5;28;01mreturn\u001b[39;00m column_indices\n\u001b[1;32m    459\u001b[0m \u001b[38;5;28;01melse\u001b[39;00m:\n",
      "\u001b[0;31mValueError\u001b[0m: A given column is not a column of the dataframe"
     ]
    }
   ],
   "source": [
    "# instantiate, fit and run model\n",
    "X_train_ct = preprocessor.fit_transform(X_train, y_train)\n",
    "boost = XGBRegressor()\n",
    "boost.fit(X_train_ct, y_train)\n",
    "pred_train_boost = boost.predict(X_train_ct)\n",
    "\n",
    "X_test_ct = preprocessor.transform(X_test)\n",
    "pred_test_boost = boost.predict(X_test_ct)"
   ]
  },
  {
   "cell_type": "code",
   "execution_count": null,
   "id": "402a039f",
   "metadata": {},
   "outputs": [],
   "source": [
    "# determine error\n",
    "mae_train = mean_absolute_error(y_train, pred_train_boost)\n",
    "mae_test = mean_absolute_error(y_test, pred_test_boost)\n",
    "\n",
    "print(\"MAE: \")\n",
    "print(f\"train: {mae_train:.3f}\")\n",
    "print(f\"test: {mae_test: .3f}\")"
   ]
  },
  {
   "cell_type": "code",
   "execution_count": null,
   "id": "a5ab0658",
   "metadata": {},
   "outputs": [],
   "source": [
    "# plot predictions against true prices\n",
    "plt.figure(figsize=(8,8))\n",
    "plt.scatter(y_test, pred_test_boost)\n",
    "plt.plot([0,300],[0,300],color=\"r\")\n",
    "plt.axis(\"Equal\")\n",
    "plt.xlim(0,300)\n",
    "plt.ylim(0,300)\n",
    "plt.xlabel(\"True Price\")\n",
    "plt.ylabel(\"Predicted Price\")\n",
    "plt.show()"
   ]
  },
  {
   "cell_type": "markdown",
   "id": "2d056476",
   "metadata": {},
   "source": [
    "Not bad! Only about 17 dollars off on average. There is a pretty big range in the products, as we saw above, with some going as high as 700 dollars. 17 dollars seems pretty good with that in mind. Looking at the predictions when plotted, they seem to be clustered pretty well around the equal line though a few seem either overpriced or underpriced based on the model's determination.\n",
    "\n",
    "Since our simple regressor did pretty well. Let's try to do a grid search to further tune the model and see how that does."
   ]
  },
  {
   "cell_type": "markdown",
   "id": "68416487",
   "metadata": {},
   "source": [
    "## Model 2 - Grid Search\n",
    "\n",
    "We'll tune the model with a range of learning rates, estimators, and depths to see how it does."
   ]
  },
  {
   "cell_type": "code",
   "execution_count": null,
   "id": "d99a6206",
   "metadata": {},
   "outputs": [],
   "source": [
    "# parameter grid\n",
    "param_grid = {\n",
    "    \"learning_rate\": [0.01, 0.03, 0.05, 0.07, 0.1],\n",
    "    \"n_estimators\": [100, 250, 500, 750, 1000],\n",
    "    \"max_depth\": [3, 5, 7, 9, 11]\n",
    "}\n",
    "\n",
    "\n",
    "# instantiate and fit\n",
    "boost = XGBRegressor()\n",
    "grid_search = GridSearchCV(boost, param_grid, cv=5, scoring=\"neg_mean_absolute_error\")\n",
    "grid_search.fit(X_train_ct, y_train)\n",
    "\n",
    "# return best parameters and the best score\n",
    "print(f\"Best parameters: {grid_search.best_params_}\")\n",
    "print(f\"Best score: {grid_search.best_score_}\")\n",
    "\n",
    "# get predictions off best model\n",
    "best_boost = grid_search.best_estimator_\n",
    "pred_test_boost_gs = best_boost.predict(X_test_ct)"
   ]
  },
  {
   "cell_type": "code",
   "execution_count": null,
   "id": "b81e3594",
   "metadata": {},
   "outputs": [],
   "source": [
    "# plot predictions against true prices\n",
    "plt.figure(figsize=(7,7))\n",
    "plt.scatter(y_test, pred_test_boost_gs)\n",
    "plt.plot([0,300],[0,300],color=\"r\")\n",
    "plt.axis(\"Equal\")\n",
    "plt.xlim(0,300)\n",
    "plt.ylim(0,300)\n",
    "plt.xlabel(\"True Price\")\n",
    "plt.ylabel(\"Predicted Price\")\n",
    "plt.show()"
   ]
  },
  {
   "cell_type": "markdown",
   "id": "afb0c410",
   "metadata": {},
   "source": [
    "## Model 3 - Neural Network, 3 Hidden Layers"
   ]
  },
  {
   "cell_type": "code",
   "execution_count": null,
   "id": "220bbe0c",
   "metadata": {},
   "outputs": [],
   "source": [
    "X_train_ct = preprocessor.fit_transform(X_train, y_train)\n",
    "X_test_ct = preprocessor.transform(X_test)\n",
    "\n",
    "learning_rate = 0.01\n",
    "\n",
    "model2 = Sequential([\n",
    "    Dense(520, kernel_initializer='normal', activation='relu'),\n",
    "    Dropout(0.2),\n",
    "    Dense(480, kernel_initializer='normal', activation='relu'),\n",
    "    Dropout(0.2),\n",
    "    Dense(256, kernel_initializer='normal', activation='relu'),\n",
    "    Dense(1, kernel_initializer='normal', activation='linear')\n",
    "  ])\n",
    "\n",
    "mae_k = MeanAbsoluteError()\n",
    "model2.compile(loss=mae_k, optimizer=Adam(learning_rate=learning_rate), metrics=[mae_k])\n",
    "\n",
    "model_2 = model2.fit(X_train_ct, y_train, epochs=100, batch_size=64, validation_split=0.2)"
   ]
  },
  {
   "cell_type": "code",
   "execution_count": null,
   "id": "27bfaafc",
   "metadata": {},
   "outputs": [],
   "source": [
    "y_train_pred = model2.predict(X_train_ct)\n",
    "y_test_pred = model2.predict(X_test_ct)\n",
    "\n",
    "rmse_train = np.sqrt(mean_squared_error(y_train, y_train_pred))\n",
    "rmse_test = np.sqrt(mean_squared_error(y_test, y_test_pred))\n",
    "\n",
    "mae_train = mean_absolute_error(y_train, y_train_pred)\n",
    "mae_test = mean_absolute_error(y_test, y_test_pred)\n",
    "\n",
    "ev_train = explained_variance_score(y_train, y_train_pred)\n",
    "ev_test = explained_variance_score(y_test, y_test_pred)\n",
    "\n",
    "print(\"number of features:\",len(X_train.columns))\n",
    "print(\"rmse: (train) %.3f, (test) %.3f\"%(rmse_train, rmse_test))\n",
    "print(\"mae: (train) %.3f, (test) %.3f\"%(mae_train, mae_test))\n",
    "print(\"explained variance: (train cv) %.3f, (test) %.3f\"%(ev_train, ev_test))"
   ]
  },
  {
   "cell_type": "code",
   "execution_count": null,
   "id": "fdb2e645",
   "metadata": {},
   "outputs": [],
   "source": [
    "X_train_ct = preprocessor.fit_transform(X_train, y_train)\n",
    "X_test_ct = preprocessor.transform(X_test)\n",
    "\n",
    "learning_rate = 0.01\n",
    "\n",
    "model2 = Sequential([\n",
    "    Dense(160, kernel_initializer='normal', activation='relu'),\n",
    "    Dropout(0.2),\n",
    "    Dense(480, kernel_initializer='normal', activation='relu'),\n",
    "    Dropout(0.2),\n",
    "    Dense(256, kernel_initializer='normal', activation='relu'),\n",
    "    Dense(1, kernel_initializer='normal', activation='linear')\n",
    "  ])\n",
    "\n",
    "mae_k = MeanAbsoluteError()\n",
    "model2.compile(loss=mae_k, optimizer=Adam(learning_rate=learning_rate), metrics=[mae_k])\n",
    "\n",
    "model_2 = model2.fit(X_train_ct, y_train, epochs=100, batch_size=64, validation_split=0.2)"
   ]
  },
  {
   "cell_type": "code",
   "execution_count": null,
   "id": "b5f1207f",
   "metadata": {},
   "outputs": [],
   "source": [
    "y_train_pred = model2.predict(X_train_ct)\n",
    "y_test_pred = model2.predict(X_test_ct)\n",
    "\n",
    "rmse_train = np.sqrt(mean_squared_error(y_train, y_train_pred))\n",
    "rmse_test = np.sqrt(mean_squared_error(y_test, y_test_pred))\n",
    "\n",
    "mae_train = mean_absolute_error(y_train, y_train_pred)\n",
    "mae_test = mean_absolute_error(y_test, y_test_pred)\n",
    "\n",
    "ev_train = explained_variance_score(y_train, y_train_pred)\n",
    "ev_test = explained_variance_score(y_test, y_test_pred)\n",
    "\n",
    "print(\"number of features:\",len(X_train.columns))\n",
    "print(\"rmse: (train) %.3f, (test) %.3f\"%(rmse_train, rmse_test))\n",
    "print(\"mae: (train) %.3f, (test) %.3f\"%(mae_train, mae_test))\n",
    "print(\"explained variance: (train cv) %.3f, (test) %.3f\"%(ev_train, ev_test))"
   ]
  },
  {
   "cell_type": "markdown",
   "id": "96b03be7",
   "metadata": {},
   "source": [
    "## Model 4 - Neural Network, 5 Hidden Layers¶"
   ]
  },
  {
   "cell_type": "code",
   "execution_count": null,
   "id": "0d998789",
   "metadata": {},
   "outputs": [],
   "source": [
    "learning_rate = 0.01\n",
    "\n",
    "model3 = Sequential([\n",
    "    Dense(160, kernel_initializer='normal', activation='relu'),\n",
    "    Dense(160, kernel_initializer='normal', activation='relu'),\n",
    "    Dropout(0.2),\n",
    "    Dense(480, kernel_initializer='normal', activation='relu'),\n",
    "    Dense(480, kernel_initializer='normal', activation='relu'),\n",
    "    Dropout(0.2),\n",
    "    Dense(256, kernel_initializer='normal', activation='relu'),\n",
    "    Dense(1, kernel_initializer='normal', activation='linear')\n",
    "  ])\n",
    "\n",
    "model3.compile(loss=mae_k, optimizer=Adam(learning_rate=learning_rate), metrics=[mae_k])\n",
    "model_3 = model3.fit(X_train_ct, y_train, epochs=100, batch_size=64, validation_split=0.2)"
   ]
  },
  {
   "cell_type": "code",
   "execution_count": null,
   "id": "413aaf54",
   "metadata": {},
   "outputs": [],
   "source": [
    "y_train_pred = model3.predict(X_train_ct)\n",
    "y_test_pred = model3.predict(X_test_ct)\n",
    "\n",
    "rmse_train = np.sqrt(mean_squared_error(y_train, y_train_pred))\n",
    "rmse_test = np.sqrt(mean_squared_error(y_test, y_test_pred))\n",
    "\n",
    "mae_train = mean_absolute_error(y_train, y_train_pred)\n",
    "mae_test = mean_absolute_error(y_test, y_test_pred)\n",
    "\n",
    "ev_train = explained_variance_score(y_train, y_train_pred)\n",
    "ev_test = explained_variance_score(y_test, y_test_pred)\n",
    "\n",
    "print(\"number of features:\",len(X_train.columns))\n",
    "print(\"rmse: (train) %.3f, (test) %.3f\"%(rmse_train, rmse_test))\n",
    "print(\"mae: (train) %.3f, (test) %.3f\"%(mae_train, mae_test))\n",
    "print(\"explained variance: (train cv) %.3f, (test) %.3f\"%(ev_train, ev_test))"
   ]
  },
  {
   "cell_type": "markdown",
   "id": "5a9f8dbc",
   "metadata": {},
   "source": [
    "## Model 5 - Neural Network, 10 Hidden Layers¶"
   ]
  },
  {
   "cell_type": "code",
   "execution_count": null,
   "id": "aae2f5f6",
   "metadata": {},
   "outputs": [],
   "source": [
    "learning_rate = 0.01\n",
    "\n",
    "model4 = Sequential([\n",
    "    Dense(160, kernel_initializer='normal', activation='relu'),\n",
    "    Dense(160, kernel_initializer='normal', activation='relu'),\n",
    "    Dropout(0.2),\n",
    "    Dense(480, kernel_initializer='normal', activation='relu'),\n",
    "    Dense(480, kernel_initializer='normal', activation='relu'),\n",
    "    Dropout(0.2),\n",
    "    Dense(520, kernel_initializer='normal', activation='relu'),\n",
    "    Dense(520, kernel_initializer='normal', activation='relu'),\n",
    "    Dense(760, kernel_initializer='normal', activation='relu'),\n",
    "    Dense(760, kernel_initializer='normal', activation='relu'),\n",
    "    Dense(760, kernel_initializer='normal', activation='relu'),\n",
    "    Dense(256, kernel_initializer='normal', activation='relu'),\n",
    "    Dense(256, kernel_initializer='normal', activation='relu'),\n",
    "    Dense(1, kernel_initializer='normal', activation='linear')\n",
    "  ])\n",
    "\n",
    "model4.compile(loss=mae_k, optimizer=Adam(learning_rate=learning_rate), metrics=[mae_k])\n",
    "\n",
    "model_4 = model4.fit(X_train_ct, y_train, epochs=100, batch_size=64, validation_split=0.2)"
   ]
  },
  {
   "cell_type": "code",
   "execution_count": null,
   "id": "77362740",
   "metadata": {},
   "outputs": [],
   "source": [
    "y_train_pred = model4.predict(X_train_ct)\n",
    "y_test_pred = model4.predict(X_test_ct)\n",
    "\n",
    "rmse_train = np.sqrt(mean_squared_error(y_train, y_train_pred))\n",
    "rmse_test = np.sqrt(mean_squared_error(y_test, y_test_pred))\n",
    "\n",
    "mae_train = mean_absolute_error(y_train, y_train_pred)\n",
    "mae_test = mean_absolute_error(y_test, y_test_pred)\n",
    "\n",
    "ev_train = explained_variance_score(y_train, y_train_pred)\n",
    "ev_test = explained_variance_score(y_test, y_test_pred)\n",
    "\n",
    "print(\"number of features:\",len(X_train.columns))\n",
    "print(\"rmse: (train) %.3f, (test) %.3f\"%(rmse_train, rmse_test))\n",
    "print(\"mae: (train) %.3f, (test) %.3f\"%(mae_train, mae_test))\n",
    "print(\"explained variance: (train cv) %.3f, (test) %.3f\"%(ev_train, ev_test))"
   ]
  },
  {
   "cell_type": "markdown",
   "id": "36089882",
   "metadata": {},
   "source": [
    "## Feature Engineering"
   ]
  },
  {
   "cell_type": "code",
   "execution_count": null,
   "id": "872bd86a",
   "metadata": {},
   "outputs": [],
   "source": [
    "# remember model\n",
    "X_train_ct = preprocessor.fit_transform(X_train, y_train)\n",
    "boost = XGBRegressor()\n",
    "boost.fit(X_train_ct, y_train)\n",
    "pred_train_boost = boost.predict(X_train_ct)\n",
    "\n",
    "X_test_ct = preprocessor.transform(X_test)\n",
    "pred_test_boost = boost.predict(X_test_ct)\n",
    "\n",
    "# plot feature importances\n",
    "features_df = pd.DataFrame()\n",
    "features_df[\"feature\"] = X_train.columns\n",
    "features_df[\"importance\"] = boost.feature_importances_\n",
    "features_df = features_df.sort_values(\"importance\", ascending=False)\n",
    "plt.figure(figsize=(5,12))\n",
    "sns.barplot(x = \"importance\", y = \"feature\", data=features_df.iloc[:15])\n",
    "plt.show()"
   ]
  },
  {
   "cell_type": "markdown",
   "id": "4e4f857b",
   "metadata": {},
   "source": [
    "## Over and Under Pricing"
   ]
  },
  {
   "cell_type": "code",
   "execution_count": null,
   "id": "9a717eed",
   "metadata": {},
   "outputs": [],
   "source": [
    "# create dataframe of prices and predictions\n",
    "df_prices = df_ing.loc[y_test.index.to_list()]\n",
    "df_prices = df_prices[[\"product_names\", \"product_category\", \"brand\", \"ingredient\"]]\n",
    "df_prices[\"real_price\"] = y_test\n",
    "df_prices[\"predicted_price\"] = pred_test_boost\n",
    "df_prices[\"difference\"] = (df_prices[\"real_price\"] - df_prices[\"predicted_price\"]).round(2)"
   ]
  },
  {
   "cell_type": "code",
   "execution_count": null,
   "id": "2c93c1db",
   "metadata": {},
   "outputs": [],
   "source": [
    "# find most overpriced brands\n",
    "overpriced = df_prices.loc[df_prices[\"difference\"] > 20]\n",
    "overpriced.brand.value_counts().head(10)"
   ]
  },
  {
   "cell_type": "code",
   "execution_count": null,
   "id": "862a5285",
   "metadata": {},
   "outputs": [],
   "source": [
    "# find most underpriced brands\n",
    "underpriced = df_prices.loc[df_prices[\"difference\"] < 0]\n",
    "underpriced.brand.value_counts().head(10)"
   ]
  },
  {
   "cell_type": "markdown",
   "id": "06c1064c",
   "metadata": {},
   "source": [
    "# Dupe Machine"
   ]
  },
  {
   "cell_type": "code",
   "execution_count": null,
   "id": "5c94f797",
   "metadata": {},
   "outputs": [],
   "source": [
    "# remove non-essential columns\n",
    "features = df_ing.copy()\n",
    "features = features.drop(columns = [\"product_names\", \"size\", \"size_num\", \"size_unit\", \"brand\", \"active_ingredient\", \n",
    "                        \"inactive_ingredient\", \"ingredient\"])\n",
    "features = pd.get_dummies(features)\n",
    "\n",
    "# fit KNN model\n",
    "model = NearestNeighbors(n_neighbors=2, algorithm='ball_tree')\n",
    "model.fit(features)\n",
    "dist, idlist = model.kneighbors(features)"
   ]
  },
  {
   "cell_type": "code",
   "execution_count": null,
   "id": "ecd22412",
   "metadata": {},
   "outputs": [],
   "source": [
    "# define function\n",
    "def SuperDuper(product_name):\n",
    "    product_list = []\n",
    "    product_id = df_ing[df_ing[\"product_names\"] == product_name].index\n",
    "    product_id = product_id[0]\n",
    "    product_price = df_ing[\"price\"].iloc[product_id] \n",
    "    for newid in idlist[product_id]:\n",
    "        name = df_ing.loc[newid].product_names\n",
    "        brand = df_ing.loc[newid].brand\n",
    "        price = df_ing.loc[newid].price\n",
    "        if name == product_name:\n",
    "            pass\n",
    "        elif price < product_price:\n",
    "            product_list.append(f\"{name} from {brand}, ${price: .2f}\")\n",
    "        \n",
    "    return product_list   "
   ]
  },
  {
   "cell_type": "code",
   "execution_count": null,
   "id": "a62e47fe",
   "metadata": {},
   "outputs": [],
   "source": [
    "SuperDuper(\"Absolue Premium Bx Advanced Replenishing Cream Cleanser\")"
   ]
  },
  {
   "cell_type": "code",
   "execution_count": null,
   "id": "8d1f1c12",
   "metadata": {},
   "outputs": [],
   "source": [
    "# creating dataframes and pickles for SuperDuper streamlit app\n",
    "products_data = df_ing[[\"brand\", \"product_names\", \"price\"]]\n",
    "products_data.to_csv(r\"data/products_data.csv\")\n",
    "products_data.to_pickle(\"./products_data.pkl\") \n",
    "features.to_pickle(\"./features.pkl\")"
   ]
  }
 ],
 "metadata": {
  "kernelspec": {
   "display_name": "middle-earth",
   "language": "python",
   "name": "middle-earth"
  },
  "language_info": {
   "codemirror_mode": {
    "name": "ipython",
    "version": 3
   },
   "file_extension": ".py",
   "mimetype": "text/x-python",
   "name": "python",
   "nbconvert_exporter": "python",
   "pygments_lexer": "ipython3",
   "version": "3.8.16"
  }
 },
 "nbformat": 4,
 "nbformat_minor": 5
}
