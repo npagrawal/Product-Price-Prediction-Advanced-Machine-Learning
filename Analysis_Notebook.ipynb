{
 "cells": [
  {
   "cell_type": "markdown",
   "id": "9b798f55",
   "metadata": {},
   "source": [
    "# Price Prediction For Skincare Products Using Neural Networks\n",
    "\n",
    "## Overview\n",
    "\n",
    "The cosmetics industry brought in an estimated $262.21 billion in 2022 and is due to continue growing this year. Skincare in particular has seen an increased interest as the culture has shifted away from the glam beauty standards of the recession-era 2000s to embrace a more \"natural\" beauty. \n",
    "\n",
    "My stakeholder, Inner Glow Inc., wants to make their mark on the skincare industry by coming out with their own line of products that are competetive with what's available. To do this, they first need to understand the current market and determine where they can undercut more expensive alternatives. Rampant upcharge in the skincare industry is obvious when products can range from $7-400. How can Inner Glow Inc. offer mid-line products that capture both a high-end and low-end market?\n",
    "\n",
    "Using neural networks and XGBoost, I look at data from NoxMoon's \"Inside Beauty\" project, scraped from Beautypedia and Paula’s choice websites, and data I scraped myself from the Dermstore. The two datasets include product names, brands, prices, ingredients, size, and product type. There are over 7000 products at the end of cleaning. Features include one-hot encoded \"special\" ingredients (i.e. not ones that appear in every single product but do in a good amount of them), and number of active and inactive ingredients, among others.\n",
    "\n",
    "After tuning a series of neural networks, using XGBoost, and using grid search to tune XGBoost, I find in the end that the untuned XGBoost does the best with the data, scoring an MAE on the test around $13. Given the spread of product prices, this doesn't seem way off base. Features engineering determines certain ingredients, like Isopropyl Misorate, have a marginal level of importance when it comes to price. The most often overpriced brands are iS Clinical, Clarins, and SK-II, while the most underpriced ones are Neutrogena, Clinique, and L'Oreal Paris. Therefore, Inner Beauty Inc. should try to dupe the overpriced brands' products with prices that are on average higher than the underpriced ones.\n",
    "\n",
    "I put all these findings together into the Streamlit app SuperDuper which offers users the chance to dupe their favorite high-end products and find cheaper alternatives that are at the ingredient-level similar."
   ]
  },
  {
   "cell_type": "markdown",
   "id": "1a40085e",
   "metadata": {},
   "source": [
    "## Imports\n",
    "\n",
    "To begin, we import all our libraries."
   ]
  },
  {
   "cell_type": "code",
   "execution_count": 1,
   "id": "a25a4474",
   "metadata": {},
   "outputs": [],
   "source": [
    "import itertools\n",
    "import pandas as pd\n",
    "import numpy as np\n",
    "import seaborn as sns\n",
    "import matplotlib.pyplot as plt\n",
    "import warnings \n",
    "warnings.filterwarnings('ignore')\n",
    "\n",
    "from sklearn.model_selection import train_test_split\n",
    "from sklearn.metrics import mean_squared_error, mean_absolute_error, explained_variance_score\n",
    "from sklearn.pipeline import Pipeline\n",
    "from sklearn.impute import SimpleImputer\n",
    "from sklearn.preprocessing import StandardScaler\n",
    "from sklearn.compose import ColumnTransformer\n",
    "from category_encoders import TargetEncoder\n",
    "from sklearn.model_selection import train_test_split\n",
    "from sklearn.model_selection import GridSearchCV\n",
    "\n",
    "from xgboost import XGBRegressor\n",
    "from tensorflow.keras import Model, Sequential\n",
    "from tensorflow.keras.optimizers import Adam\n",
    "from sklearn.preprocessing import StandardScaler\n",
    "from tensorflow.keras.layers import Dense, Dropout\n",
    "from tensorflow.keras.losses import MeanAbsoluteError\n",
    "\n",
    "from sklearn.preprocessing import MinMaxScaler\n",
    "from sklearn.neighbors import KNeighborsClassifier, NearestNeighbors"
   ]
  },
  {
   "cell_type": "markdown",
   "id": "475789fe",
   "metadata": {},
   "source": [
    "## EDA\n",
    "\n",
    "The data comes from Beautypedia and Paula's Choice (scraped by NoxMoon on GitHub) and from the Dermstore. You can see my scraping code for the Dermstore in the web_scraping folder. Both datasets include product names, prices, categories, brands, and ingredients."
   ]
  },
  {
   "cell_type": "code",
   "execution_count": 2,
   "id": "8010ee10",
   "metadata": {
    "scrolled": true
   },
   "outputs": [],
   "source": [
    "# read NoxMoon's data\n",
    "df1 = pd.read_csv(\"data/skin_care_cleaned.csv\")\n",
    "df1 = df1[[\"product_names\", \"product_category\", \"brand\", \"ingredient\", \"size\", \"price\", \"size_num\", \"size_unit\", \n",
    "        'active_ingredient', 'inactive_ingredient', 'n_inactive_ingredient', 'n_active_ingredient']]\n",
    "\n",
    "# basic cleaning for readability, dropping empty cells\n",
    "df1.active_ingredient = df1.active_ingredient.str.replace(\"(\", \"\")\n",
    "df1.active_ingredient = df1.active_ingredient.str.replace(\")\", \"\")\n",
    "df1.active_ingredient = df1.active_ingredient.str.replace(\",\", \"\")\n",
    "df1.active_ingredient = df1.active_ingredient.str.replace(\"%.\", \"%\")\n",
    "df1.active_ingredient = df1.active_ingredient.str.strip()\n",
    "df1.active_ingredient = df1.active_ingredient.str.split(\"%\")\n",
    "df1 = df1.dropna(subset=[\"ingredient\", \"size\", \"size_unit\"])"
   ]
  },
  {
   "cell_type": "code",
   "execution_count": 3,
   "id": "2d84fe59",
   "metadata": {},
   "outputs": [
    {
     "data": {
      "text/html": [
       "<div>\n",
       "<style scoped>\n",
       "    .dataframe tbody tr th:only-of-type {\n",
       "        vertical-align: middle;\n",
       "    }\n",
       "\n",
       "    .dataframe tbody tr th {\n",
       "        vertical-align: top;\n",
       "    }\n",
       "\n",
       "    .dataframe thead th {\n",
       "        text-align: right;\n",
       "    }\n",
       "</style>\n",
       "<table border=\"1\" class=\"dataframe\">\n",
       "  <thead>\n",
       "    <tr style=\"text-align: right;\">\n",
       "      <th></th>\n",
       "      <th>product_names</th>\n",
       "      <th>product_category</th>\n",
       "      <th>brand</th>\n",
       "      <th>ingredient</th>\n",
       "      <th>size</th>\n",
       "      <th>price</th>\n",
       "      <th>size_num</th>\n",
       "      <th>size_unit</th>\n",
       "      <th>active_ingredient</th>\n",
       "      <th>inactive_ingredient</th>\n",
       "      <th>n_inactive_ingredient</th>\n",
       "      <th>n_active_ingredient</th>\n",
       "    </tr>\n",
       "  </thead>\n",
       "  <tbody>\n",
       "    <tr>\n",
       "      <th>0</th>\n",
       "      <td>Clear Complexion Spot Treatment</td>\n",
       "      <td>Acne &amp; Blemish Treatment</td>\n",
       "      <td>Merle Norman</td>\n",
       "      <td>Active: Salicylic Acid (2%),  Other: Alcohol D...</td>\n",
       "      <td>0.50 fl. oz.</td>\n",
       "      <td>20.00</td>\n",
       "      <td>15.0</td>\n",
       "      <td>ml</td>\n",
       "      <td>[Salicylic Acid 2, ]</td>\n",
       "      <td>Alcohol Denat.,  Hamamelis Virginiana (Witch ...</td>\n",
       "      <td>10</td>\n",
       "      <td>1</td>\n",
       "    </tr>\n",
       "    <tr>\n",
       "      <th>1</th>\n",
       "      <td>Acne Solutions Emergency Gel Lotion</td>\n",
       "      <td>Acne &amp; Blemish Treatment</td>\n",
       "      <td>Clinique</td>\n",
       "      <td>Active: Benzoyl Peroxide (5%),  Other: Water P...</td>\n",
       "      <td>0.50 fl. oz.</td>\n",
       "      <td>17.00</td>\n",
       "      <td>15.0</td>\n",
       "      <td>ml</td>\n",
       "      <td>[Benzoyl Peroxide 5, ]</td>\n",
       "      <td>Water Purified,  C12-15 Alkyl Benzoate,  Glyc...</td>\n",
       "      <td>23</td>\n",
       "      <td>1</td>\n",
       "    </tr>\n",
       "    <tr>\n",
       "      <th>2</th>\n",
       "      <td>RESIST Daily Pore-Refining Solution 2% BHA</td>\n",
       "      <td>Acne &amp; Blemish Treatment</td>\n",
       "      <td>Paula's Choice Skincare</td>\n",
       "      <td>Water (Aqua),  Dipropylene Glycol,  Salicylic ...</td>\n",
       "      <td>3.00 fl. oz.</td>\n",
       "      <td>33.00</td>\n",
       "      <td>89.0</td>\n",
       "      <td>ml</td>\n",
       "      <td>NaN</td>\n",
       "      <td>Water (Aqua),  Dipropylene Glycol,  Salicylic ...</td>\n",
       "      <td>26</td>\n",
       "      <td>0</td>\n",
       "    </tr>\n",
       "    <tr>\n",
       "      <th>4</th>\n",
       "      <td>Naturals Acne Spot Treatment</td>\n",
       "      <td>Acne &amp; Blemish Treatment</td>\n",
       "      <td>Neutrogena</td>\n",
       "      <td>Active Ingredient: Salicylic Acid 1%. Inactive...</td>\n",
       "      <td>0.75 fl. oz.</td>\n",
       "      <td>8.49</td>\n",
       "      <td>22.0</td>\n",
       "      <td>ml</td>\n",
       "      <td>[Salicylic Acid 1, ]</td>\n",
       "      <td>Water,  Hydrated Silica,  Glycerin,  Dicapryl...</td>\n",
       "      <td>18</td>\n",
       "      <td>1</td>\n",
       "    </tr>\n",
       "    <tr>\n",
       "      <th>5</th>\n",
       "      <td>Normaderm Daily Anti-Acne Hydrating Lotion</td>\n",
       "      <td>Acne &amp; Blemish Treatment</td>\n",
       "      <td>Vichy</td>\n",
       "      <td>Active: Salicylic Acid 1%. Inactive: Water,  G...</td>\n",
       "      <td>1.70 fl. oz.</td>\n",
       "      <td>23.50</td>\n",
       "      <td>50.0</td>\n",
       "      <td>ml</td>\n",
       "      <td>[Salicylic Acid 1, ]</td>\n",
       "      <td>Water,  Glycerin,  Alcohol Denat.,  Phenyl Tr...</td>\n",
       "      <td>24</td>\n",
       "      <td>1</td>\n",
       "    </tr>\n",
       "  </tbody>\n",
       "</table>\n",
       "</div>"
      ],
      "text/plain": [
       "                                product_names          product_category  \\\n",
       "0             Clear Complexion Spot Treatment  Acne & Blemish Treatment   \n",
       "1         Acne Solutions Emergency Gel Lotion  Acne & Blemish Treatment   \n",
       "2  RESIST Daily Pore-Refining Solution 2% BHA  Acne & Blemish Treatment   \n",
       "4                Naturals Acne Spot Treatment  Acne & Blemish Treatment   \n",
       "5  Normaderm Daily Anti-Acne Hydrating Lotion  Acne & Blemish Treatment   \n",
       "\n",
       "                     brand                                         ingredient  \\\n",
       "0             Merle Norman  Active: Salicylic Acid (2%),  Other: Alcohol D...   \n",
       "1                 Clinique  Active: Benzoyl Peroxide (5%),  Other: Water P...   \n",
       "2  Paula's Choice Skincare  Water (Aqua),  Dipropylene Glycol,  Salicylic ...   \n",
       "4               Neutrogena  Active Ingredient: Salicylic Acid 1%. Inactive...   \n",
       "5                    Vichy  Active: Salicylic Acid 1%. Inactive: Water,  G...   \n",
       "\n",
       "           size  price  size_num size_unit       active_ingredient  \\\n",
       "0  0.50 fl. oz.  20.00      15.0        ml    [Salicylic Acid 2, ]   \n",
       "1  0.50 fl. oz.  17.00      15.0        ml  [Benzoyl Peroxide 5, ]   \n",
       "2  3.00 fl. oz.  33.00      89.0        ml                     NaN   \n",
       "4  0.75 fl. oz.   8.49      22.0        ml    [Salicylic Acid 1, ]   \n",
       "5  1.70 fl. oz.  23.50      50.0        ml    [Salicylic Acid 1, ]   \n",
       "\n",
       "                                 inactive_ingredient  n_inactive_ingredient  \\\n",
       "0   Alcohol Denat.,  Hamamelis Virginiana (Witch ...                     10   \n",
       "1   Water Purified,  C12-15 Alkyl Benzoate,  Glyc...                     23   \n",
       "2  Water (Aqua),  Dipropylene Glycol,  Salicylic ...                     26   \n",
       "4   Water,  Hydrated Silica,  Glycerin,  Dicapryl...                     18   \n",
       "5   Water,  Glycerin,  Alcohol Denat.,  Phenyl Tr...                     24   \n",
       "\n",
       "   n_active_ingredient  \n",
       "0                    1  \n",
       "1                    1  \n",
       "2                    0  \n",
       "4                    1  \n",
       "5                    1  "
      ]
     },
     "execution_count": 3,
     "metadata": {},
     "output_type": "execute_result"
    }
   ],
   "source": [
    "df1.head()"
   ]
  },
  {
   "cell_type": "code",
   "execution_count": 4,
   "id": "0744677f",
   "metadata": {},
   "outputs": [
    {
     "data": {
      "text/html": [
       "<div>\n",
       "<style scoped>\n",
       "    .dataframe tbody tr th:only-of-type {\n",
       "        vertical-align: middle;\n",
       "    }\n",
       "\n",
       "    .dataframe tbody tr th {\n",
       "        vertical-align: top;\n",
       "    }\n",
       "\n",
       "    .dataframe thead th {\n",
       "        text-align: right;\n",
       "    }\n",
       "</style>\n",
       "<table border=\"1\" class=\"dataframe\">\n",
       "  <thead>\n",
       "    <tr style=\"text-align: right;\">\n",
       "      <th></th>\n",
       "      <th>product_name</th>\n",
       "      <th>brand</th>\n",
       "      <th>price</th>\n",
       "      <th>ingredients</th>\n",
       "      <th>active_ingredients</th>\n",
       "      <th>inactive_ingredients</th>\n",
       "    </tr>\n",
       "  </thead>\n",
       "  <tbody>\n",
       "    <tr>\n",
       "      <th>0</th>\n",
       "      <td>ELEMIS Pro-Collagen Cleansing Balm (100 g.)</td>\n",
       "      <td>Elemis</td>\n",
       "      <td>68.00</td>\n",
       "      <td>Prunus Amygdalus Dulcis (Sweet Almond) Oil, Ca...</td>\n",
       "      <td>NaN</td>\n",
       "      <td>NaN</td>\n",
       "    </tr>\n",
       "    <tr>\n",
       "      <th>1</th>\n",
       "      <td>VIRTUE Healing Oil (1.7 fl. oz.)</td>\n",
       "      <td>VIRTUE</td>\n",
       "      <td>44.00</td>\n",
       "      <td>Alpha Keratin 60ku®, Cyclopentasiloxane, Dimet...</td>\n",
       "      <td>Alpha Keratin 60ku®</td>\n",
       "      <td>Cyclopentasiloxane, Dimethiconol, Parfum (Frag...</td>\n",
       "    </tr>\n",
       "    <tr>\n",
       "      <th>2</th>\n",
       "      <td>Augustinus Bader The Rich Cream 50ml</td>\n",
       "      <td>Augustinus Bader</td>\n",
       "      <td>290.00</td>\n",
       "      <td>Aqua (Water), Coco-Caprylate/Caprate, Helianth...</td>\n",
       "      <td>NaN</td>\n",
       "      <td>NaN</td>\n",
       "    </tr>\n",
       "    <tr>\n",
       "      <th>3</th>\n",
       "      <td>SkinCeuticals C E Ferulic (1 fl. oz.)</td>\n",
       "      <td>SkinCeuticals</td>\n",
       "      <td>182.00</td>\n",
       "      <td>Aqua/Water/Eau, Ethoxydiglycol, Ascorbic Acid,...</td>\n",
       "      <td>NaN</td>\n",
       "      <td>NaN</td>\n",
       "    </tr>\n",
       "    <tr>\n",
       "      <th>4</th>\n",
       "      <td>U Beauty Resurfacing Compound 50ml /1.7 oz</td>\n",
       "      <td>U Beauty</td>\n",
       "      <td>228.00</td>\n",
       "      <td>Aqua (Water), Aloe Barbadensis Leaf Juice Powd...</td>\n",
       "      <td>NaN</td>\n",
       "      <td>NaN</td>\n",
       "    </tr>\n",
       "  </tbody>\n",
       "</table>\n",
       "</div>"
      ],
      "text/plain": [
       "                                   product_name              brand    price  \\\n",
       "0  ELEMIS Pro-Collagen Cleansing Balm (100 g.)             Elemis    68.00    \n",
       "1             VIRTUE Healing Oil (1.7 fl. oz.)             VIRTUE    44.00    \n",
       "2         Augustinus Bader The Rich Cream 50ml   Augustinus Bader   290.00    \n",
       "3        SkinCeuticals C E Ferulic (1 fl. oz.)      SkinCeuticals   182.00    \n",
       "4   U Beauty Resurfacing Compound 50ml /1.7 oz           U Beauty   228.00    \n",
       "\n",
       "                                         ingredients   active_ingredients  \\\n",
       "0  Prunus Amygdalus Dulcis (Sweet Almond) Oil, Ca...                  NaN   \n",
       "1  Alpha Keratin 60ku®, Cyclopentasiloxane, Dimet...  Alpha Keratin 60ku®   \n",
       "2  Aqua (Water), Coco-Caprylate/Caprate, Helianth...                  NaN   \n",
       "3  Aqua/Water/Eau, Ethoxydiglycol, Ascorbic Acid,...                  NaN   \n",
       "4  Aqua (Water), Aloe Barbadensis Leaf Juice Powd...                  NaN   \n",
       "\n",
       "                                inactive_ingredients  \n",
       "0                                                NaN  \n",
       "1  Cyclopentasiloxane, Dimethiconol, Parfum (Frag...  \n",
       "2                                                NaN  \n",
       "3                                                NaN  \n",
       "4                                                NaN  "
      ]
     },
     "execution_count": 4,
     "metadata": {},
     "output_type": "execute_result"
    }
   ],
   "source": [
    "# read in Dermstore data\n",
    "df2 = pd.read_csv(\"data/ingredients_skincare_dermstore.csv\").drop(columns = [\"Unnamed: 0\", \"url\"])\n",
    "\n",
    "# remove dollar signs from dataframe\n",
    "df2[\"price\"] = df2[\"price\"].str.replace(\"$\", \"\")\n",
    "df2.head()"
   ]
  },
  {
   "cell_type": "markdown",
   "id": "1edff50d",
   "metadata": {},
   "source": [
    "Both datasets seem to be missing data for active ingredients, and the second dataset is missing data for inactive ingredients. This might be because not all products have active and inactive ingredient distinctions.\n",
    "\n",
    "Let's look at the range of prices. First we'll need to remove rows where the price data isn't a number. And then we'll need to convert the prices to floats."
   ]
  },
  {
   "cell_type": "code",
   "execution_count": 5,
   "id": "b0b715d0",
   "metadata": {},
   "outputs": [],
   "source": [
    "# find and drop irregular rows\n",
    "index_list = []\n",
    "for index, row in df2.iterrows():\n",
    "    if \"-product\" in str(row[\"price\"]):\n",
    "        index_list.append(index)\n",
    "    elif \"-qubit\" in str(row[\"price\"]):\n",
    "        index_list.append(index)\n",
    "    elif \"-track\" in str(row[\"price\"]):\n",
    "        index_list.append(index)\n",
    "        \n",
    "df2 = df2.drop(index = index_list)\n",
    "\n",
    "# convert price column to float\n",
    "df2[\"price\"] = df2[\"price\"].astype(float)\n",
    "\n",
    "# put the dataframes together\n",
    "df = pd.concat([df1, df2])"
   ]
  },
  {
   "cell_type": "code",
   "execution_count": 6,
   "id": "44c73f28",
   "metadata": {},
   "outputs": [
    {
     "data": {
      "image/png": "[encoded data removed]",
      "text/plain": [
       "<Figure size 1200x600 with 2 Axes>"
      ]
     },
     "metadata": {},
     "output_type": "display_data"
    }
   ],
   "source": [
    "# plot the prices by product category\n",
    "fig, axs = plt.subplots(ncols=2, figsize=(12, 6))\n",
    "sns.boxplot(x='product_category', y='price', data=df, ax=axs[0])\n",
    "axs[0].set_xticklabels(axs[0].get_xticklabels(), rotation=90)\n",
    "axs[0].set_xlabel(\"Product Category\")\n",
    "axs[0].set_ylabel(\"Price\")\n",
    "axs[0].set_title(\"Product Categories by Price\")\n",
    "\n",
    "sns.boxplot(x='product_category', y='price', data=df, ax=axs[1])\n",
    "axs[1].set_xticklabels(axs[1].get_xticklabels(), rotation=90)\n",
    "axs[1].set_xlabel(\"Product Category\")\n",
    "axs[1].set_ylabel(\"Price\")\n",
    "axs[1].set_title(\"Product Categories by Price, Closeup\")\n",
    "axs[1].set_ylim(0, 200);"
   ]
  },
  {
   "cell_type": "markdown",
   "id": "fcdb3620",
   "metadata": {},
   "source": [
    "So, the majority of products average less than $50, while serums tick higher than the others. There are probably more designer products in the serum category than the others. Lip balms and scrubs seem to be the cheapest items. There are also many outliers that tick even higher than these averages (left plot)."
   ]
  },
  {
   "cell_type": "code",
   "execution_count": 7,
   "id": "e70e196f",
   "metadata": {},
   "outputs": [
    {
     "data": {
      "image/png": "[encoded data removed]",
      "text/plain": [
       "<Figure size 640x480 with 1 Axes>"
      ]
     },
     "metadata": {},
     "output_type": "display_data"
    }
   ],
   "source": [
    "# select most common brands\n",
    "brand_list = []\n",
    "for key, value in df.brand.value_counts().head(16).to_dict().items():\n",
    "    brand_list.append(key)\n",
    "\n",
    "df_topbrands = df[df[\"brand\"].isin(brand_list)]\n",
    "df_topbrands = df_topbrands[[\"brand\", \"price\", \"product_names\"]]\n",
    "df_topbrands = df_topbrands.dropna()\n",
    "\n",
    "# plot brands against price\n",
    "ax = sns.boxplot(x='brand', y='price', data=df_topbrands)\n",
    "ax.set_xticklabels(ax.get_xticklabels(), rotation=90)\n",
    "ax.set_xlabel(\"Brand\")\n",
    "ax.set_ylabel(\"Price\")\n",
    "ax.set_title(\"Brands by Price\")\n",
    "ax.set_ylim(0, 200);"
   ]
  },
  {
   "cell_type": "markdown",
   "id": "7f7f10b3",
   "metadata": {},
   "source": [
    "Lancome has tthe greatest spread of prices amongst its catalog, while Neutrogena has the smallest. Neutrogena also seems to be the cheapest.\n",
    "\n",
    "Since brands and product categories seem to be a great determinant of price, there's a good chance both will show up in the features engineering portion of this notebook."
   ]
  },
  {
   "cell_type": "markdown",
   "id": "ec91a7a1",
   "metadata": {},
   "source": [
    "## Data Preparation\n",
    "In order to seamlessly combine the datasets, we'll need to do some cleaning. We'll go back to dfs 1 and 2 to do this. It'll also help us to turn our ingredient columns into lists for one-hot encoding."
   ]
  },
  {
   "cell_type": "code",
   "execution_count": 8,
   "id": "99a03f56",
   "metadata": {},
   "outputs": [],
   "source": [
    "# some cleaning\n",
    "# turn active ingredients into list, input inactive ingredients\n",
    "df2[\"active_ingredients\"] = df2[\"active_ingredients\"].str.split(\",\")\n",
    "df2[\"inactive_ingredients\"] = df2[\"inactive_ingredients\"].fillna(df2[\"ingredients\"])\n",
    "\n",
    "# create and fill n_active_ingredient column\n",
    "df2[\"n_active_ingredient\"] = df2[\"active_ingredients\"]\n",
    "df2[\"n_active_ingredient\"] = df2[\"n_active_ingredient\"].fillna(0)\n",
    "for index, row in df2.iterrows():\n",
    "    if type(row[\"n_active_ingredient\"]) == list:\n",
    "        if len(row[\"n_active_ingredient\"]) > 0:\n",
    "            row[\"n_active_ingredient\"] = len(row[\"n_active_ingredient\"])\n",
    "            \n",
    "# create and fill n_inactive_ingredient column\n",
    "df2[\"n_inactive_ingredient\"] = df2[\"inactive_ingredients\"].str.split(\",\")\n",
    "for index, row in df2.iterrows():\n",
    "    if type(row[\"n_inactive_ingredient\"]) == list:\n",
    "        if len(row[\"n_inactive_ingredient\"]) > 0:\n",
    "            row[\"n_inactive_ingredient\"] = len(row[\"n_inactive_ingredient\"])"
   ]
  },
  {
   "cell_type": "markdown",
   "id": "8a517c5f",
   "metadata": {},
   "source": [
    "Df2 doesn't have product categories, like df1 does. We'll have to semi-manually create these based on keywords."
   ]
  },
  {
   "cell_type": "code",
   "execution_count": 9,
   "id": "58a2fac2",
   "metadata": {},
   "outputs": [],
   "source": [
    "# create product categories for items\n",
    "df2[\"product_category\"] = df2[\"product_name\"]\n",
    "for index, row in df2.iterrows():\n",
    "    if \"Serum\" in row[\"product_category\"]:\n",
    "        row[\"product_category\"] = \"Serum\"\n",
    "    elif \"Hydr\" in row[\"product_category\"]:\n",
    "        row[\"product_category\"] = \"Serum\"\n",
    "    elif \"Refi\" in row[\"product_category\"]:\n",
    "        row[\"product_category\"] = \"Serum\"\n",
    "    elif \"Bar\" in row[\"product_category\"]:\n",
    "        row[\"product_category\"] = \"Serum\"\n",
    "    elif \"Stem\" in row[\"product_category\"]:\n",
    "        row[\"product_category\"] = \"Serum\"\n",
    "    elif \"Neck\" in row[\"product_category\"]:\n",
    "        row[\"product_category\"] = \"Serum\"\n",
    "    elif \"neck\" in row[\"product_category\"]:\n",
    "        row[\"product_category\"] = \"Serum\"\n",
    "    elif \"Peptide\" in row[\"product_category\"]:\n",
    "        row[\"product_category\"] = \"Serum\"\n",
    "    elif \"Resurfac\" in row[\"product_category\"]:\n",
    "        row[\"product_category\"] = \"Serum\"\n",
    "    elif \"Collagen\" in row[\"product_category\"]:\n",
    "        row[\"product_category\"] = \"Serum\"\n",
    "    elif \"Sun\" in row[\"product_category\"]:\n",
    "        row[\"product_category\"] = \"Sunscreen\" \n",
    "    elif \"SPF\" in row[\"product_category\"]:\n",
    "        row[\"product_category\"] = \"Sunscreen\" \n",
    "    elif \"Clean\" in row[\"product_category\"]:\n",
    "        row[\"product_category\"] = \"Cleansers\"\n",
    "    elif \"Wash\" in row[\"product_category\"]:\n",
    "        row[\"product_category\"] = \"Cleansers\"\n",
    "    elif \"Wipes\" in row[\"product_category\"]:\n",
    "        row[\"product_category\"] = \"Cleansers\"\n",
    "    elif \"Pads\" in row[\"product_category\"]:\n",
    "        row[\"product_category\"] = \"Cleansers\" \n",
    "    elif \"Makeup Remover\" in row[\"product_category\"]:\n",
    "        row[\"product_category\"] = \"Cleansers\"\n",
    "    elif \"Soap\" in row[\"product_category\"]:\n",
    "        row[\"product_category\"] = \"Cleansers\" \n",
    "    elif \"Cream\" in row[\"product_category\"]:\n",
    "        row[\"product_category\"] = \"Nighttime Moisturizer\"\n",
    "    elif \"Creme\" in row[\"product_category\"]:\n",
    "        row[\"product_category\"] = \"Nighttime Moisturizer\"\n",
    "    elif \"Night\" in row[\"product_category\"]:\n",
    "        row[\"product_category\"] = \"Nighttime Moisturizer\"\n",
    "    elif \"night\" in row[\"product_category\"]:\n",
    "        row[\"product_category\"] = \"Nighttime Moisturizer\"\n",
    "    elif \"Nuit\" in row[\"product_category\"]:\n",
    "        row[\"product_category\"] = \"Nighttime Moisturizer\"\n",
    "    elif \"Gel\" in row[\"product_category\"]:\n",
    "        row[\"product_category\"] = \"Nighttime Moisturizer\"\n",
    "    elif \"Sleep\" in row[\"product_category\"]:\n",
    "        row[\"product_category\"] = \"Nighttime Moisturizer\"\n",
    "    elif \"Lotion\" in row[\"product_category\"]:\n",
    "        row[\"product_category\"] = \"Daytime Moisturizer\"\n",
    "    elif \"Moisturizer\" in row[\"product_category\"]:\n",
    "        row[\"product_category\"] = \"Daytime Moisturizer\"\n",
    "    elif \"Butter\" in row[\"product_category\"]:\n",
    "        row[\"product_category\"] = \"Daytime Moisturizer\"\n",
    "    elif \"Lip\" in row[\"product_category\"]:\n",
    "        row[\"product_category\"] = \"Lip Scrub\"\n",
    "    elif \"Mask\" in row[\"product_category\"]:\n",
    "        row[\"product_category\"] = \"Face Mask\"\n",
    "    elif \"Masque\" in row[\"product_category\"]:\n",
    "        row[\"product_category\"] = \"Face Mask\"\n",
    "    elif \"Acne\" in row[\"product_category\"]:\n",
    "        row[\"product_category\"] = \"Acne & Blemish Treatment\"\n",
    "    elif \"Blemish\" in row[\"product_category\"]:\n",
    "        row[\"product_category\"] = \"Acne & Blemish Treatment\"\n",
    "    elif \"Pore\" in row[\"product_category\"]:\n",
    "        row[\"product_category\"] = \"Acne & Blemish Treatment\"\n",
    "    elif \"Spot\" in row[\"product_category\"]:\n",
    "        row[\"product_category\"] = \"Acne & Blemish Treatment\"\n",
    "    elif \"Clinical\" in row[\"product_category\"]:\n",
    "        row[\"product_category\"] = \"Acne & Blemish Treatment\"\n",
    "    elif \"System\" in row[\"product_category\"]:\n",
    "        row[\"product_category\"] = \"Acne & Blemish Treatment\"\n",
    "    elif \"Treatment\" in row[\"product_category\"]:\n",
    "        row[\"product_category\"] = \"Acne & Blemish Treatment\"\n",
    "    elif \"Eye\" in row[\"product_category\"]:\n",
    "        row[\"product_category\"] = \"Eye Cream & Treatment\" \n",
    "    elif \"Toner\" in row[\"product_category\"]:\n",
    "        row[\"product_category\"] = \"Toner & Face Mist\"\n",
    "    elif \"Mist\" in row[\"product_category\"]:\n",
    "        row[\"product_category\"] = \"Toner & Face Mist\"\n",
    "    elif \"mist\" in row[\"product_category\"]:\n",
    "        row[\"product_category\"] = \"Toner & Face Mist\" \n",
    "    elif \"Scrub\" in row[\"product_category\"]:\n",
    "        row[\"product_category\"] = \"Exfoliants\"\n",
    "    elif \"Exfoli\" in row[\"product_category\"]:\n",
    "        row[\"product_category\"] = \"Exfoliants\" \n",
    "    elif \"Polish\" in row[\"product_category\"]:\n",
    "        row[\"product_category\"] = \"Exfoliants\"\n",
    "    elif \"Glow\" in row[\"product_category\"]:\n",
    "        row[\"product_category\"] = \"Exfoliants\"\n",
    "    elif \"Peel\" in row[\"product_category\"]:\n",
    "        row[\"product_category\"] = \"Exfoliants\"\n",
    "    elif \"Vitamin C\" in row[\"product_category\"]:\n",
    "        row[\"product_category\"] = \"Vitamin C\"\n",
    "    elif \"Vita C\" in row[\"product_category\"]:\n",
    "        row[\"product_category\"] = \"Vitamin C\"\n",
    "    elif \"Refin\" in row[\"product_category\"]:\n",
    "        row[\"product_category\"] = \"Vitamin C\"\n",
    "    elif \"Bright\" in row[\"product_category\"]:\n",
    "        row[\"product_category\"] = \"Skin Lightener\"\n",
    "    elif \"-C\" in row[\"product_category\"]:\n",
    "        row[\"product_category\"] = \"Vitamin C\"\n",
    "    elif \"Vit C\" in row[\"product_category\"]:\n",
    "        row[\"product_category\"] = \"Vitamin C\"\n",
    "    elif \"- C\" in row[\"product_category\"]:\n",
    "        row[\"product_category\"] = \"Vitamin C\"\n",
    "    elif \"Oil\" in row[\"product_category\"]:\n",
    "        row[\"product_category\"] = \"Facial Oil\" \n",
    "    elif \"Retinol\" in row[\"product_category\"]:\n",
    "        row[\"product_category\"] = \"Retinol\" \n",
    "    elif \"Matt\" in row[\"product_category\"]:\n",
    "        row[\"product_category\"] = \"Oil Control Products\" \n",
    "        \n",
    "product_types = [\"Nighttime Moisturizer\", \"Cleansers\", \"Serum\", \"Exfoliants\", \"Eye Cream & Treatment\", \"Daytime Moisturizer\",\n",
    "                \"Sunscreen\", \"Toner & Face Mist\", \"Face Mask\", \"Acne & Blemish Treatment\", \"Lip Balm\", \"Retinol\",\n",
    "                \"Skin Lightener\", \"Oil Control Products\", \"Face Oil\", \"Vitamin C\", \"Lip Scrub\"]\n",
    "df2 = df2.loc[df2[\"product_category\"].isin(product_types)]"
   ]
  },
  {
   "cell_type": "markdown",
   "id": "08ebc4ba",
   "metadata": {},
   "source": [
    "Now we need to create and clean up our size columns."
   ]
  },
  {
   "cell_type": "code",
   "execution_count": 10,
   "id": "6058226b",
   "metadata": {},
   "outputs": [],
   "source": [
    "# make and fill size_num column\n",
    "pattern = r'(\\d+(\\.\\d+)?)\\s*(fl\\.?\\s*oz\\.?|g\\.?|ml\\.?)'\n",
    "extracted_values = df2[\"product_name\"].str.extract(pattern, expand=True).fillna(\"\")\n",
    "df2[\"size_num\"] = extracted_values.iloc[:, 0]\n",
    "\n",
    "\n",
    "# make and fill size_unit column\n",
    "df2[\"size_unit\"] = df2[\"product_name\"]\n",
    "for index, row in df2.iterrows():\n",
    "    if \"g.\" in row[\"size_unit\"]:\n",
    "        row[\"size_unit\"] = \"grams\"\n",
    "    elif \"fl. oz\" in row[\"size_unit\"]:\n",
    "        row[\"size_unit\"] = \"fluid ounces\"\n",
    "    elif \"ml\" in row[\"size_unit\"]:\n",
    "        row[\"size_unit\"] = \"milliliters\"\n",
    "    else:\n",
    "        row[\"size_unit\"] = \"piece/other\"\n",
    "\n",
    "# make and fill a size column\n",
    "df2[\"size\"] = df2[\"size_num\"] + \" \" + df2[\"size_unit\"]\n",
    "df2[\"size\"] = df2[\"size\"].str.replace(\"grams\", \"g.\")\n",
    "df2[\"size\"] = df2[\"size\"].str.replace(\"milliliters\", \"ml\")\n",
    "df2[\"size\"] = df2[\"size\"].str.replace(\"fluid ounces\", \"fl. oz.\")"
   ]
  },
  {
   "cell_type": "code",
   "execution_count": 11,
   "id": "7a7db1f2",
   "metadata": {},
   "outputs": [],
   "source": [
    "# remove unnecessary columns and make names uniform\n",
    "df2 = df2[[\"product_name\", \"product_category\", \"brand\", \"ingredients\", \"size\", \"price\", \"size_num\", \"size_unit\", \n",
    "          \"active_ingredients\", \"inactive_ingredients\", \"n_inactive_ingredient\", \"n_active_ingredient\"]]\n",
    "df2.columns = ['product_names', 'product_category', 'brand', 'ingredient', 'size', 'price', 'size_num', 'size_unit', \n",
    "               'active_ingredient', 'inactive_ingredient', 'n_inactive_ingredient', 'n_active_ingredient']"
   ]
  },
  {
   "cell_type": "code",
   "execution_count": 12,
   "id": "7bff8102",
   "metadata": {},
   "outputs": [],
   "source": [
    "# clean up active ingredient column\n",
    "df2[\"active_ingredient\"] = df2[\"active_ingredient\"].astype(str)\n",
    "df2[\"active_ingredient\"] = df2[\"active_ingredient\"].str.replace(\"'\", \"\")\n",
    "df2[\"active_ingredient\"] = df2[\"active_ingredient\"].str.replace(\"[\", \"\")\n",
    "df2[\"active_ingredient\"] = df2[\"active_ingredient\"].str.replace(\"]\", \"\")\n",
    "df2[\"active_ingredient\"] = df2[\"active_ingredient\"].str.replace(\"<strong>Active: </strong>\", \"\")\n",
    "df2[\"active_ingredient\"] = df2[\"active_ingredient\"].str.replace(\"<strong>Active Ingredients:</strong>\", \"\")\n",
    "df2[\"active_ingredient\"] = df2[\"active_ingredient\"].str.replace(\"Active Ingredients: \", \"\")\n",
    "df2[\"active_ingredient\"] = df2[\"active_ingredient\"].str.replace(\"\\n\", \"\")\n",
    "df2[\"active_ingredient\"] = df2[\"active_ingredient\"].str.replace(\"%\", \"\")\n",
    "df2[\"active_ingredient\"] = df2[\"active_ingredient\"].str.replace(\")\", \"\")\n",
    "df2[\"active_ingredient\"] = df2[\"active_ingredient\"].str.replace(\"(\", \"\")"
   ]
  },
  {
   "cell_type": "code",
   "execution_count": 13,
   "id": "d2eb899a",
   "metadata": {},
   "outputs": [
    {
     "data": {
      "text/html": [
       "<div>\n",
       "<style scoped>\n",
       "    .dataframe tbody tr th:only-of-type {\n",
       "        vertical-align: middle;\n",
       "    }\n",
       "\n",
       "    .dataframe tbody tr th {\n",
       "        vertical-align: top;\n",
       "    }\n",
       "\n",
       "    .dataframe thead th {\n",
       "        text-align: right;\n",
       "    }\n",
       "</style>\n",
       "<table border=\"1\" class=\"dataframe\">\n",
       "  <thead>\n",
       "    <tr style=\"text-align: right;\">\n",
       "      <th></th>\n",
       "      <th>product_names</th>\n",
       "      <th>product_category</th>\n",
       "      <th>brand</th>\n",
       "      <th>ingredient</th>\n",
       "      <th>size</th>\n",
       "      <th>price</th>\n",
       "      <th>size_num</th>\n",
       "      <th>size_unit</th>\n",
       "      <th>active_ingredient</th>\n",
       "      <th>inactive_ingredient</th>\n",
       "      <th>n_inactive_ingredient</th>\n",
       "      <th>n_active_ingredient</th>\n",
       "    </tr>\n",
       "  </thead>\n",
       "  <tbody>\n",
       "    <tr>\n",
       "      <th>0</th>\n",
       "      <td>Clear Complexion Spot Treatment</td>\n",
       "      <td>Acne &amp; Blemish Treatment</td>\n",
       "      <td>Merle Norman</td>\n",
       "      <td>Active: Salicylic Acid (2%),  Other: Alcohol D...</td>\n",
       "      <td>0.50 fl. oz.</td>\n",
       "      <td>20.00</td>\n",
       "      <td>15.0</td>\n",
       "      <td>ml</td>\n",
       "      <td>[Salicylic Acid 2, ]</td>\n",
       "      <td>Alcohol Denat.,  Hamamelis Virginiana (Witch ...</td>\n",
       "      <td>10</td>\n",
       "      <td>1</td>\n",
       "    </tr>\n",
       "    <tr>\n",
       "      <th>1</th>\n",
       "      <td>Acne Solutions Emergency Gel Lotion</td>\n",
       "      <td>Acne &amp; Blemish Treatment</td>\n",
       "      <td>Clinique</td>\n",
       "      <td>Active: Benzoyl Peroxide (5%),  Other: Water P...</td>\n",
       "      <td>0.50 fl. oz.</td>\n",
       "      <td>17.00</td>\n",
       "      <td>15.0</td>\n",
       "      <td>ml</td>\n",
       "      <td>[Benzoyl Peroxide 5, ]</td>\n",
       "      <td>Water Purified,  C12-15 Alkyl Benzoate,  Glyc...</td>\n",
       "      <td>23</td>\n",
       "      <td>1</td>\n",
       "    </tr>\n",
       "    <tr>\n",
       "      <th>2</th>\n",
       "      <td>RESIST Daily Pore-Refining Solution 2% BHA</td>\n",
       "      <td>Acne &amp; Blemish Treatment</td>\n",
       "      <td>Paula's Choice Skincare</td>\n",
       "      <td>Water (Aqua),  Dipropylene Glycol,  Salicylic ...</td>\n",
       "      <td>3.00 fl. oz.</td>\n",
       "      <td>33.00</td>\n",
       "      <td>89.0</td>\n",
       "      <td>ml</td>\n",
       "      <td>NaN</td>\n",
       "      <td>Water (Aqua),  Dipropylene Glycol,  Salicylic ...</td>\n",
       "      <td>26</td>\n",
       "      <td>0</td>\n",
       "    </tr>\n",
       "    <tr>\n",
       "      <th>3</th>\n",
       "      <td>Naturals Acne Spot Treatment</td>\n",
       "      <td>Acne &amp; Blemish Treatment</td>\n",
       "      <td>Neutrogena</td>\n",
       "      <td>Active Ingredient: Salicylic Acid 1%. Inactive...</td>\n",
       "      <td>0.75 fl. oz.</td>\n",
       "      <td>8.49</td>\n",
       "      <td>22.0</td>\n",
       "      <td>ml</td>\n",
       "      <td>[Salicylic Acid 1, ]</td>\n",
       "      <td>Water,  Hydrated Silica,  Glycerin,  Dicapryl...</td>\n",
       "      <td>18</td>\n",
       "      <td>1</td>\n",
       "    </tr>\n",
       "    <tr>\n",
       "      <th>4</th>\n",
       "      <td>Normaderm Daily Anti-Acne Hydrating Lotion</td>\n",
       "      <td>Acne &amp; Blemish Treatment</td>\n",
       "      <td>Vichy</td>\n",
       "      <td>Active: Salicylic Acid 1%. Inactive: Water,  G...</td>\n",
       "      <td>1.70 fl. oz.</td>\n",
       "      <td>23.50</td>\n",
       "      <td>50.0</td>\n",
       "      <td>ml</td>\n",
       "      <td>[Salicylic Acid 1, ]</td>\n",
       "      <td>Water,  Glycerin,  Alcohol Denat.,  Phenyl Tr...</td>\n",
       "      <td>24</td>\n",
       "      <td>1</td>\n",
       "    </tr>\n",
       "  </tbody>\n",
       "</table>\n",
       "</div>"
      ],
      "text/plain": [
       "                                product_names          product_category  \\\n",
       "0             Clear Complexion Spot Treatment  Acne & Blemish Treatment   \n",
       "1         Acne Solutions Emergency Gel Lotion  Acne & Blemish Treatment   \n",
       "2  RESIST Daily Pore-Refining Solution 2% BHA  Acne & Blemish Treatment   \n",
       "3                Naturals Acne Spot Treatment  Acne & Blemish Treatment   \n",
       "4  Normaderm Daily Anti-Acne Hydrating Lotion  Acne & Blemish Treatment   \n",
       "\n",
       "                     brand                                         ingredient  \\\n",
       "0             Merle Norman  Active: Salicylic Acid (2%),  Other: Alcohol D...   \n",
       "1                 Clinique  Active: Benzoyl Peroxide (5%),  Other: Water P...   \n",
       "2  Paula's Choice Skincare  Water (Aqua),  Dipropylene Glycol,  Salicylic ...   \n",
       "3               Neutrogena  Active Ingredient: Salicylic Acid 1%. Inactive...   \n",
       "4                    Vichy  Active: Salicylic Acid 1%. Inactive: Water,  G...   \n",
       "\n",
       "           size  price  size_num size_unit       active_ingredient  \\\n",
       "0  0.50 fl. oz.  20.00      15.0        ml    [Salicylic Acid 2, ]   \n",
       "1  0.50 fl. oz.  17.00      15.0        ml  [Benzoyl Peroxide 5, ]   \n",
       "2  3.00 fl. oz.  33.00      89.0        ml                     NaN   \n",
       "3  0.75 fl. oz.   8.49      22.0        ml    [Salicylic Acid 1, ]   \n",
       "4  1.70 fl. oz.  23.50      50.0        ml    [Salicylic Acid 1, ]   \n",
       "\n",
       "                                 inactive_ingredient n_inactive_ingredient  \\\n",
       "0   Alcohol Denat.,  Hamamelis Virginiana (Witch ...                    10   \n",
       "1   Water Purified,  C12-15 Alkyl Benzoate,  Glyc...                    23   \n",
       "2  Water (Aqua),  Dipropylene Glycol,  Salicylic ...                    26   \n",
       "3   Water,  Hydrated Silica,  Glycerin,  Dicapryl...                    18   \n",
       "4   Water,  Glycerin,  Alcohol Denat.,  Phenyl Tr...                    24   \n",
       "\n",
       "  n_active_ingredient  \n",
       "0                   1  \n",
       "1                   1  \n",
       "2                   0  \n",
       "3                   1  \n",
       "4                   1  "
      ]
     },
     "execution_count": 13,
     "metadata": {},
     "output_type": "execute_result"
    }
   ],
   "source": [
    "# join dataframes\n",
    "df = pd.concat([df1, df2]).reset_index().drop(columns = \"index\")\n",
    "df.head()"
   ]
  },
  {
   "cell_type": "markdown",
   "id": "46fdf99b",
   "metadata": {},
   "source": [
    "The size of the product is often determined by the type of product it is – as in, moisturizer and sunscreen might be larger than serums. But there's a range even within these, depending on the brand. As a result, we'll keep size details in the dataframe without concern for collinearity."
   ]
  },
  {
   "cell_type": "code",
   "execution_count": 14,
   "id": "0ec4f51f",
   "metadata": {},
   "outputs": [],
   "source": [
    "# turn inactive ingredient column into lists\n",
    "df[\"inactive_ingredient\"] = df[\"inactive_ingredient\"].str.replace(\".\", \"\")\n",
    "df[\"inactive_ingredient\"] = df[\"inactive_ingredient\"].str.replace(\" \", \"\")\n",
    "df[\"inactive_ingredient\"] = df[\"inactive_ingredient\"].str.split(\",\")"
   ]
  },
  {
   "cell_type": "markdown",
   "id": "b5611b29",
   "metadata": {},
   "source": [
    "Now we want to one-hot encode and stack our ingredients."
   ]
  },
  {
   "cell_type": "code",
   "execution_count": 15,
   "id": "e5d612c3",
   "metadata": {},
   "outputs": [
    {
     "data": {
      "text/plain": [
       "(4816, 12507)"
      ]
     },
     "execution_count": 15,
     "metadata": {},
     "output_type": "execute_result"
    }
   ],
   "source": [
    "# get ingredient counts\n",
    "ingredients_df = pd.get_dummies(pd.DataFrame(df[\"inactive_ingredient\"].tolist()).stack()).sum(level=0)\n",
    "ingredients_df.shape"
   ]
  },
  {
   "cell_type": "markdown",
   "id": "65aeda2a",
   "metadata": {},
   "source": [
    "Most products will have the same base ingredients. To ensure our model is determing price based on \"special\" ingredients or uncommon (but not impossibly rare) ingredients, we'll limit the set to ingredients that show up between 100 and 800 times."
   ]
  },
  {
   "cell_type": "code",
   "execution_count": 16,
   "id": "edb6ab24",
   "metadata": {},
   "outputs": [],
   "source": [
    "# determine most important ingredients\n",
    "ing_list = []\n",
    "for column in ingredients_df.columns:\n",
    "    if ingredients_df[column].sum() > 100 and ingredients_df[column].sum() < 800:\n",
    "        ing_list.append(column)\n",
    "\n",
    "ing_list = [ele.strip() for ele in ing_list]\n",
    "\n",
    "# get rid of empty string\n",
    "ing_list = ing_list[1:]"
   ]
  },
  {
   "cell_type": "code",
   "execution_count": 17,
   "id": "7357bcc1",
   "metadata": {},
   "outputs": [
    {
     "data": {
      "text/plain": [
       "(4816, 205)"
      ]
     },
     "execution_count": 17,
     "metadata": {},
     "output_type": "execute_result"
    }
   ],
   "source": [
    "# create dataframe from columns in ing_list\n",
    "ingredients_df = ingredients_df.rename(columns=lambda x: x.strip())\n",
    "clean_ing = ingredients_df[ing_list]\n",
    "\n",
    "# concat dataframes\n",
    "df_ing = pd.concat([df, clean_ing], axis = 1)\n",
    "df_ing.shape"
   ]
  },
  {
   "cell_type": "markdown",
   "id": "6f2b6621",
   "metadata": {},
   "source": [
    "Now our dataframe is looking more manageable with only 205 columns as opposed to nearly 13,000."
   ]
  },
  {
   "cell_type": "code",
   "execution_count": 18,
   "id": "02ef45ad",
   "metadata": {},
   "outputs": [],
   "source": [
    "# remove duplicate columns\n",
    "df_ing = df_ing.groupby(axis=1, level=0).sum()"
   ]
  },
  {
   "cell_type": "code",
   "execution_count": 19,
   "id": "3fa58f62",
   "metadata": {},
   "outputs": [],
   "source": [
    "# make sure our float columns are floats\n",
    "df_ing[\"price\"] = df_ing[\"price\"].astype(float)\n",
    "df_ing[\"size_num\"] = df_ing[\"size_num\"].replace(r'^\\s*$', np.nan, regex=True)\n",
    "df_ing[\"size_num\"] = df_ing[\"size_num\"].astype(float)"
   ]
  },
  {
   "cell_type": "markdown",
   "id": "6870c01f",
   "metadata": {},
   "source": [
    "## Preprocess Data\n",
    "\n",
    "Let's build the preprocessor our XGBoost regressor will use."
   ]
  },
  {
   "cell_type": "code",
   "execution_count": 57,
   "id": "fd5348e7",
   "metadata": {},
   "outputs": [],
   "source": [
    "#num_cols\n",
    "num_cols = [\"size_num\", \"n_active_ingredient\", \"n_inactive_ingredient\"]\n",
    "ingredients = df_ing.columns.to_list()[:-12]\n",
    "for ing in ingredients:\n",
    "    num_cols.append(ing)\n",
    "    \n",
    "#ord_cols\n",
    "ord_cols = [\"product_category\", \"brand\", \"size_unit\"]"
   ]
  },
  {
   "cell_type": "code",
   "execution_count": 58,
   "id": "9ce0a95e",
   "metadata": {},
   "outputs": [],
   "source": [
    "ordinal_transformer = Pipeline(steps = [\n",
    "    ('ordimputer', SimpleImputer(strategy = 'most_frequent')),\n",
    "    ('target_enc', TargetEncoder()),\n",
    "    (\"scaler\", StandardScaler())])\n",
    "\n",
    "numeric_transformer = Pipeline(steps=[\n",
    "    (\"imputer\", SimpleImputer(strategy=\"median\")),\n",
    "    (\"scaler\", StandardScaler())])\n",
    "\n",
    "preprocessor = ColumnTransformer(\n",
    "    transformers=[\n",
    "        (\"ord\", ordinal_transformer, ord_cols),\n",
    "        (\"num\", numeric_transformer, num_cols),\n",
    "    ]\n",
    ")"
   ]
  },
  {
   "cell_type": "markdown",
   "id": "c1adaaee",
   "metadata": {},
   "source": [
    "## Train-Test Split\n",
    "\n",
    "Time for the train-test split."
   ]
  },
  {
   "cell_type": "code",
   "execution_count": 59,
   "id": "0611809d",
   "metadata": {},
   "outputs": [],
   "source": [
    "y = df_ing[\"price\"]\n",
    "X = df_ing.drop(columns = [\"price\", \"active_ingredient\", \"inactive_ingredient\", \"ingredient\", \"product_names\", \"size\"])\n",
    "\n",
    "X_train, X_test, y_train, y_test = train_test_split(X, y, test_size = .3, random_state = 42)"
   ]
  },
  {
   "cell_type": "markdown",
   "id": "e534a6d2",
   "metadata": {},
   "source": [
    "Just to check, let's see what the MAE is before modeling."
   ]
  },
  {
   "cell_type": "code",
   "execution_count": 60,
   "id": "1fce5085",
   "metadata": {},
   "outputs": [
    {
     "name": "stdout",
     "output_type": "stream",
     "text": [
      "MAE\n",
      "train: 26.585\n",
      "test: 27.231\n"
     ]
    }
   ],
   "source": [
    "# determine baseline error\n",
    "mae_train = mean_absolute_error(y_train, np.ones([y_train.shape[0],])* y_train.median())\n",
    "mae_test = mean_absolute_error(y_test, np.ones([y_test.shape[0],])* y_train.median())\n",
    "\n",
    "print(\"MAE\")\n",
    "print(f\"train: {mae_train:.3f}\") \n",
    "print(f\"test: {mae_test:.3f}\")"
   ]
  },
  {
   "cell_type": "markdown",
   "id": "e1bce7f8",
   "metadata": {},
   "source": [
    "Right now, we have a mean absolute error of almsot $30 for both train and test. This is what we'll want to beat with our models."
   ]
  },
  {
   "cell_type": "markdown",
   "id": "29d8e92a",
   "metadata": {},
   "source": [
    "# Modeling\n",
    "## Model 1 - Simple Regressor"
   ]
  },
  {
   "cell_type": "markdown",
   "id": "918dc631",
   "metadata": {},
   "source": [
    "Before diving into neural networks, let's see how our tried and tested XGBoost does with the data."
   ]
  },
  {
   "cell_type": "code",
   "execution_count": 61,
   "id": "8bf08972",
   "metadata": {},
   "outputs": [],
   "source": [
    "# instantiate, fit and run model\n",
    "X_train_ct = preprocessor.fit_transform(X_train, y_train)\n",
    "boost = XGBRegressor()\n",
    "boost.fit(X_train_ct, y_train)\n",
    "pred_train_boost = boost.predict(X_train_ct)\n",
    "\n",
    "X_test_ct = preprocessor.transform(X_test)\n",
    "pred_test_boost = boost.predict(X_test_ct)"
   ]
  },
  {
   "cell_type": "code",
   "execution_count": 62,
   "id": "402a039f",
   "metadata": {},
   "outputs": [
    {
     "name": "stdout",
     "output_type": "stream",
     "text": [
      "MAE: \n",
      "train: 3.671\n",
      "test:  13.167\n"
     ]
    }
   ],
   "source": [
    "# determine error\n",
    "mae_train = mean_absolute_error(y_train, pred_train_boost)\n",
    "mae_test = mean_absolute_error(y_test, pred_test_boost)\n",
    "\n",
    "print(\"MAE: \")\n",
    "print(f\"train: {mae_train:.3f}\")\n",
    "print(f\"test: {mae_test: .3f}\")"
   ]
  },
  {
   "cell_type": "code",
   "execution_count": 63,
   "id": "a5ab0658",
   "metadata": {},
   "outputs": [
    {
     "data": {
      "image/png": "[encoded data removed]",
      "text/plain": [
       "<Figure size 800x800 with 1 Axes>"
      ]
     },
     "metadata": {},
     "output_type": "display_data"
    }
   ],
   "source": [
    "# plot predictions against true prices\n",
    "plt.figure(figsize=(8,8))\n",
    "plt.scatter(y_test, pred_test_boost)\n",
    "plt.plot([0,300],[0,300],color=\"r\")\n",
    "plt.axis(\"Equal\")\n",
    "plt.xlim(0,300)\n",
    "plt.ylim(0,300)\n",
    "plt.xlabel(\"True Price\")\n",
    "plt.ylabel(\"Predicted Price\")\n",
    "plt.show()"
   ]
  },
  {
   "cell_type": "markdown",
   "id": "2d056476",
   "metadata": {},
   "source": [
    "Not bad! Only about 13 dollars off on average. There is a pretty big range in the products, as we saw above, with some going as high as 700 dollars. 13 dollars seems pretty good with that in mind. Looking at the predictions when plotted, they seem to be clustered pretty well around the equal line though a few seem either overpriced or underpriced based on the model's determination.\n",
    "\n",
    "Since our simple regressor did pretty well. Let's try to do a grid search to further tune the model and see how that does."
   ]
  },
  {
   "cell_type": "markdown",
   "id": "68416487",
   "metadata": {},
   "source": [
    "## Model 2 - Grid Search\n",
    "\n",
    "We'll tune the model with a range of learning rates, estimators, and depths to see how it does."
   ]
  },
  {
   "cell_type": "code",
   "execution_count": 27,
   "id": "d99a6206",
   "metadata": {},
   "outputs": [
    {
     "name": "stdout",
     "output_type": "stream",
     "text": [
      "Best parameters: {'learning_rate': 0.07, 'max_depth': 9, 'n_estimators': 1000}\n",
      "Best score: -13.270892195125338\n"
     ]
    }
   ],
   "source": [
    "# parameter grid\n",
    "param_grid = {\n",
    "    \"learning_rate\": [0.01, 0.03, 0.05, 0.07, 0.1],\n",
    "    \"n_estimators\": [100, 250, 500, 750, 1000],\n",
    "    \"max_depth\": [3, 5, 7, 9, 11]\n",
    "}\n",
    "\n",
    "\n",
    "# instantiate and fit\n",
    "boost = XGBRegressor()\n",
    "grid_search = GridSearchCV(boost, param_grid, cv=5, scoring=\"neg_mean_absolute_error\")\n",
    "grid_search.fit(X_train_ct, y_train)\n",
    "\n",
    "# return best parameters and the best score\n",
    "print(f\"Best parameters: {grid_search.best_params_}\")\n",
    "print(f\"Best score: {grid_search.best_score_}\")\n",
    "\n",
    "# get predictions off best model\n",
    "best_boost = grid_search.best_estimator_\n",
    "pred_test_boost_gs = best_boost.predict(X_test_ct)"
   ]
  },
  {
   "cell_type": "code",
   "execution_count": 28,
   "id": "b81e3594",
   "metadata": {},
   "outputs": [
    {
     "data": {
      "image/png": "[encoded data removed]",
      "text/plain": [
       "<Figure size 700x700 with 1 Axes>"
      ]
     },
     "metadata": {},
     "output_type": "display_data"
    }
   ],
   "source": [
    "# plot predictions against true prices\n",
    "plt.figure(figsize=(7,7))\n",
    "plt.scatter(y_test, pred_test_boost_gs)\n",
    "plt.plot([0,300],[0,300],color=\"r\")\n",
    "plt.axis(\"Equal\")\n",
    "plt.xlim(0,300)\n",
    "plt.ylim(0,300)\n",
    "plt.xlabel(\"True Price\")\n",
    "plt.ylabel(\"Predicted Price\")\n",
    "plt.show()"
   ]
  },
  {
   "cell_type": "markdown",
   "id": "afb0c410",
   "metadata": {},
   "source": [
    "## Model 3 - Neural Network, 3 Hidden Layers"
   ]
  },
  {
   "cell_type": "code",
   "execution_count": 29,
   "id": "220bbe0c",
   "metadata": {},
   "outputs": [
    {
     "name": "stdout",
     "output_type": "stream",
     "text": [
      "Metal device set to: Apple M1 Pro\n",
      "Epoch 1/100\n"
     ]
    },
    {
     "name": "stderr",
     "output_type": "stream",
     "text": [
      "2023-04-19 12:46:32.787945: I tensorflow/core/common_runtime/pluggable_device/pluggable_device_factory.cc:305] Could not identify NUMA node of platform GPU ID 0, defaulting to 0. Your kernel may not have been built with NUMA support.\n",
      "2023-04-19 12:46:32.788609: I tensorflow/core/common_runtime/pluggable_device/pluggable_device_factory.cc:271] Created TensorFlow device (/job:localhost/replica:0/task:0/device:GPU:0 with 0 MB memory) -> physical PluggableDevice (device: 0, name: METAL, pci bus id: <undefined>)\n",
      "2023-04-19 12:46:32.877360: W tensorflow/core/platform/profile_utils/cpu_utils.cc:128] Failed to get CPU frequency: 0 Hz\n"
     ]
    },
    {
     "name": "stdout",
     "output_type": "stream",
     "text": [
      "11/43 [======>.......................] - ETA: 0s - loss: 29.5205 - mean_absolute_error: 29.5205 "
     ]
    },
    {
     "name": "stderr",
     "output_type": "stream",
     "text": [
      "2023-04-19 12:46:33.079264: I tensorflow/core/grappler/optimizers/custom_graph_optimizer_registry.cc:113] Plugin optimizer for device_type GPU is enabled.\n"
     ]
    },
    {
     "name": "stdout",
     "output_type": "stream",
     "text": [
      "43/43 [==============================] - 1s 17ms/step - loss: 23.2465 - mean_absolute_error: 23.4405 - val_loss: 19.8237 - val_mean_absolute_error: 19.6116\n",
      "Epoch 2/100\n",
      "22/43 [==============>...............] - ETA: 0s - loss: 18.5154 - mean_absolute_error: 18.5154"
     ]
    },
    {
     "name": "stderr",
     "output_type": "stream",
     "text": [
      "2023-04-19 12:46:33.889888: I tensorflow/core/grappler/optimizers/custom_graph_optimizer_registry.cc:113] Plugin optimizer for device_type GPU is enabled.\n"
     ]
    },
    {
     "name": "stdout",
     "output_type": "stream",
     "text": [
      "43/43 [==============================] - 0s 6ms/step - loss: 17.7986 - mean_absolute_error: 17.8135 - val_loss: 18.2565 - val_mean_absolute_error: 18.0057\n",
      "Epoch 3/100\n",
      "43/43 [==============================] - 0s 6ms/step - loss: 16.3421 - mean_absolute_error: 16.2584 - val_loss: 18.4162 - val_mean_absolute_error: 18.1931\n",
      "Epoch 4/100\n",
      "43/43 [==============================] - 0s 6ms/step - loss: 14.9348 - mean_absolute_error: 15.1065 - val_loss: 17.6766 - val_mean_absolute_error: 17.4466\n",
      "Epoch 5/100\n",
      "43/43 [==============================] - 0s 6ms/step - loss: 14.4061 - mean_absolute_error: 14.1820 - val_loss: 17.6989 - val_mean_absolute_error: 17.5338\n",
      "Epoch 6/100\n",
      "43/43 [==============================] - 0s 6ms/step - loss: 13.6412 - mean_absolute_error: 13.4893 - val_loss: 18.3762 - val_mean_absolute_error: 18.2675\n",
      "Epoch 7/100\n",
      "43/43 [==============================] - 0s 6ms/step - loss: 12.9362 - mean_absolute_error: 12.7897 - val_loss: 17.4995 - val_mean_absolute_error: 17.3481\n",
      "Epoch 8/100\n",
      "43/43 [==============================] - 0s 6ms/step - loss: 12.0885 - mean_absolute_error: 12.0400 - val_loss: 17.2699 - val_mean_absolute_error: 16.9930\n",
      "Epoch 9/100\n",
      "43/43 [==============================] - 0s 6ms/step - loss: 11.5011 - mean_absolute_error: 11.4150 - val_loss: 16.6249 - val_mean_absolute_error: 16.4041\n",
      "Epoch 10/100\n",
      "43/43 [==============================] - 0s 6ms/step - loss: 10.8451 - mean_absolute_error: 10.7268 - val_loss: 16.9278 - val_mean_absolute_error: 16.6923\n",
      "Epoch 11/100\n",
      "43/43 [==============================] - 0s 6ms/step - loss: 10.2100 - mean_absolute_error: 10.0612 - val_loss: 17.4861 - val_mean_absolute_error: 17.2250\n",
      "Epoch 12/100\n",
      "43/43 [==============================] - 0s 6ms/step - loss: 9.7313 - mean_absolute_error: 9.6422 - val_loss: 17.1643 - val_mean_absolute_error: 16.8871\n",
      "Epoch 13/100\n",
      "43/43 [==============================] - 0s 6ms/step - loss: 9.5431 - mean_absolute_error: 9.4820 - val_loss: 16.5263 - val_mean_absolute_error: 16.2934\n",
      "Epoch 14/100\n",
      "43/43 [==============================] - 0s 6ms/step - loss: 9.6025 - mean_absolute_error: 9.6453 - val_loss: 16.4330 - val_mean_absolute_error: 16.2543\n",
      "Epoch 15/100\n",
      "43/43 [==============================] - 0s 6ms/step - loss: 9.6325 - mean_absolute_error: 9.6246 - val_loss: 18.0395 - val_mean_absolute_error: 17.8042\n",
      "Epoch 16/100\n",
      "43/43 [==============================] - 0s 6ms/step - loss: 8.9087 - mean_absolute_error: 8.9490 - val_loss: 16.6652 - val_mean_absolute_error: 16.4646\n",
      "Epoch 17/100\n",
      "43/43 [==============================] - 0s 6ms/step - loss: 8.4357 - mean_absolute_error: 8.4797 - val_loss: 15.9790 - val_mean_absolute_error: 15.7674\n",
      "Epoch 18/100\n",
      "43/43 [==============================] - 0s 6ms/step - loss: 8.2218 - mean_absolute_error: 8.1343 - val_loss: 16.5211 - val_mean_absolute_error: 16.2975\n",
      "Epoch 19/100\n",
      "43/43 [==============================] - 0s 6ms/step - loss: 7.9891 - mean_absolute_error: 8.0720 - val_loss: 16.4256 - val_mean_absolute_error: 16.2081\n",
      "Epoch 20/100\n",
      "43/43 [==============================] - 0s 6ms/step - loss: 8.3153 - mean_absolute_error: 8.2463 - val_loss: 16.0506 - val_mean_absolute_error: 15.8060\n",
      "Epoch 21/100\n",
      "43/43 [==============================] - 0s 6ms/step - loss: 7.2447 - mean_absolute_error: 7.2619 - val_loss: 16.5298 - val_mean_absolute_error: 16.3262\n",
      "Epoch 22/100\n",
      "43/43 [==============================] - 0s 6ms/step - loss: 7.0823 - mean_absolute_error: 7.0622 - val_loss: 16.2390 - val_mean_absolute_error: 15.9607\n",
      "Epoch 23/100\n",
      "43/43 [==============================] - 0s 6ms/step - loss: 7.0075 - mean_absolute_error: 6.9876 - val_loss: 16.5055 - val_mean_absolute_error: 16.2528\n",
      "Epoch 24/100\n",
      "43/43 [==============================] - 0s 6ms/step - loss: 6.9901 - mean_absolute_error: 6.8928 - val_loss: 16.1970 - val_mean_absolute_error: 15.8752\n",
      "Epoch 25/100\n",
      "43/43 [==============================] - 0s 6ms/step - loss: 6.8038 - mean_absolute_error: 6.9621 - val_loss: 16.6734 - val_mean_absolute_error: 16.4377\n",
      "Epoch 26/100\n",
      "43/43 [==============================] - 0s 6ms/step - loss: 7.0876 - mean_absolute_error: 7.0677 - val_loss: 15.9908 - val_mean_absolute_error: 15.6910\n",
      "Epoch 27/100\n",
      "43/43 [==============================] - 0s 6ms/step - loss: 6.5931 - mean_absolute_error: 6.5892 - val_loss: 16.1780 - val_mean_absolute_error: 15.9427\n",
      "Epoch 28/100\n",
      "43/43 [==============================] - 0s 6ms/step - loss: 6.9432 - mean_absolute_error: 6.8927 - val_loss: 16.6149 - val_mean_absolute_error: 16.3267\n",
      "Epoch 29/100\n",
      "43/43 [==============================] - 0s 6ms/step - loss: 6.6554 - mean_absolute_error: 6.6155 - val_loss: 16.1689 - val_mean_absolute_error: 15.8983\n",
      "Epoch 30/100\n",
      "43/43 [==============================] - 0s 6ms/step - loss: 5.9018 - mean_absolute_error: 5.8770 - val_loss: 16.6132 - val_mean_absolute_error: 16.3468\n",
      "Epoch 31/100\n",
      "43/43 [==============================] - 0s 6ms/step - loss: 6.3667 - mean_absolute_error: 6.3084 - val_loss: 16.2025 - val_mean_absolute_error: 15.9378\n",
      "Epoch 32/100\n",
      "43/43 [==============================] - 0s 6ms/step - loss: 6.4561 - mean_absolute_error: 6.3762 - val_loss: 15.9289 - val_mean_absolute_error: 15.6778\n",
      "Epoch 33/100\n",
      "43/43 [==============================] - 0s 6ms/step - loss: 6.0193 - mean_absolute_error: 5.9876 - val_loss: 16.2607 - val_mean_absolute_error: 16.0453\n",
      "Epoch 34/100\n",
      "43/43 [==============================] - 0s 6ms/step - loss: 6.5237 - mean_absolute_error: 6.5129 - val_loss: 17.0866 - val_mean_absolute_error: 16.9364\n",
      "Epoch 35/100\n",
      "43/43 [==============================] - 0s 6ms/step - loss: 7.7147 - mean_absolute_error: 7.6431 - val_loss: 16.2978 - val_mean_absolute_error: 16.0657\n",
      "Epoch 36/100\n",
      "43/43 [==============================] - 0s 6ms/step - loss: 6.0008 - mean_absolute_error: 5.9333 - val_loss: 16.3274 - val_mean_absolute_error: 16.0942\n",
      "Epoch 37/100\n",
      "43/43 [==============================] - 0s 6ms/step - loss: 5.8118 - mean_absolute_error: 5.7475 - val_loss: 15.8228 - val_mean_absolute_error: 15.5829\n",
      "Epoch 38/100\n",
      "43/43 [==============================] - 0s 6ms/step - loss: 5.5262 - mean_absolute_error: 5.5153 - val_loss: 16.6497 - val_mean_absolute_error: 16.3896\n",
      "Epoch 39/100\n",
      "43/43 [==============================] - 0s 6ms/step - loss: 5.7428 - mean_absolute_error: 5.7464 - val_loss: 15.9983 - val_mean_absolute_error: 15.7510\n",
      "Epoch 40/100\n",
      "43/43 [==============================] - 0s 6ms/step - loss: 5.7946 - mean_absolute_error: 5.7659 - val_loss: 16.7684 - val_mean_absolute_error: 16.5010\n",
      "Epoch 41/100\n",
      "43/43 [==============================] - 0s 6ms/step - loss: 5.6682 - mean_absolute_error: 5.5931 - val_loss: 16.0191 - val_mean_absolute_error: 15.7498\n",
      "Epoch 42/100\n",
      "43/43 [==============================] - 0s 6ms/step - loss: 5.3638 - mean_absolute_error: 5.3232 - val_loss: 16.0654 - val_mean_absolute_error: 15.8276\n",
      "Epoch 43/100\n",
      "43/43 [==============================] - 0s 6ms/step - loss: 5.2999 - mean_absolute_error: 5.3186 - val_loss: 16.1219 - val_mean_absolute_error: 15.8834\n",
      "Epoch 44/100\n",
      "43/43 [==============================] - 0s 6ms/step - loss: 5.1706 - mean_absolute_error: 5.1920 - val_loss: 16.7741 - val_mean_absolute_error: 16.5092\n",
      "Epoch 45/100\n",
      "43/43 [==============================] - 0s 6ms/step - loss: 5.4248 - mean_absolute_error: 5.3878 - val_loss: 15.7797 - val_mean_absolute_error: 15.5364\n",
      "Epoch 46/100\n",
      "43/43 [==============================] - 0s 6ms/step - loss: 5.5839 - mean_absolute_error: 5.5529 - val_loss: 15.9373 - val_mean_absolute_error: 15.7021\n",
      "Epoch 47/100\n",
      "43/43 [==============================] - 0s 6ms/step - loss: 4.8997 - mean_absolute_error: 4.8552 - val_loss: 15.8897 - val_mean_absolute_error: 15.6535\n",
      "Epoch 48/100\n",
      "43/43 [==============================] - 0s 6ms/step - loss: 5.5842 - mean_absolute_error: 5.5441 - val_loss: 16.2689 - val_mean_absolute_error: 16.0429\n",
      "Epoch 49/100\n",
      "43/43 [==============================] - 0s 6ms/step - loss: 5.0103 - mean_absolute_error: 5.0938 - val_loss: 16.4741 - val_mean_absolute_error: 16.2285\n",
      "Epoch 50/100\n",
      "43/43 [==============================] - 0s 6ms/step - loss: 5.8030 - mean_absolute_error: 5.8351 - val_loss: 15.9926 - val_mean_absolute_error: 15.7794\n",
      "Epoch 51/100\n"
     ]
    },
    {
     "name": "stdout",
     "output_type": "stream",
     "text": [
      "43/43 [==============================] - 0s 6ms/step - loss: 5.1171 - mean_absolute_error: 5.0654 - val_loss: 15.9039 - val_mean_absolute_error: 15.6519\n",
      "Epoch 52/100\n",
      "43/43 [==============================] - 0s 6ms/step - loss: 4.7824 - mean_absolute_error: 4.7181 - val_loss: 16.3296 - val_mean_absolute_error: 16.0719\n",
      "Epoch 53/100\n",
      "43/43 [==============================] - 0s 6ms/step - loss: 4.9550 - mean_absolute_error: 4.9631 - val_loss: 15.9695 - val_mean_absolute_error: 15.7689\n",
      "Epoch 54/100\n",
      "43/43 [==============================] - 0s 6ms/step - loss: 4.9489 - mean_absolute_error: 4.9810 - val_loss: 15.8294 - val_mean_absolute_error: 15.6064\n",
      "Epoch 55/100\n",
      "43/43 [==============================] - 0s 6ms/step - loss: 4.8336 - mean_absolute_error: 4.7766 - val_loss: 16.1288 - val_mean_absolute_error: 15.8935\n",
      "Epoch 56/100\n",
      "43/43 [==============================] - 0s 6ms/step - loss: 4.5589 - mean_absolute_error: 4.5054 - val_loss: 16.0017 - val_mean_absolute_error: 15.7535\n",
      "Epoch 57/100\n",
      "43/43 [==============================] - 0s 6ms/step - loss: 4.6793 - mean_absolute_error: 4.6978 - val_loss: 16.4384 - val_mean_absolute_error: 16.2428\n",
      "Epoch 58/100\n",
      "43/43 [==============================] - 0s 6ms/step - loss: 5.4902 - mean_absolute_error: 5.4509 - val_loss: 15.8140 - val_mean_absolute_error: 15.5870\n",
      "Epoch 59/100\n",
      "43/43 [==============================] - 0s 6ms/step - loss: 4.8908 - mean_absolute_error: 4.8477 - val_loss: 15.9849 - val_mean_absolute_error: 15.7590\n",
      "Epoch 60/100\n",
      "43/43 [==============================] - 0s 6ms/step - loss: 4.7017 - mean_absolute_error: 4.7929 - val_loss: 15.9527 - val_mean_absolute_error: 15.7437\n",
      "Epoch 61/100\n",
      "43/43 [==============================] - 0s 6ms/step - loss: 4.4977 - mean_absolute_error: 4.4969 - val_loss: 16.0017 - val_mean_absolute_error: 15.7634\n",
      "Epoch 62/100\n",
      "43/43 [==============================] - 0s 6ms/step - loss: 4.7495 - mean_absolute_error: 4.7119 - val_loss: 16.0727 - val_mean_absolute_error: 15.8720\n",
      "Epoch 63/100\n",
      "43/43 [==============================] - 0s 6ms/step - loss: 4.6625 - mean_absolute_error: 4.7552 - val_loss: 16.6293 - val_mean_absolute_error: 16.3682\n",
      "Epoch 64/100\n",
      "43/43 [==============================] - 0s 6ms/step - loss: 4.9310 - mean_absolute_error: 4.8818 - val_loss: 15.9464 - val_mean_absolute_error: 15.7316\n",
      "Epoch 65/100\n",
      "43/43 [==============================] - 0s 6ms/step - loss: 4.6602 - mean_absolute_error: 4.6479 - val_loss: 15.9161 - val_mean_absolute_error: 15.6870\n",
      "Epoch 66/100\n",
      "43/43 [==============================] - 0s 6ms/step - loss: 4.5891 - mean_absolute_error: 4.5907 - val_loss: 16.1311 - val_mean_absolute_error: 15.8947\n",
      "Epoch 67/100\n",
      "43/43 [==============================] - 0s 6ms/step - loss: 4.5972 - mean_absolute_error: 4.5737 - val_loss: 16.0089 - val_mean_absolute_error: 15.7708\n",
      "Epoch 68/100\n",
      "43/43 [==============================] - 0s 6ms/step - loss: 4.8224 - mean_absolute_error: 4.7730 - val_loss: 16.0067 - val_mean_absolute_error: 15.7989\n",
      "Epoch 69/100\n",
      "43/43 [==============================] - 0s 6ms/step - loss: 4.8397 - mean_absolute_error: 4.8818 - val_loss: 16.3222 - val_mean_absolute_error: 16.0855\n",
      "Epoch 70/100\n",
      "43/43 [==============================] - 0s 6ms/step - loss: 4.7218 - mean_absolute_error: 4.7195 - val_loss: 15.6881 - val_mean_absolute_error: 15.5069\n",
      "Epoch 71/100\n",
      "43/43 [==============================] - 0s 6ms/step - loss: 4.9450 - mean_absolute_error: 4.8860 - val_loss: 16.0051 - val_mean_absolute_error: 15.7647\n",
      "Epoch 72/100\n",
      "43/43 [==============================] - 0s 6ms/step - loss: 4.5107 - mean_absolute_error: 4.5530 - val_loss: 15.6111 - val_mean_absolute_error: 15.3952\n",
      "Epoch 73/100\n",
      "43/43 [==============================] - 0s 6ms/step - loss: 4.8003 - mean_absolute_error: 4.7390 - val_loss: 15.6913 - val_mean_absolute_error: 15.4815\n",
      "Epoch 74/100\n",
      "43/43 [==============================] - 0s 6ms/step - loss: 4.2920 - mean_absolute_error: 4.2576 - val_loss: 15.9435 - val_mean_absolute_error: 15.7261\n",
      "Epoch 75/100\n",
      "43/43 [==============================] - 0s 6ms/step - loss: 4.2011 - mean_absolute_error: 4.1747 - val_loss: 16.1223 - val_mean_absolute_error: 15.9135\n",
      "Epoch 76/100\n",
      "43/43 [==============================] - 0s 6ms/step - loss: 4.2087 - mean_absolute_error: 4.2500 - val_loss: 15.8243 - val_mean_absolute_error: 15.5827\n",
      "Epoch 77/100\n",
      "43/43 [==============================] - 0s 6ms/step - loss: 4.4098 - mean_absolute_error: 4.3908 - val_loss: 15.9347 - val_mean_absolute_error: 15.7054\n",
      "Epoch 78/100\n",
      "43/43 [==============================] - 0s 6ms/step - loss: 4.2441 - mean_absolute_error: 4.2226 - val_loss: 16.0145 - val_mean_absolute_error: 15.7914\n",
      "Epoch 79/100\n",
      "43/43 [==============================] - 0s 6ms/step - loss: 4.2922 - mean_absolute_error: 4.2767 - val_loss: 16.0751 - val_mean_absolute_error: 15.8546\n",
      "Epoch 80/100\n",
      "43/43 [==============================] - 0s 6ms/step - loss: 4.1118 - mean_absolute_error: 4.0942 - val_loss: 16.1055 - val_mean_absolute_error: 15.9055\n",
      "Epoch 81/100\n",
      "43/43 [==============================] - 0s 6ms/step - loss: 4.2392 - mean_absolute_error: 4.2532 - val_loss: 16.8307 - val_mean_absolute_error: 16.5617\n",
      "Epoch 82/100\n",
      "43/43 [==============================] - 0s 6ms/step - loss: 5.3846 - mean_absolute_error: 5.4298 - val_loss: 16.2271 - val_mean_absolute_error: 16.0230\n",
      "Epoch 83/100\n",
      "43/43 [==============================] - 0s 6ms/step - loss: 4.5373 - mean_absolute_error: 4.5138 - val_loss: 16.0767 - val_mean_absolute_error: 15.8639\n",
      "Epoch 84/100\n",
      "43/43 [==============================] - 0s 6ms/step - loss: 4.4603 - mean_absolute_error: 4.4044 - val_loss: 16.1325 - val_mean_absolute_error: 15.9214\n",
      "Epoch 85/100\n",
      "43/43 [==============================] - 0s 6ms/step - loss: 4.2424 - mean_absolute_error: 4.2351 - val_loss: 16.5075 - val_mean_absolute_error: 16.2848\n",
      "Epoch 86/100\n",
      "43/43 [==============================] - 0s 6ms/step - loss: 4.3396 - mean_absolute_error: 4.3258 - val_loss: 16.0016 - val_mean_absolute_error: 15.7607\n",
      "Epoch 87/100\n",
      "43/43 [==============================] - 0s 6ms/step - loss: 4.3057 - mean_absolute_error: 4.2510 - val_loss: 16.1678 - val_mean_absolute_error: 15.9666\n",
      "Epoch 88/100\n",
      "43/43 [==============================] - 0s 6ms/step - loss: 4.2280 - mean_absolute_error: 4.2072 - val_loss: 16.0331 - val_mean_absolute_error: 15.7925\n",
      "Epoch 89/100\n",
      "43/43 [==============================] - 0s 6ms/step - loss: 3.9586 - mean_absolute_error: 3.9117 - val_loss: 15.9873 - val_mean_absolute_error: 15.7642\n",
      "Epoch 90/100\n",
      "43/43 [==============================] - 0s 6ms/step - loss: 4.2743 - mean_absolute_error: 4.2908 - val_loss: 16.0140 - val_mean_absolute_error: 15.8039\n",
      "Epoch 91/100\n",
      "43/43 [==============================] - 0s 6ms/step - loss: 4.1929 - mean_absolute_error: 4.2189 - val_loss: 15.8297 - val_mean_absolute_error: 15.6091\n",
      "Epoch 92/100\n",
      "43/43 [==============================] - 0s 6ms/step - loss: 3.9506 - mean_absolute_error: 4.0185 - val_loss: 16.1375 - val_mean_absolute_error: 15.9111\n",
      "Epoch 93/100\n",
      "43/43 [==============================] - 0s 6ms/step - loss: 4.7931 - mean_absolute_error: 4.7346 - val_loss: 16.0564 - val_mean_absolute_error: 15.8448\n",
      "Epoch 94/100\n",
      "43/43 [==============================] - 0s 6ms/step - loss: 4.4888 - mean_absolute_error: 4.5669 - val_loss: 16.0235 - val_mean_absolute_error: 15.8037\n",
      "Epoch 95/100\n",
      "43/43 [==============================] - 0s 6ms/step - loss: 4.5427 - mean_absolute_error: 4.5321 - val_loss: 16.7542 - val_mean_absolute_error: 16.5724\n",
      "Epoch 96/100\n",
      "43/43 [==============================] - 0s 6ms/step - loss: 4.3237 - mean_absolute_error: 4.2623 - val_loss: 16.1412 - val_mean_absolute_error: 15.9427\n",
      "Epoch 97/100\n",
      "43/43 [==============================] - 0s 6ms/step - loss: 4.1019 - mean_absolute_error: 4.1641 - val_loss: 16.0470 - val_mean_absolute_error: 15.8148\n",
      "Epoch 98/100\n",
      "43/43 [==============================] - 0s 6ms/step - loss: 4.0569 - mean_absolute_error: 4.0688 - val_loss: 16.2141 - val_mean_absolute_error: 16.0224\n",
      "Epoch 99/100\n",
      "43/43 [==============================] - 0s 6ms/step - loss: 4.5590 - mean_absolute_error: 4.5646 - val_loss: 16.0826 - val_mean_absolute_error: 15.8344\n",
      "Epoch 100/100\n"
     ]
    },
    {
     "name": "stdout",
     "output_type": "stream",
     "text": [
      "43/43 [==============================] - 0s 6ms/step - loss: 4.0213 - mean_absolute_error: 4.0569 - val_loss: 16.1270 - val_mean_absolute_error: 15.9182\n"
     ]
    }
   ],
   "source": [
    "X_train_ct = preprocessor.fit_transform(X_train, y_train)\n",
    "X_test_ct = preprocessor.transform(X_test)\n",
    "\n",
    "learning_rate = 0.01\n",
    "\n",
    "model2 = Sequential([\n",
    "    Dense(520, kernel_initializer='normal', activation='relu'),\n",
    "    Dropout(0.2),\n",
    "    Dense(480, kernel_initializer='normal', activation='relu'),\n",
    "    Dropout(0.2),\n",
    "    Dense(256, kernel_initializer='normal', activation='relu'),\n",
    "    Dense(1, kernel_initializer='normal', activation='linear')\n",
    "  ])\n",
    "\n",
    "mae_k = MeanAbsoluteError()\n",
    "model2.compile(loss=mae_k, optimizer=Adam(learning_rate=learning_rate), metrics=[mae_k])\n",
    "\n",
    "model_2 = model2.fit(X_train_ct, y_train, epochs=100, batch_size=64, validation_split=0.2)"
   ]
  },
  {
   "cell_type": "code",
   "execution_count": 30,
   "id": "27bfaafc",
   "metadata": {},
   "outputs": [
    {
     "name": "stdout",
     "output_type": "stream",
     "text": [
      " 93/106 [=========================>....] - ETA: 0s"
     ]
    },
    {
     "name": "stderr",
     "output_type": "stream",
     "text": [
      "2023-04-19 12:46:58.928788: I tensorflow/core/grappler/optimizers/custom_graph_optimizer_registry.cc:113] Plugin optimizer for device_type GPU is enabled.\n"
     ]
    },
    {
     "name": "stdout",
     "output_type": "stream",
     "text": [
      "106/106 [==============================] - 0s 3ms/step\n",
      "46/46 [==============================] - 0s 4ms/step\n",
      "number of features: 198\n",
      "rmse: (train) 17.260, (test) 28.004\n",
      "mae: (train) 5.828, (test) 14.323\n",
      "explained variance: (train cv) 0.889, (test) 0.677\n"
     ]
    }
   ],
   "source": [
    "y_train_pred = model2.predict(X_train_ct)\n",
    "y_test_pred = model2.predict(X_test_ct)\n",
    "\n",
    "rmse_train = np.sqrt(mean_squared_error(y_train, y_train_pred))\n",
    "rmse_test = np.sqrt(mean_squared_error(y_test, y_test_pred))\n",
    "\n",
    "mae_train = mean_absolute_error(y_train, y_train_pred)\n",
    "mae_test = mean_absolute_error(y_test, y_test_pred)\n",
    "\n",
    "ev_train = explained_variance_score(y_train, y_train_pred)\n",
    "ev_test = explained_variance_score(y_test, y_test_pred)\n",
    "\n",
    "print(\"number of features:\",len(X_train.columns))\n",
    "print(\"rmse: (train) %.3f, (test) %.3f\"%(rmse_train, rmse_test))\n",
    "print(\"mae: (train) %.3f, (test) %.3f\"%(mae_train, mae_test))\n",
    "print(\"explained variance: (train cv) %.3f, (test) %.3f\"%(ev_train, ev_test))"
   ]
  },
  {
   "cell_type": "code",
   "execution_count": 31,
   "id": "fdb2e645",
   "metadata": {},
   "outputs": [
    {
     "name": "stdout",
     "output_type": "stream",
     "text": [
      "Epoch 1/100\n",
      "21/43 [=============>................] - ETA: 0s - loss: 24.2174 - mean_absolute_error: 24.2174"
     ]
    },
    {
     "name": "stderr",
     "output_type": "stream",
     "text": [
      "2023-04-19 12:46:59.644521: I tensorflow/core/grappler/optimizers/custom_graph_optimizer_registry.cc:113] Plugin optimizer for device_type GPU is enabled.\n"
     ]
    },
    {
     "name": "stdout",
     "output_type": "stream",
     "text": [
      "43/43 [==============================] - 1s 8ms/step - loss: 23.2571 - mean_absolute_error: 23.3003 - val_loss: 22.3262 - val_mean_absolute_error: 22.1236\n",
      "Epoch 2/100\n",
      "20/43 [============>.................] - ETA: 0s - loss: 20.5511 - mean_absolute_error: 20.5511"
     ]
    },
    {
     "name": "stderr",
     "output_type": "stream",
     "text": [
      "2023-04-19 12:47:00.021001: I tensorflow/core/grappler/optimizers/custom_graph_optimizer_registry.cc:113] Plugin optimizer for device_type GPU is enabled.\n"
     ]
    },
    {
     "name": "stdout",
     "output_type": "stream",
     "text": [
      "43/43 [==============================] - 0s 6ms/step - loss: 18.4744 - mean_absolute_error: 18.3935 - val_loss: 18.4278 - val_mean_absolute_error: 18.1893\n",
      "Epoch 3/100\n",
      "43/43 [==============================] - 0s 6ms/step - loss: 15.6547 - mean_absolute_error: 16.4478 - val_loss: 19.4659 - val_mean_absolute_error: 19.1481\n",
      "Epoch 4/100\n",
      "43/43 [==============================] - 0s 6ms/step - loss: 15.7780 - mean_absolute_error: 16.1633 - val_loss: 17.3482 - val_mean_absolute_error: 17.1530\n",
      "Epoch 5/100\n",
      "43/43 [==============================] - 0s 6ms/step - loss: 14.0127 - mean_absolute_error: 13.8718 - val_loss: 17.7704 - val_mean_absolute_error: 17.5059\n",
      "Epoch 6/100\n",
      "43/43 [==============================] - 0s 6ms/step - loss: 13.7462 - mean_absolute_error: 13.6058 - val_loss: 17.0929 - val_mean_absolute_error: 16.8652\n",
      "Epoch 7/100\n",
      "43/43 [==============================] - 0s 6ms/step - loss: 13.4335 - mean_absolute_error: 13.3676 - val_loss: 18.6115 - val_mean_absolute_error: 18.4407\n",
      "Epoch 8/100\n",
      "43/43 [==============================] - 0s 6ms/step - loss: 13.9827 - mean_absolute_error: 13.9782 - val_loss: 17.3090 - val_mean_absolute_error: 17.1003\n",
      "Epoch 9/100\n",
      "43/43 [==============================] - 0s 6ms/step - loss: 12.7151 - mean_absolute_error: 12.9401 - val_loss: 16.9415 - val_mean_absolute_error: 16.7191\n",
      "Epoch 10/100\n",
      "43/43 [==============================] - 0s 6ms/step - loss: 12.1052 - mean_absolute_error: 12.4430 - val_loss: 17.3644 - val_mean_absolute_error: 17.1711\n",
      "Epoch 11/100\n",
      "43/43 [==============================] - 0s 6ms/step - loss: 11.9573 - mean_absolute_error: 11.8264 - val_loss: 17.3254 - val_mean_absolute_error: 17.1546\n",
      "Epoch 12/100\n",
      "43/43 [==============================] - 0s 6ms/step - loss: 11.7665 - mean_absolute_error: 11.8168 - val_loss: 16.5091 - val_mean_absolute_error: 16.2792\n",
      "Epoch 13/100\n",
      "43/43 [==============================] - 0s 6ms/step - loss: 11.2559 - mean_absolute_error: 11.2567 - val_loss: 17.5404 - val_mean_absolute_error: 17.3746\n",
      "Epoch 14/100\n",
      "43/43 [==============================] - 0s 6ms/step - loss: 10.9353 - mean_absolute_error: 10.8021 - val_loss: 17.1113 - val_mean_absolute_error: 16.8695\n",
      "Epoch 15/100\n",
      "43/43 [==============================] - 0s 6ms/step - loss: 10.1185 - mean_absolute_error: 10.0352 - val_loss: 17.3005 - val_mean_absolute_error: 17.0993\n",
      "Epoch 16/100\n",
      "43/43 [==============================] - 0s 6ms/step - loss: 9.5501 - mean_absolute_error: 10.2716 - val_loss: 17.2197 - val_mean_absolute_error: 17.0185\n",
      "Epoch 17/100\n",
      "43/43 [==============================] - 0s 6ms/step - loss: 10.1160 - mean_absolute_error: 10.1907 - val_loss: 17.4752 - val_mean_absolute_error: 17.2595\n",
      "Epoch 18/100\n",
      "43/43 [==============================] - 0s 6ms/step - loss: 10.3290 - mean_absolute_error: 10.1938 - val_loss: 17.0253 - val_mean_absolute_error: 16.7950\n",
      "Epoch 19/100\n",
      "43/43 [==============================] - 0s 6ms/step - loss: 9.6262 - mean_absolute_error: 9.5120 - val_loss: 17.3193 - val_mean_absolute_error: 17.1063\n",
      "Epoch 20/100\n",
      "43/43 [==============================] - 0s 6ms/step - loss: 8.7713 - mean_absolute_error: 8.7517 - val_loss: 17.1189 - val_mean_absolute_error: 16.8766\n",
      "Epoch 21/100\n",
      "43/43 [==============================] - 0s 6ms/step - loss: 8.9258 - mean_absolute_error: 8.8202 - val_loss: 16.5264 - val_mean_absolute_error: 16.2848\n",
      "Epoch 22/100\n",
      "43/43 [==============================] - 0s 6ms/step - loss: 8.1813 - mean_absolute_error: 8.1304 - val_loss: 18.0717 - val_mean_absolute_error: 17.8302\n",
      "Epoch 23/100\n",
      "43/43 [==============================] - 0s 6ms/step - loss: 8.2523 - mean_absolute_error: 8.1641 - val_loss: 17.2819 - val_mean_absolute_error: 17.0155\n",
      "Epoch 24/100\n",
      "43/43 [==============================] - 0s 6ms/step - loss: 8.0337 - mean_absolute_error: 7.9788 - val_loss: 17.0648 - val_mean_absolute_error: 16.8333\n",
      "Epoch 25/100\n",
      "43/43 [==============================] - 0s 6ms/step - loss: 8.0432 - mean_absolute_error: 7.9629 - val_loss: 16.9986 - val_mean_absolute_error: 16.7502\n",
      "Epoch 26/100\n",
      "43/43 [==============================] - 0s 6ms/step - loss: 7.9151 - mean_absolute_error: 7.8914 - val_loss: 16.7658 - val_mean_absolute_error: 16.5332\n",
      "Epoch 27/100\n",
      "43/43 [==============================] - 0s 6ms/step - loss: 7.4131 - mean_absolute_error: 7.3890 - val_loss: 16.9467 - val_mean_absolute_error: 16.7218\n",
      "Epoch 28/100\n",
      "43/43 [==============================] - 0s 6ms/step - loss: 7.8918 - mean_absolute_error: 7.8593 - val_loss: 18.4281 - val_mean_absolute_error: 18.1961\n",
      "Epoch 29/100\n",
      "43/43 [==============================] - 0s 6ms/step - loss: 7.4908 - mean_absolute_error: 7.4741 - val_loss: 17.5876 - val_mean_absolute_error: 17.3644\n",
      "Epoch 30/100\n",
      "43/43 [==============================] - 0s 6ms/step - loss: 7.4226 - mean_absolute_error: 7.3363 - val_loss: 17.0864 - val_mean_absolute_error: 16.8713\n",
      "Epoch 31/100\n",
      "43/43 [==============================] - 0s 6ms/step - loss: 7.0797 - mean_absolute_error: 7.0407 - val_loss: 16.7821 - val_mean_absolute_error: 16.5982\n",
      "Epoch 32/100\n",
      "43/43 [==============================] - 0s 6ms/step - loss: 6.7529 - mean_absolute_error: 6.7189 - val_loss: 17.1040 - val_mean_absolute_error: 16.8991\n",
      "Epoch 33/100\n",
      "43/43 [==============================] - 0s 6ms/step - loss: 7.3158 - mean_absolute_error: 7.3259 - val_loss: 17.0272 - val_mean_absolute_error: 16.7953\n",
      "Epoch 34/100\n",
      "43/43 [==============================] - 0s 6ms/step - loss: 7.3846 - mean_absolute_error: 7.2993 - val_loss: 17.2125 - val_mean_absolute_error: 16.9788\n",
      "Epoch 35/100\n",
      "43/43 [==============================] - 0s 6ms/step - loss: 6.9879 - mean_absolute_error: 6.9456 - val_loss: 17.4586 - val_mean_absolute_error: 17.2220\n",
      "Epoch 36/100\n",
      "43/43 [==============================] - 0s 6ms/step - loss: 6.6184 - mean_absolute_error: 6.5548 - val_loss: 17.3835 - val_mean_absolute_error: 17.1866\n",
      "Epoch 37/100\n",
      "43/43 [==============================] - 0s 6ms/step - loss: 6.3411 - mean_absolute_error: 6.3580 - val_loss: 16.9132 - val_mean_absolute_error: 16.7154\n",
      "Epoch 38/100\n",
      "43/43 [==============================] - 0s 6ms/step - loss: 6.4572 - mean_absolute_error: 6.4003 - val_loss: 17.0292 - val_mean_absolute_error: 16.7808\n",
      "Epoch 39/100\n",
      "43/43 [==============================] - 0s 6ms/step - loss: 6.5286 - mean_absolute_error: 6.4925 - val_loss: 16.8170 - val_mean_absolute_error: 16.5711\n",
      "Epoch 40/100\n",
      "43/43 [==============================] - 0s 6ms/step - loss: 6.7939 - mean_absolute_error: 6.7710 - val_loss: 16.8602 - val_mean_absolute_error: 16.6697\n",
      "Epoch 41/100\n",
      "43/43 [==============================] - 0s 6ms/step - loss: 6.3521 - mean_absolute_error: 6.3629 - val_loss: 16.9553 - val_mean_absolute_error: 16.7225\n",
      "Epoch 42/100\n",
      "43/43 [==============================] - 0s 6ms/step - loss: 6.4821 - mean_absolute_error: 6.4718 - val_loss: 16.6075 - val_mean_absolute_error: 16.4212\n",
      "Epoch 43/100\n",
      "43/43 [==============================] - 0s 6ms/step - loss: 6.2152 - mean_absolute_error: 6.1358 - val_loss: 16.5656 - val_mean_absolute_error: 16.3293\n",
      "Epoch 44/100\n",
      "43/43 [==============================] - 0s 6ms/step - loss: 6.1327 - mean_absolute_error: 6.1945 - val_loss: 16.8231 - val_mean_absolute_error: 16.6026\n",
      "Epoch 45/100\n",
      "43/43 [==============================] - 0s 6ms/step - loss: 6.1740 - mean_absolute_error: 6.1148 - val_loss: 16.8628 - val_mean_absolute_error: 16.6901\n",
      "Epoch 46/100\n",
      "43/43 [==============================] - 0s 6ms/step - loss: 6.3601 - mean_absolute_error: 6.3574 - val_loss: 16.5842 - val_mean_absolute_error: 16.3663\n",
      "Epoch 47/100\n",
      "43/43 [==============================] - 0s 6ms/step - loss: 5.8632 - mean_absolute_error: 5.8088 - val_loss: 16.8650 - val_mean_absolute_error: 16.6341\n",
      "Epoch 48/100\n",
      "43/43 [==============================] - 0s 6ms/step - loss: 6.3585 - mean_absolute_error: 6.4003 - val_loss: 17.0135 - val_mean_absolute_error: 16.7945\n",
      "Epoch 49/100\n",
      "43/43 [==============================] - 0s 6ms/step - loss: 5.8216 - mean_absolute_error: 5.8930 - val_loss: 17.3684 - val_mean_absolute_error: 17.1372\n",
      "Epoch 50/100\n",
      "43/43 [==============================] - 0s 6ms/step - loss: 6.6727 - mean_absolute_error: 6.6482 - val_loss: 16.9561 - val_mean_absolute_error: 16.7631\n",
      "Epoch 51/100\n"
     ]
    },
    {
     "name": "stdout",
     "output_type": "stream",
     "text": [
      "43/43 [==============================] - 0s 6ms/step - loss: 6.1630 - mean_absolute_error: 6.1409 - val_loss: 16.4387 - val_mean_absolute_error: 16.2322\n",
      "Epoch 52/100\n",
      "43/43 [==============================] - 0s 6ms/step - loss: 5.5840 - mean_absolute_error: 5.5282 - val_loss: 16.6295 - val_mean_absolute_error: 16.4265\n",
      "Epoch 53/100\n",
      "43/43 [==============================] - 0s 6ms/step - loss: 5.9034 - mean_absolute_error: 5.9386 - val_loss: 16.2140 - val_mean_absolute_error: 16.0179\n",
      "Epoch 54/100\n",
      "43/43 [==============================] - 0s 6ms/step - loss: 5.7857 - mean_absolute_error: 5.7657 - val_loss: 16.7576 - val_mean_absolute_error: 16.5513\n",
      "Epoch 55/100\n",
      "43/43 [==============================] - 0s 6ms/step - loss: 5.6944 - mean_absolute_error: 5.6331 - val_loss: 16.6471 - val_mean_absolute_error: 16.4269\n",
      "Epoch 56/100\n",
      "43/43 [==============================] - 0s 6ms/step - loss: 5.4623 - mean_absolute_error: 5.4849 - val_loss: 16.3066 - val_mean_absolute_error: 16.1143\n",
      "Epoch 57/100\n",
      "43/43 [==============================] - 0s 6ms/step - loss: 5.6106 - mean_absolute_error: 5.6392 - val_loss: 16.6080 - val_mean_absolute_error: 16.4011\n",
      "Epoch 58/100\n",
      "43/43 [==============================] - 0s 6ms/step - loss: 5.5468 - mean_absolute_error: 5.6759 - val_loss: 16.6670 - val_mean_absolute_error: 16.4295\n",
      "Epoch 59/100\n",
      "43/43 [==============================] - 0s 6ms/step - loss: 5.4530 - mean_absolute_error: 5.5022 - val_loss: 16.4231 - val_mean_absolute_error: 16.1952\n",
      "Epoch 60/100\n",
      "43/43 [==============================] - 0s 6ms/step - loss: 5.5430 - mean_absolute_error: 5.5459 - val_loss: 16.4872 - val_mean_absolute_error: 16.2612\n",
      "Epoch 61/100\n",
      "43/43 [==============================] - 0s 6ms/step - loss: 5.7207 - mean_absolute_error: 5.6986 - val_loss: 16.7797 - val_mean_absolute_error: 16.5663\n",
      "Epoch 62/100\n",
      "43/43 [==============================] - 0s 6ms/step - loss: 5.2124 - mean_absolute_error: 5.1619 - val_loss: 16.8408 - val_mean_absolute_error: 16.6112\n",
      "Epoch 63/100\n",
      "43/43 [==============================] - 0s 6ms/step - loss: 5.1923 - mean_absolute_error: 5.1415 - val_loss: 17.0135 - val_mean_absolute_error: 16.7953\n",
      "Epoch 64/100\n",
      "43/43 [==============================] - 0s 6ms/step - loss: 5.4811 - mean_absolute_error: 5.4732 - val_loss: 16.1883 - val_mean_absolute_error: 16.0132\n",
      "Epoch 65/100\n",
      "43/43 [==============================] - 0s 6ms/step - loss: 5.3729 - mean_absolute_error: 5.3523 - val_loss: 16.5432 - val_mean_absolute_error: 16.3302\n",
      "Epoch 66/100\n",
      "43/43 [==============================] - 0s 6ms/step - loss: 5.3517 - mean_absolute_error: 5.3935 - val_loss: 16.7485 - val_mean_absolute_error: 16.5325\n",
      "Epoch 67/100\n",
      "43/43 [==============================] - 0s 6ms/step - loss: 5.9502 - mean_absolute_error: 5.8966 - val_loss: 17.1970 - val_mean_absolute_error: 16.9723\n",
      "Epoch 68/100\n",
      "43/43 [==============================] - 0s 6ms/step - loss: 5.4554 - mean_absolute_error: 5.4797 - val_loss: 17.0987 - val_mean_absolute_error: 16.8687\n",
      "Epoch 69/100\n",
      "43/43 [==============================] - 0s 6ms/step - loss: 5.0871 - mean_absolute_error: 5.4109 - val_loss: 16.9018 - val_mean_absolute_error: 16.6674\n",
      "Epoch 70/100\n",
      "43/43 [==============================] - 0s 6ms/step - loss: 5.4404 - mean_absolute_error: 5.3821 - val_loss: 17.1130 - val_mean_absolute_error: 16.9302\n",
      "Epoch 71/100\n",
      "43/43 [==============================] - 0s 6ms/step - loss: 5.2812 - mean_absolute_error: 5.2295 - val_loss: 16.9119 - val_mean_absolute_error: 16.6718\n",
      "Epoch 72/100\n",
      "43/43 [==============================] - 0s 6ms/step - loss: 4.9111 - mean_absolute_error: 4.8965 - val_loss: 16.4868 - val_mean_absolute_error: 16.2689\n",
      "Epoch 73/100\n",
      "43/43 [==============================] - 0s 6ms/step - loss: 5.0542 - mean_absolute_error: 5.0726 - val_loss: 16.7638 - val_mean_absolute_error: 16.5582\n",
      "Epoch 74/100\n",
      "43/43 [==============================] - 0s 6ms/step - loss: 5.1409 - mean_absolute_error: 5.1265 - val_loss: 16.4063 - val_mean_absolute_error: 16.2108\n",
      "Epoch 75/100\n",
      "43/43 [==============================] - 0s 6ms/step - loss: 4.9879 - mean_absolute_error: 5.0020 - val_loss: 16.9944 - val_mean_absolute_error: 16.7574\n",
      "Epoch 76/100\n",
      "43/43 [==============================] - 0s 6ms/step - loss: 5.2790 - mean_absolute_error: 5.2643 - val_loss: 17.2481 - val_mean_absolute_error: 17.0019\n",
      "Epoch 77/100\n",
      "43/43 [==============================] - 0s 6ms/step - loss: 5.2608 - mean_absolute_error: 5.2430 - val_loss: 17.0776 - val_mean_absolute_error: 16.8870\n",
      "Epoch 78/100\n",
      "43/43 [==============================] - 0s 6ms/step - loss: 5.4258 - mean_absolute_error: 5.4186 - val_loss: 16.2830 - val_mean_absolute_error: 16.0802\n",
      "Epoch 79/100\n",
      "43/43 [==============================] - 0s 6ms/step - loss: 5.4374 - mean_absolute_error: 5.4194 - val_loss: 17.2137 - val_mean_absolute_error: 16.9707\n",
      "Epoch 80/100\n",
      "43/43 [==============================] - 0s 6ms/step - loss: 5.4215 - mean_absolute_error: 5.3997 - val_loss: 16.8114 - val_mean_absolute_error: 16.6008\n",
      "Epoch 81/100\n",
      "43/43 [==============================] - 0s 6ms/step - loss: 5.4683 - mean_absolute_error: 5.4012 - val_loss: 17.6621 - val_mean_absolute_error: 17.4033\n",
      "Epoch 82/100\n",
      "43/43 [==============================] - 0s 6ms/step - loss: 5.0982 - mean_absolute_error: 5.0754 - val_loss: 16.8758 - val_mean_absolute_error: 16.6472\n",
      "Epoch 83/100\n",
      "43/43 [==============================] - 0s 6ms/step - loss: 4.7978 - mean_absolute_error: 4.7577 - val_loss: 16.8437 - val_mean_absolute_error: 16.6409\n",
      "Epoch 84/100\n",
      "43/43 [==============================] - 0s 6ms/step - loss: 4.8708 - mean_absolute_error: 4.8308 - val_loss: 16.6343 - val_mean_absolute_error: 16.4187\n",
      "Epoch 85/100\n",
      "43/43 [==============================] - 0s 6ms/step - loss: 4.7942 - mean_absolute_error: 4.8411 - val_loss: 16.8700 - val_mean_absolute_error: 16.6400\n",
      "Epoch 86/100\n",
      "43/43 [==============================] - 0s 6ms/step - loss: 4.7288 - mean_absolute_error: 4.7858 - val_loss: 17.1087 - val_mean_absolute_error: 16.8876\n",
      "Epoch 87/100\n",
      "43/43 [==============================] - 0s 6ms/step - loss: 4.7138 - mean_absolute_error: 4.7260 - val_loss: 16.5302 - val_mean_absolute_error: 16.3010\n",
      "Epoch 88/100\n",
      "43/43 [==============================] - 0s 6ms/step - loss: 4.5273 - mean_absolute_error: 4.4579 - val_loss: 16.4198 - val_mean_absolute_error: 16.2076\n",
      "Epoch 89/100\n",
      "43/43 [==============================] - 0s 6ms/step - loss: 4.5281 - mean_absolute_error: 4.5433 - val_loss: 16.3599 - val_mean_absolute_error: 16.1593\n",
      "Epoch 90/100\n",
      "43/43 [==============================] - 0s 6ms/step - loss: 4.8299 - mean_absolute_error: 4.8198 - val_loss: 16.6936 - val_mean_absolute_error: 16.4617\n",
      "Epoch 91/100\n",
      "43/43 [==============================] - 0s 6ms/step - loss: 4.6583 - mean_absolute_error: 4.6392 - val_loss: 17.0463 - val_mean_absolute_error: 16.8256\n",
      "Epoch 92/100\n",
      "43/43 [==============================] - 0s 6ms/step - loss: 4.8443 - mean_absolute_error: 4.8194 - val_loss: 16.6910 - val_mean_absolute_error: 16.4812\n",
      "Epoch 93/100\n",
      "43/43 [==============================] - 0s 6ms/step - loss: 4.7775 - mean_absolute_error: 4.8210 - val_loss: 16.3557 - val_mean_absolute_error: 16.1339\n",
      "Epoch 94/100\n",
      "43/43 [==============================] - 0s 6ms/step - loss: 4.6697 - mean_absolute_error: 4.6604 - val_loss: 16.8769 - val_mean_absolute_error: 16.6547\n",
      "Epoch 95/100\n",
      "43/43 [==============================] - 0s 6ms/step - loss: 4.6334 - mean_absolute_error: 4.6607 - val_loss: 17.1309 - val_mean_absolute_error: 16.8799\n",
      "Epoch 96/100\n",
      "43/43 [==============================] - 0s 6ms/step - loss: 5.3469 - mean_absolute_error: 5.3423 - val_loss: 16.3799 - val_mean_absolute_error: 16.1425\n",
      "Epoch 97/100\n",
      "43/43 [==============================] - 0s 6ms/step - loss: 5.1042 - mean_absolute_error: 5.0700 - val_loss: 16.6563 - val_mean_absolute_error: 16.4400\n",
      "Epoch 98/100\n",
      "43/43 [==============================] - 0s 6ms/step - loss: 4.8647 - mean_absolute_error: 4.8217 - val_loss: 16.8208 - val_mean_absolute_error: 16.6116\n",
      "Epoch 99/100\n",
      "43/43 [==============================] - 0s 6ms/step - loss: 4.7229 - mean_absolute_error: 4.7251 - val_loss: 16.5834 - val_mean_absolute_error: 16.3492\n",
      "Epoch 100/100\n"
     ]
    },
    {
     "name": "stdout",
     "output_type": "stream",
     "text": [
      "43/43 [==============================] - 0s 6ms/step - loss: 4.6245 - mean_absolute_error: 4.6263 - val_loss: 16.6766 - val_mean_absolute_error: 16.4724\n"
     ]
    }
   ],
   "source": [
    "X_train_ct = preprocessor.fit_transform(X_train, y_train)\n",
    "X_test_ct = preprocessor.transform(X_test)\n",
    "\n",
    "learning_rate = 0.01\n",
    "\n",
    "model2 = Sequential([\n",
    "    Dense(160, kernel_initializer='normal', activation='relu'),\n",
    "    Dropout(0.2),\n",
    "    Dense(480, kernel_initializer='normal', activation='relu'),\n",
    "    Dropout(0.2),\n",
    "    Dense(256, kernel_initializer='normal', activation='relu'),\n",
    "    Dense(1, kernel_initializer='normal', activation='linear')\n",
    "  ])\n",
    "\n",
    "mae_k = MeanAbsoluteError()\n",
    "model2.compile(loss=mae_k, optimizer=Adam(learning_rate=learning_rate), metrics=[mae_k])\n",
    "\n",
    "model_2 = model2.fit(X_train_ct, y_train, epochs=100, batch_size=64, validation_split=0.2)"
   ]
  },
  {
   "cell_type": "code",
   "execution_count": 32,
   "id": "b5f1207f",
   "metadata": {},
   "outputs": [
    {
     "name": "stdout",
     "output_type": "stream",
     "text": [
      "106/106 [==============================] - 0s 2ms/step\n"
     ]
    },
    {
     "name": "stderr",
     "output_type": "stream",
     "text": [
      "2023-04-19 12:47:24.988872: I tensorflow/core/grappler/optimizers/custom_graph_optimizer_registry.cc:113] Plugin optimizer for device_type GPU is enabled.\n"
     ]
    },
    {
     "name": "stdout",
     "output_type": "stream",
     "text": [
      "46/46 [==============================] - 0s 2ms/step\n",
      "number of features: 198\n",
      "rmse: (train) 18.631, (test) 28.202\n",
      "mae: (train) 6.474, (test) 14.504\n",
      "explained variance: (train cv) 0.875, (test) 0.682\n"
     ]
    }
   ],
   "source": [
    "y_train_pred = model2.predict(X_train_ct)\n",
    "y_test_pred = model2.predict(X_test_ct)\n",
    "\n",
    "rmse_train = np.sqrt(mean_squared_error(y_train, y_train_pred))\n",
    "rmse_test = np.sqrt(mean_squared_error(y_test, y_test_pred))\n",
    "\n",
    "mae_train = mean_absolute_error(y_train, y_train_pred)\n",
    "mae_test = mean_absolute_error(y_test, y_test_pred)\n",
    "\n",
    "ev_train = explained_variance_score(y_train, y_train_pred)\n",
    "ev_test = explained_variance_score(y_test, y_test_pred)\n",
    "\n",
    "print(\"number of features:\",len(X_train.columns))\n",
    "print(\"rmse: (train) %.3f, (test) %.3f\"%(rmse_train, rmse_test))\n",
    "print(\"mae: (train) %.3f, (test) %.3f\"%(mae_train, mae_test))\n",
    "print(\"explained variance: (train cv) %.3f, (test) %.3f\"%(ev_train, ev_test))"
   ]
  },
  {
   "cell_type": "markdown",
   "id": "96b03be7",
   "metadata": {},
   "source": [
    "## Model 4 - Neural Network, 5 Hidden Layers¶"
   ]
  },
  {
   "cell_type": "code",
   "execution_count": 33,
   "id": "0d998789",
   "metadata": {},
   "outputs": [
    {
     "name": "stdout",
     "output_type": "stream",
     "text": [
      "Epoch 1/100\n",
      " 9/43 [=====>........................] - ETA: 0s - loss: 47.4877 - mean_absolute_error: 47.4877 "
     ]
    },
    {
     "name": "stderr",
     "output_type": "stream",
     "text": [
      "2023-04-19 12:47:25.445189: I tensorflow/core/grappler/optimizers/custom_graph_optimizer_registry.cc:113] Plugin optimizer for device_type GPU is enabled.\n"
     ]
    },
    {
     "name": "stdout",
     "output_type": "stream",
     "text": [
      "43/43 [==============================] - 1s 10ms/step - loss: 31.9767 - mean_absolute_error: 31.9570 - val_loss: 20.8621 - val_mean_absolute_error: 20.5723\n",
      "Epoch 2/100\n",
      "17/43 [==========>...................] - ETA: 0s - loss: 17.9431 - mean_absolute_error: 17.9431"
     ]
    },
    {
     "name": "stderr",
     "output_type": "stream",
     "text": [
      "2023-04-19 12:47:25.883565: I tensorflow/core/grappler/optimizers/custom_graph_optimizer_registry.cc:113] Plugin optimizer for device_type GPU is enabled.\n"
     ]
    },
    {
     "name": "stdout",
     "output_type": "stream",
     "text": [
      "43/43 [==============================] - 0s 7ms/step - loss: 18.5536 - mean_absolute_error: 18.3983 - val_loss: 19.0098 - val_mean_absolute_error: 18.7021\n",
      "Epoch 3/100\n",
      "43/43 [==============================] - 0s 7ms/step - loss: 16.1824 - mean_absolute_error: 15.9606 - val_loss: 18.2148 - val_mean_absolute_error: 17.9510\n",
      "Epoch 4/100\n",
      "43/43 [==============================] - 0s 7ms/step - loss: 15.9794 - mean_absolute_error: 16.2567 - val_loss: 18.2162 - val_mean_absolute_error: 18.0536\n",
      "Epoch 5/100\n",
      "43/43 [==============================] - 0s 7ms/step - loss: 14.8540 - mean_absolute_error: 14.9262 - val_loss: 18.0196 - val_mean_absolute_error: 17.8040\n",
      "Epoch 6/100\n",
      "43/43 [==============================] - 0s 7ms/step - loss: 13.3975 - mean_absolute_error: 13.7902 - val_loss: 19.6298 - val_mean_absolute_error: 19.4576\n",
      "Epoch 7/100\n",
      "43/43 [==============================] - 0s 7ms/step - loss: 14.9826 - mean_absolute_error: 15.3179 - val_loss: 19.1695 - val_mean_absolute_error: 18.9483\n",
      "Epoch 8/100\n",
      "43/43 [==============================] - 0s 7ms/step - loss: 14.1739 - mean_absolute_error: 14.0374 - val_loss: 17.6507 - val_mean_absolute_error: 17.4382\n",
      "Epoch 9/100\n",
      "43/43 [==============================] - 0s 7ms/step - loss: 11.8274 - mean_absolute_error: 12.1890 - val_loss: 28.1434 - val_mean_absolute_error: 27.6721\n",
      "Epoch 10/100\n",
      "43/43 [==============================] - 0s 7ms/step - loss: 15.8384 - mean_absolute_error: 15.8314 - val_loss: 17.7839 - val_mean_absolute_error: 17.6406\n",
      "Epoch 11/100\n",
      "43/43 [==============================] - 0s 7ms/step - loss: 11.1020 - mean_absolute_error: 11.1266 - val_loss: 17.4624 - val_mean_absolute_error: 17.2370\n",
      "Epoch 12/100\n",
      "43/43 [==============================] - 0s 7ms/step - loss: 11.1177 - mean_absolute_error: 10.9824 - val_loss: 18.5268 - val_mean_absolute_error: 18.3499\n",
      "Epoch 13/100\n",
      "43/43 [==============================] - 0s 7ms/step - loss: 11.3941 - mean_absolute_error: 11.3010 - val_loss: 17.9592 - val_mean_absolute_error: 17.7786\n",
      "Epoch 14/100\n",
      "43/43 [==============================] - 0s 7ms/step - loss: 9.8716 - mean_absolute_error: 9.9745 - val_loss: 18.7060 - val_mean_absolute_error: 18.5718\n",
      "Epoch 15/100\n",
      "43/43 [==============================] - 0s 7ms/step - loss: 9.7769 - mean_absolute_error: 9.8517 - val_loss: 16.9851 - val_mean_absolute_error: 16.8314\n",
      "Epoch 16/100\n",
      "43/43 [==============================] - 0s 7ms/step - loss: 9.1297 - mean_absolute_error: 9.3433 - val_loss: 17.7425 - val_mean_absolute_error: 17.6003\n",
      "Epoch 17/100\n",
      "43/43 [==============================] - 0s 7ms/step - loss: 8.5012 - mean_absolute_error: 8.3842 - val_loss: 17.9803 - val_mean_absolute_error: 17.8722\n",
      "Epoch 18/100\n",
      "43/43 [==============================] - 0s 7ms/step - loss: 8.4584 - mean_absolute_error: 8.4488 - val_loss: 17.7445 - val_mean_absolute_error: 17.5309\n",
      "Epoch 19/100\n",
      "43/43 [==============================] - 0s 7ms/step - loss: 8.2278 - mean_absolute_error: 8.2968 - val_loss: 17.6371 - val_mean_absolute_error: 17.4918\n",
      "Epoch 20/100\n",
      "43/43 [==============================] - 0s 7ms/step - loss: 8.0612 - mean_absolute_error: 7.9822 - val_loss: 17.3784 - val_mean_absolute_error: 17.1844\n",
      "Epoch 21/100\n",
      "43/43 [==============================] - 0s 7ms/step - loss: 7.9351 - mean_absolute_error: 7.9257 - val_loss: 16.2118 - val_mean_absolute_error: 16.0232\n",
      "Epoch 22/100\n",
      "43/43 [==============================] - 0s 7ms/step - loss: 7.4293 - mean_absolute_error: 7.4315 - val_loss: 16.8696 - val_mean_absolute_error: 16.6497\n",
      "Epoch 23/100\n",
      "43/43 [==============================] - 0s 7ms/step - loss: 6.9913 - mean_absolute_error: 6.9663 - val_loss: 17.2364 - val_mean_absolute_error: 17.0446\n",
      "Epoch 24/100\n",
      "43/43 [==============================] - 0s 7ms/step - loss: 7.9276 - mean_absolute_error: 8.0088 - val_loss: 16.9908 - val_mean_absolute_error: 16.7942\n",
      "Epoch 25/100\n",
      "43/43 [==============================] - 0s 7ms/step - loss: 7.7100 - mean_absolute_error: 7.7373 - val_loss: 17.3317 - val_mean_absolute_error: 17.1693\n",
      "Epoch 26/100\n",
      "43/43 [==============================] - 0s 7ms/step - loss: 7.6691 - mean_absolute_error: 7.5654 - val_loss: 16.5304 - val_mean_absolute_error: 16.3358\n",
      "Epoch 27/100\n",
      "43/43 [==============================] - 0s 7ms/step - loss: 7.3221 - mean_absolute_error: 7.4666 - val_loss: 16.2945 - val_mean_absolute_error: 16.0367\n",
      "Epoch 28/100\n",
      "43/43 [==============================] - 0s 7ms/step - loss: 8.6292 - mean_absolute_error: 8.5810 - val_loss: 17.0972 - val_mean_absolute_error: 16.9105\n",
      "Epoch 29/100\n",
      "43/43 [==============================] - 0s 7ms/step - loss: 7.2287 - mean_absolute_error: 7.1233 - val_loss: 17.1587 - val_mean_absolute_error: 16.9685\n",
      "Epoch 30/100\n",
      "43/43 [==============================] - 0s 7ms/step - loss: 6.2992 - mean_absolute_error: 6.2734 - val_loss: 17.2258 - val_mean_absolute_error: 17.0374\n",
      "Epoch 31/100\n",
      "43/43 [==============================] - 0s 7ms/step - loss: 6.3745 - mean_absolute_error: 6.3211 - val_loss: 17.6445 - val_mean_absolute_error: 17.5108\n",
      "Epoch 32/100\n",
      "43/43 [==============================] - 0s 7ms/step - loss: 6.2948 - mean_absolute_error: 6.3276 - val_loss: 18.3584 - val_mean_absolute_error: 18.2099\n",
      "Epoch 33/100\n",
      "43/43 [==============================] - 0s 8ms/step - loss: 6.7963 - mean_absolute_error: 6.7199 - val_loss: 17.6471 - val_mean_absolute_error: 17.4932\n",
      "Epoch 34/100\n",
      "43/43 [==============================] - 0s 7ms/step - loss: 6.7778 - mean_absolute_error: 6.8999 - val_loss: 16.6749 - val_mean_absolute_error: 16.5062\n",
      "Epoch 35/100\n",
      "43/43 [==============================] - 0s 7ms/step - loss: 6.5147 - mean_absolute_error: 6.4583 - val_loss: 16.8627 - val_mean_absolute_error: 16.7028\n",
      "Epoch 36/100\n",
      "43/43 [==============================] - 0s 7ms/step - loss: 6.0114 - mean_absolute_error: 5.9886 - val_loss: 17.1500 - val_mean_absolute_error: 17.0123\n",
      "Epoch 37/100\n",
      "43/43 [==============================] - 0s 7ms/step - loss: 5.8009 - mean_absolute_error: 5.7837 - val_loss: 17.0068 - val_mean_absolute_error: 16.8460\n",
      "Epoch 38/100\n",
      "43/43 [==============================] - 0s 7ms/step - loss: 6.2137 - mean_absolute_error: 6.4521 - val_loss: 17.0791 - val_mean_absolute_error: 16.9466\n",
      "Epoch 39/100\n",
      "43/43 [==============================] - 0s 7ms/step - loss: 6.7152 - mean_absolute_error: 6.6790 - val_loss: 18.2044 - val_mean_absolute_error: 18.0372\n",
      "Epoch 40/100\n",
      "43/43 [==============================] - 0s 7ms/step - loss: 6.0782 - mean_absolute_error: 6.0158 - val_loss: 17.2145 - val_mean_absolute_error: 17.0346\n",
      "Epoch 41/100\n",
      "43/43 [==============================] - 0s 7ms/step - loss: 5.7347 - mean_absolute_error: 5.7481 - val_loss: 17.8478 - val_mean_absolute_error: 17.6965\n",
      "Epoch 42/100\n",
      "43/43 [==============================] - 0s 7ms/step - loss: 5.4572 - mean_absolute_error: 6.0698 - val_loss: 16.9493 - val_mean_absolute_error: 16.7487\n",
      "Epoch 43/100\n",
      "43/43 [==============================] - 0s 7ms/step - loss: 5.7758 - mean_absolute_error: 5.7384 - val_loss: 17.7906 - val_mean_absolute_error: 17.6166\n",
      "Epoch 44/100\n",
      "43/43 [==============================] - 0s 7ms/step - loss: 5.4842 - mean_absolute_error: 5.4431 - val_loss: 17.1472 - val_mean_absolute_error: 17.0130\n",
      "Epoch 45/100\n",
      "43/43 [==============================] - 0s 7ms/step - loss: 5.8714 - mean_absolute_error: 5.8301 - val_loss: 16.7243 - val_mean_absolute_error: 16.5816\n",
      "Epoch 46/100\n",
      "43/43 [==============================] - 0s 7ms/step - loss: 5.2255 - mean_absolute_error: 5.2071 - val_loss: 16.6114 - val_mean_absolute_error: 16.4263\n",
      "Epoch 47/100\n",
      "43/43 [==============================] - 0s 7ms/step - loss: 4.9686 - mean_absolute_error: 4.9453 - val_loss: 16.3275 - val_mean_absolute_error: 16.1516\n",
      "Epoch 48/100\n",
      "43/43 [==============================] - 0s 7ms/step - loss: 5.2243 - mean_absolute_error: 5.1693 - val_loss: 17.3967 - val_mean_absolute_error: 17.2424\n",
      "Epoch 49/100\n",
      "43/43 [==============================] - 0s 7ms/step - loss: 5.2554 - mean_absolute_error: 5.3412 - val_loss: 16.9325 - val_mean_absolute_error: 16.7195\n",
      "Epoch 50/100\n",
      "43/43 [==============================] - 0s 7ms/step - loss: 5.4292 - mean_absolute_error: 5.3636 - val_loss: 15.9808 - val_mean_absolute_error: 15.7933\n",
      "Epoch 51/100\n"
     ]
    },
    {
     "name": "stdout",
     "output_type": "stream",
     "text": [
      "43/43 [==============================] - 0s 7ms/step - loss: 4.9840 - mean_absolute_error: 5.0354 - val_loss: 16.7333 - val_mean_absolute_error: 16.5594\n",
      "Epoch 52/100\n",
      "43/43 [==============================] - 0s 7ms/step - loss: 5.2144 - mean_absolute_error: 5.2840 - val_loss: 16.9984 - val_mean_absolute_error: 16.8104\n",
      "Epoch 53/100\n",
      "43/43 [==============================] - 0s 7ms/step - loss: 5.1821 - mean_absolute_error: 5.2335 - val_loss: 16.7759 - val_mean_absolute_error: 16.5401\n",
      "Epoch 54/100\n",
      "43/43 [==============================] - 0s 7ms/step - loss: 4.8962 - mean_absolute_error: 4.9512 - val_loss: 16.6974 - val_mean_absolute_error: 16.5074\n",
      "Epoch 55/100\n",
      "43/43 [==============================] - 0s 7ms/step - loss: 5.2294 - mean_absolute_error: 5.1829 - val_loss: 17.0929 - val_mean_absolute_error: 16.9363\n",
      "Epoch 56/100\n",
      "43/43 [==============================] - 0s 7ms/step - loss: 4.9848 - mean_absolute_error: 4.9794 - val_loss: 16.3427 - val_mean_absolute_error: 16.1378\n",
      "Epoch 57/100\n",
      "43/43 [==============================] - 0s 7ms/step - loss: 5.0477 - mean_absolute_error: 5.1048 - val_loss: 17.6883 - val_mean_absolute_error: 17.5576\n",
      "Epoch 58/100\n",
      "43/43 [==============================] - 0s 7ms/step - loss: 5.1230 - mean_absolute_error: 5.2461 - val_loss: 17.1215 - val_mean_absolute_error: 16.9718\n",
      "Epoch 59/100\n",
      "43/43 [==============================] - 0s 7ms/step - loss: 5.0369 - mean_absolute_error: 4.9801 - val_loss: 16.4430 - val_mean_absolute_error: 16.2848\n",
      "Epoch 60/100\n",
      "43/43 [==============================] - 0s 7ms/step - loss: 5.0778 - mean_absolute_error: 5.0341 - val_loss: 17.2173 - val_mean_absolute_error: 17.0714\n",
      "Epoch 61/100\n",
      "43/43 [==============================] - 0s 7ms/step - loss: 4.8684 - mean_absolute_error: 4.8002 - val_loss: 17.1903 - val_mean_absolute_error: 17.0596\n",
      "Epoch 62/100\n",
      "43/43 [==============================] - 0s 7ms/step - loss: 4.5314 - mean_absolute_error: 4.5722 - val_loss: 17.7727 - val_mean_absolute_error: 17.6548\n",
      "Epoch 63/100\n",
      "43/43 [==============================] - 0s 7ms/step - loss: 4.6923 - mean_absolute_error: 4.7005 - val_loss: 16.6826 - val_mean_absolute_error: 16.5613\n",
      "Epoch 64/100\n",
      "43/43 [==============================] - 0s 7ms/step - loss: 4.7358 - mean_absolute_error: 4.7204 - val_loss: 16.4236 - val_mean_absolute_error: 16.3026\n",
      "Epoch 65/100\n",
      "43/43 [==============================] - 0s 7ms/step - loss: 4.8520 - mean_absolute_error: 4.8563 - val_loss: 17.0995 - val_mean_absolute_error: 16.9605\n",
      "Epoch 66/100\n",
      "43/43 [==============================] - 0s 7ms/step - loss: 4.9088 - mean_absolute_error: 5.0344 - val_loss: 16.6584 - val_mean_absolute_error: 16.5129\n",
      "Epoch 67/100\n",
      "43/43 [==============================] - 0s 7ms/step - loss: 4.9205 - mean_absolute_error: 4.8940 - val_loss: 17.1359 - val_mean_absolute_error: 17.0184\n",
      "Epoch 68/100\n",
      "43/43 [==============================] - 0s 7ms/step - loss: 4.4133 - mean_absolute_error: 4.4494 - val_loss: 16.5696 - val_mean_absolute_error: 16.4331\n",
      "Epoch 69/100\n",
      "43/43 [==============================] - 0s 7ms/step - loss: 4.4022 - mean_absolute_error: 4.3699 - val_loss: 16.6952 - val_mean_absolute_error: 16.5325\n",
      "Epoch 70/100\n",
      "43/43 [==============================] - 0s 7ms/step - loss: 4.2490 - mean_absolute_error: 4.2463 - val_loss: 17.0106 - val_mean_absolute_error: 16.8722\n",
      "Epoch 71/100\n",
      "43/43 [==============================] - 0s 7ms/step - loss: 4.0876 - mean_absolute_error: 4.1255 - val_loss: 17.2322 - val_mean_absolute_error: 17.1329\n",
      "Epoch 72/100\n",
      "43/43 [==============================] - 0s 7ms/step - loss: 4.3149 - mean_absolute_error: 4.3095 - val_loss: 17.2077 - val_mean_absolute_error: 17.0729\n",
      "Epoch 73/100\n",
      "43/43 [==============================] - 0s 7ms/step - loss: 4.3483 - mean_absolute_error: 4.3030 - val_loss: 16.6649 - val_mean_absolute_error: 16.5124\n",
      "Epoch 74/100\n",
      "43/43 [==============================] - 0s 7ms/step - loss: 3.8840 - mean_absolute_error: 3.8741 - val_loss: 17.4111 - val_mean_absolute_error: 17.3109\n",
      "Epoch 75/100\n",
      "43/43 [==============================] - 0s 7ms/step - loss: 4.6464 - mean_absolute_error: 4.6176 - val_loss: 17.1673 - val_mean_absolute_error: 17.0485\n",
      "Epoch 76/100\n",
      "43/43 [==============================] - 0s 7ms/step - loss: 4.1889 - mean_absolute_error: 4.1912 - val_loss: 16.6901 - val_mean_absolute_error: 16.5318\n",
      "Epoch 77/100\n",
      "43/43 [==============================] - 0s 7ms/step - loss: 4.7707 - mean_absolute_error: 4.8456 - val_loss: 17.2239 - val_mean_absolute_error: 17.0620\n",
      "Epoch 78/100\n",
      "43/43 [==============================] - 0s 7ms/step - loss: 5.6363 - mean_absolute_error: 5.5668 - val_loss: 17.9821 - val_mean_absolute_error: 17.8649\n",
      "Epoch 79/100\n",
      "43/43 [==============================] - 0s 7ms/step - loss: 5.4441 - mean_absolute_error: 5.4184 - val_loss: 17.4393 - val_mean_absolute_error: 17.3237\n",
      "Epoch 80/100\n",
      "43/43 [==============================] - 0s 7ms/step - loss: 4.7762 - mean_absolute_error: 4.7758 - val_loss: 17.0805 - val_mean_absolute_error: 16.9113\n",
      "Epoch 81/100\n",
      "43/43 [==============================] - 0s 7ms/step - loss: 4.3674 - mean_absolute_error: 4.3622 - val_loss: 17.7049 - val_mean_absolute_error: 17.5788\n",
      "Epoch 82/100\n",
      "43/43 [==============================] - 0s 7ms/step - loss: 4.7567 - mean_absolute_error: 4.8860 - val_loss: 16.9440 - val_mean_absolute_error: 16.7683\n",
      "Epoch 83/100\n",
      "43/43 [==============================] - 0s 7ms/step - loss: 4.6414 - mean_absolute_error: 4.9002 - val_loss: 17.2016 - val_mean_absolute_error: 17.0459\n",
      "Epoch 84/100\n",
      "43/43 [==============================] - 0s 7ms/step - loss: 5.6742 - mean_absolute_error: 5.6230 - val_loss: 17.5760 - val_mean_absolute_error: 17.4579\n",
      "Epoch 85/100\n",
      "43/43 [==============================] - 0s 7ms/step - loss: 4.6211 - mean_absolute_error: 4.5662 - val_loss: 17.0785 - val_mean_absolute_error: 16.9387\n",
      "Epoch 86/100\n",
      "43/43 [==============================] - 0s 7ms/step - loss: 4.0542 - mean_absolute_error: 4.0660 - val_loss: 16.7637 - val_mean_absolute_error: 16.6485\n",
      "Epoch 87/100\n",
      "43/43 [==============================] - 0s 7ms/step - loss: 3.8543 - mean_absolute_error: 3.8284 - val_loss: 16.6674 - val_mean_absolute_error: 16.5194\n",
      "Epoch 88/100\n",
      "43/43 [==============================] - 0s 7ms/step - loss: 3.9446 - mean_absolute_error: 3.9414 - val_loss: 18.2527 - val_mean_absolute_error: 18.1318\n",
      "Epoch 89/100\n",
      "43/43 [==============================] - 0s 7ms/step - loss: 4.4244 - mean_absolute_error: 4.3940 - val_loss: 16.9332 - val_mean_absolute_error: 16.7505\n",
      "Epoch 90/100\n",
      "43/43 [==============================] - 0s 7ms/step - loss: 4.5632 - mean_absolute_error: 4.8403 - val_loss: 16.6153 - val_mean_absolute_error: 16.4198\n",
      "Epoch 91/100\n",
      "43/43 [==============================] - 0s 7ms/step - loss: 4.3859 - mean_absolute_error: 4.3635 - val_loss: 16.8823 - val_mean_absolute_error: 16.7472\n",
      "Epoch 92/100\n",
      "43/43 [==============================] - 0s 7ms/step - loss: 4.1995 - mean_absolute_error: 4.1779 - val_loss: 16.8953 - val_mean_absolute_error: 16.7372\n",
      "Epoch 93/100\n",
      "43/43 [==============================] - 0s 7ms/step - loss: 4.6343 - mean_absolute_error: 4.6153 - val_loss: 17.3154 - val_mean_absolute_error: 17.1835\n",
      "Epoch 94/100\n",
      "43/43 [==============================] - 0s 7ms/step - loss: 4.2386 - mean_absolute_error: 4.2151 - val_loss: 17.1791 - val_mean_absolute_error: 17.0241\n",
      "Epoch 95/100\n",
      "43/43 [==============================] - 0s 7ms/step - loss: 3.7315 - mean_absolute_error: 3.7132 - val_loss: 17.2105 - val_mean_absolute_error: 17.0544\n",
      "Epoch 96/100\n",
      "43/43 [==============================] - 0s 7ms/step - loss: 3.8120 - mean_absolute_error: 3.7619 - val_loss: 17.3436 - val_mean_absolute_error: 17.2329\n",
      "Epoch 97/100\n",
      "43/43 [==============================] - 0s 7ms/step - loss: 4.7026 - mean_absolute_error: 4.6368 - val_loss: 17.5859 - val_mean_absolute_error: 17.4489\n",
      "Epoch 98/100\n",
      "43/43 [==============================] - 0s 7ms/step - loss: 3.9347 - mean_absolute_error: 3.9745 - val_loss: 16.7179 - val_mean_absolute_error: 16.5881\n",
      "Epoch 99/100\n",
      "43/43 [==============================] - 0s 7ms/step - loss: 4.1699 - mean_absolute_error: 4.1976 - val_loss: 17.1882 - val_mean_absolute_error: 17.0563\n",
      "Epoch 100/100\n"
     ]
    },
    {
     "name": "stdout",
     "output_type": "stream",
     "text": [
      "43/43 [==============================] - 0s 7ms/step - loss: 4.3423 - mean_absolute_error: 4.3553 - val_loss: 17.1371 - val_mean_absolute_error: 17.0091\n"
     ]
    }
   ],
   "source": [
    "learning_rate = 0.01\n",
    "\n",
    "model3 = Sequential([\n",
    "    Dense(160, kernel_initializer='normal', activation='relu'),\n",
    "    Dense(160, kernel_initializer='normal', activation='relu'),\n",
    "    Dropout(0.2),\n",
    "    Dense(480, kernel_initializer='normal', activation='relu'),\n",
    "    Dense(480, kernel_initializer='normal', activation='relu'),\n",
    "    Dropout(0.2),\n",
    "    Dense(256, kernel_initializer='normal', activation='relu'),\n",
    "    Dense(1, kernel_initializer='normal', activation='linear')\n",
    "  ])\n",
    "\n",
    "model3.compile(loss=mae_k, optimizer=Adam(learning_rate=learning_rate), metrics=[mae_k])\n",
    "model_3 = model3.fit(X_train_ct, y_train, epochs=100, batch_size=64, validation_split=0.2)"
   ]
  },
  {
   "cell_type": "code",
   "execution_count": 34,
   "id": "413aaf54",
   "metadata": {},
   "outputs": [
    {
     "name": "stdout",
     "output_type": "stream",
     "text": [
      " 93/106 [=========================>....] - ETA: 0s"
     ]
    },
    {
     "name": "stderr",
     "output_type": "stream",
     "text": [
      "2023-04-19 12:47:54.657233: I tensorflow/core/grappler/optimizers/custom_graph_optimizer_registry.cc:113] Plugin optimizer for device_type GPU is enabled.\n"
     ]
    },
    {
     "name": "stdout",
     "output_type": "stream",
     "text": [
      "106/106 [==============================] - 0s 2ms/step\n",
      "46/46 [==============================] - 0s 2ms/step\n",
      "number of features: 198\n",
      "rmse: (train) 19.790, (test) 30.120\n",
      "mae: (train) 8.763, (test) 15.393\n",
      "explained variance: (train cv) 0.872, (test) 0.656\n"
     ]
    }
   ],
   "source": [
    "y_train_pred = model3.predict(X_train_ct)\n",
    "y_test_pred = model3.predict(X_test_ct)\n",
    "\n",
    "rmse_train = np.sqrt(mean_squared_error(y_train, y_train_pred))\n",
    "rmse_test = np.sqrt(mean_squared_error(y_test, y_test_pred))\n",
    "\n",
    "mae_train = mean_absolute_error(y_train, y_train_pred)\n",
    "mae_test = mean_absolute_error(y_test, y_test_pred)\n",
    "\n",
    "ev_train = explained_variance_score(y_train, y_train_pred)\n",
    "ev_test = explained_variance_score(y_test, y_test_pred)\n",
    "\n",
    "print(\"number of features:\",len(X_train.columns))\n",
    "print(\"rmse: (train) %.3f, (test) %.3f\"%(rmse_train, rmse_test))\n",
    "print(\"mae: (train) %.3f, (test) %.3f\"%(mae_train, mae_test))\n",
    "print(\"explained variance: (train cv) %.3f, (test) %.3f\"%(ev_train, ev_test))"
   ]
  },
  {
   "cell_type": "markdown",
   "id": "5a9f8dbc",
   "metadata": {},
   "source": [
    "## Model 5 - Neural Network, 10 Hidden Layers¶"
   ]
  },
  {
   "cell_type": "code",
   "execution_count": 35,
   "id": "aae2f5f6",
   "metadata": {},
   "outputs": [
    {
     "name": "stdout",
     "output_type": "stream",
     "text": [
      "Epoch 1/100\n",
      " 1/43 [..............................] - ETA: 17s - loss: 39.5090 - mean_absolute_error: 39.5090"
     ]
    },
    {
     "name": "stderr",
     "output_type": "stream",
     "text": [
      "2023-04-19 12:47:55.247785: I tensorflow/core/grappler/optimizers/custom_graph_optimizer_registry.cc:113] Plugin optimizer for device_type GPU is enabled.\n"
     ]
    },
    {
     "name": "stdout",
     "output_type": "stream",
     "text": [
      "43/43 [==============================] - 1s 17ms/step - loss: 52.9833 - mean_absolute_error: 52.3081 - val_loss: 23.3685 - val_mean_absolute_error: 23.2132\n",
      "Epoch 2/100\n",
      " 7/43 [===>..........................] - ETA: 0s - loss: 18.8268 - mean_absolute_error: 18.8268"
     ]
    },
    {
     "name": "stderr",
     "output_type": "stream",
     "text": [
      "2023-04-19 12:47:56.018939: I tensorflow/core/grappler/optimizers/custom_graph_optimizer_registry.cc:113] Plugin optimizer for device_type GPU is enabled.\n"
     ]
    },
    {
     "name": "stdout",
     "output_type": "stream",
     "text": [
      "43/43 [==============================] - 0s 12ms/step - loss: 20.3074 - mean_absolute_error: 20.8696 - val_loss: 20.6772 - val_mean_absolute_error: 20.5373\n",
      "Epoch 3/100\n",
      "43/43 [==============================] - 0s 10ms/step - loss: 18.8537 - mean_absolute_error: 18.6820 - val_loss: 20.0413 - val_mean_absolute_error: 19.8919\n",
      "Epoch 4/100\n",
      "43/43 [==============================] - 0s 10ms/step - loss: 16.7409 - mean_absolute_error: 16.8029 - val_loss: 18.6203 - val_mean_absolute_error: 18.4544\n",
      "Epoch 5/100\n",
      "43/43 [==============================] - 0s 10ms/step - loss: 15.7363 - mean_absolute_error: 15.6140 - val_loss: 19.7481 - val_mean_absolute_error: 19.5052\n",
      "Epoch 6/100\n",
      "43/43 [==============================] - 0s 10ms/step - loss: 15.5953 - mean_absolute_error: 15.8212 - val_loss: 18.8851 - val_mean_absolute_error: 18.7066\n",
      "Epoch 7/100\n",
      "43/43 [==============================] - 0s 10ms/step - loss: 14.3977 - mean_absolute_error: 14.2034 - val_loss: 18.0140 - val_mean_absolute_error: 17.8356\n",
      "Epoch 8/100\n",
      "43/43 [==============================] - 0s 10ms/step - loss: 15.4927 - mean_absolute_error: 15.3355 - val_loss: 23.3354 - val_mean_absolute_error: 23.1577\n",
      "Epoch 9/100\n",
      "43/43 [==============================] - 0s 10ms/step - loss: 14.7236 - mean_absolute_error: 14.7163 - val_loss: 27.3309 - val_mean_absolute_error: 26.8721\n",
      "Epoch 10/100\n",
      "43/43 [==============================] - 0s 10ms/step - loss: 15.9380 - mean_absolute_error: 15.8713 - val_loss: 17.7508 - val_mean_absolute_error: 17.5689\n",
      "Epoch 11/100\n",
      "43/43 [==============================] - 0s 10ms/step - loss: 15.8530 - mean_absolute_error: 15.7006 - val_loss: 18.3352 - val_mean_absolute_error: 18.1407\n",
      "Epoch 12/100\n",
      "43/43 [==============================] - 0s 9ms/step - loss: 14.4101 - mean_absolute_error: 14.7692 - val_loss: 19.3951 - val_mean_absolute_error: 19.2523\n",
      "Epoch 13/100\n",
      "43/43 [==============================] - 0s 10ms/step - loss: 14.9036 - mean_absolute_error: 14.9485 - val_loss: 20.7706 - val_mean_absolute_error: 20.4789\n",
      "Epoch 14/100\n",
      "43/43 [==============================] - 0s 10ms/step - loss: 14.5435 - mean_absolute_error: 14.4089 - val_loss: 18.4591 - val_mean_absolute_error: 18.2599\n",
      "Epoch 15/100\n",
      "43/43 [==============================] - 0s 10ms/step - loss: 13.2289 - mean_absolute_error: 13.1142 - val_loss: 17.4128 - val_mean_absolute_error: 17.2001\n",
      "Epoch 16/100\n",
      "43/43 [==============================] - 0s 9ms/step - loss: 12.6284 - mean_absolute_error: 12.5527 - val_loss: 18.1111 - val_mean_absolute_error: 17.9402\n",
      "Epoch 17/100\n",
      "43/43 [==============================] - 0s 10ms/step - loss: 13.0827 - mean_absolute_error: 12.9802 - val_loss: 18.7841 - val_mean_absolute_error: 18.5185\n",
      "Epoch 18/100\n",
      "43/43 [==============================] - 0s 10ms/step - loss: 12.4302 - mean_absolute_error: 12.2829 - val_loss: 16.8273 - val_mean_absolute_error: 16.6709\n",
      "Epoch 19/100\n",
      "43/43 [==============================] - 0s 10ms/step - loss: 11.7770 - mean_absolute_error: 12.0876 - val_loss: 20.0864 - val_mean_absolute_error: 19.8954\n",
      "Epoch 20/100\n",
      "43/43 [==============================] - 0s 10ms/step - loss: 13.2174 - mean_absolute_error: 13.1285 - val_loss: 16.8503 - val_mean_absolute_error: 16.7195\n",
      "Epoch 21/100\n",
      "43/43 [==============================] - 0s 10ms/step - loss: 12.0354 - mean_absolute_error: 12.1690 - val_loss: 17.1973 - val_mean_absolute_error: 17.0239\n",
      "Epoch 22/100\n",
      "43/43 [==============================] - 0s 10ms/step - loss: 12.0176 - mean_absolute_error: 11.9340 - val_loss: 17.9341 - val_mean_absolute_error: 17.7052\n",
      "Epoch 23/100\n",
      "43/43 [==============================] - 0s 10ms/step - loss: 12.1445 - mean_absolute_error: 12.3342 - val_loss: 16.9753 - val_mean_absolute_error: 16.7338\n",
      "Epoch 24/100\n",
      "43/43 [==============================] - 0s 9ms/step - loss: 11.9815 - mean_absolute_error: 12.0022 - val_loss: 17.1911 - val_mean_absolute_error: 16.9739\n",
      "Epoch 25/100\n",
      "43/43 [==============================] - 0s 9ms/step - loss: 12.0065 - mean_absolute_error: 12.0676 - val_loss: 19.0153 - val_mean_absolute_error: 18.8086\n",
      "Epoch 26/100\n",
      "43/43 [==============================] - 0s 10ms/step - loss: 12.4799 - mean_absolute_error: 12.3699 - val_loss: 16.4811 - val_mean_absolute_error: 16.3468\n",
      "Epoch 27/100\n",
      "43/43 [==============================] - 0s 10ms/step - loss: 11.4622 - mean_absolute_error: 11.4761 - val_loss: 16.2078 - val_mean_absolute_error: 16.0205\n",
      "Epoch 28/100\n",
      "43/43 [==============================] - 0s 10ms/step - loss: 10.4669 - mean_absolute_error: 10.4231 - val_loss: 17.0486 - val_mean_absolute_error: 16.8768\n",
      "Epoch 29/100\n",
      "43/43 [==============================] - 0s 10ms/step - loss: 10.1711 - mean_absolute_error: 10.1033 - val_loss: 17.2217 - val_mean_absolute_error: 17.0745\n",
      "Epoch 30/100\n",
      "43/43 [==============================] - 0s 10ms/step - loss: 11.0250 - mean_absolute_error: 10.9782 - val_loss: 16.9720 - val_mean_absolute_error: 16.8444\n",
      "Epoch 31/100\n",
      "43/43 [==============================] - 0s 10ms/step - loss: 10.2384 - mean_absolute_error: 10.2448 - val_loss: 16.8688 - val_mean_absolute_error: 16.6599\n",
      "Epoch 32/100\n",
      "43/43 [==============================] - 0s 10ms/step - loss: 10.1997 - mean_absolute_error: 10.3730 - val_loss: 16.6669 - val_mean_absolute_error: 16.4890\n",
      "Epoch 33/100\n",
      "43/43 [==============================] - 0s 10ms/step - loss: 11.4686 - mean_absolute_error: 11.7530 - val_loss: 19.7532 - val_mean_absolute_error: 19.4866\n",
      "Epoch 34/100\n",
      "43/43 [==============================] - 0s 10ms/step - loss: 10.9316 - mean_absolute_error: 10.8717 - val_loss: 17.1812 - val_mean_absolute_error: 17.0656\n",
      "Epoch 35/100\n",
      "43/43 [==============================] - 0s 9ms/step - loss: 10.8253 - mean_absolute_error: 10.9353 - val_loss: 17.2186 - val_mean_absolute_error: 17.0419\n",
      "Epoch 36/100\n",
      "43/43 [==============================] - 0s 9ms/step - loss: 10.8325 - mean_absolute_error: 10.7982 - val_loss: 17.4477 - val_mean_absolute_error: 17.2822\n",
      "Epoch 37/100\n",
      "43/43 [==============================] - 0s 10ms/step - loss: 10.8704 - mean_absolute_error: 10.7560 - val_loss: 17.2694 - val_mean_absolute_error: 17.0651\n",
      "Epoch 38/100\n",
      "43/43 [==============================] - 0s 9ms/step - loss: 10.1092 - mean_absolute_error: 10.0855 - val_loss: 17.2923 - val_mean_absolute_error: 17.1396\n",
      "Epoch 39/100\n",
      "43/43 [==============================] - 0s 9ms/step - loss: 9.7973 - mean_absolute_error: 9.7094 - val_loss: 16.9313 - val_mean_absolute_error: 16.7465\n",
      "Epoch 40/100\n",
      "43/43 [==============================] - 0s 10ms/step - loss: 9.9580 - mean_absolute_error: 9.8884 - val_loss: 18.4158 - val_mean_absolute_error: 18.1832\n",
      "Epoch 41/100\n",
      "43/43 [==============================] - 0s 10ms/step - loss: 10.7119 - mean_absolute_error: 10.6524 - val_loss: 15.8861 - val_mean_absolute_error: 15.7240\n",
      "Epoch 42/100\n",
      "43/43 [==============================] - 0s 10ms/step - loss: 8.8184 - mean_absolute_error: 9.1987 - val_loss: 17.4527 - val_mean_absolute_error: 17.2422\n",
      "Epoch 43/100\n",
      "43/43 [==============================] - 0s 10ms/step - loss: 9.2494 - mean_absolute_error: 9.1168 - val_loss: 16.4314 - val_mean_absolute_error: 16.2253\n",
      "Epoch 44/100\n",
      "43/43 [==============================] - 0s 10ms/step - loss: 8.9504 - mean_absolute_error: 8.9714 - val_loss: 16.6622 - val_mean_absolute_error: 16.4919\n",
      "Epoch 45/100\n",
      "43/43 [==============================] - 0s 10ms/step - loss: 8.7063 - mean_absolute_error: 8.6610 - val_loss: 19.0047 - val_mean_absolute_error: 18.7987\n",
      "Epoch 46/100\n",
      "43/43 [==============================] - 0s 10ms/step - loss: 11.0634 - mean_absolute_error: 11.0972 - val_loss: 16.6670 - val_mean_absolute_error: 16.5306\n",
      "Epoch 47/100\n",
      "43/43 [==============================] - 0s 10ms/step - loss: 9.1757 - mean_absolute_error: 9.1287 - val_loss: 16.4590 - val_mean_absolute_error: 16.2888\n",
      "Epoch 48/100\n",
      "43/43 [==============================] - 0s 10ms/step - loss: 9.3953 - mean_absolute_error: 9.9153 - val_loss: 20.5190 - val_mean_absolute_error: 20.2716\n",
      "Epoch 49/100\n",
      "43/43 [==============================] - 0s 10ms/step - loss: 19.9756 - mean_absolute_error: 19.8779 - val_loss: 20.4233 - val_mean_absolute_error: 20.1843\n",
      "Epoch 50/100\n",
      "43/43 [==============================] - 0s 10ms/step - loss: 19.4564 - mean_absolute_error: 19.4690 - val_loss: 20.0240 - val_mean_absolute_error: 19.8152\n"
     ]
    },
    {
     "name": "stdout",
     "output_type": "stream",
     "text": [
      "Epoch 51/100\n",
      "43/43 [==============================] - 0s 10ms/step - loss: 15.1143 - mean_absolute_error: 14.9542 - val_loss: 18.8682 - val_mean_absolute_error: 18.5853\n",
      "Epoch 52/100\n",
      "43/43 [==============================] - 0s 10ms/step - loss: 13.7232 - mean_absolute_error: 13.7495 - val_loss: 17.0524 - val_mean_absolute_error: 16.8784\n",
      "Epoch 53/100\n",
      "43/43 [==============================] - 0s 10ms/step - loss: 13.0553 - mean_absolute_error: 13.2042 - val_loss: 16.7458 - val_mean_absolute_error: 16.5647\n",
      "Epoch 54/100\n",
      "43/43 [==============================] - 0s 10ms/step - loss: 12.4277 - mean_absolute_error: 13.3028 - val_loss: 18.4934 - val_mean_absolute_error: 18.1268\n",
      "Epoch 55/100\n",
      "43/43 [==============================] - 0s 10ms/step - loss: 12.7407 - mean_absolute_error: 12.6524 - val_loss: 16.8031 - val_mean_absolute_error: 16.6035\n",
      "Epoch 56/100\n",
      "43/43 [==============================] - 0s 11ms/step - loss: 12.6250 - mean_absolute_error: 12.6546 - val_loss: 16.3351 - val_mean_absolute_error: 16.1421\n",
      "Epoch 57/100\n",
      "43/43 [==============================] - 0s 11ms/step - loss: 11.0240 - mean_absolute_error: 11.0894 - val_loss: 16.6152 - val_mean_absolute_error: 16.3729\n",
      "Epoch 58/100\n",
      "43/43 [==============================] - 0s 10ms/step - loss: 11.3508 - mean_absolute_error: 11.2230 - val_loss: 16.9202 - val_mean_absolute_error: 16.6947\n",
      "Epoch 59/100\n",
      "43/43 [==============================] - 0s 10ms/step - loss: 11.0763 - mean_absolute_error: 11.3661 - val_loss: 18.9303 - val_mean_absolute_error: 18.6502\n",
      "Epoch 60/100\n",
      "43/43 [==============================] - 0s 11ms/step - loss: 10.7812 - mean_absolute_error: 10.8210 - val_loss: 18.4854 - val_mean_absolute_error: 18.2092\n",
      "Epoch 61/100\n",
      "43/43 [==============================] - 0s 10ms/step - loss: 11.5564 - mean_absolute_error: 11.6423 - val_loss: 17.9414 - val_mean_absolute_error: 17.7537\n",
      "Epoch 62/100\n",
      "43/43 [==============================] - 0s 10ms/step - loss: 11.0029 - mean_absolute_error: 11.0866 - val_loss: 19.0812 - val_mean_absolute_error: 18.7271\n",
      "Epoch 63/100\n",
      "43/43 [==============================] - 0s 10ms/step - loss: 11.8546 - mean_absolute_error: 11.8817 - val_loss: 18.2045 - val_mean_absolute_error: 17.9755\n",
      "Epoch 64/100\n",
      "43/43 [==============================] - 0s 10ms/step - loss: 12.2279 - mean_absolute_error: 12.1585 - val_loss: 17.5160 - val_mean_absolute_error: 17.3455\n",
      "Epoch 65/100\n",
      "43/43 [==============================] - 0s 10ms/step - loss: 12.4113 - mean_absolute_error: 12.3005 - val_loss: 18.8684 - val_mean_absolute_error: 18.6024\n",
      "Epoch 66/100\n",
      "43/43 [==============================] - 0s 10ms/step - loss: 13.0632 - mean_absolute_error: 13.0470 - val_loss: 18.2299 - val_mean_absolute_error: 17.9925\n",
      "Epoch 67/100\n",
      "43/43 [==============================] - 0s 10ms/step - loss: 12.9700 - mean_absolute_error: 12.8578 - val_loss: 18.8042 - val_mean_absolute_error: 18.4951\n",
      "Epoch 68/100\n",
      "43/43 [==============================] - 0s 10ms/step - loss: 11.3881 - mean_absolute_error: 11.5939 - val_loss: 17.6434 - val_mean_absolute_error: 17.4029\n",
      "Epoch 69/100\n",
      "43/43 [==============================] - 0s 9ms/step - loss: 11.6634 - mean_absolute_error: 11.7143 - val_loss: 18.9663 - val_mean_absolute_error: 18.7056\n",
      "Epoch 70/100\n",
      "43/43 [==============================] - 0s 10ms/step - loss: 11.2635 - mean_absolute_error: 11.2439 - val_loss: 17.5884 - val_mean_absolute_error: 17.4200\n",
      "Epoch 71/100\n",
      "43/43 [==============================] - 0s 10ms/step - loss: 10.8159 - mean_absolute_error: 10.8469 - val_loss: 17.5382 - val_mean_absolute_error: 17.3945\n",
      "Epoch 72/100\n",
      "43/43 [==============================] - 0s 10ms/step - loss: 10.1749 - mean_absolute_error: 10.1438 - val_loss: 17.3811 - val_mean_absolute_error: 17.1848\n",
      "Epoch 73/100\n",
      "43/43 [==============================] - 0s 10ms/step - loss: 10.5491 - mean_absolute_error: 10.5152 - val_loss: 17.8607 - val_mean_absolute_error: 17.6801\n",
      "Epoch 74/100\n",
      "43/43 [==============================] - 0s 10ms/step - loss: 9.8898 - mean_absolute_error: 9.8892 - val_loss: 17.6499 - val_mean_absolute_error: 17.5040\n",
      "Epoch 75/100\n",
      "43/43 [==============================] - 0s 10ms/step - loss: 11.8386 - mean_absolute_error: 11.7179 - val_loss: 16.8694 - val_mean_absolute_error: 16.6898\n",
      "Epoch 76/100\n",
      "43/43 [==============================] - 0s 10ms/step - loss: 11.0606 - mean_absolute_error: 10.9519 - val_loss: 21.3637 - val_mean_absolute_error: 21.2536\n",
      "Epoch 77/100\n",
      "43/43 [==============================] - 0s 10ms/step - loss: 10.9057 - mean_absolute_error: 10.8417 - val_loss: 19.8905 - val_mean_absolute_error: 19.7461\n",
      "Epoch 78/100\n",
      "43/43 [==============================] - 0s 10ms/step - loss: 9.6071 - mean_absolute_error: 9.6019 - val_loss: 19.5173 - val_mean_absolute_error: 19.3048\n",
      "Epoch 79/100\n",
      "43/43 [==============================] - 0s 10ms/step - loss: 9.3156 - mean_absolute_error: 9.2118 - val_loss: 19.2005 - val_mean_absolute_error: 19.0926\n",
      "Epoch 80/100\n",
      "43/43 [==============================] - 0s 10ms/step - loss: 10.8744 - mean_absolute_error: 10.7888 - val_loss: 19.6356 - val_mean_absolute_error: 19.3730\n",
      "Epoch 81/100\n",
      "43/43 [==============================] - 0s 10ms/step - loss: 10.7923 - mean_absolute_error: 10.7854 - val_loss: 19.5956 - val_mean_absolute_error: 19.3968\n",
      "Epoch 82/100\n",
      "43/43 [==============================] - 0s 9ms/step - loss: 10.3923 - mean_absolute_error: 10.2925 - val_loss: 19.9666 - val_mean_absolute_error: 19.6609\n",
      "Epoch 83/100\n",
      "43/43 [==============================] - 0s 9ms/step - loss: 12.3586 - mean_absolute_error: 12.3543 - val_loss: 19.8769 - val_mean_absolute_error: 19.6424\n",
      "Epoch 84/100\n",
      "43/43 [==============================] - 0s 9ms/step - loss: 10.9453 - mean_absolute_error: 10.9165 - val_loss: 20.4890 - val_mean_absolute_error: 20.2055\n",
      "Epoch 85/100\n",
      "43/43 [==============================] - 0s 10ms/step - loss: 10.1283 - mean_absolute_error: 10.2938 - val_loss: 21.8528 - val_mean_absolute_error: 21.5565\n",
      "Epoch 86/100\n",
      "43/43 [==============================] - 0s 10ms/step - loss: 9.8973 - mean_absolute_error: 10.2931 - val_loss: 18.9746 - val_mean_absolute_error: 18.7557\n",
      "Epoch 87/100\n",
      "43/43 [==============================] - 0s 10ms/step - loss: 9.2782 - mean_absolute_error: 9.3303 - val_loss: 20.6902 - val_mean_absolute_error: 20.4782\n",
      "Epoch 88/100\n",
      "43/43 [==============================] - 0s 10ms/step - loss: 9.0373 - mean_absolute_error: 8.9610 - val_loss: 19.6412 - val_mean_absolute_error: 19.4764\n",
      "Epoch 89/100\n",
      "43/43 [==============================] - 0s 10ms/step - loss: 8.7480 - mean_absolute_error: 8.6371 - val_loss: 19.6788 - val_mean_absolute_error: 19.4328\n",
      "Epoch 90/100\n",
      "43/43 [==============================] - 0s 10ms/step - loss: 8.6150 - mean_absolute_error: 8.6077 - val_loss: 19.0081 - val_mean_absolute_error: 18.7590\n",
      "Epoch 91/100\n",
      "43/43 [==============================] - 0s 10ms/step - loss: 9.5372 - mean_absolute_error: 9.4267 - val_loss: 19.8516 - val_mean_absolute_error: 19.6309\n",
      "Epoch 92/100\n",
      "43/43 [==============================] - 0s 10ms/step - loss: 9.7766 - mean_absolute_error: 9.7367 - val_loss: 21.2035 - val_mean_absolute_error: 20.9366\n",
      "Epoch 93/100\n",
      "43/43 [==============================] - 0s 10ms/step - loss: 12.2764 - mean_absolute_error: 12.5155 - val_loss: 23.4443 - val_mean_absolute_error: 23.0811\n",
      "Epoch 94/100\n",
      "43/43 [==============================] - 0s 10ms/step - loss: 11.9806 - mean_absolute_error: 11.9063 - val_loss: 19.5668 - val_mean_absolute_error: 19.3200\n",
      "Epoch 95/100\n",
      "43/43 [==============================] - 0s 10ms/step - loss: 10.7003 - mean_absolute_error: 10.6103 - val_loss: 20.1011 - val_mean_absolute_error: 19.8140\n",
      "Epoch 96/100\n",
      "43/43 [==============================] - 0s 10ms/step - loss: 9.9990 - mean_absolute_error: 9.9464 - val_loss: 19.4277 - val_mean_absolute_error: 19.1805\n",
      "Epoch 97/100\n",
      "43/43 [==============================] - 0s 10ms/step - loss: 10.3333 - mean_absolute_error: 10.2101 - val_loss: 20.0976 - val_mean_absolute_error: 19.8367\n",
      "Epoch 98/100\n",
      "43/43 [==============================] - 0s 10ms/step - loss: 9.0889 - mean_absolute_error: 9.0913 - val_loss: 20.0160 - val_mean_absolute_error: 19.7534\n",
      "Epoch 99/100\n"
     ]
    },
    {
     "name": "stdout",
     "output_type": "stream",
     "text": [
      "43/43 [==============================] - 0s 10ms/step - loss: 10.7793 - mean_absolute_error: 10.7607 - val_loss: 22.4742 - val_mean_absolute_error: 22.2027\n",
      "Epoch 100/100\n",
      "43/43 [==============================] - 0s 10ms/step - loss: 9.8849 - mean_absolute_error: 9.9216 - val_loss: 20.1713 - val_mean_absolute_error: 19.8053\n"
     ]
    }
   ],
   "source": [
    "learning_rate = 0.01\n",
    "\n",
    "model4 = Sequential([\n",
    "    Dense(160, kernel_initializer='normal', activation='relu'),\n",
    "    Dense(160, kernel_initializer='normal', activation='relu'),\n",
    "    Dropout(0.2),\n",
    "    Dense(480, kernel_initializer='normal', activation='relu'),\n",
    "    Dense(480, kernel_initializer='normal', activation='relu'),\n",
    "    Dropout(0.2),\n",
    "    Dense(520, kernel_initializer='normal', activation='relu'),\n",
    "    Dense(520, kernel_initializer='normal', activation='relu'),\n",
    "    Dense(760, kernel_initializer='normal', activation='relu'),\n",
    "    Dense(760, kernel_initializer='normal', activation='relu'),\n",
    "    Dense(760, kernel_initializer='normal', activation='relu'),\n",
    "    Dense(256, kernel_initializer='normal', activation='relu'),\n",
    "    Dense(256, kernel_initializer='normal', activation='relu'),\n",
    "    Dense(1, kernel_initializer='normal', activation='linear')\n",
    "  ])\n",
    "\n",
    "model4.compile(loss=mae_k, optimizer=Adam(learning_rate=learning_rate), metrics=[mae_k])\n",
    "\n",
    "model_4 = model4.fit(X_train_ct, y_train, epochs=100, batch_size=64, validation_split=0.2)"
   ]
  },
  {
   "cell_type": "code",
   "execution_count": 36,
   "id": "77362740",
   "metadata": {},
   "outputs": [
    {
     "name": "stdout",
     "output_type": "stream",
     "text": [
      " 76/106 [====================>.........] - ETA: 0s"
     ]
    },
    {
     "name": "stderr",
     "output_type": "stream",
     "text": [
      "2023-04-19 12:48:37.571176: I tensorflow/core/grappler/optimizers/custom_graph_optimizer_registry.cc:113] Plugin optimizer for device_type GPU is enabled.\n"
     ]
    },
    {
     "name": "stdout",
     "output_type": "stream",
     "text": [
      "106/106 [==============================] - 0s 2ms/step\n",
      "46/46 [==============================] - 0s 4ms/step\n",
      "number of features: 198\n",
      "rmse: (train) 25.549, (test) 31.333\n",
      "mae: (train) 12.157, (test) 16.909\n",
      "explained variance: (train cv) 0.763, (test) 0.592\n"
     ]
    }
   ],
   "source": [
    "y_train_pred = model4.predict(X_train_ct)\n",
    "y_test_pred = model4.predict(X_test_ct)\n",
    "\n",
    "rmse_train = np.sqrt(mean_squared_error(y_train, y_train_pred))\n",
    "rmse_test = np.sqrt(mean_squared_error(y_test, y_test_pred))\n",
    "\n",
    "mae_train = mean_absolute_error(y_train, y_train_pred)\n",
    "mae_test = mean_absolute_error(y_test, y_test_pred)\n",
    "\n",
    "ev_train = explained_variance_score(y_train, y_train_pred)\n",
    "ev_test = explained_variance_score(y_test, y_test_pred)\n",
    "\n",
    "print(\"number of features:\",len(X_train.columns))\n",
    "print(\"rmse: (train) %.3f, (test) %.3f\"%(rmse_train, rmse_test))\n",
    "print(\"mae: (train) %.3f, (test) %.3f\"%(mae_train, mae_test))\n",
    "print(\"explained variance: (train cv) %.3f, (test) %.3f\"%(ev_train, ev_test))"
   ]
  },
  {
   "cell_type": "markdown",
   "id": "36089882",
   "metadata": {},
   "source": [
    "## Feature Engineering"
   ]
  },
  {
   "cell_type": "code",
   "execution_count": 66,
   "id": "872bd86a",
   "metadata": {},
   "outputs": [
    {
     "data": {
      "image/png": "[encoded data removed]",
      "text/plain": [
       "<Figure size 500x1200 with 1 Axes>"
      ]
     },
     "metadata": {},
     "output_type": "display_data"
    }
   ],
   "source": [
    "# remember model\n",
    "X_train_ct = preprocessor.fit_transform(X_train, y_train)\n",
    "boost = XGBRegressor()\n",
    "boost.fit(X_train_ct, y_train)\n",
    "pred_train_boost = boost.predict(X_train_ct)\n",
    "\n",
    "X_test_ct = preprocessor.transform(X_test)\n",
    "pred_test_boost = boost.predict(X_test_ct)\n",
    "\n",
    "# plot feature importances\n",
    "features_df = pd.DataFrame()\n",
    "features_df[\"feature\"] = X_train.columns\n",
    "features_df[\"importance\"] = boost.feature_importances_\n",
    "features_df = features_df.sort_values(\"importance\", ascending=False)\n",
    "plt.figure(figsize=(5,12))\n",
    "sns.barplot(x = \"importance\", y = \"feature\", data=features_df.iloc[:15])\n",
    "plt.show()"
   ]
  },
  {
   "cell_type": "markdown",
   "id": "4e4f857b",
   "metadata": {},
   "source": [
    "## Over and Under Pricing"
   ]
  },
  {
   "cell_type": "code",
   "execution_count": 67,
   "id": "9a717eed",
   "metadata": {},
   "outputs": [],
   "source": [
    "# create dataframe of prices and predictions\n",
    "df_prices = df_ing.loc[y_test.index.to_list()]\n",
    "df_prices = df_prices[[\"product_names\", \"product_category\", \"brand\", \"ingredient\"]]\n",
    "df_prices[\"real_price\"] = y_test\n",
    "df_prices[\"predicted_price\"] = pred_test_boost\n",
    "df_prices[\"difference\"] = (df_prices[\"real_price\"] - df_prices[\"predicted_price\"]).round(2)"
   ]
  },
  {
   "cell_type": "code",
   "execution_count": 68,
   "id": "2c93c1db",
   "metadata": {},
   "outputs": [
    {
     "data": {
      "text/plain": [
       "La Prairie                     7\n",
       "Dr. Brandt                     6\n",
       "Perricone MD Cosmeceuticals    5\n",
       "Shiseido                       5\n",
       "Clarins                        4\n",
       "Nu Skin                        4\n",
       "Clinique                       3\n",
       "iS Clinical                    3\n",
       "Elizabeth Arden                3\n",
       "Rodan and Fields               3\n",
       "Name: brand, dtype: int64"
      ]
     },
     "execution_count": 68,
     "metadata": {},
     "output_type": "execute_result"
    }
   ],
   "source": [
    "# find most overpriced brands\n",
    "overpriced = df_prices.loc[df_prices[\"difference\"] > 20]\n",
    "overpriced.brand.value_counts().head(10)"
   ]
  },
  {
   "cell_type": "code",
   "execution_count": 69,
   "id": "862a5285",
   "metadata": {},
   "outputs": [
    {
     "data": {
      "text/plain": [
       "Neutrogena                 27\n",
       "Shiseido                   21\n",
       "Mary Kay                   18\n",
       "L'Oreal Paris              17\n",
       "Paula's Choice Skincare    16\n",
       "Lancome                    16\n",
       "Clinique                   16\n",
       "Peter Thomas Roth          15\n",
       "Estee Lauder               15\n",
       "philosophy                 14\n",
       "Name: brand, dtype: int64"
      ]
     },
     "execution_count": 69,
     "metadata": {},
     "output_type": "execute_result"
    }
   ],
   "source": [
    "# find most underpriced brands\n",
    "underpriced = df_prices.loc[df_prices[\"difference\"] < 0]\n",
    "underpriced.brand.value_counts().head(10)"
   ]
  },
  {
   "cell_type": "markdown",
   "id": "06c1064c",
   "metadata": {},
   "source": [
    "# Dupe Machine"
   ]
  },
  {
   "cell_type": "code",
   "execution_count": 70,
   "id": "5c94f797",
   "metadata": {},
   "outputs": [],
   "source": [
    "# remove non-essential columns\n",
    "features = df_ing.copy()\n",
    "features = features.drop(columns = [\"product_names\", \"size\", \"size_num\", \"size_unit\", \"brand\", \"active_ingredient\", \n",
    "                        \"inactive_ingredient\", \"ingredient\"])\n",
    "features = pd.get_dummies(features)\n",
    "\n",
    "# fit KNN model\n",
    "model = NearestNeighbors(n_neighbors=2, algorithm='ball_tree')\n",
    "model.fit(features)\n",
    "dist, idlist = model.kneighbors(features)"
   ]
  },
  {
   "cell_type": "code",
   "execution_count": 79,
   "id": "b4af176b",
   "metadata": {},
   "outputs": [
    {
     "data": {
      "text/plain": [
       "'Naturals Acne Spot Treatment'"
      ]
     },
     "execution_count": 79,
     "metadata": {},
     "output_type": "execute_result"
    }
   ],
   "source": [
    "df_ing.product_names.iloc[3]"
   ]
  },
  {
   "cell_type": "code",
   "execution_count": 83,
   "id": "ecd22412",
   "metadata": {},
   "outputs": [],
   "source": [
    "# define function\n",
    "def SuperDuper(product_name):\n",
    "    product_list = []\n",
    "    product_id = df_ing[df_ing[\"product_names\"] == product_name].index\n",
    "    product_id = product_id[0]\n",
    "    product_price = df_ing[\"price\"].iloc[product_id] \n",
    "    for newid in idlist[product_id]:\n",
    "        name = df_ing.loc[newid].product_names\n",
    "        brand = df_ing.loc[newid].brand\n",
    "        price = df_ing.loc[newid].price\n",
    "        price_diff = product_price - price\n",
    "        if name == product_name:\n",
    "            pass\n",
    "        elif price < product_price:\n",
    "            product_list.append(f\"{name} from {brand}, ${price: .2f}, saving ${price_diff: .2f}\")\n",
    "        \n",
    "    return product_list   "
   ]
  },
  {
   "cell_type": "code",
   "execution_count": 84,
   "id": "a62e47fe",
   "metadata": {},
   "outputs": [
    {
     "data": {
      "text/plain": [
       "['Amino Derm Gel Clear Skin Complex from Aubrey Organics, $ 8.33, saving $ 0.16']"
      ]
     },
     "execution_count": 84,
     "metadata": {},
     "output_type": "execute_result"
    }
   ],
   "source": [
    "SuperDuper(\"Naturals Acne Spot Treatment\")"
   ]
  },
  {
   "cell_type": "code",
   "execution_count": 73,
   "id": "8d1f1c12",
   "metadata": {},
   "outputs": [],
   "source": [
    "# creating dataframes and pickles for SuperDuper streamlit app\n",
    "products_data = df_ing[[\"brand\", \"product_names\", \"price\"]]\n",
    "products_data.to_csv(r\"data/products_data.csv\")\n",
    "products_data.to_pickle(\"./products_data.pkl\") \n",
    "features.to_pickle(\"./features.pkl\")"
   ]
  },
  {
   "cell_type": "code",
   "execution_count": null,
   "id": "965e3e89",
   "metadata": {},
   "outputs": [],
   "source": []
  }
 ],
 "metadata": {
  "kernelspec": {
   "display_name": "middle-earth",
   "language": "python",
   "name": "middle-earth"
  },
  "language_info": {
   "codemirror_mode": {
    "name": "ipython",
    "version": 3
   },
   "file_extension": ".py",
   "mimetype": "text/x-python",
   "name": "python",
   "nbconvert_exporter": "python",
   "pygments_lexer": "ipython3",
   "version": "3.8.16"
  }
 },
 "nbformat": 4,
 "nbformat_minor": 5
}
