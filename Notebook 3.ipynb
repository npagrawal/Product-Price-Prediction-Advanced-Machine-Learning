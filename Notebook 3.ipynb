{
 "cells": [
  {
   "cell_type": "code",
   "execution_count": 1,
   "id": "a25a4474",
   "metadata": {},
   "outputs": [],
   "source": [
    "import itertools\n",
    "import pandas as pd\n",
    "import numpy as np\n",
    "import seaborn as sns\n",
    "import matplotlib.pyplot as plt\n",
    "import warnings \n",
    "warnings.filterwarnings('ignore')\n",
    "\n",
    "from sklearn.model_selection import train_test_split, KFold\n",
    "from sklearn.metrics import mean_squared_error, mean_absolute_error,explained_variance_score\n",
    "from sklearn.feature_extraction.text import TfidfTransformer\n",
    "from sklearn.decomposition import NMF\n",
    "from sklearn.pipeline import make_pipeline\n",
    "import itertools\n",
    "import gc"
   ]
  },
  {
   "cell_type": "code",
   "execution_count": 2,
   "id": "8010ee10",
   "metadata": {
    "scrolled": true
   },
   "outputs": [
    {
     "data": {
      "text/plain": [
       "(5105, 86)"
      ]
     },
     "execution_count": 2,
     "metadata": {},
     "output_type": "execute_result"
    }
   ],
   "source": [
    "df = pd.read_csv(\"data/skin_care_cleaned.csv\")\n",
    "df.shape"
   ]
  },
  {
   "cell_type": "code",
   "execution_count": 3,
   "id": "0ec4f51f",
   "metadata": {},
   "outputs": [],
   "source": [
    "# clean inactive ingredient list\n",
    "df[\"inactive_ingredient_list\"] = df[\"inactive_ingredient_list\"].str.replace(\"[\",\"\")\n",
    "df[\"inactive_ingredient_list\"] = df[\"inactive_ingredient_list\"].str.replace(\"]\",\"\")\n",
    "df[\"inactive_ingredient_list\"] = df[\"inactive_ingredient_list\"].str.replace(\".\",\"\")\n",
    "df[\"inactive_ingredient_list\"] = df[\"inactive_ingredient_list\"].str.replace(\"'\",\"\")\n",
    "df[\"inactive_ingredient_list\"] = df[\"inactive_ingredient_list\"].str.lower()\n",
    "df[\"inactive_ingredient_list\"] = df[\"inactive_ingredient_list\"].str.split(\", \")\n",
    "\n",
    "\n",
    "# create count lists for extracts, peptides, and oils\n",
    "df[\"count_extract\"] = list(map(lambda x: x.count(\"extract\"), df[\"inactive_ingredient_list\"]))\n",
    "df[\"count_peptide\"] = list(map(lambda x: x.count(\"peptide\"), df[\"inactive_ingredient_list\"]))\n",
    "df[\"count_oil\"] = list(map(lambda x: x.count(\"oil\"), df[\"inactive_ingredient_list\"]))"
   ]
  },
  {
   "cell_type": "code",
   "execution_count": 4,
   "id": "e5d612c3",
   "metadata": {},
   "outputs": [
    {
     "data": {
      "text/plain": [
       "(5105, 12456)"
      ]
     },
     "execution_count": 4,
     "metadata": {},
     "output_type": "execute_result"
    }
   ],
   "source": [
    "# get ingredient counts\n",
    "ingredients_df = pd.get_dummies(pd.DataFrame(df[\"inactive_ingredient_list\"].tolist()).stack()).sum(level=0)\n",
    "ingredients_df.shape"
   ]
  },
  {
   "cell_type": "code",
   "execution_count": 5,
   "id": "edb6ab24",
   "metadata": {},
   "outputs": [],
   "source": [
    "# determine most important ingredients\n",
    "ing_list = []\n",
    "for column in ingredients_df.columns:\n",
    "    if ingredients_df[column].sum() > 100 and ingredients_df[column].sum() < 500:\n",
    "        ing_list.append(column)\n",
    "\n",
    "ing_list = [ele.strip() for ele in ing_list]\n",
    "\n",
    "# get rid of empty string\n",
    "ing_list = ing_list[1:]"
   ]
  },
  {
   "cell_type": "code",
   "execution_count": 6,
   "id": "7357bcc1",
   "metadata": {},
   "outputs": [
    {
     "data": {
      "text/plain": [
       "['2-hexanediol',\n",
       " 'acetyl glucosamine',\n",
       " 'acetyl hexapeptide-8',\n",
       " 'acrylates copolymer',\n",
       " 'acrylates/c10-30 alkyl acrylate crosspolymer',\n",
       " 'adenosine',\n",
       " 'alcohol',\n",
       " 'alcohol denat',\n",
       " 'algae extract',\n",
       " 'aloe barbadensis leaf extract',\n",
       " 'aloe barbadensis leaf juice',\n",
       " 'alpha-isomethyl ionone',\n",
       " 'aluminum starch octenylsuccinate',\n",
       " 'aminomethyl propanol',\n",
       " 'ammonium acryloyldimethyltaurate/vp copolymer',\n",
       " 'aqua (water)',\n",
       " 'arginine',\n",
       " 'ascorbic acid',\n",
       " 'ascorbyl glucoside',\n",
       " 'ascorbyl palmitate',\n",
       " 'avena sativa (oat) kernel extract',\n",
       " 'beeswax',\n",
       " 'behenyl alcohol',\n",
       " 'benzoic acid',\n",
       " 'benzyl alcohol',\n",
       " 'benzyl benzoate',\n",
       " 'benzyl salicylate',\n",
       " 'betaine',\n",
       " 'biosaccharide gum-1',\n",
       " 'bisabolol',\n",
       " 'blue 1',\n",
       " 'butylparaben',\n",
       " 'butylphenyl methylpropional',\n",
       " 'butyrospermum parkii (shea butter)',\n",
       " 'butyrospermum parkii (shea) butter',\n",
       " 'c12-15 alkyl benzoate',\n",
       " 'c13-14 isoparaffin',\n",
       " 'caffeine',\n",
       " 'calendula officinalis flower extract',\n",
       " 'camellia sinensis leaf extract',\n",
       " 'ceteareth-20',\n",
       " 'cetearyl glucoside',\n",
       " 'chamomilla recutita (matricaria) flower extract',\n",
       " 'cholesterol',\n",
       " 'citral',\n",
       " 'citronellol',\n",
       " 'cocamidopropyl betaine',\n",
       " 'coco-glucoside',\n",
       " 'cucumis sativus (cucumber) fruit extract',\n",
       " 'cyclohexasiloxane',\n",
       " 'cyclomethicone',\n",
       " 'decyl glucoside',\n",
       " 'dehydroacetic acid',\n",
       " 'diazolidinyl urea',\n",
       " 'dicaprylyl carbonate',\n",
       " 'dimethicone crosspolymer',\n",
       " 'dimethicone/vinyl dimethicone crosspolymer',\n",
       " 'dimethiconol',\n",
       " 'dipotassium glycyrrhizate',\n",
       " 'dipropylene glycol',\n",
       " 'dmdm hydantoin',\n",
       " 'ethoxydiglycol',\n",
       " 'ethylhexyl palmitate',\n",
       " 'eugenol',\n",
       " 'fragrance (parfum)',\n",
       " 'geraniol',\n",
       " 'gluconolactone',\n",
       " 'glyceryl stearate se',\n",
       " 'glycine',\n",
       " 'glycine soja (soybean) oil',\n",
       " 'glycolic acid',\n",
       " 'glycyrrhiza glabra (licorice) root extract',\n",
       " 'helianthus annuus (sunflower) seed oil',\n",
       " 'hexyl cinnamal',\n",
       " 'hexylene glycol',\n",
       " 'hyaluronic acid',\n",
       " 'hydrogenated lecithin',\n",
       " 'hydrogenated polyisobutene',\n",
       " 'hydrolyzed soy protein',\n",
       " 'hydrolyzed wheat protein',\n",
       " 'hydroxyethyl acrylate/sodium acryloyldimethyl taurate copolymer',\n",
       " 'hydroxyethylcellulose',\n",
       " 'imidazolidinyl urea',\n",
       " 'iodopropynyl butylcarbamate',\n",
       " 'iron oxides',\n",
       " 'isobutylparaben',\n",
       " 'isododecane',\n",
       " 'isohexadecane',\n",
       " 'isononyl isononanoate',\n",
       " 'isopropyl palmitate',\n",
       " 'jojoba esters',\n",
       " 'kaolin',\n",
       " 'lactic acid',\n",
       " 'laureth-7',\n",
       " 'lavandula angustifolia (lavender) oil',\n",
       " 'lecithin',\n",
       " 'linoleic acid',\n",
       " 'magnesium aluminum silicate',\n",
       " 'magnesium ascorbyl phosphate',\n",
       " 'maltodextrin',\n",
       " 'mannitol',\n",
       " 'menthol',\n",
       " 'methyl gluceth-20',\n",
       " 'methylisothiazolinone',\n",
       " 'mica',\n",
       " 'mica',\n",
       " 'mineral oil',\n",
       " 'myristyl myristate',\n",
       " 'niacinamide',\n",
       " 'nylon-12',\n",
       " 'octyldodecanol',\n",
       " 'olea europaea (olive) fruit oil',\n",
       " 'palmitic acid',\n",
       " 'palmitoyl oligopeptide',\n",
       " 'palmitoyl tetrapeptide-7',\n",
       " 'panax ginseng root extract',\n",
       " 'parfum (fragrance)',\n",
       " 'parfum/fragrance',\n",
       " 'peg-40 hydrogenated castor oil',\n",
       " 'peg-40 stearate',\n",
       " 'peg-8',\n",
       " 'pentaerythrityl tetraethylhexanoate',\n",
       " 'persea gratissima (avocado) oil',\n",
       " 'petrolatum',\n",
       " 'phenyl trimethicone',\n",
       " 'phospholipids',\n",
       " 'phytosphingosine',\n",
       " 'polyacrylamide',\n",
       " 'polyethylene',\n",
       " 'polymethyl methacrylate',\n",
       " 'polymethylsilsesquioxane',\n",
       " 'polysilicone-11',\n",
       " 'polysorbate 60',\n",
       " 'polysorbate 80',\n",
       " 'potassium cetyl phosphate',\n",
       " 'potassium hydroxide',\n",
       " 'propanediol',\n",
       " 'prunus amygdalus dulcis (sweet almond) oil',\n",
       " 'purified water',\n",
       " 'pyrus malus (apple) fruit extract',\n",
       " 'red 4',\n",
       " 'retinol',\n",
       " 'retinyl palmitate',\n",
       " 'rosmarinus officinalis (rosemary) leaf extract',\n",
       " 'saccharide isomerate',\n",
       " 'salicylic acid',\n",
       " 'sclerotium gum',\n",
       " 'serine',\n",
       " 'simmondsia chinensis (jojoba) seed oil',\n",
       " 'sodium ascorbyl phosphate',\n",
       " 'sodium chloride',\n",
       " 'sodium citrate',\n",
       " 'sodium dehydroacetate',\n",
       " 'sodium lactate',\n",
       " 'sodium laureth sulfate',\n",
       " 'sodium pca',\n",
       " 'sodium polyacrylate',\n",
       " 'sorbic acid',\n",
       " 'sorbitan stearate',\n",
       " 'sorbitol',\n",
       " 'steareth-2',\n",
       " 'steareth-20',\n",
       " 'steareth-21',\n",
       " 'stearyl alcohol',\n",
       " 'sucrose',\n",
       " 'tetrahexyldecyl ascorbate',\n",
       " 'tetrasodium edta',\n",
       " 'titanium dioxide (ci 77891)',\n",
       " 'trehalose',\n",
       " 'triethoxycaprylylsilane',\n",
       " 'trisodium edta',\n",
       " 'tromethamine',\n",
       " 'urea',\n",
       " 'vitis vinifera (grape) seed extract',\n",
       " 'vitis vinifera (grape) seed oil',\n",
       " 'water (aqua)',\n",
       " 'water/aqua/eau',\n",
       " 'xylitol',\n",
       " 'yeast extract',\n",
       " 'yellow 5',\n",
       " 'zinc gluconate']"
      ]
     },
     "execution_count": 6,
     "metadata": {},
     "output_type": "execute_result"
    }
   ],
   "source": [
    "# create dataframe from columns in ing_list\n",
    "ingredients_df = ingredients_df.rename(columns=lambda x: x.strip())\n",
    "clean_ing = ingredients_df[ing_list]\n",
    "\n",
    "# concat dataframes\n",
    "df_ing = pd.concat([df, clean_ing], axis = 1)\n",
    "df_ing.columns[89:].to_list()"
   ]
  },
  {
   "cell_type": "code",
   "execution_count": 7,
   "id": "f6ccf3a0",
   "metadata": {},
   "outputs": [],
   "source": [
    "# sum together duplicate columns\n",
    "col_list = ['butyrospermum parkii (shea butter)', 'butyrospermum parkii (shea) butter',]\n",
    "df_ing[\"butyrospermum parkii (shea butter)\"] = df_ing[col_list].sum(axis=1)\n",
    "df_ing = df_ing.drop(columns = col_list[1])\n",
    "\n",
    "col_list = ['water (aqua)', 'water/aqua/eau',]\n",
    "df_ing[\"water\"] = df_ing[col_list].sum(axis=1)\n",
    "df_ing = df_ing.drop(columns = col_list[:1])"
   ]
  },
  {
   "cell_type": "code",
   "execution_count": 8,
   "id": "320d55f6",
   "metadata": {},
   "outputs": [],
   "source": [
    "num_cols = [\"n_inactive_ingredient\", \"n_active_ingredient\", \"active_mean_rating\", \"inactive_mean_rating\",\n",
    "           \"inactive_mean_rating_w1\", \"inactive_mean_rating_w2\"]\n",
    "num_cols += df_ing.columns[89:].to_list()\n",
    "\n",
    "ord_cols = [\"product_category\", \"brand\", \"size_unit\"]"
   ]
  },
  {
   "cell_type": "code",
   "execution_count": 10,
   "id": "0611809d",
   "metadata": {},
   "outputs": [],
   "source": [
    "y = df_ing[\"price\"]\n",
    "X = df_ing.drop(columns = \"price\")\n",
    "\n",
    "X_train, X_test, y_train, y_test = train_test_split(X, y, test_size = .3, random_state = 42)"
   ]
  },
  {
   "cell_type": "code",
   "execution_count": 12,
   "id": "0f4cc36c",
   "metadata": {},
   "outputs": [
    {
     "data": {
      "text/plain": [
       "Nighttime Moisturizer       1068\n",
       "Cleansers                    935\n",
       "Serum                        530\n",
       "Exfoliants                   502\n",
       "Eye Cream & Treatment        448\n",
       "Daytime Moisturizer          329\n",
       "Sunscreen                    282\n",
       "Face Mask                    258\n",
       "Toner & Face Mist            254\n",
       "Acne & Blemish Treatment     183\n",
       "Lip Balm                     145\n",
       "Retinol                       49\n",
       "Skin Lightener                35\n",
       "Oil Control Products          29\n",
       "Face Oil                      24\n",
       "Vitamin C                     24\n",
       "Lip Scrub                     10\n",
       "Name: product_category, dtype: int64"
      ]
     },
     "execution_count": 12,
     "metadata": {},
     "output_type": "execute_result"
    }
   ],
   "source": [
    "df_ing[\"product_category\"].value_counts()"
   ]
  },
  {
   "cell_type": "code",
   "execution_count": null,
   "id": "ab4d5cc5",
   "metadata": {},
   "outputs": [],
   "source": [
    "product_ranks = {\"Nighttime Moisturizer\": }"
   ]
  },
  {
   "cell_type": "code",
   "execution_count": null,
   "id": "9612cfac",
   "metadata": {},
   "outputs": [],
   "source": [
    "ordinal_transformer = Pipeline(steps = [\n",
    "    ('ordimputer', SimpleImputer(strategy = 'most_frequent')),\n",
    "    ('ordenc', OrdinalEncoder(categories = [membership_order])),\n",
    "    ('ordnorm', StandardScaler())])\n",
    "\n",
    "numeric_transformer = Pipeline(steps=[\n",
    "    (\"imputer\", SimpleImputer(strategy=\"median\")),\n",
    "    (\"scaler\", StandardScaler())])\n",
    "\n",
    "categorical_transformer = Pipeline(steps=[\n",
    "    (\"imputer\", SimpleImputer(strategy=\"most_frequent\")),\n",
    "    (\"encoder\", OneHotEncoder(handle_unknown=\"ignore\"))])\n",
    "\n",
    "preprocessor = ColumnTransformer(\n",
    "    transformers=[\n",
    "        (\"ord\", ordinal_transformer, ord_cols),\n",
    "        (\"num\", numeric_transformer, num_cols),\n",
    "        (\"cat\", categorical_transformer, cat_cols)\n",
    "    ]\n",
    ")"
   ]
  },
  {
   "cell_type": "code",
   "execution_count": null,
   "id": "ee09c958",
   "metadata": {},
   "outputs": [],
   "source": []
  },
  {
   "cell_type": "code",
   "execution_count": null,
   "id": "00933c3e",
   "metadata": {},
   "outputs": [],
   "source": []
  },
  {
   "cell_type": "code",
   "execution_count": 66,
   "id": "1ab098c5",
   "metadata": {},
   "outputs": [],
   "source": [
    "target = 'price'\n",
    "enc_feats = ['product_category', 'brand', 'size_unit']\n",
    "gen_features = ['product_category_encode', 'brand_encode', 'size_num', 'size_unit_encode']\n",
    "\n",
    "ingredient_features = ['n_inactive_ingredient','n_active_ingredient','active_mean_rating', 'inactive_mean_rating', 'inactive_mean_rating_w1','inactive_mean_rating_w2']\n",
    "ingredient_features += [f_ for f_ in df_ing.columns.values if f_.find('count')>=0]\n",
    "ingredient_features += [f_ for f_ in df_ing.columns.values if f_.find('_nmf_')>=0]\n",
    "ingredient_features += df_ing.columns[89:].to_list()"
   ]
  },
  {
   "cell_type": "code",
   "execution_count": 67,
   "id": "728e8e22",
   "metadata": {},
   "outputs": [],
   "source": []
  },
  {
   "cell_type": "code",
   "execution_count": null,
   "id": "3e12ec6e",
   "metadata": {},
   "outputs": [],
   "source": [
    "num_cols = [\"age\", \"days_since_last_login\", \"avg_time_spent\", \"avg_transaction_value\", \"avg_frequency_login_days\", \n",
    "           \"points_in_wallet\", \"age_of_account_in_days\"]\n",
    "\n",
    "cat_cols = [\"gender\", \"region_category\", \"joined_through_referral\", \"preferred_offer_types\",\n",
    "           \"medium_of_operation\", \"internet_option\", \"used_special_discount\", \"offer_application_preference\",\n",
    "           \"past_complaint\", \"complaint_status\", \"feedback\"]\n",
    "\n",
    "ord_cols = [\"membership_category\"]"
   ]
  }
 ],
 "metadata": {
  "kernelspec": {
   "display_name": "middle-earth",
   "language": "python",
   "name": "middle-earth"
  },
  "language_info": {
   "codemirror_mode": {
    "name": "ipython",
    "version": 3
   },
   "file_extension": ".py",
   "mimetype": "text/x-python",
   "name": "python",
   "nbconvert_exporter": "python",
   "pygments_lexer": "ipython3",
   "version": "3.8.16"
  }
 },
 "nbformat": 4,
 "nbformat_minor": 5
}
